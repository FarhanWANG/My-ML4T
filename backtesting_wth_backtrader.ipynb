{
 "cells": [
  {
   "cell_type": "markdown",
   "metadata": {},
   "source": [
    "# PYTHON 3.5"
   ]
  },
  {
   "cell_type": "code",
   "execution_count": 12,
   "metadata": {},
   "outputs": [],
   "source": [
    "%matplotlib inline\n",
    "\n",
    "from pathlib import Path\n",
    "import csv\n",
    "from time import time\n",
    "import datetime\n",
    "import numpy as np\n",
    "import pandas as pd\n",
    "import pandas_datareader.data as web\n",
    "import matplotlib.pyplot as plt\n",
    "import seaborn as sns\n",
    "\n",
    "import backtrader as bt\n",
    "from backtrader.feeds import PandasData\n",
    "\n",
    "import pyfolio as pf"
   ]
  },
  {
   "cell_type": "code",
   "execution_count": 13,
   "metadata": {},
   "outputs": [],
   "source": [
    "import warnings\n",
    "warnings.filterwarnings('ignore')"
   ]
  },
  {
   "cell_type": "code",
   "execution_count": 14,
   "metadata": {},
   "outputs": [],
   "source": [
    "pd.set_option('display.expand_frame_repr', False)\n",
    "np.random.seed(42)\n",
    "sns.set_style('darkgrid')"
   ]
  },
  {
   "cell_type": "code",
   "execution_count": 15,
   "metadata": {},
   "outputs": [],
   "source": [
    "# -*- coding: future_fstrings -*-\n",
    "def format_time(t):\n",
    "    m_, s = divmod(t, 60)\n",
    "    h, m = divmod(m_, 60)\n",
    "    return \"{:>02.0f}:{:>02.0f}:{:>02.0f}\".format(h,m,s)"
   ]
  },
  {
   "cell_type": "code",
   "execution_count": 16,
   "metadata": {},
   "outputs": [],
   "source": [
    "class FixedCommisionScheme(bt.CommInfoBase):\n",
    "    \"\"\"\n",
    "    Simple fixed commission scheme for demo\n",
    "    \"\"\"\n",
    "    params = (\n",
    "        ('commission', .02),\n",
    "        ('stocklike', True),\n",
    "        ('commtype', bt.CommInfoBase.COMM_FIXED),\n",
    "    )\n",
    "\n",
    "    def _getcommission(self, size, price, pseudoexec):\n",
    "        return abs(size) * self.p.commission"
   ]
  },
  {
   "cell_type": "code",
   "execution_count": 17,
   "metadata": {},
   "outputs": [],
   "source": [
    "OHLCV = ['open', 'high', 'low', 'close', 'volume']"
   ]
  },
  {
   "cell_type": "code",
   "execution_count": 18,
   "metadata": {},
   "outputs": [],
   "source": [
    "class SignalData(PandasData):\n",
    "    \"\"\"\n",
    "    Define pandas DataFrame structure\n",
    "    \"\"\"\n",
    "    cols = OHLCV + ['predicted']\n",
    "\n",
    "    # create lines\n",
    "    lines = tuple(cols)\n",
    "\n",
    "    # define parameters\n",
    "    params = {c: -1 for c in cols}\n",
    "    params.update({'datetime': None})\n",
    "    params = tuple(params.items())"
   ]
  },
  {
   "cell_type": "code",
   "execution_count": 19,
   "metadata": {},
   "outputs": [],
   "source": [
    "class MLStrategy(bt.Strategy):\n",
    "    params = (('n_positions', 10),\n",
    "              ('min_positions', 5),\n",
    "              ('verbose', False),\n",
    "              ('log_file', 'backtest.csv'))\n",
    "\n",
    "    def log(self, txt, dt=None):\n",
    "        \"\"\" Logger for the strategy\"\"\"\n",
    "        dt = dt or self.datas[0].datetime.datetime(0)\n",
    "        with Path(self.p.log_file).open('a') as f:\n",
    "            log_writer = csv.writer(f)\n",
    "            log_writer.writerow([dt.isoformat()] + txt.split(','))\n",
    "\n",
    "    def notify_order(self, order):\n",
    "        if order.status in [order.Submitted, order.Accepted]:\n",
    "            return\n",
    "\n",
    "        # Check if an order has been completed\n",
    "        # broker could reject order if not enough cash\n",
    "        if self.p.verbose:\n",
    "            if order.status in [order.Completed]:\n",
    "                p = order.executed.price\n",
    "                if order.isbuy():\n",
    "                    self.log('{},BUY executed,{:.2f}'.format(order.data._name,p))\n",
    "                elif order.issell():\n",
    "                    self.log('{},SELL executed,{:.2f}'.format(order.data._name,p))\n",
    "\n",
    "            elif order.status in [order.Canceled, order.Margin, order.Rejected]:\n",
    "                self.log('{},Order Canceled/Margin/Rejected'.format(order.data._name))\n",
    "\n",
    "    # bt calls prenext instead of next unless\n",
    "    # all datafeeds have current values\n",
    "    # => call next to avoid duplicating logic\n",
    "    def prenext(self):\n",
    "        self.next()\n",
    "\n",
    "    def next(self):\n",
    "        today = self.datas[0].datetime.date()\n",
    "#         if today.weekday() not in [0, 3]: # only trade on Mondays;\n",
    "#             return\n",
    "        positions = [d._name for d, pos in self.getpositions().items() if pos]\n",
    "        up, down = {}, {}\n",
    "        missing = not_missing = 0\n",
    "        for data in self.datas:\n",
    "            if data.datetime.date() == today:\n",
    "                if data.predicted[0] > 0:\n",
    "                    up[data._name] = data.predicted[0]\n",
    "                elif data.predicted[0] < 0:\n",
    "                    down[data._name] = data.predicted[0]\n",
    "\n",
    "        # sort dictionaries ascending/descending by value\n",
    "        # returns list of tuples\n",
    "        shorts = sorted(down, key=down.get)[:self.p.n_positions]\n",
    "        longs = sorted(up, key=up.get, reverse=True)[:self.p.n_positions]\n",
    "        n_shorts, n_longs = len(shorts), len(longs)\n",
    "        \n",
    "        # only take positions if at least min_n longs and shorts\n",
    "        if n_shorts < self.p.min_positions or n_longs < self.p.min_positions:\n",
    "            longs, shorts = [], []\n",
    "        for ticker in positions:\n",
    "            if ticker not in longs + shorts:\n",
    "                self.order_target_percent(data=ticker, target=0)\n",
    "                self.log('{},CLOSING ORDER CREATED'.format(ticker))\n",
    "\n",
    "        short_target = -1 / max(self.p.n_positions, n_shorts)\n",
    "        long_target = 1 / max(self.p.n_positions, n_longs)\n",
    "        for ticker in shorts:\n",
    "            self.order_target_percent(data=ticker, target=short_target)\n",
    "            self.log('{ticker},SHORT ORDER CREATED')\n",
    "        for ticker in longs:\n",
    "            self.order_target_percent(data=ticker, target=long_target)\n",
    "            self.log('{ticker},LONG ORDER CREATED')"
   ]
  },
  {
   "cell_type": "code",
   "execution_count": 20,
   "metadata": {},
   "outputs": [],
   "source": [
    "cerebro = bt.Cerebro()  # create a \"Cerebro\" instance\n",
    "cash = 10000\n",
    "# comminfo = FixedCommisionScheme()\n",
    "# cerebro.broker.addcommissioninfo(comminfo)\n",
    "cerebro.broker.setcash(cash)"
   ]
  },
  {
   "cell_type": "code",
   "execution_count": 21,
   "metadata": {},
   "outputs": [
    {
     "ename": "AttributeError",
     "evalue": "'DataFrame' object has no attribute 'droplevel'",
     "output_type": "error",
     "traceback": [
      "\u001b[1;31m---------------------------------------------------------------------------\u001b[0m",
      "\u001b[1;31mAttributeError\u001b[0m                            Traceback (most recent call last)",
      "\u001b[1;32m<ipython-input-21-4aec78ab9314>\u001b[0m in \u001b[0;36m<module>\u001b[1;34m()\u001b[0m\n\u001b[0;32m      4\u001b[0m \u001b[1;33m\u001b[0m\u001b[0m\n\u001b[0;32m      5\u001b[0m \u001b[1;32mfor\u001b[0m \u001b[0mticker\u001b[0m \u001b[1;32min\u001b[0m \u001b[0mtickers\u001b[0m\u001b[1;33m:\u001b[0m\u001b[1;33m\u001b[0m\u001b[0m\n\u001b[1;32m----> 6\u001b[1;33m     \u001b[0mdf\u001b[0m \u001b[1;33m=\u001b[0m \u001b[0mdata\u001b[0m\u001b[1;33m.\u001b[0m\u001b[0mloc\u001b[0m\u001b[1;33m[\u001b[0m\u001b[0midx\u001b[0m\u001b[1;33m[\u001b[0m\u001b[0mticker\u001b[0m\u001b[1;33m,\u001b[0m \u001b[1;33m:\u001b[0m\u001b[1;33m]\u001b[0m\u001b[1;33m,\u001b[0m \u001b[1;33m:\u001b[0m\u001b[1;33m]\u001b[0m\u001b[1;33m.\u001b[0m\u001b[0mdroplevel\u001b[0m\u001b[1;33m(\u001b[0m\u001b[1;34m'ticker'\u001b[0m\u001b[1;33m,\u001b[0m \u001b[0maxis\u001b[0m\u001b[1;33m=\u001b[0m\u001b[1;36m0\u001b[0m\u001b[1;33m)\u001b[0m\u001b[1;33m\u001b[0m\u001b[0m\n\u001b[0m\u001b[0;32m      7\u001b[0m     \u001b[0mdf\u001b[0m\u001b[1;33m.\u001b[0m\u001b[0mindex\u001b[0m\u001b[1;33m.\u001b[0m\u001b[0mname\u001b[0m \u001b[1;33m=\u001b[0m \u001b[1;34m'datetime'\u001b[0m\u001b[1;33m\u001b[0m\u001b[0m\n\u001b[0;32m      8\u001b[0m     \u001b[0mbt_data\u001b[0m \u001b[1;33m=\u001b[0m \u001b[0mSignalData\u001b[0m\u001b[1;33m(\u001b[0m\u001b[0mdataname\u001b[0m\u001b[1;33m=\u001b[0m\u001b[0mdf\u001b[0m\u001b[1;33m)\u001b[0m\u001b[1;33m\u001b[0m\u001b[0m\n",
      "\u001b[1;32mC:\\ProgramData\\Anaconda3\\envs\\python35\\lib\\site-packages\\pandas\\core\\generic.py\u001b[0m in \u001b[0;36m__getattr__\u001b[1;34m(self, name)\u001b[0m\n\u001b[0;32m   3079\u001b[0m             \u001b[1;32mif\u001b[0m \u001b[0mname\u001b[0m \u001b[1;32min\u001b[0m \u001b[0mself\u001b[0m\u001b[1;33m.\u001b[0m\u001b[0m_info_axis\u001b[0m\u001b[1;33m:\u001b[0m\u001b[1;33m\u001b[0m\u001b[0m\n\u001b[0;32m   3080\u001b[0m                 \u001b[1;32mreturn\u001b[0m \u001b[0mself\u001b[0m\u001b[1;33m[\u001b[0m\u001b[0mname\u001b[0m\u001b[1;33m]\u001b[0m\u001b[1;33m\u001b[0m\u001b[0m\n\u001b[1;32m-> 3081\u001b[1;33m             \u001b[1;32mreturn\u001b[0m \u001b[0mobject\u001b[0m\u001b[1;33m.\u001b[0m\u001b[0m__getattribute__\u001b[0m\u001b[1;33m(\u001b[0m\u001b[0mself\u001b[0m\u001b[1;33m,\u001b[0m \u001b[0mname\u001b[0m\u001b[1;33m)\u001b[0m\u001b[1;33m\u001b[0m\u001b[0m\n\u001b[0m\u001b[0;32m   3082\u001b[0m \u001b[1;33m\u001b[0m\u001b[0m\n\u001b[0;32m   3083\u001b[0m     \u001b[1;32mdef\u001b[0m \u001b[0m__setattr__\u001b[0m\u001b[1;33m(\u001b[0m\u001b[0mself\u001b[0m\u001b[1;33m,\u001b[0m \u001b[0mname\u001b[0m\u001b[1;33m,\u001b[0m \u001b[0mvalue\u001b[0m\u001b[1;33m)\u001b[0m\u001b[1;33m:\u001b[0m\u001b[1;33m\u001b[0m\u001b[0m\n",
      "\u001b[1;31mAttributeError\u001b[0m: 'DataFrame' object has no attribute 'droplevel'"
     ]
    }
   ],
   "source": [
    "idx = pd.IndexSlice\n",
    "data = pd.read_hdf('backtest.h5', 'data').sort_index()\n",
    "tickers = data.index.get_level_values(0).unique()\n",
    "\n",
    "for ticker in tickers:\n",
    "    df = data.loc[idx[ticker, :], :].droplevel('ticker', axis=0)\n",
    "    df.index.name = 'datetime'\n",
    "    bt_data = SignalData(dataname=df)\n",
    "    cerebro.adddata(bt_data, name=ticker)"
   ]
  },
  {
   "cell_type": "code",
   "execution_count": null,
   "metadata": {},
   "outputs": [],
   "source": []
  },
  {
   "cell_type": "code",
   "execution_count": null,
   "metadata": {},
   "outputs": [],
   "source": []
  }
 ],
 "metadata": {
  "kernelspec": {
   "display_name": "Python [conda env:python35]",
   "language": "python",
   "name": "conda-env-python35-py"
  },
  "language_info": {
   "codemirror_mode": {
    "name": "ipython",
    "version": 3
   },
   "file_extension": ".py",
   "mimetype": "text/x-python",
   "name": "python",
   "nbconvert_exporter": "python",
   "pygments_lexer": "ipython3",
   "version": "3.5.6"
  }
 },
 "nbformat": 4,
 "nbformat_minor": 4
}
