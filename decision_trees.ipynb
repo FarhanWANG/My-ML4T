{
 "cells": [
  {
   "cell_type": "markdown",
   "metadata": {},
   "source": [
    "# How to use decision trees to predict equity returns and price moves"
   ]
  },
  {
   "cell_type": "markdown",
   "metadata": {},
   "source": [
    "In this notebook, we illustrate how to use tree-based models to gain insight and make predictions. \n",
    "\n",
    "To demonstrate regression trees we predict returns, and for the classification case, we return to the example of positive and negative asset price moves."
   ]
  },
  {
   "cell_type": "markdown",
   "metadata": {},
   "source": [
    "## Imports & Settings"
   ]
  },
  {
   "cell_type": "code",
   "execution_count": 1,
   "metadata": {
    "ExecuteTime": {
     "end_time": "2021-02-23T20:43:52.921274Z",
     "start_time": "2021-02-23T20:43:52.919386Z"
    }
   },
   "outputs": [],
   "source": [
    "import warnings\n",
    "warnings.filterwarnings('ignore')"
   ]
  },
  {
   "cell_type": "code",
   "execution_count": 2,
   "metadata": {
    "ExecuteTime": {
     "end_time": "2021-02-23T20:43:53.982408Z",
     "start_time": "2021-02-23T20:43:52.930105Z"
    }
   },
   "outputs": [],
   "source": [
    "%matplotlib inline\n",
    "\n",
    "import os, sys\n",
    "from pathlib import Path\n",
    "\n",
    "import numpy as np\n",
    "from scipy.stats import spearmanr\n",
    "import pandas as pd\n",
    "\n",
    "import matplotlib.pyplot as plt\n",
    "from matplotlib.ticker import FuncFormatter\n",
    "from matplotlib import cm\n",
    "import seaborn as sns\n",
    "\n",
    "from sklearn.tree import DecisionTreeClassifier, DecisionTreeRegressor, export_graphviz, _tree\n",
    "from sklearn.linear_model import LinearRegression, LogisticRegression\n",
    "from sklearn.model_selection import train_test_split, GridSearchCV, learning_curve\n",
    "from sklearn.metrics import roc_auc_score, roc_curve, mean_squared_error, make_scorer\n",
    "import graphviz\n",
    "\n",
    "\n",
    "import statsmodels.api as sm"
   ]
  },
  {
   "cell_type": "code",
   "execution_count": 3,
   "metadata": {
    "ExecuteTime": {
     "end_time": "2021-02-23T20:43:53.990159Z",
     "start_time": "2021-02-23T20:43:53.984635Z"
    }
   },
   "outputs": [],
   "source": [
    "def format_time(t):\n",
    "    \"\"\"Return a formatted time string 'HH:MM:SS\n",
    "    based on a numeric time() value\"\"\"\n",
    "    m, s = divmod(t, 60)\n",
    "    h, m = divmod(m, 60)\n",
    "    return f'{h:0>2.0f}:{m:0>2.0f}:{s:0>2.0f}'"
   ]
  },
  {
   "cell_type": "code",
   "execution_count": 4,
   "metadata": {},
   "outputs": [],
   "source": [
    "class MultipleTimeSeriesCV:\n",
    "    \"\"\"Generates tuples of train_idx, test_idx pairs\n",
    "    Assumes the MultiIndex contains levels 'symbol' and 'date'\n",
    "    purges overlapping outcomes\"\"\"\n",
    "\n",
    "    def __init__(self,\n",
    "                 n_splits=3,\n",
    "                 train_period_length=126,\n",
    "                 test_period_length=21,\n",
    "                 lookahead=None,\n",
    "                 date_idx='date',\n",
    "                 shuffle=False):\n",
    "        self.n_splits = n_splits\n",
    "        self.lookahead = lookahead\n",
    "        self.test_length = test_period_length\n",
    "        self.train_length = train_period_length\n",
    "        self.shuffle = shuffle\n",
    "        self.date_idx = date_idx\n",
    "\n",
    "    def split(self, X, y=None, groups=None):\n",
    "        unique_dates = X.index.get_level_values(self.date_idx).unique()\n",
    "        days = sorted(unique_dates, reverse=True)\n",
    "        split_idx = []\n",
    "        for i in range(self.n_splits):\n",
    "            test_end_idx = i * self.test_length\n",
    "            test_start_idx = test_end_idx + self.test_length\n",
    "            train_end_idx = test_start_idx + self.lookahead - 1\n",
    "            train_start_idx = train_end_idx + self.train_length + self.lookahead - 1\n",
    "            split_idx.append([train_start_idx, train_end_idx,\n",
    "                              test_start_idx, test_end_idx])\n",
    "\n",
    "        dates = X.reset_index()[[self.date_idx]]\n",
    "        for train_start, train_end, test_start, test_end in split_idx:\n",
    "\n",
    "            train_idx = dates[(dates[self.date_idx] > days[train_start])\n",
    "                              & (dates.date <= days[train_end])].index\n",
    "            test_idx = dates[(dates.date > days[test_start])\n",
    "                             & (dates.date <= days[test_end])].index\n",
    "            if self.shuffle:\n",
    "                np.random.shuffle(list(train_idx))\n",
    "            yield train_idx.to_numpy(), test_idx.to_numpy()\n",
    "\n",
    "    def get_n_splits(self, X, y, groups=None):\n",
    "        return self.n_splits"
   ]
  },
  {
   "cell_type": "code",
   "execution_count": 5,
   "metadata": {
    "ExecuteTime": {
     "end_time": "2021-02-23T20:43:53.995554Z",
     "start_time": "2021-02-23T20:43:53.991745Z"
    }
   },
   "outputs": [],
   "source": [
    "sns.set_style('white')"
   ]
  },
  {
   "cell_type": "code",
   "execution_count": 6,
   "metadata": {
    "ExecuteTime": {
     "end_time": "2021-02-23T20:43:54.003457Z",
     "start_time": "2021-02-23T20:43:53.996952Z"
    }
   },
   "outputs": [],
   "source": [
    "results_path = Path('results', 'decision_trees')\n",
    "if not results_path.exists():\n",
    "    results_path.mkdir(parents=True)"
   ]
  },
  {
   "cell_type": "markdown",
   "metadata": {},
   "source": [
    "## Load Model Data"
   ]
  },
  {
   "cell_type": "markdown",
   "metadata": {},
   "source": [
    "We use a simplified version of the data set constructed in Chapter 4, Alpha factor research. It consists of daily stock prices provided by Quandl for the 2010-2017 period and various engineered features. The details can be found in the notebook [data_prep](00_data_prep.ipynb) in the GitHub repo for this chapter."
   ]
  },
  {
   "cell_type": "markdown",
   "metadata": {},
   "source": [
    "The decision tree models in this chapter are not equipped to handle missing or categorical variables, so we will apply dummy encoding to the latter after dropping any of the former."
   ]
  },
  {
   "cell_type": "code",
   "execution_count": 7,
   "metadata": {
    "ExecuteTime": {
     "end_time": "2021-02-23T20:43:54.248476Z",
     "start_time": "2021-02-23T20:43:54.004734Z"
    },
    "scrolled": true
   },
   "outputs": [
    {
     "name": "stdout",
     "output_type": "stream",
     "text": [
      "<class 'pandas.core.frame.DataFrame'>\n",
      "MultiIndex: 56756 entries, ('A', Timestamp('2010-12-31 00:00:00')) to ('ZION', Timestamp('2017-11-30 00:00:00'))\n",
      "Data columns (total 27 columns):\n",
      " #   Column         Non-Null Count  Dtype  \n",
      "---  ------         --------------  -----  \n",
      " 0   atr            56756 non-null  float64\n",
      " 1   bb_down        56756 non-null  float64\n",
      " 2   bb_high        56756 non-null  float64\n",
      " 3   bb_low         56756 non-null  float64\n",
      " 4   bb_mid         56756 non-null  float64\n",
      " 5   bb_up          56756 non-null  float64\n",
      " 6   macd           56756 non-null  float64\n",
      " 7   natr           56756 non-null  float64\n",
      " 8   rsi            56756 non-null  float64\n",
      " 9   sector         56756 non-null  object \n",
      " 10  return_1m      56756 non-null  float64\n",
      " 11  return_3m      56756 non-null  float64\n",
      " 12  return_6m      56756 non-null  float64\n",
      " 13  return_12m     56756 non-null  float64\n",
      " 14  beta           56756 non-null  float64\n",
      " 15  SMB            56756 non-null  float64\n",
      " 16  HML            56756 non-null  float64\n",
      " 17  RMW            56756 non-null  float64\n",
      " 18  CMA            56756 non-null  float64\n",
      " 19  momentum_3     56756 non-null  float64\n",
      " 20  momentum_6     56756 non-null  float64\n",
      " 21  momentum_3_6   56756 non-null  float64\n",
      " 22  momentum_12    56756 non-null  float64\n",
      " 23  momentum_3_12  56756 non-null  float64\n",
      " 24  year           56756 non-null  int64  \n",
      " 25  month          56756 non-null  int64  \n",
      " 26  target         56756 non-null  float64\n",
      "dtypes: float64(24), int64(2), object(1)\n",
      "memory usage: 12.0+ MB\n"
     ]
    }
   ],
   "source": [
    "with pd.HDFStore('data.h5') as store:\n",
    "    data = store['us/equities/monthly']\n",
    "data.info()"
   ]
  },
  {
   "cell_type": "markdown",
   "metadata": {},
   "source": [
    "## Simple Regression Tree with Time Series Data"
   ]
  },
  {
   "cell_type": "markdown",
   "metadata": {},
   "source": [
    "Regression trees make predictions based on the mean outcome value for the training samples assigned to a given node and typically rely on the mean-squared error to select optimal rules during recursive binary splitting.\n",
    "\n",
    "Given a training set, the algorithm iterates over the predictors, $X_1, X_2, ..., X_p$, and possible cutpoints, $s_1, s_2, ..., s_N$, to find an optimal combination. The optimal rule splits the feature space into two regions, $\\{X\\mid X_i < s_j\\}$ and $\\{X\\mid X_i > s_j\\}$, with values for the $X_i$ feature either below or above the $s_j$ threshold so that predictions based on the training subsets maximize the reduction of the squared residuals relative to the current node."
   ]
  },
  {
   "cell_type": "markdown",
   "metadata": {},
   "source": [
    "### Generate two lags of monthly returns"
   ]
  },
  {
   "cell_type": "code",
   "execution_count": 9,
   "metadata": {
    "ExecuteTime": {
     "end_time": "2021-02-23T20:43:54.283443Z",
     "start_time": "2021-02-23T20:43:54.249764Z"
    },
    "scrolled": true
   },
   "outputs": [
    {
     "name": "stdout",
     "output_type": "stream",
     "text": [
      "<class 'pandas.core.frame.DataFrame'>\n",
      "MultiIndex: 56186 entries, ('A', Timestamp('2011-01-31 00:00:00')) to ('ZION', Timestamp('2017-11-30 00:00:00'))\n",
      "Data columns (total 3 columns):\n",
      " #   Column  Non-Null Count  Dtype  \n",
      "---  ------  --------------  -----  \n",
      " 0   y       56186 non-null  float64\n",
      " 1   t-1     56186 non-null  float64\n",
      " 2   t-2     56186 non-null  float64\n",
      "dtypes: float64(3)\n",
      "memory usage: 1.6+ MB\n"
     ]
    }
   ],
   "source": [
    "X2 = data.loc[:, ['target', 'return_1m']]\n",
    "X2.columns = ['y', 't-1']\n",
    "X2['t-2'] = data.groupby(level='ticker').return_1m.shift()\n",
    "X2 = X2.dropna()\n",
    "X2.info()"
   ]
  },
  {
   "cell_type": "code",
   "execution_count": 10,
   "metadata": {},
   "outputs": [
    {
     "data": {
      "text/html": [
       "<div>\n",
       "<style scoped>\n",
       "    .dataframe tbody tr th:only-of-type {\n",
       "        vertical-align: middle;\n",
       "    }\n",
       "\n",
       "    .dataframe tbody tr th {\n",
       "        vertical-align: top;\n",
       "    }\n",
       "\n",
       "    .dataframe thead th {\n",
       "        text-align: right;\n",
       "    }\n",
       "</style>\n",
       "<table border=\"1\" class=\"dataframe\">\n",
       "  <thead>\n",
       "    <tr style=\"text-align: right;\">\n",
       "      <th></th>\n",
       "      <th></th>\n",
       "      <th>y</th>\n",
       "      <th>t-1</th>\n",
       "      <th>t-2</th>\n",
       "    </tr>\n",
       "    <tr>\n",
       "      <th>ticker</th>\n",
       "      <th>date</th>\n",
       "      <th></th>\n",
       "      <th></th>\n",
       "      <th></th>\n",
       "    </tr>\n",
       "  </thead>\n",
       "  <tbody>\n",
       "    <tr>\n",
       "      <th rowspan=\"5\" valign=\"top\">A</th>\n",
       "      <th>2011-01-31</th>\n",
       "      <td>0.005977</td>\n",
       "      <td>0.009655</td>\n",
       "      <td>0.183038</td>\n",
       "    </tr>\n",
       "    <tr>\n",
       "      <th>2011-02-28</th>\n",
       "      <td>0.064163</td>\n",
       "      <td>0.005977</td>\n",
       "      <td>0.009655</td>\n",
       "    </tr>\n",
       "    <tr>\n",
       "      <th>2011-03-31</th>\n",
       "      <td>0.114560</td>\n",
       "      <td>0.064163</td>\n",
       "      <td>0.005977</td>\n",
       "    </tr>\n",
       "    <tr>\n",
       "      <th>2011-04-30</th>\n",
       "      <td>-0.000801</td>\n",
       "      <td>0.114560</td>\n",
       "      <td>0.064163</td>\n",
       "    </tr>\n",
       "    <tr>\n",
       "      <th>2011-05-31</th>\n",
       "      <td>0.024865</td>\n",
       "      <td>-0.000801</td>\n",
       "      <td>0.114560</td>\n",
       "    </tr>\n",
       "    <tr>\n",
       "      <th>...</th>\n",
       "      <th>...</th>\n",
       "      <td>...</td>\n",
       "      <td>...</td>\n",
       "      <td>...</td>\n",
       "    </tr>\n",
       "    <tr>\n",
       "      <th rowspan=\"5\" valign=\"top\">ZION</th>\n",
       "      <th>2017-07-31</th>\n",
       "      <td>-0.034067</td>\n",
       "      <td>0.032111</td>\n",
       "      <td>0.095832</td>\n",
       "    </tr>\n",
       "    <tr>\n",
       "      <th>2017-08-31</th>\n",
       "      <td>0.080623</td>\n",
       "      <td>-0.034067</td>\n",
       "      <td>0.032111</td>\n",
       "    </tr>\n",
       "    <tr>\n",
       "      <th>2017-09-30</th>\n",
       "      <td>-0.015261</td>\n",
       "      <td>0.080623</td>\n",
       "      <td>-0.034067</td>\n",
       "    </tr>\n",
       "    <tr>\n",
       "      <th>2017-10-31</th>\n",
       "      <td>0.066509</td>\n",
       "      <td>-0.015261</td>\n",
       "      <td>0.080623</td>\n",
       "    </tr>\n",
       "    <tr>\n",
       "      <th>2017-11-30</th>\n",
       "      <td>0.025832</td>\n",
       "      <td>0.066509</td>\n",
       "      <td>-0.015261</td>\n",
       "    </tr>\n",
       "  </tbody>\n",
       "</table>\n",
       "<p>56186 rows × 3 columns</p>\n",
       "</div>"
      ],
      "text/plain": [
       "                          y       t-1       t-2\n",
       "ticker date                                    \n",
       "A      2011-01-31  0.005977  0.009655  0.183038\n",
       "       2011-02-28  0.064163  0.005977  0.009655\n",
       "       2011-03-31  0.114560  0.064163  0.005977\n",
       "       2011-04-30 -0.000801  0.114560  0.064163\n",
       "       2011-05-31  0.024865 -0.000801  0.114560\n",
       "...                     ...       ...       ...\n",
       "ZION   2017-07-31 -0.034067  0.032111  0.095832\n",
       "       2017-08-31  0.080623 -0.034067  0.032111\n",
       "       2017-09-30 -0.015261  0.080623 -0.034067\n",
       "       2017-10-31  0.066509 -0.015261  0.080623\n",
       "       2017-11-30  0.025832  0.066509 -0.015261\n",
       "\n",
       "[56186 rows x 3 columns]"
      ]
     },
     "execution_count": 10,
     "metadata": {},
     "output_type": "execute_result"
    }
   ],
   "source": [
    "X2"
   ]
  },
  {
   "cell_type": "code",
   "execution_count": 11,
   "metadata": {
    "ExecuteTime": {
     "end_time": "2021-02-23T20:43:54.287515Z",
     "start_time": "2021-02-23T20:43:54.284859Z"
    }
   },
   "outputs": [],
   "source": [
    "y2 = X2.y\n",
    "X2 = X2.drop('y', axis=1)"
   ]
  },
  {
   "cell_type": "markdown",
   "metadata": {},
   "source": [
    "### Explore Data"
   ]
  },
  {
   "cell_type": "markdown",
   "metadata": {},
   "source": [
    "Note the small spike where we clipped the data."
   ]
  },
  {
   "cell_type": "code",
   "execution_count": 12,
   "metadata": {
    "ExecuteTime": {
     "end_time": "2021-02-23T20:43:54.739894Z",
     "start_time": "2021-02-23T20:43:54.288992Z"
    }
   },
   "outputs": [
    {
     "data": {
      "image/png": "[encoded data removed]",
      "text/plain": [
       "<Figure size 432x288 with 1 Axes>"
      ]
     },
     "metadata": {},
     "output_type": "display_data"
    }
   ],
   "source": [
    "sns.distplot(y2)\n",
    "sns.despine();"
   ]
  },
  {
   "cell_type": "markdown",
   "metadata": {},
   "source": [
    "### Configure Tree"
   ]
  },
  {
   "cell_type": "markdown",
   "metadata": {},
   "source": [
    "Let's start with a simplified example to facilitate visualization and only use two months of lagged returns to predict the following month, in the vein of an AR(2) model from the last chapter:"
   ]
  },
  {
   "cell_type": "code",
   "execution_count": 13,
   "metadata": {
    "ExecuteTime": {
     "end_time": "2021-02-23T20:44:20.711040Z",
     "start_time": "2021-02-23T20:44:20.708658Z"
    }
   },
   "outputs": [],
   "source": [
    "reg_tree_t2 = DecisionTreeRegressor(criterion='mse',\n",
    "                                    splitter='best',\n",
    "                                    max_depth=6,\n",
    "                                    min_samples_split=2,\n",
    "                                    min_samples_leaf=50,\n",
    "                                    min_weight_fraction_leaf=0.0,\n",
    "                                    max_features=None,\n",
    "                                    random_state=42,\n",
    "                                    max_leaf_nodes=None,\n",
    "                                    min_impurity_decrease=0.0,\n",
    "                                    min_impurity_split=None)"
   ]
  },
  {
   "cell_type": "markdown",
   "metadata": {},
   "source": [
    "### Train Decision Tree"
   ]
  },
  {
   "cell_type": "code",
   "execution_count": 14,
   "metadata": {
    "ExecuteTime": {
     "end_time": "2021-02-23T20:44:31.849448Z",
     "start_time": "2021-02-23T20:44:25.018530Z"
    }
   },
   "outputs": [
    {
     "name": "stdout",
     "output_type": "stream",
     "text": [
      "89.7 ms ± 1.34 ms per loop (mean ± std. dev. of 7 runs, 10 loops each)\n"
     ]
    }
   ],
   "source": [
    "%%timeit\n",
    "reg_tree_t2.fit(X=X2, y=y2)"
   ]
  },
  {
   "cell_type": "code",
   "execution_count": 15,
   "metadata": {
    "ExecuteTime": {
     "end_time": "2021-02-23T20:44:31.945098Z",
     "start_time": "2021-02-23T20:44:31.850661Z"
    }
   },
   "outputs": [
    {
     "data": {
      "text/plain": [
       "DecisionTreeRegressor(max_depth=6, min_samples_leaf=50, random_state=42)"
      ]
     },
     "execution_count": 15,
     "metadata": {},
     "output_type": "execute_result"
    }
   ],
   "source": [
    "reg_tree_t2.fit(X=X2, y=y2)"
   ]
  },
  {
   "cell_type": "markdown",
   "metadata": {},
   "source": [
    "### Visualize Tree"
   ]
  },
  {
   "cell_type": "markdown",
   "metadata": {},
   "source": [
    "You can visualize the tree using the graphviz library (see GitHub for installation instructions) because sklearn can output a description of the tree using the .dot language used by that library. \n",
    "\n",
    "You can configure the output to include feature and class labels and limit the number of levels to keep the chart readable, as follows:"
   ]
  },
  {
   "cell_type": "code",
   "execution_count": 16,
   "metadata": {
    "ExecuteTime": {
     "end_time": "2021-02-23T20:44:36.632784Z",
     "start_time": "2021-02-23T20:44:36.547525Z"
    }
   },
   "outputs": [
    {
     "data": {
      "image/svg+xml": [
       "<?xml version=\"1.0\" encoding=\"UTF-8\" standalone=\"no\"?>\r\n",
       "<!DOCTYPE svg PUBLIC \"-//W3C//DTD SVG 1.1//EN\"\r\n",
       " \"http://www.w3.org/Graphics/SVG/1.1/DTD/svg11.dtd\">\r\n",
       "<!-- Generated by graphviz version 2.38.0 (20140413.2041)\r\n",
       " -->\r\n",
       "<!-- Title: Tree Pages: 1 -->\r\n",
       "<svg width=\"605pt\" height=\"356pt\"\r\n",
       " viewBox=\"0.00 0.00 605.00 356.00\" xmlns=\"http://www.w3.org/2000/svg\" xmlns:xlink=\"http://www.w3.org/1999/xlink\">\r\n",
       "<g id=\"graph0\" class=\"graph\" transform=\"scale(1 1) rotate(0) translate(4 352)\">\r\n",
       "<title>Tree</title>\r\n",
       "<polygon fill=\"white\" stroke=\"none\" points=\"-4,4 -4,-352 601,-352 601,4 -4,4\"/>\r\n",
       "<!-- 0 -->\r\n",
       "<g id=\"node1\" class=\"node\"><title>0</title>\r\n",
       "<path fill=\"#f0b78e\" stroke=\"black\" d=\"M346,-348C346,-348 242,-348 242,-348 236,-348 230,-342 230,-336 230,-336 230,-292 230,-292 230,-286 236,-280 242,-280 242,-280 346,-280 346,-280 352,-280 358,-286 358,-292 358,-292 358,-336 358,-336 358,-342 352,-348 346,-348\"/>\r\n",
       "<text text-anchor=\"start\" x=\"257.5\" y=\"-332.8\" font-family=\"Helvetica,sans-Serif\" font-size=\"14.00\">t&#45;1 ≤ &#45;0.264</text>\r\n",
       "<text text-anchor=\"start\" x=\"253.5\" y=\"-317.8\" font-family=\"Helvetica,sans-Serif\" font-size=\"14.00\">mse = 0.008</text>\r\n",
       "<text text-anchor=\"start\" x=\"238\" y=\"-302.8\" font-family=\"Helvetica,sans-Serif\" font-size=\"14.00\">samples = 56186</text>\r\n",
       "<text text-anchor=\"start\" x=\"251\" y=\"-287.8\" font-family=\"Helvetica,sans-Serif\" font-size=\"14.00\">value = 0.009</text>\r\n",
       "</g>\r\n",
       "<!-- 1 -->\r\n",
       "<g id=\"node2\" class=\"node\"><title>1</title>\r\n",
       "<path fill=\"#f5cdb1\" stroke=\"black\" d=\"M268.5,-244C268.5,-244 181.5,-244 181.5,-244 175.5,-244 169.5,-238 169.5,-232 169.5,-232 169.5,-188 169.5,-188 169.5,-182 175.5,-176 181.5,-176 181.5,-176 268.5,-176 268.5,-176 274.5,-176 280.5,-182 280.5,-188 280.5,-188 280.5,-232 280.5,-232 280.5,-238 274.5,-244 268.5,-244\"/>\r\n",
       "<text text-anchor=\"start\" x=\"188.5\" y=\"-228.8\" font-family=\"Helvetica,sans-Serif\" font-size=\"14.00\">t&#45;2 ≤ &#45;0.172</text>\r\n",
       "<text text-anchor=\"start\" x=\"184.5\" y=\"-213.8\" font-family=\"Helvetica,sans-Serif\" font-size=\"14.00\">mse = 0.034</text>\r\n",
       "<text text-anchor=\"start\" x=\"177.5\" y=\"-198.8\" font-family=\"Helvetica,sans-Serif\" font-size=\"14.00\">samples = 545</text>\r\n",
       "<text text-anchor=\"start\" x=\"179.5\" y=\"-183.8\" font-family=\"Helvetica,sans-Serif\" font-size=\"14.00\">value = &#45;0.028</text>\r\n",
       "</g>\r\n",
       "<!-- 0&#45;&gt;1 -->\r\n",
       "<g id=\"edge1\" class=\"edge\"><title>0&#45;&gt;1</title>\r\n",
       "<path fill=\"none\" stroke=\"black\" d=\"M271.598,-279.884C265.753,-271.243 259.378,-261.819 253.272,-252.793\"/>\r\n",
       "<polygon fill=\"black\" stroke=\"black\" points=\"256.028,-250.621 247.526,-244.299 250.23,-254.543 256.028,-250.621\"/>\r\n",
       "<text text-anchor=\"middle\" x=\"242.789\" y=\"-265.146\" font-family=\"Helvetica,sans-Serif\" font-size=\"14.00\">True</text>\r\n",
       "</g>\r\n",
       "<!-- 16 -->\r\n",
       "<g id=\"node9\" class=\"node\"><title>16</title>\r\n",
       "<path fill=\"#f0b78d\" stroke=\"black\" d=\"M415,-244C415,-244 311,-244 311,-244 305,-244 299,-238 299,-232 299,-232 299,-188 299,-188 299,-182 305,-176 311,-176 311,-176 415,-176 415,-176 421,-176 427,-182 427,-188 427,-188 427,-232 427,-232 427,-238 421,-244 415,-244\"/>\r\n",
       "<text text-anchor=\"start\" x=\"328.5\" y=\"-228.8\" font-family=\"Helvetica,sans-Serif\" font-size=\"14.00\">t&#45;1 ≤ 0.299</text>\r\n",
       "<text text-anchor=\"start\" x=\"322.5\" y=\"-213.8\" font-family=\"Helvetica,sans-Serif\" font-size=\"14.00\">mse = 0.007</text>\r\n",
       "<text text-anchor=\"start\" x=\"307\" y=\"-198.8\" font-family=\"Helvetica,sans-Serif\" font-size=\"14.00\">samples = 55641</text>\r\n",
       "<text text-anchor=\"start\" x=\"320\" y=\"-183.8\" font-family=\"Helvetica,sans-Serif\" font-size=\"14.00\">value = 0.009</text>\r\n",
       "</g>\r\n",
       "<!-- 0&#45;&gt;16 -->\r\n",
       "<g id=\"edge8\" class=\"edge\"><title>0&#45;&gt;16</title>\r\n",
       "<path fill=\"none\" stroke=\"black\" d=\"M316.402,-279.884C322.247,-271.243 328.622,-261.819 334.728,-252.793\"/>\r\n",
       "<polygon fill=\"black\" stroke=\"black\" points=\"337.77,-254.543 340.474,-244.299 331.972,-250.621 337.77,-254.543\"/>\r\n",
       "<text text-anchor=\"middle\" x=\"345.211\" y=\"-265.146\" font-family=\"Helvetica,sans-Serif\" font-size=\"14.00\">False</text>\r\n",
       "</g>\r\n",
       "<!-- 2 -->\r\n",
       "<g id=\"node3\" class=\"node\"><title>2</title>\r\n",
       "<path fill=\"#eda977\" stroke=\"black\" d=\"M139.5,-140C139.5,-140 52.5,-140 52.5,-140 46.5,-140 40.5,-134 40.5,-128 40.5,-128 40.5,-84 40.5,-84 40.5,-78 46.5,-72 52.5,-72 52.5,-72 139.5,-72 139.5,-72 145.5,-72 151.5,-78 151.5,-84 151.5,-84 151.5,-128 151.5,-128 151.5,-134 145.5,-140 139.5,-140\"/>\r\n",
       "<text text-anchor=\"start\" x=\"59.5\" y=\"-124.8\" font-family=\"Helvetica,sans-Serif\" font-size=\"14.00\">t&#45;2 ≤ &#45;0.248</text>\r\n",
       "<text text-anchor=\"start\" x=\"59.5\" y=\"-109.8\" font-family=\"Helvetica,sans-Serif\" font-size=\"14.00\">mse = 0.04</text>\r\n",
       "<text text-anchor=\"start\" x=\"48.5\" y=\"-94.8\" font-family=\"Helvetica,sans-Serif\" font-size=\"14.00\">samples = 166</text>\r\n",
       "<text text-anchor=\"start\" x=\"53\" y=\"-79.8\" font-family=\"Helvetica,sans-Serif\" font-size=\"14.00\">value = 0.032</text>\r\n",
       "</g>\r\n",
       "<!-- 1&#45;&gt;2 -->\r\n",
       "<g id=\"edge2\" class=\"edge\"><title>1&#45;&gt;2</title>\r\n",
       "<path fill=\"none\" stroke=\"black\" d=\"M183.117,-175.884C171.289,-166.531 158.299,-156.259 146.042,-146.568\"/>\r\n",
       "<polygon fill=\"black\" stroke=\"black\" points=\"148.129,-143.756 138.114,-140.299 143.787,-149.247 148.129,-143.756\"/>\r\n",
       "</g>\r\n",
       "<!-- 5 -->\r\n",
       "<g id=\"node6\" class=\"node\"><title>5</title>\r\n",
       "<path fill=\"#f8deca\" stroke=\"black\" d=\"M268.5,-140C268.5,-140 181.5,-140 181.5,-140 175.5,-140 169.5,-134 169.5,-128 169.5,-128 169.5,-84 169.5,-84 169.5,-78 175.5,-72 181.5,-72 181.5,-72 268.5,-72 268.5,-72 274.5,-72 280.5,-78 280.5,-84 280.5,-84 280.5,-128 280.5,-128 280.5,-134 274.5,-140 268.5,-140\"/>\r\n",
       "<text text-anchor=\"start\" x=\"188.5\" y=\"-124.8\" font-family=\"Helvetica,sans-Serif\" font-size=\"14.00\">t&#45;2 ≤ &#45;0.022</text>\r\n",
       "<text text-anchor=\"start\" x=\"188.5\" y=\"-109.8\" font-family=\"Helvetica,sans-Serif\" font-size=\"14.00\">mse = 0.03</text>\r\n",
       "<text text-anchor=\"start\" x=\"177.5\" y=\"-94.8\" font-family=\"Helvetica,sans-Serif\" font-size=\"14.00\">samples = 379</text>\r\n",
       "<text text-anchor=\"start\" x=\"179.5\" y=\"-79.8\" font-family=\"Helvetica,sans-Serif\" font-size=\"14.00\">value = &#45;0.054</text>\r\n",
       "</g>\r\n",
       "<!-- 1&#45;&gt;5 -->\r\n",
       "<g id=\"edge5\" class=\"edge\"><title>1&#45;&gt;5</title>\r\n",
       "<path fill=\"none\" stroke=\"black\" d=\"M225,-175.884C225,-167.778 225,-158.982 225,-150.472\"/>\r\n",
       "<polygon fill=\"black\" stroke=\"black\" points=\"228.5,-150.299 225,-140.299 221.5,-150.299 228.5,-150.299\"/>\r\n",
       "</g>\r\n",
       "<!-- 3 -->\r\n",
       "<g id=\"node4\" class=\"node\"><title>3</title>\r\n",
       "<path fill=\"#c0c0c0\" stroke=\"black\" d=\"M42,-36C42,-36 12,-36 12,-36 6,-36 0,-30 0,-24 0,-24 0,-12 0,-12 0,-6 6,-0 12,-0 12,-0 42,-0 42,-0 48,-0 54,-6 54,-12 54,-12 54,-24 54,-24 54,-30 48,-36 42,-36\"/>\r\n",
       "<text text-anchor=\"middle\" x=\"27\" y=\"-14.3\" font-family=\"Helvetica,sans-Serif\" font-size=\"14.00\">(...)</text>\r\n",
       "</g>\r\n",
       "<!-- 2&#45;&gt;3 -->\r\n",
       "<g id=\"edge3\" class=\"edge\"><title>2&#45;&gt;3</title>\r\n",
       "<path fill=\"none\" stroke=\"black\" d=\"M69.5201,-71.9961C62.1472,-62.8067 54.257,-52.9725 47.3,-44.3014\"/>\r\n",
       "<polygon fill=\"black\" stroke=\"black\" points=\"49.9512,-42.0129 40.9632,-36.4034 44.4913,-46.3936 49.9512,-42.0129\"/>\r\n",
       "</g>\r\n",
       "<!-- 4 -->\r\n",
       "<g id=\"node5\" class=\"node\"><title>4</title>\r\n",
       "<path fill=\"#c0c0c0\" stroke=\"black\" d=\"M114,-36C114,-36 84,-36 84,-36 78,-36 72,-30 72,-24 72,-24 72,-12 72,-12 72,-6 78,-0 84,-0 84,-0 114,-0 114,-0 120,-0 126,-6 126,-12 126,-12 126,-24 126,-24 126,-30 120,-36 114,-36\"/>\r\n",
       "<text text-anchor=\"middle\" x=\"99\" y=\"-14.3\" font-family=\"Helvetica,sans-Serif\" font-size=\"14.00\">(...)</text>\r\n",
       "</g>\r\n",
       "<!-- 2&#45;&gt;4 -->\r\n",
       "<g id=\"edge4\" class=\"edge\"><title>2&#45;&gt;4</title>\r\n",
       "<path fill=\"none\" stroke=\"black\" d=\"M97.1513,-71.9961C97.4454,-63.5646 97.7585,-54.5902 98.0418,-46.4696\"/>\r\n",
       "<polygon fill=\"black\" stroke=\"black\" points=\"101.542,-46.5194 98.3929,-36.4034 94.5463,-46.2753 101.542,-46.5194\"/>\r\n",
       "</g>\r\n",
       "<!-- 6 -->\r\n",
       "<g id=\"node7\" class=\"node\"><title>6</title>\r\n",
       "<path fill=\"#c0c0c0\" stroke=\"black\" d=\"M208,-36C208,-36 178,-36 178,-36 172,-36 166,-30 166,-24 166,-24 166,-12 166,-12 166,-6 172,-0 178,-0 178,-0 208,-0 208,-0 214,-0 220,-6 220,-12 220,-12 220,-24 220,-24 220,-30 214,-36 208,-36\"/>\r\n",
       "<text text-anchor=\"middle\" x=\"193\" y=\"-14.3\" font-family=\"Helvetica,sans-Serif\" font-size=\"14.00\">(...)</text>\r\n",
       "</g>\r\n",
       "<!-- 5&#45;&gt;6 -->\r\n",
       "<g id=\"edge6\" class=\"edge\"><title>5&#45;&gt;6</title>\r\n",
       "<path fill=\"none\" stroke=\"black\" d=\"M212.719,-71.9961C209.512,-63.3751 206.093,-54.1866 203.018,-45.9234\"/>\r\n",
       "<polygon fill=\"black\" stroke=\"black\" points=\"206.243,-44.555 199.476,-36.4034 199.683,-46.9962 206.243,-44.555\"/>\r\n",
       "</g>\r\n",
       "<!-- 11 -->\r\n",
       "<g id=\"node8\" class=\"node\"><title>11</title>\r\n",
       "<path fill=\"#c0c0c0\" stroke=\"black\" d=\"M280,-36C280,-36 250,-36 250,-36 244,-36 238,-30 238,-24 238,-24 238,-12 238,-12 238,-6 244,-0 250,-0 250,-0 280,-0 280,-0 286,-0 292,-6 292,-12 292,-12 292,-24 292,-24 292,-30 286,-36 280,-36\"/>\r\n",
       "<text text-anchor=\"middle\" x=\"265\" y=\"-14.3\" font-family=\"Helvetica,sans-Serif\" font-size=\"14.00\">(...)</text>\r\n",
       "</g>\r\n",
       "<!-- 5&#45;&gt;11 -->\r\n",
       "<g id=\"edge7\" class=\"edge\"><title>5&#45;&gt;11</title>\r\n",
       "<path fill=\"none\" stroke=\"black\" d=\"M240.351,-71.9961C244.404,-63.2804 248.728,-53.9846 252.604,-45.6514\"/>\r\n",
       "<polygon fill=\"black\" stroke=\"black\" points=\"255.862,-46.9467 256.905,-36.4034 249.515,-43.9945 255.862,-46.9467\"/>\r\n",
       "</g>\r\n",
       "<!-- 17 -->\r\n",
       "<g id=\"node10\" class=\"node\"><title>17</title>\r\n",
       "<path fill=\"#f0b78e\" stroke=\"black\" d=\"M415,-140C415,-140 311,-140 311,-140 305,-140 299,-134 299,-128 299,-128 299,-84 299,-84 299,-78 305,-72 311,-72 311,-72 415,-72 415,-72 421,-72 427,-78 427,-84 427,-84 427,-128 427,-128 427,-134 421,-140 415,-140\"/>\r\n",
       "<text text-anchor=\"start\" x=\"326.5\" y=\"-124.8\" font-family=\"Helvetica,sans-Serif\" font-size=\"14.00\">t&#45;1 ≤ &#45;0.098</text>\r\n",
       "<text text-anchor=\"start\" x=\"322.5\" y=\"-109.8\" font-family=\"Helvetica,sans-Serif\" font-size=\"14.00\">mse = 0.007</text>\r\n",
       "<text text-anchor=\"start\" x=\"307\" y=\"-94.8\" font-family=\"Helvetica,sans-Serif\" font-size=\"14.00\">samples = 55155</text>\r\n",
       "<text text-anchor=\"start\" x=\"320\" y=\"-79.8\" font-family=\"Helvetica,sans-Serif\" font-size=\"14.00\">value = 0.009</text>\r\n",
       "</g>\r\n",
       "<!-- 16&#45;&gt;17 -->\r\n",
       "<g id=\"edge9\" class=\"edge\"><title>16&#45;&gt;17</title>\r\n",
       "<path fill=\"none\" stroke=\"black\" d=\"M363,-175.884C363,-167.778 363,-158.982 363,-150.472\"/>\r\n",
       "<polygon fill=\"black\" stroke=\"black\" points=\"366.5,-150.299 363,-140.299 359.5,-150.299 366.5,-150.299\"/>\r\n",
       "</g>\r\n",
       "<!-- 46 -->\r\n",
       "<g id=\"node13\" class=\"node\"><title>46</title>\r\n",
       "<path fill=\"#eca36f\" stroke=\"black\" d=\"M544.5,-140C544.5,-140 457.5,-140 457.5,-140 451.5,-140 445.5,-134 445.5,-128 445.5,-128 445.5,-84 445.5,-84 445.5,-78 451.5,-72 457.5,-72 457.5,-72 544.5,-72 544.5,-72 550.5,-72 556.5,-78 556.5,-84 556.5,-84 556.5,-128 556.5,-128 556.5,-134 550.5,-140 544.5,-140\"/>\r\n",
       "<text text-anchor=\"start\" x=\"466.5\" y=\"-124.8\" font-family=\"Helvetica,sans-Serif\" font-size=\"14.00\">t&#45;2 ≤ 0.023</text>\r\n",
       "<text text-anchor=\"start\" x=\"460.5\" y=\"-109.8\" font-family=\"Helvetica,sans-Serif\" font-size=\"14.00\">mse = 0.026</text>\r\n",
       "<text text-anchor=\"start\" x=\"453.5\" y=\"-94.8\" font-family=\"Helvetica,sans-Serif\" font-size=\"14.00\">samples = 486</text>\r\n",
       "<text text-anchor=\"start\" x=\"458\" y=\"-79.8\" font-family=\"Helvetica,sans-Serif\" font-size=\"14.00\">value = 0.041</text>\r\n",
       "</g>\r\n",
       "<!-- 16&#45;&gt;46 -->\r\n",
       "<g id=\"edge12\" class=\"edge\"><title>16&#45;&gt;46</title>\r\n",
       "<path fill=\"none\" stroke=\"black\" d=\"M407.805,-175.884C420.579,-166.442 434.62,-156.064 447.841,-146.292\"/>\r\n",
       "<polygon fill=\"black\" stroke=\"black\" points=\"449.987,-149.058 455.948,-140.299 445.826,-143.429 449.987,-149.058\"/>\r\n",
       "</g>\r\n",
       "<!-- 18 -->\r\n",
       "<g id=\"node11\" class=\"node\"><title>18</title>\r\n",
       "<path fill=\"#c0c0c0\" stroke=\"black\" d=\"M363,-36C363,-36 333,-36 333,-36 327,-36 321,-30 321,-24 321,-24 321,-12 321,-12 321,-6 327,-0 333,-0 333,-0 363,-0 363,-0 369,-0 375,-6 375,-12 375,-12 375,-24 375,-24 375,-30 369,-36 363,-36\"/>\r\n",
       "<text text-anchor=\"middle\" x=\"348\" y=\"-14.3\" font-family=\"Helvetica,sans-Serif\" font-size=\"14.00\">(...)</text>\r\n",
       "</g>\r\n",
       "<!-- 17&#45;&gt;18 -->\r\n",
       "<g id=\"edge10\" class=\"edge\"><title>17&#45;&gt;18</title>\r\n",
       "<path fill=\"none\" stroke=\"black\" d=\"M357.244,-71.9961C355.773,-63.5646 354.208,-54.5902 352.791,-46.4696\"/>\r\n",
       "<polygon fill=\"black\" stroke=\"black\" points=\"356.202,-45.6532 351.035,-36.4034 349.306,-46.8561 356.202,-45.6532\"/>\r\n",
       "</g>\r\n",
       "<!-- 33 -->\r\n",
       "<g id=\"node12\" class=\"node\"><title>33</title>\r\n",
       "<path fill=\"#c0c0c0\" stroke=\"black\" d=\"M435,-36C435,-36 405,-36 405,-36 399,-36 393,-30 393,-24 393,-24 393,-12 393,-12 393,-6 399,-0 405,-0 405,-0 435,-0 435,-0 441,-0 447,-6 447,-12 447,-12 447,-24 447,-24 447,-30 441,-36 435,-36\"/>\r\n",
       "<text text-anchor=\"middle\" x=\"420\" y=\"-14.3\" font-family=\"Helvetica,sans-Serif\" font-size=\"14.00\">(...)</text>\r\n",
       "</g>\r\n",
       "<!-- 17&#45;&gt;33 -->\r\n",
       "<g id=\"edge11\" class=\"edge\"><title>17&#45;&gt;33</title>\r\n",
       "<path fill=\"none\" stroke=\"black\" d=\"M384.875,-71.9961C390.84,-62.9962 397.215,-53.3778 402.874,-44.8393\"/>\r\n",
       "<polygon fill=\"black\" stroke=\"black\" points=\"405.858,-46.6724 408.465,-36.4034 400.023,-42.8052 405.858,-46.6724\"/>\r\n",
       "</g>\r\n",
       "<!-- 47 -->\r\n",
       "<g id=\"node14\" class=\"node\"><title>47</title>\r\n",
       "<path fill=\"#c0c0c0\" stroke=\"black\" d=\"M513,-36C513,-36 483,-36 483,-36 477,-36 471,-30 471,-24 471,-24 471,-12 471,-12 471,-6 477,-0 483,-0 483,-0 513,-0 513,-0 519,-0 525,-6 525,-12 525,-12 525,-24 525,-24 525,-30 519,-36 513,-36\"/>\r\n",
       "<text text-anchor=\"middle\" x=\"498\" y=\"-14.3\" font-family=\"Helvetica,sans-Serif\" font-size=\"14.00\">(...)</text>\r\n",
       "</g>\r\n",
       "<!-- 46&#45;&gt;47 -->\r\n",
       "<g id=\"edge13\" class=\"edge\"><title>46&#45;&gt;47</title>\r\n",
       "<path fill=\"none\" stroke=\"black\" d=\"M499.849,-71.9961C499.555,-63.5646 499.242,-54.5902 498.958,-46.4696\"/>\r\n",
       "<polygon fill=\"black\" stroke=\"black\" points=\"502.454,-46.2753 498.607,-36.4034 495.458,-46.5194 502.454,-46.2753\"/>\r\n",
       "</g>\r\n",
       "<!-- 54 -->\r\n",
       "<g id=\"node15\" class=\"node\"><title>54</title>\r\n",
       "<path fill=\"#c0c0c0\" stroke=\"black\" d=\"M585,-36C585,-36 555,-36 555,-36 549,-36 543,-30 543,-24 543,-24 543,-12 543,-12 543,-6 549,-0 555,-0 555,-0 585,-0 585,-0 591,-0 597,-6 597,-12 597,-12 597,-24 597,-24 597,-30 591,-36 585,-36\"/>\r\n",
       "<text text-anchor=\"middle\" x=\"570\" y=\"-14.3\" font-family=\"Helvetica,sans-Serif\" font-size=\"14.00\">(...)</text>\r\n",
       "</g>\r\n",
       "<!-- 46&#45;&gt;54 -->\r\n",
       "<g id=\"edge14\" class=\"edge\"><title>46&#45;&gt;54</title>\r\n",
       "<path fill=\"none\" stroke=\"black\" d=\"M527.48,-71.9961C534.853,-62.8067 542.743,-52.9725 549.7,-44.3014\"/>\r\n",
       "<polygon fill=\"black\" stroke=\"black\" points=\"552.509,-46.3936 556.037,-36.4034 547.049,-42.0129 552.509,-46.3936\"/>\r\n",
       "</g>\r\n",
       "</g>\r\n",
       "</svg>\r\n"
      ],
      "text/plain": [
       "<graphviz.files.Source at 0x1d5bf01dd60>"
      ]
     },
     "execution_count": 16,
     "metadata": {},
     "output_type": "execute_result"
    }
   ],
   "source": [
    "out_file = results_path / 'reg_tree_t2.dot'\n",
    "dot_data = export_graphviz(reg_tree_t2,\n",
    "                          out_file=out_file.as_posix(),\n",
    "                          feature_names=X2.columns,\n",
    "                          max_depth=2,\n",
    "                          filled=True,\n",
    "                          rounded=True,\n",
    "                          special_characters=True)\n",
    "if out_file is not None:\n",
    "    dot_data = Path(out_file).read_text()\n",
    "\n",
    "graphviz.Source(dot_data)"
   ]
  },
  {
   "cell_type": "markdown",
   "metadata": {},
   "source": [
    "### Compare with Linear Regression"
   ]
  },
  {
   "cell_type": "markdown",
   "metadata": {},
   "source": [
    "The OLS summary below and a visualization of the first two levels of the decision tree above reveal the striking differences between the models. The OLS model provides three parameters for the intercepts and the two features in line with the linear assumption.\n",
    "\n",
    "In contrast, the regression tree chart above displays for each node of the first two levels the feature and threshold used to split the data (note that features can be used repeatedly), as well as the current value of the mean-squared error (MSE), the number of samples, and predicted value based on these training samples."
   ]
  },
  {
   "cell_type": "markdown",
   "metadata": {},
   "source": [
    "The tree chart also highlights the uneven distribution of samples across the nodes as the numbers vary between 31,000 and 65,000 samples after only two splits."
   ]
  },
  {
   "cell_type": "markdown",
   "metadata": {},
   "source": [
    "#### statsmodels OLS"
   ]
  },
  {
   "cell_type": "code",
   "execution_count": 47,
   "metadata": {
    "ExecuteTime": {
     "end_time": "2021-02-23T20:44:36.657837Z",
     "start_time": "2021-02-23T20:44:36.634345Z"
    },
    "scrolled": true
   },
   "outputs": [],
   "source": [
    "ols_model = sm.OLS(endog=y2, exog=sm.add_constant(X2))"
   ]
  },
  {
   "cell_type": "code",
   "execution_count": 48,
   "metadata": {
    "ExecuteTime": {
     "end_time": "2021-02-23T20:44:42.098999Z",
     "start_time": "2021-02-23T20:44:36.659226Z"
    }
   },
   "outputs": [
    {
     "name": "stdout",
     "output_type": "stream",
     "text": [
      "The slowest run took 24.31 times longer than the fastest. This could mean that an intermediate result is being cached.\n",
      "351 µs ± 554 µs per loop (mean ± std. dev. of 7 runs, 1 loop each)\n"
     ]
    }
   ],
   "source": [
    "%%timeit\n",
    "ols_model.fit()"
   ]
  },
  {
   "cell_type": "code",
   "execution_count": 49,
   "metadata": {
    "ExecuteTime": {
     "end_time": "2021-02-23T20:44:42.119597Z",
     "start_time": "2021-02-23T20:44:42.101575Z"
    }
   },
   "outputs": [
    {
     "name": "stdout",
     "output_type": "stream",
     "text": [
      "                            OLS Regression Results                            \n",
      "==============================================================================\n",
      "Dep. Variable:                      y   R-squared:                       0.001\n",
      "Model:                            OLS   Adj. R-squared:                  0.001\n",
      "Method:                 Least Squares   F-statistic:                     39.02\n",
      "Date:                Thu, 04 Mar 2021   Prob (F-statistic):           1.17e-17\n",
      "Time:                        14:02:33   Log-Likelihood:                 56967.\n",
      "No. Observations:               56186   AIC:                        -1.139e+05\n",
      "Df Residuals:                   56183   BIC:                        -1.139e+05\n",
      "Df Model:                           2                                         \n",
      "Covariance Type:            nonrobust                                         \n",
      "==============================================================================\n",
      "                 coef    std err          t      P>|t|      [0.025      0.975]\n",
      "------------------------------------------------------------------------------\n",
      "const          0.0088      0.000     23.412      0.000       0.008       0.009\n",
      "t-1            0.0327      0.004      7.761      0.000       0.024       0.041\n",
      "t-2           -0.0187      0.004     -4.437      0.000      -0.027      -0.010\n",
      "==============================================================================\n",
      "Omnibus:                     2103.126   Durbin-Watson:                   1.999\n",
      "Prob(Omnibus):                  0.000   Jarque-Bera (JB):             6483.607\n",
      "Skew:                           0.018   Prob(JB):                         0.00\n",
      "Kurtosis:                       4.664   Cond. No.                         11.5\n",
      "==============================================================================\n",
      "\n",
      "Notes:\n",
      "[1] Standard Errors assume that the covariance matrix of the errors is correctly specified.\n"
     ]
    }
   ],
   "source": [
    "result = ols_model.fit()\n",
    "print(result.summary())"
   ]
  },
  {
   "cell_type": "markdown",
   "metadata": {},
   "source": [
    "#### sklearn Linear Regression"
   ]
  },
  {
   "cell_type": "code",
   "execution_count": 50,
   "metadata": {
    "ExecuteTime": {
     "end_time": "2021-02-23T20:44:42.129476Z",
     "start_time": "2021-02-23T20:44:42.126572Z"
    }
   },
   "outputs": [],
   "source": [
    "lin_reg = LinearRegression()"
   ]
  },
  {
   "cell_type": "code",
   "execution_count": 51,
   "metadata": {
    "ExecuteTime": {
     "end_time": "2021-02-23T20:44:44.739051Z",
     "start_time": "2021-02-23T20:44:42.130778Z"
    }
   },
   "outputs": [
    {
     "name": "stdout",
     "output_type": "stream",
     "text": [
      "2.6 ms ± 161 µs per loop (mean ± std. dev. of 7 runs, 100 loops each)\n"
     ]
    }
   ],
   "source": [
    "%%timeit\n",
    "lin_reg.fit(X=X2,y=y2)"
   ]
  },
  {
   "cell_type": "code",
   "execution_count": 52,
   "metadata": {
    "ExecuteTime": {
     "end_time": "2021-02-23T20:44:44.747843Z",
     "start_time": "2021-02-23T20:44:44.740244Z"
    }
   },
   "outputs": [
    {
     "data": {
      "text/plain": [
       "LinearRegression()"
      ]
     },
     "execution_count": 52,
     "metadata": {},
     "output_type": "execute_result"
    }
   ],
   "source": [
    "lin_reg.fit(X=X2,y=y2)"
   ]
  },
  {
   "cell_type": "code",
   "execution_count": 53,
   "metadata": {
    "ExecuteTime": {
     "end_time": "2021-02-23T20:44:44.760244Z",
     "start_time": "2021-02-23T20:44:44.749473Z"
    }
   },
   "outputs": [
    {
     "data": {
      "text/plain": [
       "0.00875544119630164"
      ]
     },
     "execution_count": 53,
     "metadata": {},
     "output_type": "execute_result"
    }
   ],
   "source": [
    "lin_reg.intercept_"
   ]
  },
  {
   "cell_type": "code",
   "execution_count": 54,
   "metadata": {
    "ExecuteTime": {
     "end_time": "2021-02-23T20:44:44.769582Z",
     "start_time": "2021-02-23T20:44:44.761867Z"
    }
   },
   "outputs": [
    {
     "data": {
      "text/plain": [
       "array([ 0.03269516, -0.01868576])"
      ]
     },
     "execution_count": 54,
     "metadata": {},
     "output_type": "execute_result"
    }
   ],
   "source": [
    "lin_reg.coef_"
   ]
  },
  {
   "cell_type": "markdown",
   "metadata": {},
   "source": [
    "### Linear Regression vs Regression Tree Decision Surfaces"
   ]
  },
  {
   "cell_type": "markdown",
   "metadata": {},
   "source": [
    "To further illustrate the different assumptions about the functional form of the relationships between the input variables and the output, we can visualize current return predictions as a function of the feature space, that is, as a function of the range of values for the lagged returns. The following figure shows the current period return as a function of returns one and two periods ago for linear regression and the regression tree:\n",
    "\n",
    "The linear-regression model result on the right side underlines the linearity of the relationship between lagged and current returns, whereas the regression tree chart on the left illustrates the non-linear relationship encoded in the recursive partitioning of the feature space."
   ]
  },
  {
   "cell_type": "code",
   "execution_count": 55,
   "metadata": {
    "ExecuteTime": {
     "end_time": "2021-02-23T20:44:44.784087Z",
     "start_time": "2021-02-23T20:44:44.771644Z"
    }
   },
   "outputs": [],
   "source": [
    "t1, t2 = np.meshgrid(np.linspace(X2['t-1'].quantile(.01), X2['t-1'].quantile(.99), 100),\n",
    "                     np.linspace(X2['t-2'].quantile(.01), X2['t-2'].quantile(.99), 100))\n",
    "X_data = np.c_[t1.ravel(), t2.ravel()]"
   ]
  },
  {
   "cell_type": "code",
   "execution_count": 56,
   "metadata": {
    "ExecuteTime": {
     "end_time": "2021-02-23T20:44:45.329256Z",
     "start_time": "2021-02-23T20:44:44.785457Z"
    },
    "scrolled": false
   },
   "outputs": [
    {
     "data": {
      "image/png": "[encoded data removed]",
      "text/plain": [
       "<Figure size 864x360 with 4 Axes>"
      ]
     },
     "metadata": {},
     "output_type": "display_data"
    }
   ],
   "source": [
    "fig, axes = plt.subplots(ncols=2, figsize=(12,5))\n",
    "\n",
    "# Linear Regression\n",
    "ret1 = lin_reg.predict(X_data).reshape(t1.shape)\n",
    "surface1 = axes[0].contourf(t1, t2, ret1, cmap='Blues')\n",
    "plt.colorbar(mappable=surface1, ax=axes[0])\n",
    "\n",
    "# Regression Tree\n",
    "ret2 = reg_tree_t2.predict(X_data).reshape(t1.shape)\n",
    "surface2 = axes[1].contourf(t1, t2, ret2, cmap='Blues')\n",
    "plt.colorbar(mappable=surface2, ax=axes[1])\n",
    "\n",
    "# Format plots\n",
    "titles = ['Linear Regression', 'Regression Tree']\n",
    "for i, ax in enumerate(axes):\n",
    "    ax.set_xlabel('t-1')\n",
    "    ax.set_ylabel('t-2')\n",
    "    ax.set_title(titles[i])\n",
    "\n",
    "fig.suptitle('Decision Surfaces', fontsize=14)\n",
    "sns.despine()\n",
    "fig.tight_layout()\n",
    "fig.subplots_adjust(top=.9);"
   ]
  },
  {
   "cell_type": "markdown",
   "metadata": {},
   "source": [
    "## Simple Classification Tree with Time Series Data"
   ]
  },
  {
   "cell_type": "markdown",
   "metadata": {},
   "source": [
    "A classification tree works just like the regression version, except that categorical nature of the outcome requires a different approach to making predictions and measuring the loss. While a regression tree predicts the response for an observation assigned to a leaf node using the mean outcome of the associated training samples, a classification tree instead uses the mode, that is, the most common class among the training samples in the relevant region. A classification tree can also generate probabilistic predictions based on relative class frequencies."
   ]
  },
  {
   "cell_type": "markdown",
   "metadata": {},
   "source": [
    "### Loss Functions"
   ]
  },
  {
   "cell_type": "markdown",
   "metadata": {},
   "source": [
    "When growing a classification tree, we also use recursive binary splitting but, instead of evaluating the quality of a decision rule using the reduction of the mean-squared error, we can use the classification error rate, which is simply the fraction of the training samples in a given (leave) node that do not belong to the most common class."
   ]
  },
  {
   "cell_type": "markdown",
   "metadata": {},
   "source": [
    "However, the alternative measures, Gini Index or Cross-Entropy, are preferred because they are more sensitive to node purity than the classification error rate. Node purity refers to the extent of the preponderance of a single class in a node. A node that only contains samples with outcomes belonging to a single class is pure and imply successful classification for this particular region of the feature space. "
   ]
  },
  {
   "cell_type": "code",
   "execution_count": 57,
   "metadata": {
    "ExecuteTime": {
     "end_time": "2021-02-23T20:44:45.332993Z",
     "start_time": "2021-02-23T20:44:45.330552Z"
    }
   },
   "outputs": [],
   "source": [
    "def entropy(f):\n",
    "    return (-f*np.log2(f) - (1-f)*np.log2(1-f))/2"
   ]
  },
  {
   "cell_type": "code",
   "execution_count": 58,
   "metadata": {
    "ExecuteTime": {
     "end_time": "2021-02-23T20:44:45.343600Z",
     "start_time": "2021-02-23T20:44:45.334321Z"
    }
   },
   "outputs": [],
   "source": [
    "def gini(f):\n",
    "    return 2*f*(1-f)"
   ]
  },
  {
   "cell_type": "code",
   "execution_count": 59,
   "metadata": {
    "ExecuteTime": {
     "end_time": "2021-02-23T20:44:45.352034Z",
     "start_time": "2021-02-23T20:44:45.344650Z"
    }
   },
   "outputs": [],
   "source": [
    "def misclassification_rate(f):\n",
    "    return np.where(f<=.5, f, 1-f)"
   ]
  },
  {
   "cell_type": "markdown",
   "metadata": {},
   "source": [
    "Both the Gini Impurity and the Cross-Entropy measure take on smaller values when the class proportions approach zero or one, that is, when the child nodes become pure as a result of the split and are highest when the class proportions are even or 0.5 in the binary case. \n",
    "\n",
    "The chart below visualizes the values assumed by these two measures and the misclassification error rates across the [0, 1] interval of proportions."
   ]
  },
  {
   "cell_type": "code",
   "execution_count": 60,
   "metadata": {
    "ExecuteTime": {
     "end_time": "2021-02-23T20:44:45.715722Z",
     "start_time": "2021-02-23T20:44:45.353037Z"
    }
   },
   "outputs": [
    {
     "data": {
      "image/png": "[encoded data removed]",
      "text/plain": [
       "<Figure size 432x288 with 1 Axes>"
      ]
     },
     "metadata": {},
     "output_type": "display_data"
    }
   ],
   "source": [
    "x = np.linspace(0, 1, 10000)\n",
    "(pd.DataFrame({'Gini': gini(x), \n",
    "              'Entropy': entropy(x),\n",
    "             'Misclassification Rate': misclassification_rate(x)}, index=x)\n",
    " .plot(title='Classification Loss Functions', lw=2, style=['-', '--', ':']))\n",
    "sns.despine()\n",
    "plt.tight_layout();"
   ]
  },
  {
   "cell_type": "markdown",
   "metadata": {},
   "source": [
    "#### Compare computation time"
   ]
  },
  {
   "cell_type": "markdown",
   "metadata": {},
   "source": [
    "Gini is often preferred over entropy because it computes faster:"
   ]
  },
  {
   "cell_type": "code",
   "execution_count": 61,
   "metadata": {
    "ExecuteTime": {
     "end_time": "2021-02-23T20:44:58.318128Z",
     "start_time": "2021-02-23T20:44:45.717285Z"
    }
   },
   "outputs": [
    {
     "name": "stdout",
     "output_type": "stream",
     "text": [
      "21.9 µs ± 1.21 µs per loop (mean ± std. dev. of 7 runs, 10000 loops each)\n"
     ]
    }
   ],
   "source": [
    "%%timeit\n",
    "misclassification_rate(x)"
   ]
  },
  {
   "cell_type": "code",
   "execution_count": 62,
   "metadata": {
    "ExecuteTime": {
     "end_time": "2021-02-23T20:45:08.355097Z",
     "start_time": "2021-02-23T20:44:58.319378Z"
    }
   },
   "outputs": [
    {
     "name": "stdout",
     "output_type": "stream",
     "text": [
      "17.6 µs ± 403 ns per loop (mean ± std. dev. of 7 runs, 100000 loops each)\n"
     ]
    }
   ],
   "source": [
    "%%timeit\n",
    "gini(x)"
   ]
  },
  {
   "cell_type": "code",
   "execution_count": 63,
   "metadata": {
    "ExecuteTime": {
     "end_time": "2021-02-23T20:45:24.613654Z",
     "start_time": "2021-02-23T20:45:08.356242Z"
    }
   },
   "outputs": [
    {
     "name": "stdout",
     "output_type": "stream",
     "text": [
      "315 µs ± 12.5 µs per loop (mean ± std. dev. of 7 runs, 1000 loops each)\n"
     ]
    }
   ],
   "source": [
    "%%timeit\n",
    "entropy(x)"
   ]
  },
  {
   "cell_type": "markdown",
   "metadata": {},
   "source": [
    "### Configure Tree"
   ]
  },
  {
   "cell_type": "code",
   "execution_count": 64,
   "metadata": {
    "ExecuteTime": {
     "end_time": "2021-02-23T20:45:30.601886Z",
     "start_time": "2021-02-23T20:45:30.599761Z"
    }
   },
   "outputs": [],
   "source": [
    "clf_tree_t2 = DecisionTreeClassifier(criterion='gini',\n",
    "                                     splitter='best',\n",
    "                                     max_depth=5,\n",
    "                                     min_samples_split=1000,\n",
    "                                     min_samples_leaf=1,\n",
    "                                     min_weight_fraction_leaf=0.0,\n",
    "                                     max_features=None,\n",
    "                                     random_state=42,\n",
    "                                     max_leaf_nodes=None,\n",
    "                                     min_impurity_decrease=0.0,\n",
    "                                     min_impurity_split=None,\n",
    "                                     class_weight=None)"
   ]
  },
  {
   "cell_type": "markdown",
   "metadata": {},
   "source": [
    "### Train Tree"
   ]
  },
  {
   "cell_type": "code",
   "execution_count": 65,
   "metadata": {
    "ExecuteTime": {
     "end_time": "2021-02-23T20:45:34.710389Z",
     "start_time": "2021-02-23T20:45:34.705030Z"
    }
   },
   "outputs": [
    {
     "data": {
      "text/plain": [
       "1    31568\n",
       "0    24618\n",
       "Name: y, dtype: int64"
      ]
     },
     "execution_count": 65,
     "metadata": {},
     "output_type": "execute_result"
    }
   ],
   "source": [
    "y_binary = (y2>0).astype(int)\n",
    "y_binary.value_counts()"
   ]
  },
  {
   "cell_type": "code",
   "execution_count": 66,
   "metadata": {
    "ExecuteTime": {
     "end_time": "2021-02-23T20:45:41.829601Z",
     "start_time": "2021-02-23T20:45:34.711512Z"
    },
    "scrolled": true
   },
   "outputs": [
    {
     "name": "stdout",
     "output_type": "stream",
     "text": [
      "80.1 ms ± 1.59 ms per loop (mean ± std. dev. of 7 runs, 10 loops each)\n"
     ]
    }
   ],
   "source": [
    "%%timeit\n",
    "clf_tree_t2.fit(X=X2, y=y_binary)"
   ]
  },
  {
   "cell_type": "code",
   "execution_count": 67,
   "metadata": {
    "ExecuteTime": {
     "end_time": "2021-02-23T20:45:41.930213Z",
     "start_time": "2021-02-23T20:45:41.831078Z"
    }
   },
   "outputs": [
    {
     "data": {
      "text/plain": [
       "DecisionTreeClassifier(max_depth=5, min_samples_split=1000, random_state=42)"
      ]
     },
     "execution_count": 67,
     "metadata": {},
     "output_type": "execute_result"
    }
   ],
   "source": [
    "clf_tree_t2.fit(X=X2, y=y_binary)"
   ]
  },
  {
   "cell_type": "markdown",
   "metadata": {},
   "source": [
    "### Visualize Tree"
   ]
  },
  {
   "cell_type": "code",
   "execution_count": 68,
   "metadata": {
    "ExecuteTime": {
     "end_time": "2021-02-23T20:45:41.973677Z",
     "start_time": "2021-02-23T20:45:41.931606Z"
    }
   },
   "outputs": [
    {
     "data": {
      "image/svg+xml": [
       "<?xml version=\"1.0\" encoding=\"UTF-8\" standalone=\"no\"?>\r\n",
       "<!DOCTYPE svg PUBLIC \"-//W3C//DTD SVG 1.1//EN\"\r\n",
       " \"http://www.w3.org/Graphics/SVG/1.1/DTD/svg11.dtd\">\r\n",
       "<!-- Generated by graphviz version 2.38.0 (20140413.2041)\r\n",
       " -->\r\n",
       "<!-- Title: Tree Pages: 1 -->\r\n",
       "<svg width=\"648pt\" height=\"401pt\"\r\n",
       " viewBox=\"0.00 0.00 648.00 401.00\" xmlns=\"http://www.w3.org/2000/svg\" xmlns:xlink=\"http://www.w3.org/1999/xlink\">\r\n",
       "<g id=\"graph0\" class=\"graph\" transform=\"scale(1 1) rotate(0) translate(4 397)\">\r\n",
       "<title>Tree</title>\r\n",
       "<polygon fill=\"white\" stroke=\"none\" points=\"-4,4 -4,-397 644,-397 644,4 -4,4\"/>\r\n",
       "<!-- 0 -->\r\n",
       "<g id=\"node1\" class=\"node\"><title>0</title>\r\n",
       "<path fill=\"#d3e9f9\" stroke=\"black\" d=\"M376.5,-393C376.5,-393 237.5,-393 237.5,-393 231.5,-393 225.5,-387 225.5,-381 225.5,-381 225.5,-322 225.5,-322 225.5,-316 231.5,-310 237.5,-310 237.5,-310 376.5,-310 376.5,-310 382.5,-310 388.5,-316 388.5,-322 388.5,-322 388.5,-381 388.5,-381 388.5,-387 382.5,-393 376.5,-393\"/>\r\n",
       "<text text-anchor=\"start\" x=\"270.5\" y=\"-377.8\" font-family=\"Helvetica,sans-Serif\" font-size=\"14.00\">t&#45;1 ≤ &#45;0.074</text>\r\n",
       "<text text-anchor=\"start\" x=\"269.5\" y=\"-362.8\" font-family=\"Helvetica,sans-Serif\" font-size=\"14.00\">gini = 0.492</text>\r\n",
       "<text text-anchor=\"start\" x=\"251\" y=\"-347.8\" font-family=\"Helvetica,sans-Serif\" font-size=\"14.00\">samples = 56186</text>\r\n",
       "<text text-anchor=\"start\" x=\"233.5\" y=\"-332.8\" font-family=\"Helvetica,sans-Serif\" font-size=\"14.00\">value = [24618, 31568]</text>\r\n",
       "<text text-anchor=\"start\" x=\"273.5\" y=\"-317.8\" font-family=\"Helvetica,sans-Serif\" font-size=\"14.00\">class = Up</text>\r\n",
       "</g>\r\n",
       "<!-- 1 -->\r\n",
       "<g id=\"node2\" class=\"node\"><title>1</title>\r\n",
       "<path fill=\"#f5fafe\" stroke=\"black\" d=\"M282,-274C282,-274 160,-274 160,-274 154,-274 148,-268 148,-262 148,-262 148,-203 148,-203 148,-197 154,-191 160,-191 160,-191 282,-191 282,-191 288,-191 294,-197 294,-203 294,-203 294,-262 294,-262 294,-268 288,-274 282,-274\"/>\r\n",
       "<text text-anchor=\"start\" x=\"184.5\" y=\"-258.8\" font-family=\"Helvetica,sans-Serif\" font-size=\"14.00\">t&#45;1 ≤ &#45;0.257</text>\r\n",
       "<text text-anchor=\"start\" x=\"192\" y=\"-243.8\" font-family=\"Helvetica,sans-Serif\" font-size=\"14.00\">gini = 0.5</text>\r\n",
       "<text text-anchor=\"start\" x=\"169.5\" y=\"-228.8\" font-family=\"Helvetica,sans-Serif\" font-size=\"14.00\">samples = 7674</text>\r\n",
       "<text text-anchor=\"start\" x=\"156\" y=\"-213.8\" font-family=\"Helvetica,sans-Serif\" font-size=\"14.00\">value = [3733, 3941]</text>\r\n",
       "<text text-anchor=\"start\" x=\"187.5\" y=\"-198.8\" font-family=\"Helvetica,sans-Serif\" font-size=\"14.00\">class = Up</text>\r\n",
       "</g>\r\n",
       "<!-- 0&#45;&gt;1 -->\r\n",
       "<g id=\"edge1\" class=\"edge\"><title>0&#45;&gt;1</title>\r\n",
       "<path fill=\"none\" stroke=\"black\" d=\"M277.163,-309.907C270.626,-301.014 263.639,-291.509 256.893,-282.331\"/>\r\n",
       "<polygon fill=\"black\" stroke=\"black\" points=\"259.527,-280.005 250.785,-274.021 253.887,-284.151 259.527,-280.005\"/>\r\n",
       "<text text-anchor=\"middle\" x=\"247.011\" y=\"-295.034\" font-family=\"Helvetica,sans-Serif\" font-size=\"14.00\">True</text>\r\n",
       "</g>\r\n",
       "<!-- 16 -->\r\n",
       "<g id=\"node7\" class=\"node\"><title>16</title>\r\n",
       "<path fill=\"#cfe7f9\" stroke=\"black\" d=\"M463.5,-274C463.5,-274 324.5,-274 324.5,-274 318.5,-274 312.5,-268 312.5,-262 312.5,-262 312.5,-203 312.5,-203 312.5,-197 318.5,-191 324.5,-191 324.5,-191 463.5,-191 463.5,-191 469.5,-191 475.5,-197 475.5,-203 475.5,-203 475.5,-262 475.5,-262 475.5,-268 469.5,-274 463.5,-274\"/>\r\n",
       "<text text-anchor=\"start\" x=\"359.5\" y=\"-258.8\" font-family=\"Helvetica,sans-Serif\" font-size=\"14.00\">t&#45;1 ≤ 0.068</text>\r\n",
       "<text text-anchor=\"start\" x=\"360.5\" y=\"-243.8\" font-family=\"Helvetica,sans-Serif\" font-size=\"14.00\">gini = 0.49</text>\r\n",
       "<text text-anchor=\"start\" x=\"338\" y=\"-228.8\" font-family=\"Helvetica,sans-Serif\" font-size=\"14.00\">samples = 48512</text>\r\n",
       "<text text-anchor=\"start\" x=\"320.5\" y=\"-213.8\" font-family=\"Helvetica,sans-Serif\" font-size=\"14.00\">value = [20885, 27627]</text>\r\n",
       "<text text-anchor=\"start\" x=\"360.5\" y=\"-198.8\" font-family=\"Helvetica,sans-Serif\" font-size=\"14.00\">class = Up</text>\r\n",
       "</g>\r\n",
       "<!-- 0&#45;&gt;16 -->\r\n",
       "<g id=\"edge6\" class=\"edge\"><title>0&#45;&gt;16</title>\r\n",
       "<path fill=\"none\" stroke=\"black\" d=\"M337.184,-309.907C343.865,-300.923 351.009,-291.315 357.899,-282.05\"/>\r\n",
       "<polygon fill=\"black\" stroke=\"black\" points=\"360.711,-284.134 363.869,-274.021 355.093,-279.957 360.711,-284.134\"/>\r\n",
       "<text text-anchor=\"middle\" x=\"367.506\" y=\"-295.055\" font-family=\"Helvetica,sans-Serif\" font-size=\"14.00\">False</text>\r\n",
       "</g>\r\n",
       "<!-- 2 -->\r\n",
       "<g id=\"node3\" class=\"node\"><title>2</title>\r\n",
       "<path fill=\"#f7d8c2\" stroke=\"black\" d=\"M118,-147.5C118,-147.5 12,-147.5 12,-147.5 6,-147.5 0,-141.5 0,-135.5 0,-135.5 0,-91.5 0,-91.5 0,-85.5 6,-79.5 12,-79.5 12,-79.5 118,-79.5 118,-79.5 124,-79.5 130,-85.5 130,-91.5 130,-91.5 130,-135.5 130,-135.5 130,-141.5 124,-147.5 118,-147.5\"/>\r\n",
       "<text text-anchor=\"start\" x=\"27.5\" y=\"-132.3\" font-family=\"Helvetica,sans-Serif\" font-size=\"14.00\">gini = 0.484</text>\r\n",
       "<text text-anchor=\"start\" x=\"17.5\" y=\"-117.3\" font-family=\"Helvetica,sans-Serif\" font-size=\"14.00\">samples = 596</text>\r\n",
       "<text text-anchor=\"start\" x=\"8\" y=\"-102.3\" font-family=\"Helvetica,sans-Serif\" font-size=\"14.00\">value = [352, 244]</text>\r\n",
       "<text text-anchor=\"start\" x=\"22.5\" y=\"-87.3\" font-family=\"Helvetica,sans-Serif\" font-size=\"14.00\">class = Down</text>\r\n",
       "</g>\r\n",
       "<!-- 1&#45;&gt;2 -->\r\n",
       "<g id=\"edge2\" class=\"edge\"><title>1&#45;&gt;2</title>\r\n",
       "<path fill=\"none\" stroke=\"black\" d=\"M166.877,-190.907C150.84,-178.88 133.313,-165.735 117.388,-153.791\"/>\r\n",
       "<polygon fill=\"black\" stroke=\"black\" points=\"119.323,-150.867 109.223,-147.667 115.123,-156.467 119.323,-150.867\"/>\r\n",
       "</g>\r\n",
       "<!-- 3 -->\r\n",
       "<g id=\"node4\" class=\"node\"><title>3</title>\r\n",
       "<path fill=\"#eef7fd\" stroke=\"black\" d=\"M282,-155C282,-155 160,-155 160,-155 154,-155 148,-149 148,-143 148,-143 148,-84 148,-84 148,-78 154,-72 160,-72 160,-72 282,-72 282,-72 288,-72 294,-78 294,-84 294,-84 294,-143 294,-143 294,-149 288,-155 282,-155\"/>\r\n",
       "<text text-anchor=\"start\" x=\"184.5\" y=\"-139.8\" font-family=\"Helvetica,sans-Serif\" font-size=\"14.00\">t&#45;2 ≤ &#45;0.067</text>\r\n",
       "<text text-anchor=\"start\" x=\"183.5\" y=\"-124.8\" font-family=\"Helvetica,sans-Serif\" font-size=\"14.00\">gini = 0.499</text>\r\n",
       "<text text-anchor=\"start\" x=\"169.5\" y=\"-109.8\" font-family=\"Helvetica,sans-Serif\" font-size=\"14.00\">samples = 7078</text>\r\n",
       "<text text-anchor=\"start\" x=\"156\" y=\"-94.8\" font-family=\"Helvetica,sans-Serif\" font-size=\"14.00\">value = [3381, 3697]</text>\r\n",
       "<text text-anchor=\"start\" x=\"187.5\" y=\"-79.8\" font-family=\"Helvetica,sans-Serif\" font-size=\"14.00\">class = Up</text>\r\n",
       "</g>\r\n",
       "<!-- 1&#45;&gt;3 -->\r\n",
       "<g id=\"edge3\" class=\"edge\"><title>1&#45;&gt;3</title>\r\n",
       "<path fill=\"none\" stroke=\"black\" d=\"M221,-190.907C221,-182.649 221,-173.864 221,-165.302\"/>\r\n",
       "<polygon fill=\"black\" stroke=\"black\" points=\"224.5,-165.021 221,-155.021 217.5,-165.021 224.5,-165.021\"/>\r\n",
       "</g>\r\n",
       "<!-- 4 -->\r\n",
       "<g id=\"node5\" class=\"node\"><title>4</title>\r\n",
       "<path fill=\"#c0c0c0\" stroke=\"black\" d=\"M178,-36C178,-36 148,-36 148,-36 142,-36 136,-30 136,-24 136,-24 136,-12 136,-12 136,-6 142,-0 148,-0 148,-0 178,-0 178,-0 184,-0 190,-6 190,-12 190,-12 190,-24 190,-24 190,-30 184,-36 178,-36\"/>\r\n",
       "<text text-anchor=\"middle\" x=\"163\" y=\"-14.3\" font-family=\"Helvetica,sans-Serif\" font-size=\"14.00\">(...)</text>\r\n",
       "</g>\r\n",
       "<!-- 3&#45;&gt;4 -->\r\n",
       "<g id=\"edge4\" class=\"edge\"><title>3&#45;&gt;4</title>\r\n",
       "<path fill=\"none\" stroke=\"black\" d=\"M195.729,-71.7615C190.08,-62.6543 184.238,-53.2376 179.082,-44.925\"/>\r\n",
       "<polygon fill=\"black\" stroke=\"black\" points=\"182.042,-43.0579 173.797,-36.4051 176.094,-46.7479 182.042,-43.0579\"/>\r\n",
       "</g>\r\n",
       "<!-- 9 -->\r\n",
       "<g id=\"node6\" class=\"node\"><title>9</title>\r\n",
       "<path fill=\"#c0c0c0\" stroke=\"black\" d=\"M250,-36C250,-36 220,-36 220,-36 214,-36 208,-30 208,-24 208,-24 208,-12 208,-12 208,-6 214,-0 220,-0 220,-0 250,-0 250,-0 256,-0 262,-6 262,-12 262,-12 262,-24 262,-24 262,-30 256,-36 250,-36\"/>\r\n",
       "<text text-anchor=\"middle\" x=\"235\" y=\"-14.3\" font-family=\"Helvetica,sans-Serif\" font-size=\"14.00\">(...)</text>\r\n",
       "</g>\r\n",
       "<!-- 3&#45;&gt;9 -->\r\n",
       "<g id=\"edge5\" class=\"edge\"><title>3&#45;&gt;9</title>\r\n",
       "<path fill=\"none\" stroke=\"black\" d=\"M227.1,-71.7615C228.376,-63.2356 229.694,-54.4385 230.878,-46.5299\"/>\r\n",
       "<polygon fill=\"black\" stroke=\"black\" points=\"234.374,-46.8132 232.394,-36.4051 227.452,-45.7765 234.374,-46.8132\"/>\r\n",
       "</g>\r\n",
       "<!-- 17 -->\r\n",
       "<g id=\"node8\" class=\"node\"><title>17</title>\r\n",
       "<path fill=\"#cbe5f8\" stroke=\"black\" d=\"M463.5,-155C463.5,-155 324.5,-155 324.5,-155 318.5,-155 312.5,-149 312.5,-143 312.5,-143 312.5,-84 312.5,-84 312.5,-78 318.5,-72 324.5,-72 324.5,-72 463.5,-72 463.5,-72 469.5,-72 475.5,-78 475.5,-84 475.5,-84 475.5,-143 475.5,-143 475.5,-149 469.5,-155 463.5,-155\"/>\r\n",
       "<text text-anchor=\"start\" x=\"357.5\" y=\"-139.8\" font-family=\"Helvetica,sans-Serif\" font-size=\"14.00\">t&#45;2 ≤ &#45;0.067</text>\r\n",
       "<text text-anchor=\"start\" x=\"356.5\" y=\"-124.8\" font-family=\"Helvetica,sans-Serif\" font-size=\"14.00\">gini = 0.489</text>\r\n",
       "<text text-anchor=\"start\" x=\"338\" y=\"-109.8\" font-family=\"Helvetica,sans-Serif\" font-size=\"14.00\">samples = 37179</text>\r\n",
       "<text text-anchor=\"start\" x=\"320.5\" y=\"-94.8\" font-family=\"Helvetica,sans-Serif\" font-size=\"14.00\">value = [15791, 21388]</text>\r\n",
       "<text text-anchor=\"start\" x=\"360.5\" y=\"-79.8\" font-family=\"Helvetica,sans-Serif\" font-size=\"14.00\">class = Up</text>\r\n",
       "</g>\r\n",
       "<!-- 16&#45;&gt;17 -->\r\n",
       "<g id=\"edge7\" class=\"edge\"><title>16&#45;&gt;17</title>\r\n",
       "<path fill=\"none\" stroke=\"black\" d=\"M394,-190.907C394,-182.649 394,-173.864 394,-165.302\"/>\r\n",
       "<polygon fill=\"black\" stroke=\"black\" points=\"397.5,-165.021 394,-155.021 390.5,-165.021 397.5,-165.021\"/>\r\n",
       "</g>\r\n",
       "<!-- 28 -->\r\n",
       "<g id=\"node11\" class=\"node\"><title>28</title>\r\n",
       "<path fill=\"#dbedfa\" stroke=\"black\" d=\"M628,-155C628,-155 506,-155 506,-155 500,-155 494,-149 494,-143 494,-143 494,-84 494,-84 494,-78 500,-72 506,-72 506,-72 628,-72 628,-72 634,-72 640,-78 640,-84 640,-84 640,-143 640,-143 640,-149 634,-155 628,-155\"/>\r\n",
       "<text text-anchor=\"start\" x=\"532.5\" y=\"-139.8\" font-family=\"Helvetica,sans-Serif\" font-size=\"14.00\">t&#45;2 ≤ 0.107</text>\r\n",
       "<text text-anchor=\"start\" x=\"529.5\" y=\"-124.8\" font-family=\"Helvetica,sans-Serif\" font-size=\"14.00\">gini = 0.495</text>\r\n",
       "<text text-anchor=\"start\" x=\"511\" y=\"-109.8\" font-family=\"Helvetica,sans-Serif\" font-size=\"14.00\">samples = 11333</text>\r\n",
       "<text text-anchor=\"start\" x=\"502\" y=\"-94.8\" font-family=\"Helvetica,sans-Serif\" font-size=\"14.00\">value = [5094, 6239]</text>\r\n",
       "<text text-anchor=\"start\" x=\"533.5\" y=\"-79.8\" font-family=\"Helvetica,sans-Serif\" font-size=\"14.00\">class = Up</text>\r\n",
       "</g>\r\n",
       "<!-- 16&#45;&gt;28 -->\r\n",
       "<g id=\"edge10\" class=\"edge\"><title>16&#45;&gt;28</title>\r\n",
       "<path fill=\"none\" stroke=\"black\" d=\"M454.021,-190.907C468.38,-181.197 483.815,-170.758 498.523,-160.811\"/>\r\n",
       "<polygon fill=\"black\" stroke=\"black\" points=\"500.762,-163.522 507.085,-155.021 496.84,-157.724 500.762,-163.522\"/>\r\n",
       "</g>\r\n",
       "<!-- 18 -->\r\n",
       "<g id=\"node9\" class=\"node\"><title>18</title>\r\n",
       "<path fill=\"#c0c0c0\" stroke=\"black\" d=\"M369,-36C369,-36 339,-36 339,-36 333,-36 327,-30 327,-24 327,-24 327,-12 327,-12 327,-6 333,-0 339,-0 339,-0 369,-0 369,-0 375,-0 381,-6 381,-12 381,-12 381,-24 381,-24 381,-30 375,-36 369,-36\"/>\r\n",
       "<text text-anchor=\"middle\" x=\"354\" y=\"-14.3\" font-family=\"Helvetica,sans-Serif\" font-size=\"14.00\">(...)</text>\r\n",
       "</g>\r\n",
       "<!-- 17&#45;&gt;18 -->\r\n",
       "<g id=\"edge8\" class=\"edge\"><title>17&#45;&gt;18</title>\r\n",
       "<path fill=\"none\" stroke=\"black\" d=\"M376.572,-71.7615C372.8,-62.945 368.904,-53.8384 365.433,-45.7242\"/>\r\n",
       "<polygon fill=\"black\" stroke=\"black\" points=\"368.597,-44.2224 361.446,-36.4051 362.161,-46.9758 368.597,-44.2224\"/>\r\n",
       "</g>\r\n",
       "<!-- 23 -->\r\n",
       "<g id=\"node10\" class=\"node\"><title>23</title>\r\n",
       "<path fill=\"#c0c0c0\" stroke=\"black\" d=\"M441,-36C441,-36 411,-36 411,-36 405,-36 399,-30 399,-24 399,-24 399,-12 399,-12 399,-6 405,-0 411,-0 411,-0 441,-0 441,-0 447,-0 453,-6 453,-12 453,-12 453,-24 453,-24 453,-30 447,-36 441,-36\"/>\r\n",
       "<text text-anchor=\"middle\" x=\"426\" y=\"-14.3\" font-family=\"Helvetica,sans-Serif\" font-size=\"14.00\">(...)</text>\r\n",
       "</g>\r\n",
       "<!-- 17&#45;&gt;23 -->\r\n",
       "<g id=\"edge9\" class=\"edge\"><title>17&#45;&gt;23</title>\r\n",
       "<path fill=\"none\" stroke=\"black\" d=\"M407.943,-71.7615C410.927,-63.0419 414.008,-54.0385 416.762,-45.9921\"/>\r\n",
       "<polygon fill=\"black\" stroke=\"black\" points=\"420.116,-46.9997 420.043,-36.4051 413.494,-44.733 420.116,-46.9997\"/>\r\n",
       "</g>\r\n",
       "<!-- 29 -->\r\n",
       "<g id=\"node12\" class=\"node\"><title>29</title>\r\n",
       "<path fill=\"#c0c0c0\" stroke=\"black\" d=\"M546,-36C546,-36 516,-36 516,-36 510,-36 504,-30 504,-24 504,-24 504,-12 504,-12 504,-6 510,-0 516,-0 516,-0 546,-0 546,-0 552,-0 558,-6 558,-12 558,-12 558,-24 558,-24 558,-30 552,-36 546,-36\"/>\r\n",
       "<text text-anchor=\"middle\" x=\"531\" y=\"-14.3\" font-family=\"Helvetica,sans-Serif\" font-size=\"14.00\">(...)</text>\r\n",
       "</g>\r\n",
       "<!-- 28&#45;&gt;29 -->\r\n",
       "<g id=\"edge11\" class=\"edge\"><title>28&#45;&gt;29</title>\r\n",
       "<path fill=\"none\" stroke=\"black\" d=\"M551.315,-71.7615C547.957,-63.0419 544.491,-54.0385 541.393,-45.9921\"/>\r\n",
       "<polygon fill=\"black\" stroke=\"black\" points=\"544.561,-44.4797 537.701,-36.4051 538.028,-46.9949 544.561,-44.4797\"/>\r\n",
       "</g>\r\n",
       "<!-- 36 -->\r\n",
       "<g id=\"node13\" class=\"node\"><title>36</title>\r\n",
       "<path fill=\"#c0c0c0\" stroke=\"black\" d=\"M618,-36C618,-36 588,-36 588,-36 582,-36 576,-30 576,-24 576,-24 576,-12 576,-12 576,-6 582,-0 588,-0 588,-0 618,-0 618,-0 624,-0 630,-6 630,-12 630,-12 630,-24 630,-24 630,-30 624,-36 618,-36\"/>\r\n",
       "<text text-anchor=\"middle\" x=\"603\" y=\"-14.3\" font-family=\"Helvetica,sans-Serif\" font-size=\"14.00\">(...)</text>\r\n",
       "</g>\r\n",
       "<!-- 28&#45;&gt;36 -->\r\n",
       "<g id=\"edge12\" class=\"edge\"><title>28&#45;&gt;36</title>\r\n",
       "<path fill=\"none\" stroke=\"black\" d=\"M582.685,-71.7615C586.043,-63.0419 589.509,-54.0385 592.607,-45.9921\"/>\r\n",
       "<polygon fill=\"black\" stroke=\"black\" points=\"595.972,-46.9949 596.299,-36.4051 589.439,-44.4797 595.972,-46.9949\"/>\r\n",
       "</g>\r\n",
       "</g>\r\n",
       "</svg>\r\n"
      ],
      "text/plain": [
       "<graphviz.files.Source at 0x20172e1a370>"
      ]
     },
     "execution_count": 68,
     "metadata": {},
     "output_type": "execute_result"
    }
   ],
   "source": [
    "out_file = results_path / 'clf_tree_t2.dot'\n",
    "dot_data = export_graphviz(clf_tree_t2,\n",
    "                           out_file=out_file.as_posix(),\n",
    "                           feature_names=X2.columns,\n",
    "                           class_names=['Down', 'Up'],\n",
    "                           max_depth=2,\n",
    "                           filled=True,\n",
    "                           rounded=True,\n",
    "                           special_characters=True)\n",
    "if out_file is not None:\n",
    "    dot_data = Path(out_file).read_text()\n",
    "\n",
    "graphviz.Source(dot_data)"
   ]
  },
  {
   "cell_type": "markdown",
   "metadata": {},
   "source": [
    "### Compare with Logistic Regression"
   ]
  },
  {
   "cell_type": "markdown",
   "metadata": {},
   "source": [
    "#### Statsmodels"
   ]
  },
  {
   "cell_type": "code",
   "execution_count": 69,
   "metadata": {
    "ExecuteTime": {
     "end_time": "2021-02-23T20:45:42.001877Z",
     "start_time": "2021-02-23T20:45:41.975201Z"
    }
   },
   "outputs": [],
   "source": [
    "log_reg_sm = sm.Logit(endog=y_binary, exog=sm.add_constant(X2))"
   ]
  },
  {
   "cell_type": "code",
   "execution_count": 70,
   "metadata": {
    "ExecuteTime": {
     "end_time": "2021-02-23T20:45:45.363767Z",
     "start_time": "2021-02-23T20:45:42.003352Z"
    },
    "scrolled": false
   },
   "outputs": [
    {
     "name": "stdout",
     "output_type": "stream",
     "text": [
      "14.8 ms ± 272 µs per loop (mean ± std. dev. of 7 runs, 100 loops each)\n"
     ]
    }
   ],
   "source": [
    "%%timeit\n",
    "log_reg_sm.fit(disp=False)"
   ]
  },
  {
   "cell_type": "code",
   "execution_count": 71,
   "metadata": {
    "ExecuteTime": {
     "end_time": "2021-02-23T20:45:45.469990Z",
     "start_time": "2021-02-23T20:45:45.368204Z"
    }
   },
   "outputs": [
    {
     "name": "stdout",
     "output_type": "stream",
     "text": [
      "Optimization terminated successfully.\n",
      "         Current function value: 0.685280\n",
      "         Iterations 4\n"
     ]
    }
   ],
   "source": [
    "log_result = log_reg_sm.fit()"
   ]
  },
  {
   "cell_type": "code",
   "execution_count": 72,
   "metadata": {
    "ExecuteTime": {
     "end_time": "2021-02-23T20:45:45.799553Z",
     "start_time": "2021-02-23T20:45:45.475550Z"
    }
   },
   "outputs": [
    {
     "name": "stdout",
     "output_type": "stream",
     "text": [
      "                           Logit Regression Results                           \n",
      "==============================================================================\n",
      "Dep. Variable:                      y   No. Observations:                56186\n",
      "Model:                          Logit   Df Residuals:                    56183\n",
      "Method:                           MLE   Df Model:                            2\n",
      "Date:                Thu, 04 Mar 2021   Pseudo R-squ.:               0.0002871\n",
      "Time:                        14:03:16   Log-Likelihood:                -38503.\n",
      "converged:                       True   LL-Null:                       -38514.\n",
      "Covariance Type:            nonrobust   LLR p-value:                 1.578e-05\n",
      "==============================================================================\n",
      "                 coef    std err          z      P>|z|      [0.025      0.975]\n",
      "------------------------------------------------------------------------------\n",
      "const          0.2447      0.009     28.513      0.000       0.228       0.262\n",
      "t-1            0.4548      0.097      4.698      0.000       0.265       0.644\n",
      "t-2            0.0018      0.097      0.019      0.985      -0.188       0.191\n",
      "==============================================================================\n"
     ]
    }
   ],
   "source": [
    "print(log_result.summary())"
   ]
  },
  {
   "cell_type": "markdown",
   "metadata": {},
   "source": [
    "#### sklearn"
   ]
  },
  {
   "cell_type": "code",
   "execution_count": 73,
   "metadata": {
    "ExecuteTime": {
     "end_time": "2021-02-23T20:45:45.805041Z",
     "start_time": "2021-02-23T20:45:45.801581Z"
    }
   },
   "outputs": [],
   "source": [
    "log_reg_sk = LogisticRegression()"
   ]
  },
  {
   "cell_type": "code",
   "execution_count": 74,
   "metadata": {
    "ExecuteTime": {
     "end_time": "2021-02-23T20:45:47.196183Z",
     "start_time": "2021-02-23T20:45:45.807822Z"
    }
   },
   "outputs": [
    {
     "name": "stdout",
     "output_type": "stream",
     "text": [
      "48.9 ms ± 3.91 ms per loop (mean ± std. dev. of 7 runs, 10 loops each)\n"
     ]
    }
   ],
   "source": [
    "%%timeit\n",
    "log_reg_sk.fit(X=X2, y=y_binary)"
   ]
  },
  {
   "cell_type": "code",
   "execution_count": 75,
   "metadata": {
    "ExecuteTime": {
     "end_time": "2021-02-23T20:45:47.353868Z",
     "start_time": "2021-02-23T20:45:47.201157Z"
    }
   },
   "outputs": [
    {
     "data": {
      "text/plain": [
       "LogisticRegression()"
      ]
     },
     "execution_count": 75,
     "metadata": {},
     "output_type": "execute_result"
    }
   ],
   "source": [
    "log_reg_sk.fit(X=X2, y=y_binary)"
   ]
  },
  {
   "cell_type": "code",
   "execution_count": 76,
   "metadata": {
    "ExecuteTime": {
     "end_time": "2021-02-23T20:45:47.363655Z",
     "start_time": "2021-02-23T20:45:47.357532Z"
    }
   },
   "outputs": [
    {
     "data": {
      "text/plain": [
       "array([[0.45052983, 0.0019411 ]])"
      ]
     },
     "execution_count": 76,
     "metadata": {},
     "output_type": "execute_result"
    }
   ],
   "source": [
    "log_reg_sk.coef_"
   ]
  },
  {
   "cell_type": "markdown",
   "metadata": {},
   "source": [
    "### Decision Surfaces: Classifier Tree vs. Logistic Regression "
   ]
  },
  {
   "cell_type": "code",
   "execution_count": 77,
   "metadata": {
    "ExecuteTime": {
     "end_time": "2021-02-23T20:45:47.837021Z",
     "start_time": "2021-02-23T20:45:47.366525Z"
    }
   },
   "outputs": [
    {
     "data": {
      "image/png": "[encoded data removed]",
      "text/plain": [
       "<Figure size 864x360 with 4 Axes>"
      ]
     },
     "metadata": {},
     "output_type": "display_data"
    }
   ],
   "source": [
    "fig, axes = plt.subplots(ncols=2, figsize=(12,5))\n",
    "\n",
    "# Linear Regression\n",
    "ret1 = log_reg_sk.predict_proba(X_data)[:, 1].reshape(t1.shape)\n",
    "surface1 = axes[0].contourf(t1, t2, ret1, cmap='Blues')\n",
    "plt.colorbar(mappable=surface1, ax=axes[0])\n",
    "\n",
    "# Regression Tree\n",
    "ret2 = clf_tree_t2.predict_proba(X_data)[:, 1].reshape(t1.shape)\n",
    "surface2 = axes[1].contourf(t1, t2, ret2, cmap='Blues')\n",
    "plt.colorbar(mappable=surface2, ax=axes[1])\n",
    "\n",
    "# Format plots\n",
    "titles = ['Logistic Regression', 'Classification Tree']\n",
    "for i, ax in enumerate(axes):\n",
    "    ax.set_xlabel('t-1')\n",
    "    ax.set_ylabel('t-2')\n",
    "    ax.set_title(titles[i])\n",
    "\n",
    "fig.suptitle('Decision Surfaces', fontsize=20)\n",
    "sns.despine()\n",
    "fig.tight_layout()\n",
    "fig.subplots_adjust(top=.9);"
   ]
  },
  {
   "cell_type": "markdown",
   "metadata": {},
   "source": [
    "## Regression Tree with all Features"
   ]
  },
  {
   "cell_type": "markdown",
   "metadata": {},
   "source": [
    "We now train, visualize, and evaluate a regression tree with up to 5 consecutive splits using 80% of the samples for training to predict the remaining 20%.\n",
    "\n",
    "We are taking a shortcut here to simplify the illustration and use the built-in train_test_split, which does not protect against lookahead bias, as our custom iterator. The tree configuration implies up to $2^5=32$ leaf nodes that, on average in the balanced case, would contain over 4,300 of the training samples."
   ]
  },
  {
   "cell_type": "markdown",
   "metadata": {},
   "source": [
    "### Train-Test Split"
   ]
  },
  {
   "cell_type": "code",
   "execution_count": 78,
   "metadata": {
    "ExecuteTime": {
     "end_time": "2021-02-23T20:45:47.870099Z",
     "start_time": "2021-02-23T20:45:47.838177Z"
    }
   },
   "outputs": [],
   "source": [
    "X = pd.get_dummies(data.drop('target', axis=1))\n",
    "y = data.target"
   ]
  },
  {
   "cell_type": "code",
   "execution_count": 79,
   "metadata": {
    "ExecuteTime": {
     "end_time": "2021-02-23T20:45:47.890335Z",
     "start_time": "2021-02-23T20:45:47.871360Z"
    }
   },
   "outputs": [],
   "source": [
    "X_train, X_test, y_train, y_test = train_test_split(X, y, test_size=0.2, random_state=42)"
   ]
  },
  {
   "cell_type": "markdown",
   "metadata": {},
   "source": [
    "### Configure Tree"
   ]
  },
  {
   "cell_type": "markdown",
   "metadata": {},
   "source": [
    "The output after training the model displays all the DecisionTreeClassifier parameters that we will address in more detail in the next section when we discuss parameter-tuning. "
   ]
  },
  {
   "cell_type": "code",
   "execution_count": 80,
   "metadata": {
    "ExecuteTime": {
     "end_time": "2021-02-23T20:46:29.219164Z",
     "start_time": "2021-02-23T20:46:29.215419Z"
    }
   },
   "outputs": [],
   "source": [
    "regression_tree = DecisionTreeRegressor(criterion='mse',\n",
    "                                        splitter='best',\n",
    "                                        max_depth=5,\n",
    "                                        min_samples_split=2,\n",
    "                                        min_samples_leaf=1,\n",
    "                                        min_weight_fraction_leaf=0.0,\n",
    "                                        max_features=None,\n",
    "                                        random_state=42,\n",
    "                                        max_leaf_nodes=None,\n",
    "                                        min_impurity_decrease=0.0,\n",
    "                                        min_impurity_split=None)"
   ]
  },
  {
   "cell_type": "markdown",
   "metadata": {},
   "source": [
    "### Train Model"
   ]
  },
  {
   "cell_type": "code",
   "execution_count": 81,
   "metadata": {
    "ExecuteTime": {
     "end_time": "2021-02-23T20:46:33.824365Z",
     "start_time": "2021-02-23T20:46:33.118454Z"
    },
    "scrolled": false
   },
   "outputs": [
    {
     "data": {
      "text/plain": [
       "DecisionTreeRegressor(max_depth=5, random_state=42)"
      ]
     },
     "execution_count": 81,
     "metadata": {},
     "output_type": "execute_result"
    }
   ],
   "source": [
    "regression_tree.fit(X=X_train, y=y_train)"
   ]
  },
  {
   "cell_type": "markdown",
   "metadata": {},
   "source": [
    "### Visualize Tree"
   ]
  },
  {
   "cell_type": "markdown",
   "metadata": {},
   "source": [
    "The result shows that the model uses a variety of different features and indicates the split rules for both continuous and categorical (dummy) variables. "
   ]
  },
  {
   "cell_type": "code",
   "execution_count": 82,
   "metadata": {
    "ExecuteTime": {
     "end_time": "2021-02-23T20:46:33.873954Z",
     "start_time": "2021-02-23T20:46:33.826031Z"
    }
   },
   "outputs": [
    {
     "data": {
      "image/svg+xml": [
       "<?xml version=\"1.0\" encoding=\"UTF-8\" standalone=\"no\"?>\r\n",
       "<!DOCTYPE svg PUBLIC \"-//W3C//DTD SVG 1.1//EN\"\r\n",
       " \"http://www.w3.org/Graphics/SVG/1.1/DTD/svg11.dtd\">\r\n",
       "<!-- Generated by graphviz version 2.38.0 (20140413.2041)\r\n",
       " -->\r\n",
       "<!-- Title: Tree Pages: 1 -->\r\n",
       "<svg width=\"1186pt\" height=\"460pt\"\r\n",
       " viewBox=\"0.00 0.00 1186.00 460.00\" xmlns=\"http://www.w3.org/2000/svg\" xmlns:xlink=\"http://www.w3.org/1999/xlink\">\r\n",
       "<g id=\"graph0\" class=\"graph\" transform=\"scale(1 1) rotate(0) translate(4 456)\">\r\n",
       "<title>Tree</title>\r\n",
       "<polygon fill=\"white\" stroke=\"none\" points=\"-4,4 -4,-456 1182,-456 1182,4 -4,4\"/>\r\n",
       "<!-- 0 -->\r\n",
       "<g id=\"node1\" class=\"node\"><title>0</title>\r\n",
       "<path fill=\"#f1bb94\" stroke=\"black\" d=\"M626,-452C626,-452 522,-452 522,-452 516,-452 510,-446 510,-440 510,-440 510,-396 510,-396 510,-390 516,-384 522,-384 522,-384 626,-384 626,-384 632,-384 638,-390 638,-396 638,-396 638,-440 638,-440 638,-446 632,-452 626,-452\"/>\r\n",
       "<text text-anchor=\"start\" x=\"530\" y=\"-436.8\" font-family=\"Helvetica,sans-Serif\" font-size=\"14.00\">year ≤ 2008.5</text>\r\n",
       "<text text-anchor=\"start\" x=\"533.5\" y=\"-421.8\" font-family=\"Helvetica,sans-Serif\" font-size=\"14.00\">mse = 0.008</text>\r\n",
       "<text text-anchor=\"start\" x=\"518\" y=\"-406.8\" font-family=\"Helvetica,sans-Serif\" font-size=\"14.00\">samples = 45404</text>\r\n",
       "<text text-anchor=\"start\" x=\"531\" y=\"-391.8\" font-family=\"Helvetica,sans-Serif\" font-size=\"14.00\">value = 0.009</text>\r\n",
       "</g>\r\n",
       "<!-- 1 -->\r\n",
       "<g id=\"node2\" class=\"node\"><title>1</title>\r\n",
       "<path fill=\"#f2bf9b\" stroke=\"black\" d=\"M520,-348C520,-348 416,-348 416,-348 410,-348 404,-342 404,-336 404,-336 404,-292 404,-292 404,-286 410,-280 416,-280 416,-280 520,-280 520,-280 526,-280 532,-286 532,-292 532,-292 532,-336 532,-336 532,-342 526,-348 520,-348\"/>\r\n",
       "<text text-anchor=\"start\" x=\"424\" y=\"-332.8\" font-family=\"Helvetica,sans-Serif\" font-size=\"14.00\">year ≤ 2007.5</text>\r\n",
       "<text text-anchor=\"start\" x=\"427.5\" y=\"-317.8\" font-family=\"Helvetica,sans-Serif\" font-size=\"14.00\">mse = 0.009</text>\r\n",
       "<text text-anchor=\"start\" x=\"412\" y=\"-302.8\" font-family=\"Helvetica,sans-Serif\" font-size=\"14.00\">samples = 10400</text>\r\n",
       "<text text-anchor=\"start\" x=\"422.5\" y=\"-287.8\" font-family=\"Helvetica,sans-Serif\" font-size=\"14.00\">value = &#45;0.009</text>\r\n",
       "</g>\r\n",
       "<!-- 0&#45;&gt;1 -->\r\n",
       "<g id=\"edge1\" class=\"edge\"><title>0&#45;&gt;1</title>\r\n",
       "<path fill=\"none\" stroke=\"black\" d=\"M539.585,-383.884C530.143,-374.798 519.8,-364.845 509.985,-355.4\"/>\r\n",
       "<polygon fill=\"black\" stroke=\"black\" points=\"512.238,-352.711 502.605,-348.299 507.384,-357.755 512.238,-352.711\"/>\r\n",
       "<text text-anchor=\"middle\" x=\"503.086\" y=\"-369.595\" font-family=\"Helvetica,sans-Serif\" font-size=\"14.00\">True</text>\r\n",
       "</g>\r\n",
       "<!-- 32 -->\r\n",
       "<g id=\"node17\" class=\"node\"><title>32</title>\r\n",
       "<path fill=\"#f1ba92\" stroke=\"black\" d=\"M732,-348C732,-348 628,-348 628,-348 622,-348 616,-342 616,-336 616,-336 616,-292 616,-292 616,-286 622,-280 628,-280 628,-280 732,-280 732,-280 738,-280 744,-286 744,-292 744,-292 744,-336 744,-336 744,-342 738,-348 732,-348\"/>\r\n",
       "<text text-anchor=\"start\" x=\"642.5\" y=\"-332.8\" font-family=\"Helvetica,sans-Serif\" font-size=\"14.00\">month ≤ 3.5</text>\r\n",
       "<text text-anchor=\"start\" x=\"639.5\" y=\"-317.8\" font-family=\"Helvetica,sans-Serif\" font-size=\"14.00\">mse = 0.007</text>\r\n",
       "<text text-anchor=\"start\" x=\"624\" y=\"-302.8\" font-family=\"Helvetica,sans-Serif\" font-size=\"14.00\">samples = 35004</text>\r\n",
       "<text text-anchor=\"start\" x=\"637\" y=\"-287.8\" font-family=\"Helvetica,sans-Serif\" font-size=\"14.00\">value = 0.014</text>\r\n",
       "</g>\r\n",
       "<!-- 0&#45;&gt;32 -->\r\n",
       "<g id=\"edge16\" class=\"edge\"><title>0&#45;&gt;32</title>\r\n",
       "<path fill=\"none\" stroke=\"black\" d=\"M608.415,-383.884C617.857,-374.798 628.2,-364.845 638.015,-355.4\"/>\r\n",
       "<polygon fill=\"black\" stroke=\"black\" points=\"640.616,-357.755 645.395,-348.299 635.762,-352.711 640.616,-357.755\"/>\r\n",
       "<text text-anchor=\"middle\" x=\"644.914\" y=\"-369.595\" font-family=\"Helvetica,sans-Serif\" font-size=\"14.00\">False</text>\r\n",
       "</g>\r\n",
       "<!-- 2 -->\r\n",
       "<g id=\"node3\" class=\"node\"><title>2</title>\r\n",
       "<path fill=\"#f1bc96\" stroke=\"black\" d=\"M281.5,-244C281.5,-244 186.5,-244 186.5,-244 180.5,-244 174.5,-238 174.5,-232 174.5,-232 174.5,-188 174.5,-188 174.5,-182 180.5,-176 186.5,-176 186.5,-176 281.5,-176 281.5,-176 287.5,-176 293.5,-182 293.5,-188 293.5,-188 293.5,-232 293.5,-232 293.5,-238 287.5,-244 281.5,-244\"/>\r\n",
       "<text text-anchor=\"start\" x=\"197.5\" y=\"-228.8\" font-family=\"Helvetica,sans-Serif\" font-size=\"14.00\">atr ≤ &#45;0.477</text>\r\n",
       "<text text-anchor=\"start\" x=\"193.5\" y=\"-213.8\" font-family=\"Helvetica,sans-Serif\" font-size=\"14.00\">mse = 0.005</text>\r\n",
       "<text text-anchor=\"start\" x=\"182.5\" y=\"-198.8\" font-family=\"Helvetica,sans-Serif\" font-size=\"14.00\">samples = 6917</text>\r\n",
       "<text text-anchor=\"start\" x=\"191\" y=\"-183.8\" font-family=\"Helvetica,sans-Serif\" font-size=\"14.00\">value = 0.003</text>\r\n",
       "</g>\r\n",
       "<!-- 1&#45;&gt;2 -->\r\n",
       "<g id=\"edge2\" class=\"edge\"><title>1&#45;&gt;2</title>\r\n",
       "<path fill=\"none\" stroke=\"black\" d=\"M403.749,-284.993C372.47,-271.359 334.831,-254.952 302.951,-241.056\"/>\r\n",
       "<polygon fill=\"black\" stroke=\"black\" points=\"304.256,-237.806 293.69,-237.019 301.459,-244.223 304.256,-237.806\"/>\r\n",
       "</g>\r\n",
       "<!-- 17 -->\r\n",
       "<g id=\"node10\" class=\"node\"><title>17</title>\r\n",
       "<path fill=\"#f3c6a5\" stroke=\"black\" d=\"M515.5,-244C515.5,-244 420.5,-244 420.5,-244 414.5,-244 408.5,-238 408.5,-232 408.5,-232 408.5,-188 408.5,-188 408.5,-182 414.5,-176 420.5,-176 420.5,-176 515.5,-176 515.5,-176 521.5,-176 527.5,-182 527.5,-188 527.5,-188 527.5,-232 527.5,-232 527.5,-238 521.5,-244 515.5,-244\"/>\r\n",
       "<text text-anchor=\"start\" x=\"430.5\" y=\"-228.8\" font-family=\"Helvetica,sans-Serif\" font-size=\"14.00\">month ≤ 7.5</text>\r\n",
       "<text text-anchor=\"start\" x=\"427.5\" y=\"-213.8\" font-family=\"Helvetica,sans-Serif\" font-size=\"14.00\">mse = 0.015</text>\r\n",
       "<text text-anchor=\"start\" x=\"416.5\" y=\"-198.8\" font-family=\"Helvetica,sans-Serif\" font-size=\"14.00\">samples = 3483</text>\r\n",
       "<text text-anchor=\"start\" x=\"422.5\" y=\"-183.8\" font-family=\"Helvetica,sans-Serif\" font-size=\"14.00\">value = &#45;0.035</text>\r\n",
       "</g>\r\n",
       "<!-- 1&#45;&gt;17 -->\r\n",
       "<g id=\"edge9\" class=\"edge\"><title>1&#45;&gt;17</title>\r\n",
       "<path fill=\"none\" stroke=\"black\" d=\"M468,-279.884C468,-271.778 468,-262.982 468,-254.472\"/>\r\n",
       "<polygon fill=\"black\" stroke=\"black\" points=\"471.5,-254.299 468,-244.299 464.5,-254.299 471.5,-254.299\"/>\r\n",
       "</g>\r\n",
       "<!-- 3 -->\r\n",
       "<g id=\"node4\" class=\"node\"><title>3</title>\r\n",
       "<path fill=\"#f1b991\" stroke=\"black\" d=\"M144.5,-140C144.5,-140 49.5,-140 49.5,-140 43.5,-140 37.5,-134 37.5,-128 37.5,-128 37.5,-84 37.5,-84 37.5,-78 43.5,-72 49.5,-72 49.5,-72 144.5,-72 144.5,-72 150.5,-72 156.5,-78 156.5,-84 156.5,-84 156.5,-128 156.5,-128 156.5,-134 150.5,-140 144.5,-140\"/>\r\n",
       "<text text-anchor=\"start\" x=\"59.5\" y=\"-124.8\" font-family=\"Helvetica,sans-Serif\" font-size=\"14.00\">month ≤ 6.5</text>\r\n",
       "<text text-anchor=\"start\" x=\"56.5\" y=\"-109.8\" font-family=\"Helvetica,sans-Serif\" font-size=\"14.00\">mse = 0.004</text>\r\n",
       "<text text-anchor=\"start\" x=\"45.5\" y=\"-94.8\" font-family=\"Helvetica,sans-Serif\" font-size=\"14.00\">samples = 2036</text>\r\n",
       "<text text-anchor=\"start\" x=\"54\" y=\"-79.8\" font-family=\"Helvetica,sans-Serif\" font-size=\"14.00\">value = 0.016</text>\r\n",
       "</g>\r\n",
       "<!-- 2&#45;&gt;3 -->\r\n",
       "<g id=\"edge3\" class=\"edge\"><title>2&#45;&gt;3</title>\r\n",
       "<path fill=\"none\" stroke=\"black\" d=\"M189.52,-175.884C176.838,-166.442 162.899,-156.064 149.774,-146.292\"/>\r\n",
       "<polygon fill=\"black\" stroke=\"black\" points=\"151.837,-143.464 141.726,-140.299 147.656,-149.079 151.837,-143.464\"/>\r\n",
       "</g>\r\n",
       "<!-- 10 -->\r\n",
       "<g id=\"node7\" class=\"node\"><title>10</title>\r\n",
       "<path fill=\"#f1be98\" stroke=\"black\" d=\"M281.5,-140C281.5,-140 186.5,-140 186.5,-140 180.5,-140 174.5,-134 174.5,-128 174.5,-128 174.5,-84 174.5,-84 174.5,-78 180.5,-72 186.5,-72 186.5,-72 281.5,-72 281.5,-72 287.5,-72 293.5,-78 293.5,-84 293.5,-84 293.5,-128 293.5,-128 293.5,-134 287.5,-140 281.5,-140\"/>\r\n",
       "<text text-anchor=\"start\" x=\"196.5\" y=\"-124.8\" font-family=\"Helvetica,sans-Serif\" font-size=\"14.00\">month ≤ 9.5</text>\r\n",
       "<text text-anchor=\"start\" x=\"193.5\" y=\"-109.8\" font-family=\"Helvetica,sans-Serif\" font-size=\"14.00\">mse = 0.005</text>\r\n",
       "<text text-anchor=\"start\" x=\"182.5\" y=\"-94.8\" font-family=\"Helvetica,sans-Serif\" font-size=\"14.00\">samples = 4881</text>\r\n",
       "<text text-anchor=\"start\" x=\"188.5\" y=\"-79.8\" font-family=\"Helvetica,sans-Serif\" font-size=\"14.00\">value = &#45;0.002</text>\r\n",
       "</g>\r\n",
       "<!-- 2&#45;&gt;10 -->\r\n",
       "<g id=\"edge6\" class=\"edge\"><title>2&#45;&gt;10</title>\r\n",
       "<path fill=\"none\" stroke=\"black\" d=\"M234,-175.884C234,-167.778 234,-158.982 234,-150.472\"/>\r\n",
       "<polygon fill=\"black\" stroke=\"black\" points=\"237.5,-150.299 234,-140.299 230.5,-150.299 237.5,-150.299\"/>\r\n",
       "</g>\r\n",
       "<!-- 4 -->\r\n",
       "<g id=\"node5\" class=\"node\"><title>4</title>\r\n",
       "<path fill=\"#c0c0c0\" stroke=\"black\" d=\"M42,-36C42,-36 12,-36 12,-36 6,-36 0,-30 0,-24 0,-24 0,-12 0,-12 0,-6 6,-0 12,-0 12,-0 42,-0 42,-0 48,-0 54,-6 54,-12 54,-12 54,-24 54,-24 54,-30 48,-36 42,-36\"/>\r\n",
       "<text text-anchor=\"middle\" x=\"27\" y=\"-14.3\" font-family=\"Helvetica,sans-Serif\" font-size=\"14.00\">(...)</text>\r\n",
       "</g>\r\n",
       "<!-- 3&#45;&gt;4 -->\r\n",
       "<g id=\"edge4\" class=\"edge\"><title>3&#45;&gt;4</title>\r\n",
       "<path fill=\"none\" stroke=\"black\" d=\"M70.1364,-71.9961C62.6566,-62.8067 54.652,-52.9725 47.5942,-44.3014\"/>\r\n",
       "<polygon fill=\"black\" stroke=\"black\" points=\"50.1928,-41.9496 41.1655,-36.4034 44.7638,-46.3685 50.1928,-41.9496\"/>\r\n",
       "</g>\r\n",
       "<!-- 7 -->\r\n",
       "<g id=\"node6\" class=\"node\"><title>7</title>\r\n",
       "<path fill=\"#c0c0c0\" stroke=\"black\" d=\"M114,-36C114,-36 84,-36 84,-36 78,-36 72,-30 72,-24 72,-24 72,-12 72,-12 72,-6 78,-0 84,-0 84,-0 114,-0 114,-0 120,-0 126,-6 126,-12 126,-12 126,-24 126,-24 126,-30 120,-36 114,-36\"/>\r\n",
       "<text text-anchor=\"middle\" x=\"99\" y=\"-14.3\" font-family=\"Helvetica,sans-Serif\" font-size=\"14.00\">(...)</text>\r\n",
       "</g>\r\n",
       "<!-- 3&#45;&gt;7 -->\r\n",
       "<g id=\"edge5\" class=\"edge\"><title>3&#45;&gt;7</title>\r\n",
       "<path fill=\"none\" stroke=\"black\" d=\"M97.7675,-71.9961C97.9636,-63.5646 98.1723,-54.5902 98.3612,-46.4696\"/>\r\n",
       "<polygon fill=\"black\" stroke=\"black\" points=\"101.862,-46.4821 98.5953,-36.4034 94.8636,-46.3193 101.862,-46.4821\"/>\r\n",
       "</g>\r\n",
       "<!-- 11 -->\r\n",
       "<g id=\"node8\" class=\"node\"><title>11</title>\r\n",
       "<path fill=\"#c0c0c0\" stroke=\"black\" d=\"M206,-36C206,-36 176,-36 176,-36 170,-36 164,-30 164,-24 164,-24 164,-12 164,-12 164,-6 170,-0 176,-0 176,-0 206,-0 206,-0 212,-0 218,-6 218,-12 218,-12 218,-24 218,-24 218,-30 212,-36 206,-36\"/>\r\n",
       "<text text-anchor=\"middle\" x=\"191\" y=\"-14.3\" font-family=\"Helvetica,sans-Serif\" font-size=\"14.00\">(...)</text>\r\n",
       "</g>\r\n",
       "<!-- 10&#45;&gt;11 -->\r\n",
       "<g id=\"edge7\" class=\"edge\"><title>10&#45;&gt;11</title>\r\n",
       "<path fill=\"none\" stroke=\"black\" d=\"M217.498,-71.9961C213.093,-63.1856 208.391,-53.7825 204.19,-45.38\"/>\r\n",
       "<polygon fill=\"black\" stroke=\"black\" points=\"207.304,-43.7824 199.702,-36.4034 201.043,-46.9129 207.304,-43.7824\"/>\r\n",
       "</g>\r\n",
       "<!-- 14 -->\r\n",
       "<g id=\"node9\" class=\"node\"><title>14</title>\r\n",
       "<path fill=\"#c0c0c0\" stroke=\"black\" d=\"M278,-36C278,-36 248,-36 248,-36 242,-36 236,-30 236,-24 236,-24 236,-12 236,-12 236,-6 242,-0 248,-0 248,-0 278,-0 278,-0 284,-0 290,-6 290,-12 290,-12 290,-24 290,-24 290,-30 284,-36 278,-36\"/>\r\n",
       "<text text-anchor=\"middle\" x=\"263\" y=\"-14.3\" font-family=\"Helvetica,sans-Serif\" font-size=\"14.00\">(...)</text>\r\n",
       "</g>\r\n",
       "<!-- 10&#45;&gt;14 -->\r\n",
       "<g id=\"edge8\" class=\"edge\"><title>10&#45;&gt;14</title>\r\n",
       "<path fill=\"none\" stroke=\"black\" d=\"M245.129,-71.9961C248.036,-63.3751 251.135,-54.1866 253.921,-45.9234\"/>\r\n",
       "<polygon fill=\"black\" stroke=\"black\" points=\"257.253,-46.9975 257.131,-36.4034 250.62,-44.7608 257.253,-46.9975\"/>\r\n",
       "</g>\r\n",
       "<!-- 18 -->\r\n",
       "<g id=\"node11\" class=\"node\"><title>18</title>\r\n",
       "<path fill=\"#f2be98\" stroke=\"black\" d=\"M418.5,-140C418.5,-140 323.5,-140 323.5,-140 317.5,-140 311.5,-134 311.5,-128 311.5,-128 311.5,-84 311.5,-84 311.5,-78 317.5,-72 323.5,-72 323.5,-72 418.5,-72 418.5,-72 424.5,-72 430.5,-78 430.5,-84 430.5,-84 430.5,-128 430.5,-128 430.5,-134 424.5,-140 418.5,-140\"/>\r\n",
       "<text text-anchor=\"start\" x=\"333.5\" y=\"-124.8\" font-family=\"Helvetica,sans-Serif\" font-size=\"14.00\">month ≤ 4.5</text>\r\n",
       "<text text-anchor=\"start\" x=\"334.5\" y=\"-109.8\" font-family=\"Helvetica,sans-Serif\" font-size=\"14.00\">mse = 0.01</text>\r\n",
       "<text text-anchor=\"start\" x=\"319.5\" y=\"-94.8\" font-family=\"Helvetica,sans-Serif\" font-size=\"14.00\">samples = 2031</text>\r\n",
       "<text text-anchor=\"start\" x=\"325.5\" y=\"-79.8\" font-family=\"Helvetica,sans-Serif\" font-size=\"14.00\">value = &#45;0.002</text>\r\n",
       "</g>\r\n",
       "<!-- 17&#45;&gt;18 -->\r\n",
       "<g id=\"edge10\" class=\"edge\"><title>17&#45;&gt;18</title>\r\n",
       "<path fill=\"none\" stroke=\"black\" d=\"M436.507,-175.884C427.951,-166.887 418.588,-157.041 409.684,-147.678\"/>\r\n",
       "<polygon fill=\"black\" stroke=\"black\" points=\"412.095,-145.134 402.667,-140.299 407.022,-149.958 412.095,-145.134\"/>\r\n",
       "</g>\r\n",
       "<!-- 25 -->\r\n",
       "<g id=\"node14\" class=\"node\"><title>25</title>\r\n",
       "<path fill=\"#f6d1b7\" stroke=\"black\" d=\"M555.5,-140C555.5,-140 460.5,-140 460.5,-140 454.5,-140 448.5,-134 448.5,-128 448.5,-128 448.5,-84 448.5,-84 448.5,-78 454.5,-72 460.5,-72 460.5,-72 555.5,-72 555.5,-72 561.5,-72 567.5,-78 567.5,-84 567.5,-84 567.5,-128 567.5,-128 567.5,-134 561.5,-140 555.5,-140\"/>\r\n",
       "<text text-anchor=\"start\" x=\"466.5\" y=\"-124.8\" font-family=\"Helvetica,sans-Serif\" font-size=\"14.00\">month ≤ 10.5</text>\r\n",
       "<text text-anchor=\"start\" x=\"467.5\" y=\"-109.8\" font-family=\"Helvetica,sans-Serif\" font-size=\"14.00\">mse = 0.018</text>\r\n",
       "<text text-anchor=\"start\" x=\"456.5\" y=\"-94.8\" font-family=\"Helvetica,sans-Serif\" font-size=\"14.00\">samples = 1452</text>\r\n",
       "<text text-anchor=\"start\" x=\"467\" y=\"-79.8\" font-family=\"Helvetica,sans-Serif\" font-size=\"14.00\">value = &#45;0.08</text>\r\n",
       "</g>\r\n",
       "<!-- 17&#45;&gt;25 -->\r\n",
       "<g id=\"edge13\" class=\"edge\"><title>17&#45;&gt;25</title>\r\n",
       "<path fill=\"none\" stroke=\"black\" d=\"M480.987,-175.884C484.27,-167.511 487.843,-158.401 491.282,-149.631\"/>\r\n",
       "<polygon fill=\"black\" stroke=\"black\" points=\"494.549,-150.887 494.941,-140.299 488.032,-148.331 494.549,-150.887\"/>\r\n",
       "</g>\r\n",
       "<!-- 19 -->\r\n",
       "<g id=\"node12\" class=\"node\"><title>19</title>\r\n",
       "<path fill=\"#c0c0c0\" stroke=\"black\" d=\"M360,-36C360,-36 330,-36 330,-36 324,-36 318,-30 318,-24 318,-24 318,-12 318,-12 318,-6 324,-0 330,-0 330,-0 360,-0 360,-0 366,-0 372,-6 372,-12 372,-12 372,-24 372,-24 372,-30 366,-36 360,-36\"/>\r\n",
       "<text text-anchor=\"middle\" x=\"345\" y=\"-14.3\" font-family=\"Helvetica,sans-Serif\" font-size=\"14.00\">(...)</text>\r\n",
       "</g>\r\n",
       "<!-- 18&#45;&gt;19 -->\r\n",
       "<g id=\"edge11\" class=\"edge\"><title>18&#45;&gt;19</title>\r\n",
       "<path fill=\"none\" stroke=\"black\" d=\"M361.022,-71.9961C358.444,-63.4699 355.699,-54.3885 353.222,-46.1962\"/>\r\n",
       "<polygon fill=\"black\" stroke=\"black\" points=\"356.506,-44.9626 350.261,-36.4034 349.805,-46.9884 356.506,-44.9626\"/>\r\n",
       "</g>\r\n",
       "<!-- 22 -->\r\n",
       "<g id=\"node13\" class=\"node\"><title>22</title>\r\n",
       "<path fill=\"#c0c0c0\" stroke=\"black\" d=\"M432,-36C432,-36 402,-36 402,-36 396,-36 390,-30 390,-24 390,-24 390,-12 390,-12 390,-6 396,-0 402,-0 402,-0 432,-0 432,-0 438,-0 444,-6 444,-12 444,-12 444,-24 444,-24 444,-30 438,-36 432,-36\"/>\r\n",
       "<text text-anchor=\"middle\" x=\"417\" y=\"-14.3\" font-family=\"Helvetica,sans-Serif\" font-size=\"14.00\">(...)</text>\r\n",
       "</g>\r\n",
       "<!-- 18&#45;&gt;22 -->\r\n",
       "<g id=\"edge12\" class=\"edge\"><title>18&#45;&gt;22</title>\r\n",
       "<path fill=\"none\" stroke=\"black\" d=\"M388.653,-71.9961C393.366,-63.1856 398.395,-53.7825 402.89,-45.38\"/>\r\n",
       "<polygon fill=\"black\" stroke=\"black\" points=\"406.061,-46.872 407.691,-36.4034 399.888,-43.5704 406.061,-46.872\"/>\r\n",
       "</g>\r\n",
       "<!-- 26 -->\r\n",
       "<g id=\"node15\" class=\"node\"><title>26</title>\r\n",
       "<path fill=\"#c0c0c0\" stroke=\"black\" d=\"M509,-36C509,-36 479,-36 479,-36 473,-36 467,-30 467,-24 467,-24 467,-12 467,-12 467,-6 473,-0 479,-0 479,-0 509,-0 509,-0 515,-0 521,-6 521,-12 521,-12 521,-24 521,-24 521,-30 515,-36 509,-36\"/>\r\n",
       "<text text-anchor=\"middle\" x=\"494\" y=\"-14.3\" font-family=\"Helvetica,sans-Serif\" font-size=\"14.00\">(...)</text>\r\n",
       "</g>\r\n",
       "<!-- 25&#45;&gt;26 -->\r\n",
       "<g id=\"edge14\" class=\"edge\"><title>25&#45;&gt;26</title>\r\n",
       "<path fill=\"none\" stroke=\"black\" d=\"M502.627,-71.9961C501.255,-63.5646 499.794,-54.5902 498.472,-46.4696\"/>\r\n",
       "<polygon fill=\"black\" stroke=\"black\" points=\"501.894,-45.7111 496.833,-36.4034 494.985,-46.8359 501.894,-45.7111\"/>\r\n",
       "</g>\r\n",
       "<!-- 29 -->\r\n",
       "<g id=\"node16\" class=\"node\"><title>29</title>\r\n",
       "<path fill=\"#c0c0c0\" stroke=\"black\" d=\"M581,-36C581,-36 551,-36 551,-36 545,-36 539,-30 539,-24 539,-24 539,-12 539,-12 539,-6 545,-0 551,-0 551,-0 581,-0 581,-0 587,-0 593,-6 593,-12 593,-12 593,-24 593,-24 593,-30 587,-36 581,-36\"/>\r\n",
       "<text text-anchor=\"middle\" x=\"566\" y=\"-14.3\" font-family=\"Helvetica,sans-Serif\" font-size=\"14.00\">(...)</text>\r\n",
       "</g>\r\n",
       "<!-- 25&#45;&gt;29 -->\r\n",
       "<g id=\"edge15\" class=\"edge\"><title>25&#45;&gt;29</title>\r\n",
       "<path fill=\"none\" stroke=\"black\" d=\"M530.258,-71.9961C536.328,-62.9962 542.815,-53.3778 548.574,-44.8393\"/>\r\n",
       "<polygon fill=\"black\" stroke=\"black\" points=\"551.573,-46.6511 554.263,-36.4034 545.77,-42.7371 551.573,-46.6511\"/>\r\n",
       "</g>\r\n",
       "<!-- 33 -->\r\n",
       "<g id=\"node18\" class=\"node\"><title>33</title>\r\n",
       "<path fill=\"#f0b68c\" stroke=\"black\" d=\"M744,-244C744,-244 616,-244 616,-244 610,-244 604,-238 604,-232 604,-232 604,-188 604,-188 604,-182 610,-176 616,-176 616,-176 744,-176 744,-176 750,-176 756,-182 756,-188 756,-188 756,-232 756,-232 756,-238 750,-244 744,-244\"/>\r\n",
       "<text text-anchor=\"start\" x=\"612\" y=\"-228.8\" font-family=\"Helvetica,sans-Serif\" font-size=\"14.00\">momentum_6 ≤ &#45;0.26</text>\r\n",
       "<text text-anchor=\"start\" x=\"639.5\" y=\"-213.8\" font-family=\"Helvetica,sans-Serif\" font-size=\"14.00\">mse = 0.007</text>\r\n",
       "<text text-anchor=\"start\" x=\"628.5\" y=\"-198.8\" font-family=\"Helvetica,sans-Serif\" font-size=\"14.00\">samples = 8833</text>\r\n",
       "<text text-anchor=\"start\" x=\"637\" y=\"-183.8\" font-family=\"Helvetica,sans-Serif\" font-size=\"14.00\">value = 0.029</text>\r\n",
       "</g>\r\n",
       "<!-- 32&#45;&gt;33 -->\r\n",
       "<g id=\"edge17\" class=\"edge\"><title>32&#45;&gt;33</title>\r\n",
       "<path fill=\"none\" stroke=\"black\" d=\"M680,-279.884C680,-271.778 680,-262.982 680,-254.472\"/>\r\n",
       "<polygon fill=\"black\" stroke=\"black\" points=\"683.5,-254.299 680,-244.299 676.5,-254.299 683.5,-254.299\"/>\r\n",
       "</g>\r\n",
       "<!-- 48 -->\r\n",
       "<g id=\"node25\" class=\"node\"><title>48</title>\r\n",
       "<path fill=\"#f1bb94\" stroke=\"black\" d=\"M991,-244C991,-244 887,-244 887,-244 881,-244 875,-238 875,-232 875,-232 875,-188 875,-188 875,-182 881,-176 887,-176 887,-176 991,-176 991,-176 997,-176 1003,-182 1003,-188 1003,-188 1003,-232 1003,-232 1003,-238 997,-244 991,-244\"/>\r\n",
       "<text text-anchor=\"start\" x=\"901.5\" y=\"-228.8\" font-family=\"Helvetica,sans-Serif\" font-size=\"14.00\">month ≤ 5.5</text>\r\n",
       "<text text-anchor=\"start\" x=\"898.5\" y=\"-213.8\" font-family=\"Helvetica,sans-Serif\" font-size=\"14.00\">mse = 0.007</text>\r\n",
       "<text text-anchor=\"start\" x=\"883\" y=\"-198.8\" font-family=\"Helvetica,sans-Serif\" font-size=\"14.00\">samples = 26171</text>\r\n",
       "<text text-anchor=\"start\" x=\"900\" y=\"-183.8\" font-family=\"Helvetica,sans-Serif\" font-size=\"14.00\">value = 0.01</text>\r\n",
       "</g>\r\n",
       "<!-- 32&#45;&gt;48 -->\r\n",
       "<g id=\"edge24\" class=\"edge\"><title>32&#45;&gt;48</title>\r\n",
       "<path fill=\"none\" stroke=\"black\" d=\"M744.022,-287.787C780.756,-273.32 827.028,-255.097 865.276,-240.034\"/>\r\n",
       "<polygon fill=\"black\" stroke=\"black\" points=\"866.794,-243.198 874.816,-236.277 864.229,-236.685 866.794,-243.198\"/>\r\n",
       "</g>\r\n",
       "<!-- 34 -->\r\n",
       "<g id=\"node19\" class=\"node\"><title>34</title>\r\n",
       "<path fill=\"#e99356\" stroke=\"black\" d=\"M684.5,-140C684.5,-140 597.5,-140 597.5,-140 591.5,-140 585.5,-134 585.5,-128 585.5,-128 585.5,-84 585.5,-84 585.5,-78 591.5,-72 597.5,-72 597.5,-72 684.5,-72 684.5,-72 690.5,-72 696.5,-78 696.5,-84 696.5,-84 696.5,-128 696.5,-128 696.5,-134 690.5,-140 684.5,-140\"/>\r\n",
       "<text text-anchor=\"start\" x=\"603.5\" y=\"-124.8\" font-family=\"Helvetica,sans-Serif\" font-size=\"14.00\">month ≤ 2.5</text>\r\n",
       "<text text-anchor=\"start\" x=\"600.5\" y=\"-109.8\" font-family=\"Helvetica,sans-Serif\" font-size=\"14.00\">mse = 0.026</text>\r\n",
       "<text text-anchor=\"start\" x=\"593.5\" y=\"-94.8\" font-family=\"Helvetica,sans-Serif\" font-size=\"14.00\">samples = 138</text>\r\n",
       "<text text-anchor=\"start\" x=\"598\" y=\"-79.8\" font-family=\"Helvetica,sans-Serif\" font-size=\"14.00\">value = 0.168</text>\r\n",
       "</g>\r\n",
       "<!-- 33&#45;&gt;34 -->\r\n",
       "<g id=\"edge18\" class=\"edge\"><title>33&#45;&gt;34</title>\r\n",
       "<path fill=\"none\" stroke=\"black\" d=\"M667.338,-175.884C664.17,-167.6 660.728,-158.595 657.407,-149.911\"/>\r\n",
       "<polygon fill=\"black\" stroke=\"black\" points=\"660.573,-148.39 653.732,-140.299 654.034,-150.89 660.573,-148.39\"/>\r\n",
       "</g>\r\n",
       "<!-- 41 -->\r\n",
       "<g id=\"node22\" class=\"node\"><title>41</title>\r\n",
       "<path fill=\"#f0b68d\" stroke=\"black\" d=\"M849,-140C849,-140 727,-140 727,-140 721,-140 715,-134 715,-128 715,-128 715,-84 715,-84 715,-78 721,-72 727,-72 727,-72 849,-72 849,-72 855,-72 861,-78 861,-84 861,-84 861,-128 861,-128 861,-134 855,-140 849,-140\"/>\r\n",
       "<text text-anchor=\"start\" x=\"723\" y=\"-124.8\" font-family=\"Helvetica,sans-Serif\" font-size=\"14.00\">return_12m ≤ &#45;0.049</text>\r\n",
       "<text text-anchor=\"start\" x=\"747.5\" y=\"-109.8\" font-family=\"Helvetica,sans-Serif\" font-size=\"14.00\">mse = 0.007</text>\r\n",
       "<text text-anchor=\"start\" x=\"736.5\" y=\"-94.8\" font-family=\"Helvetica,sans-Serif\" font-size=\"14.00\">samples = 8695</text>\r\n",
       "<text text-anchor=\"start\" x=\"745\" y=\"-79.8\" font-family=\"Helvetica,sans-Serif\" font-size=\"14.00\">value = 0.027</text>\r\n",
       "</g>\r\n",
       "<!-- 33&#45;&gt;41 -->\r\n",
       "<g id=\"edge21\" class=\"edge\"><title>33&#45;&gt;41</title>\r\n",
       "<path fill=\"none\" stroke=\"black\" d=\"M715.065,-175.884C724.684,-166.798 735.222,-156.845 745.223,-147.4\"/>\r\n",
       "<polygon fill=\"black\" stroke=\"black\" points=\"747.875,-149.71 752.742,-140.299 743.069,-144.621 747.875,-149.71\"/>\r\n",
       "</g>\r\n",
       "<!-- 35 -->\r\n",
       "<g id=\"node20\" class=\"node\"><title>35</title>\r\n",
       "<path fill=\"#c0c0c0\" stroke=\"black\" d=\"M655,-36C655,-36 625,-36 625,-36 619,-36 613,-30 613,-24 613,-24 613,-12 613,-12 613,-6 619,-0 625,-0 625,-0 655,-0 655,-0 661,-0 667,-6 667,-12 667,-12 667,-24 667,-24 667,-30 661,-36 655,-36\"/>\r\n",
       "<text text-anchor=\"middle\" x=\"640\" y=\"-14.3\" font-family=\"Helvetica,sans-Serif\" font-size=\"14.00\">(...)</text>\r\n",
       "</g>\r\n",
       "<!-- 34&#45;&gt;35 -->\r\n",
       "<g id=\"edge19\" class=\"edge\"><title>34&#45;&gt;35</title>\r\n",
       "<path fill=\"none\" stroke=\"black\" d=\"M640.616,-71.9961C640.518,-63.5646 640.414,-54.5902 640.319,-46.4696\"/>\r\n",
       "<polygon fill=\"black\" stroke=\"black\" points=\"643.818,-46.362 640.202,-36.4034 636.819,-46.4434 643.818,-46.362\"/>\r\n",
       "</g>\r\n",
       "<!-- 38 -->\r\n",
       "<g id=\"node21\" class=\"node\"><title>38</title>\r\n",
       "<path fill=\"#c0c0c0\" stroke=\"black\" d=\"M727,-36C727,-36 697,-36 697,-36 691,-36 685,-30 685,-24 685,-24 685,-12 685,-12 685,-6 691,-0 697,-0 697,-0 727,-0 727,-0 733,-0 739,-6 739,-12 739,-12 739,-24 739,-24 739,-30 733,-36 727,-36\"/>\r\n",
       "<text text-anchor=\"middle\" x=\"712\" y=\"-14.3\" font-family=\"Helvetica,sans-Serif\" font-size=\"14.00\">(...)</text>\r\n",
       "</g>\r\n",
       "<!-- 34&#45;&gt;38 -->\r\n",
       "<g id=\"edge20\" class=\"edge\"><title>34&#45;&gt;38</title>\r\n",
       "<path fill=\"none\" stroke=\"black\" d=\"M668.247,-71.9961C675.834,-62.8067 683.953,-52.9725 691.112,-44.3014\"/>\r\n",
       "<polygon fill=\"black\" stroke=\"black\" points=\"693.965,-46.3432 697.632,-36.4034 688.567,-41.8867 693.965,-46.3432\"/>\r\n",
       "</g>\r\n",
       "<!-- 42 -->\r\n",
       "<g id=\"node23\" class=\"node\"><title>42</title>\r\n",
       "<path fill=\"#c0c0c0\" stroke=\"black\" d=\"M801,-36C801,-36 771,-36 771,-36 765,-36 759,-30 759,-24 759,-24 759,-12 759,-12 759,-6 765,-0 771,-0 771,-0 801,-0 801,-0 807,-0 813,-6 813,-12 813,-12 813,-24 813,-24 813,-30 807,-36 801,-36\"/>\r\n",
       "<text text-anchor=\"middle\" x=\"786\" y=\"-14.3\" font-family=\"Helvetica,sans-Serif\" font-size=\"14.00\">(...)</text>\r\n",
       "</g>\r\n",
       "<!-- 41&#45;&gt;42 -->\r\n",
       "<g id=\"edge22\" class=\"edge\"><title>41&#45;&gt;42</title>\r\n",
       "<path fill=\"none\" stroke=\"black\" d=\"M787.232,-71.9961C787.036,-63.5646 786.828,-54.5902 786.639,-46.4696\"/>\r\n",
       "<polygon fill=\"black\" stroke=\"black\" points=\"790.136,-46.3193 786.405,-36.4034 783.138,-46.4821 790.136,-46.3193\"/>\r\n",
       "</g>\r\n",
       "<!-- 45 -->\r\n",
       "<g id=\"node24\" class=\"node\"><title>45</title>\r\n",
       "<path fill=\"#c0c0c0\" stroke=\"black\" d=\"M873,-36C873,-36 843,-36 843,-36 837,-36 831,-30 831,-24 831,-24 831,-12 831,-12 831,-6 837,-0 843,-0 843,-0 873,-0 873,-0 879,-0 885,-6 885,-12 885,-12 885,-24 885,-24 885,-30 879,-36 873,-36\"/>\r\n",
       "<text text-anchor=\"middle\" x=\"858\" y=\"-14.3\" font-family=\"Helvetica,sans-Serif\" font-size=\"14.00\">(...)</text>\r\n",
       "</g>\r\n",
       "<!-- 41&#45;&gt;45 -->\r\n",
       "<g id=\"edge23\" class=\"edge\"><title>41&#45;&gt;45</title>\r\n",
       "<path fill=\"none\" stroke=\"black\" d=\"M814.864,-71.9961C822.343,-62.8067 830.348,-52.9725 837.406,-44.3014\"/>\r\n",
       "<polygon fill=\"black\" stroke=\"black\" points=\"840.236,-46.3685 843.834,-36.4034 834.807,-41.9496 840.236,-46.3685\"/>\r\n",
       "</g>\r\n",
       "<!-- 49 -->\r\n",
       "<g id=\"node26\" class=\"node\"><title>49</title>\r\n",
       "<path fill=\"#f2be99\" stroke=\"black\" d=\"M986.5,-140C986.5,-140 891.5,-140 891.5,-140 885.5,-140 879.5,-134 879.5,-128 879.5,-128 879.5,-84 879.5,-84 879.5,-78 885.5,-72 891.5,-72 891.5,-72 986.5,-72 986.5,-72 992.5,-72 998.5,-78 998.5,-84 998.5,-84 998.5,-128 998.5,-128 998.5,-134 992.5,-140 986.5,-140\"/>\r\n",
       "<text text-anchor=\"start\" x=\"895\" y=\"-124.8\" font-family=\"Helvetica,sans-Serif\" font-size=\"14.00\">year ≤ 2012.5</text>\r\n",
       "<text text-anchor=\"start\" x=\"898.5\" y=\"-109.8\" font-family=\"Helvetica,sans-Serif\" font-size=\"14.00\">mse = 0.006</text>\r\n",
       "<text text-anchor=\"start\" x=\"887.5\" y=\"-94.8\" font-family=\"Helvetica,sans-Serif\" font-size=\"14.00\">samples = 5841</text>\r\n",
       "<text text-anchor=\"start\" x=\"893.5\" y=\"-79.8\" font-family=\"Helvetica,sans-Serif\" font-size=\"14.00\">value = &#45;0.005</text>\r\n",
       "</g>\r\n",
       "<!-- 48&#45;&gt;49 -->\r\n",
       "<g id=\"edge25\" class=\"edge\"><title>48&#45;&gt;49</title>\r\n",
       "<path fill=\"none\" stroke=\"black\" d=\"M939,-175.884C939,-167.778 939,-158.982 939,-150.472\"/>\r\n",
       "<polygon fill=\"black\" stroke=\"black\" points=\"942.5,-150.299 939,-140.299 935.5,-150.299 942.5,-150.299\"/>\r\n",
       "</g>\r\n",
       "<!-- 56 -->\r\n",
       "<g id=\"node29\" class=\"node\"><title>56</title>\r\n",
       "<path fill=\"#f1ba92\" stroke=\"black\" d=\"M1133,-140C1133,-140 1029,-140 1029,-140 1023,-140 1017,-134 1017,-128 1017,-128 1017,-84 1017,-84 1017,-78 1023,-72 1029,-72 1029,-72 1133,-72 1133,-72 1139,-72 1145,-78 1145,-84 1145,-84 1145,-128 1145,-128 1145,-134 1139,-140 1133,-140\"/>\r\n",
       "<text text-anchor=\"start\" x=\"1037\" y=\"-124.8\" font-family=\"Helvetica,sans-Serif\" font-size=\"14.00\">year ≤ 2010.5</text>\r\n",
       "<text text-anchor=\"start\" x=\"1040.5\" y=\"-109.8\" font-family=\"Helvetica,sans-Serif\" font-size=\"14.00\">mse = 0.007</text>\r\n",
       "<text text-anchor=\"start\" x=\"1025\" y=\"-94.8\" font-family=\"Helvetica,sans-Serif\" font-size=\"14.00\">samples = 20330</text>\r\n",
       "<text text-anchor=\"start\" x=\"1038\" y=\"-79.8\" font-family=\"Helvetica,sans-Serif\" font-size=\"14.00\">value = 0.014</text>\r\n",
       "</g>\r\n",
       "<!-- 48&#45;&gt;56 -->\r\n",
       "<g id=\"edge28\" class=\"edge\"><title>48&#45;&gt;56</title>\r\n",
       "<path fill=\"none\" stroke=\"black\" d=\"M985.103,-175.884C998.248,-166.442 1012.7,-156.064 1026.3,-146.292\"/>\r\n",
       "<polygon fill=\"black\" stroke=\"black\" points=\"1028.56,-148.976 1034.64,-140.299 1024.48,-143.291 1028.56,-148.976\"/>\r\n",
       "</g>\r\n",
       "<!-- 50 -->\r\n",
       "<g id=\"node27\" class=\"node\"><title>50</title>\r\n",
       "<path fill=\"#c0c0c0\" stroke=\"black\" d=\"M948,-36C948,-36 918,-36 918,-36 912,-36 906,-30 906,-24 906,-24 906,-12 906,-12 906,-6 912,-0 918,-0 918,-0 948,-0 948,-0 954,-0 960,-6 960,-12 960,-12 960,-24 960,-24 960,-30 954,-36 948,-36\"/>\r\n",
       "<text text-anchor=\"middle\" x=\"933\" y=\"-14.3\" font-family=\"Helvetica,sans-Serif\" font-size=\"14.00\">(...)</text>\r\n",
       "</g>\r\n",
       "<!-- 49&#45;&gt;50 -->\r\n",
       "<g id=\"edge26\" class=\"edge\"><title>49&#45;&gt;50</title>\r\n",
       "<path fill=\"none\" stroke=\"black\" d=\"M936.697,-71.9961C936.109,-63.5646 935.483,-54.5902 934.916,-46.4696\"/>\r\n",
       "<polygon fill=\"black\" stroke=\"black\" points=\"938.402,-46.1355 934.214,-36.4034 931.419,-46.6228 938.402,-46.1355\"/>\r\n",
       "</g>\r\n",
       "<!-- 53 -->\r\n",
       "<g id=\"node28\" class=\"node\"><title>53</title>\r\n",
       "<path fill=\"#c0c0c0\" stroke=\"black\" d=\"M1020,-36C1020,-36 990,-36 990,-36 984,-36 978,-30 978,-24 978,-24 978,-12 978,-12 978,-6 984,-0 990,-0 990,-0 1020,-0 1020,-0 1026,-0 1032,-6 1032,-12 1032,-12 1032,-24 1032,-24 1032,-30 1026,-36 1020,-36\"/>\r\n",
       "<text text-anchor=\"middle\" x=\"1005\" y=\"-14.3\" font-family=\"Helvetica,sans-Serif\" font-size=\"14.00\">(...)</text>\r\n",
       "</g>\r\n",
       "<!-- 49&#45;&gt;53 -->\r\n",
       "<g id=\"edge27\" class=\"edge\"><title>49&#45;&gt;53</title>\r\n",
       "<path fill=\"none\" stroke=\"black\" d=\"M964.329,-71.9961C971.308,-62.9014 978.773,-53.1752 985.377,-44.57\"/>\r\n",
       "<polygon fill=\"black\" stroke=\"black\" points=\"988.332,-46.4674 991.644,-36.4034 982.779,-42.2056 988.332,-46.4674\"/>\r\n",
       "</g>\r\n",
       "<!-- 57 -->\r\n",
       "<g id=\"node30\" class=\"node\"><title>57</title>\r\n",
       "<path fill=\"#c0c0c0\" stroke=\"black\" d=\"M1094,-36C1094,-36 1064,-36 1064,-36 1058,-36 1052,-30 1052,-24 1052,-24 1052,-12 1052,-12 1052,-6 1058,-0 1064,-0 1064,-0 1094,-0 1094,-0 1100,-0 1106,-6 1106,-12 1106,-12 1106,-24 1106,-24 1106,-30 1100,-36 1094,-36\"/>\r\n",
       "<text text-anchor=\"middle\" x=\"1079\" y=\"-14.3\" font-family=\"Helvetica,sans-Serif\" font-size=\"14.00\">(...)</text>\r\n",
       "</g>\r\n",
       "<!-- 56&#45;&gt;57 -->\r\n",
       "<g id=\"edge29\" class=\"edge\"><title>56&#45;&gt;57</title>\r\n",
       "<path fill=\"none\" stroke=\"black\" d=\"M1080.23,-71.9961C1080.04,-63.5646 1079.83,-54.5902 1079.64,-46.4696\"/>\r\n",
       "<polygon fill=\"black\" stroke=\"black\" points=\"1083.14,-46.3193 1079.4,-36.4034 1076.14,-46.4821 1083.14,-46.3193\"/>\r\n",
       "</g>\r\n",
       "<!-- 60 -->\r\n",
       "<g id=\"node31\" class=\"node\"><title>60</title>\r\n",
       "<path fill=\"#c0c0c0\" stroke=\"black\" d=\"M1166,-36C1166,-36 1136,-36 1136,-36 1130,-36 1124,-30 1124,-24 1124,-24 1124,-12 1124,-12 1124,-6 1130,-0 1136,-0 1136,-0 1166,-0 1166,-0 1172,-0 1178,-6 1178,-12 1178,-12 1178,-24 1178,-24 1178,-30 1172,-36 1166,-36\"/>\r\n",
       "<text text-anchor=\"middle\" x=\"1151\" y=\"-14.3\" font-family=\"Helvetica,sans-Serif\" font-size=\"14.00\">(...)</text>\r\n",
       "</g>\r\n",
       "<!-- 56&#45;&gt;60 -->\r\n",
       "<g id=\"edge30\" class=\"edge\"><title>56&#45;&gt;60</title>\r\n",
       "<path fill=\"none\" stroke=\"black\" d=\"M1107.86,-71.9961C1115.34,-62.8067 1123.35,-52.9725 1130.41,-44.3014\"/>\r\n",
       "<polygon fill=\"black\" stroke=\"black\" points=\"1133.24,-46.3685 1136.83,-36.4034 1127.81,-41.9496 1133.24,-46.3685\"/>\r\n",
       "</g>\r\n",
       "</g>\r\n",
       "</svg>\r\n"
      ],
      "text/plain": [
       "<graphviz.files.Source at 0x201743f1460>"
      ]
     },
     "execution_count": 82,
     "metadata": {},
     "output_type": "execute_result"
    }
   ],
   "source": [
    "out_file = results_path / 'reg_tree.dot'\n",
    "dot_data = export_graphviz(regression_tree,\n",
    "                           out_file=out_file.as_posix(),\n",
    "                           feature_names=X_train.columns,\n",
    "                           max_depth=3,\n",
    "                           filled=True,\n",
    "                           rounded=True,\n",
    "                           special_characters=True)\n",
    "if out_file is not None:\n",
    "    dot_data = Path(out_file).read_text()\n",
    "\n",
    "graphviz.Source(dot_data)"
   ]
  },
  {
   "cell_type": "markdown",
   "metadata": {},
   "source": [
    "### Evaluate Test Set"
   ]
  },
  {
   "cell_type": "code",
   "execution_count": 83,
   "metadata": {
    "ExecuteTime": {
     "end_time": "2021-02-23T20:46:33.883169Z",
     "start_time": "2021-02-23T20:46:33.876037Z"
    }
   },
   "outputs": [],
   "source": [
    "y_pred = regression_tree.predict(X_test)"
   ]
  },
  {
   "cell_type": "code",
   "execution_count": 84,
   "metadata": {
    "ExecuteTime": {
     "end_time": "2021-02-23T20:46:33.892414Z",
     "start_time": "2021-02-23T20:46:33.884726Z"
    }
   },
   "outputs": [
    {
     "data": {
      "text/plain": [
       "0.08085067892238253"
      ]
     },
     "execution_count": 84,
     "metadata": {},
     "output_type": "execute_result"
    }
   ],
   "source": [
    "np.sqrt(mean_squared_error(y_pred=y_pred, y_true=y_test))"
   ]
  },
  {
   "cell_type": "code",
   "execution_count": 85,
   "metadata": {
    "ExecuteTime": {
     "end_time": "2021-02-23T20:46:33.902317Z",
     "start_time": "2021-02-23T20:46:33.893713Z"
    }
   },
   "outputs": [
    {
     "name": "stdout",
     "output_type": "stream",
     "text": [
      "27.73 (p-value=0.00%)\n"
     ]
    }
   ],
   "source": [
    "r, p = spearmanr(y_pred, y_test)\n",
    "print(f'{r*100:.2f} (p-value={p:.2%})')"
   ]
  },
  {
   "cell_type": "markdown",
   "metadata": {},
   "source": [
    "## Classification Tree with all Features"
   ]
  },
  {
   "cell_type": "markdown",
   "metadata": {},
   "source": [
    "We will now train, visualize, and evaluate a classification tree with up to 5 consecutive splits using 80% of the samples for training to predict the remaining 20%. We are taking a shortcut here to simplify the illustration and use the built-in train_test_split, which does not protect against lookahead bias, as our custom iterator. The tree configuration implies up to $2^5=32$ leaf nodes that, on average in the balanced case, would contain over 4,300 of the training samples."
   ]
  },
  {
   "cell_type": "markdown",
   "metadata": {},
   "source": [
    "### Train-Test Split"
   ]
  },
  {
   "cell_type": "code",
   "execution_count": 86,
   "metadata": {
    "ExecuteTime": {
     "end_time": "2021-02-23T20:46:33.914160Z",
     "start_time": "2021-02-23T20:46:33.903873Z"
    },
    "scrolled": true
   },
   "outputs": [
    {
     "data": {
      "text/plain": [
       "1    31889\n",
       "0    24867\n",
       "Name: target, dtype: int64"
      ]
     },
     "execution_count": 86,
     "metadata": {},
     "output_type": "execute_result"
    }
   ],
   "source": [
    "y_binary = (y>0).astype(int)\n",
    "y_binary.value_counts()"
   ]
  },
  {
   "cell_type": "code",
   "execution_count": 87,
   "metadata": {
    "ExecuteTime": {
     "end_time": "2021-02-23T20:46:33.940990Z",
     "start_time": "2021-02-23T20:46:33.915658Z"
    }
   },
   "outputs": [],
   "source": [
    "X_train, X_test, y_train, y_test = train_test_split(X, y_binary, test_size=0.2, random_state=42)"
   ]
  },
  {
   "cell_type": "code",
   "execution_count": 88,
   "metadata": {
    "ExecuteTime": {
     "end_time": "2021-02-23T20:46:33.947237Z",
     "start_time": "2021-02-23T20:46:33.944297Z"
    }
   },
   "outputs": [],
   "source": [
    "clf = DecisionTreeClassifier(criterion='gini',\n",
    "                             max_depth=5,\n",
    "                             random_state=42)"
   ]
  },
  {
   "cell_type": "code",
   "execution_count": 89,
   "metadata": {
    "ExecuteTime": {
     "end_time": "2021-02-23T20:46:34.726229Z",
     "start_time": "2021-02-23T20:46:33.949377Z"
    }
   },
   "outputs": [
    {
     "data": {
      "text/plain": [
       "DecisionTreeClassifier(max_depth=5, random_state=42)"
      ]
     },
     "execution_count": 89,
     "metadata": {},
     "output_type": "execute_result"
    }
   ],
   "source": [
    "clf.fit(X=X_train, y=y_train)"
   ]
  },
  {
   "cell_type": "markdown",
   "metadata": {},
   "source": [
    "### Plot Tree"
   ]
  },
  {
   "cell_type": "code",
   "execution_count": 90,
   "metadata": {
    "ExecuteTime": {
     "end_time": "2021-02-23T20:46:34.777294Z",
     "start_time": "2021-02-23T20:46:34.728987Z"
    },
    "scrolled": false
   },
   "outputs": [
    {
     "data": {
      "image/svg+xml": [
       "<?xml version=\"1.0\" encoding=\"UTF-8\" standalone=\"no\"?>\r\n",
       "<!DOCTYPE svg PUBLIC \"-//W3C//DTD SVG 1.1//EN\"\r\n",
       " \"http://www.w3.org/Graphics/SVG/1.1/DTD/svg11.dtd\">\r\n",
       "<!-- Generated by graphviz version 2.38.0 (20140413.2041)\r\n",
       " -->\r\n",
       "<!-- Title: Tree Pages: 1 -->\r\n",
       "<svg width=\"1262pt\" height=\"520pt\"\r\n",
       " viewBox=\"0.00 0.00 1262.00 520.00\" xmlns=\"http://www.w3.org/2000/svg\" xmlns:xlink=\"http://www.w3.org/1999/xlink\">\r\n",
       "<g id=\"graph0\" class=\"graph\" transform=\"scale(1 1) rotate(0) translate(4 516)\">\r\n",
       "<title>Tree</title>\r\n",
       "<polygon fill=\"white\" stroke=\"none\" points=\"-4,4 -4,-516 1258,-516 1258,4 -4,4\"/>\r\n",
       "<!-- 0 -->\r\n",
       "<g id=\"node1\" class=\"node\"><title>0</title>\r\n",
       "<path fill=\"#d3e9f9\" stroke=\"black\" d=\"M684.5,-512C684.5,-512 545.5,-512 545.5,-512 539.5,-512 533.5,-506 533.5,-500 533.5,-500 533.5,-441 533.5,-441 533.5,-435 539.5,-429 545.5,-429 545.5,-429 684.5,-429 684.5,-429 690.5,-429 696.5,-435 696.5,-441 696.5,-441 696.5,-500 696.5,-500 696.5,-506 690.5,-512 684.5,-512\"/>\r\n",
       "<text text-anchor=\"start\" x=\"577.5\" y=\"-496.8\" font-family=\"Helvetica,sans-Serif\" font-size=\"14.00\">month ≤ 3.5</text>\r\n",
       "<text text-anchor=\"start\" x=\"577.5\" y=\"-481.8\" font-family=\"Helvetica,sans-Serif\" font-size=\"14.00\">gini = 0.492</text>\r\n",
       "<text text-anchor=\"start\" x=\"559\" y=\"-466.8\" font-family=\"Helvetica,sans-Serif\" font-size=\"14.00\">samples = 45404</text>\r\n",
       "<text text-anchor=\"start\" x=\"541.5\" y=\"-451.8\" font-family=\"Helvetica,sans-Serif\" font-size=\"14.00\">value = [19828, 25576]</text>\r\n",
       "<text text-anchor=\"start\" x=\"581.5\" y=\"-436.8\" font-family=\"Helvetica,sans-Serif\" font-size=\"14.00\">class = Up</text>\r\n",
       "</g>\r\n",
       "<!-- 1 -->\r\n",
       "<g id=\"node2\" class=\"node\"><title>1</title>\r\n",
       "<path fill=\"#a9d4f4\" stroke=\"black\" d=\"M553,-393C553,-393 431,-393 431,-393 425,-393 419,-387 419,-381 419,-381 419,-322 419,-322 419,-316 425,-310 431,-310 431,-310 553,-310 553,-310 559,-310 565,-316 565,-322 565,-322 565,-381 565,-381 565,-387 559,-393 553,-393\"/>\r\n",
       "<text text-anchor=\"start\" x=\"448\" y=\"-377.8\" font-family=\"Helvetica,sans-Serif\" font-size=\"14.00\">year ≤ 2008.5</text>\r\n",
       "<text text-anchor=\"start\" x=\"454.5\" y=\"-362.8\" font-family=\"Helvetica,sans-Serif\" font-size=\"14.00\">gini = 0.461</text>\r\n",
       "<text text-anchor=\"start\" x=\"436\" y=\"-347.8\" font-family=\"Helvetica,sans-Serif\" font-size=\"14.00\">samples = 11416</text>\r\n",
       "<text text-anchor=\"start\" x=\"427\" y=\"-332.8\" font-family=\"Helvetica,sans-Serif\" font-size=\"14.00\">value = [4115, 7301]</text>\r\n",
       "<text text-anchor=\"start\" x=\"458.5\" y=\"-317.8\" font-family=\"Helvetica,sans-Serif\" font-size=\"14.00\">class = Up</text>\r\n",
       "</g>\r\n",
       "<!-- 0&#45;&gt;1 -->\r\n",
       "<g id=\"edge1\" class=\"edge\"><title>0&#45;&gt;1</title>\r\n",
       "<path fill=\"none\" stroke=\"black\" d=\"M572.326,-428.907C562.499,-419.56 551.963,-409.538 541.861,-399.929\"/>\r\n",
       "<polygon fill=\"black\" stroke=\"black\" points=\"544.257,-397.377 534.599,-393.021 539.432,-402.449 544.257,-397.377\"/>\r\n",
       "<text text-anchor=\"middle\" x=\"535.224\" y=\"-414.313\" font-family=\"Helvetica,sans-Serif\" font-size=\"14.00\">True</text>\r\n",
       "</g>\r\n",
       "<!-- 32 -->\r\n",
       "<g id=\"node17\" class=\"node\"><title>32</title>\r\n",
       "<path fill=\"#e3f1fb\" stroke=\"black\" d=\"M807.5,-393C807.5,-393 668.5,-393 668.5,-393 662.5,-393 656.5,-387 656.5,-381 656.5,-381 656.5,-322 656.5,-322 656.5,-316 662.5,-310 668.5,-310 668.5,-310 807.5,-310 807.5,-310 813.5,-310 819.5,-316 819.5,-322 819.5,-322 819.5,-381 819.5,-381 819.5,-387 813.5,-393 807.5,-393\"/>\r\n",
       "<text text-anchor=\"start\" x=\"700\" y=\"-377.8\" font-family=\"Helvetica,sans-Serif\" font-size=\"14.00\">natr ≤ 3.403</text>\r\n",
       "<text text-anchor=\"start\" x=\"700.5\" y=\"-362.8\" font-family=\"Helvetica,sans-Serif\" font-size=\"14.00\">gini = 0.497</text>\r\n",
       "<text text-anchor=\"start\" x=\"682\" y=\"-347.8\" font-family=\"Helvetica,sans-Serif\" font-size=\"14.00\">samples = 33988</text>\r\n",
       "<text text-anchor=\"start\" x=\"664.5\" y=\"-332.8\" font-family=\"Helvetica,sans-Serif\" font-size=\"14.00\">value = [15713, 18275]</text>\r\n",
       "<text text-anchor=\"start\" x=\"704.5\" y=\"-317.8\" font-family=\"Helvetica,sans-Serif\" font-size=\"14.00\">class = Up</text>\r\n",
       "</g>\r\n",
       "<!-- 0&#45;&gt;32 -->\r\n",
       "<g id=\"edge16\" class=\"edge\"><title>0&#45;&gt;32</title>\r\n",
       "<path fill=\"none\" stroke=\"black\" d=\"M657.674,-428.907C667.501,-419.56 678.037,-409.538 688.139,-399.929\"/>\r\n",
       "<polygon fill=\"black\" stroke=\"black\" points=\"690.568,-402.449 695.401,-393.021 685.743,-397.377 690.568,-402.449\"/>\r\n",
       "<text text-anchor=\"middle\" x=\"694.776\" y=\"-414.313\" font-family=\"Helvetica,sans-Serif\" font-size=\"14.00\">False</text>\r\n",
       "</g>\r\n",
       "<!-- 2 -->\r\n",
       "<g id=\"node3\" class=\"node\"><title>2</title>\r\n",
       "<path fill=\"#cbe5f8\" stroke=\"black\" d=\"M274,-274C274,-274 152,-274 152,-274 146,-274 140,-268 140,-262 140,-262 140,-203 140,-203 140,-197 146,-191 152,-191 152,-191 274,-191 274,-191 280,-191 286,-197 286,-203 286,-203 286,-262 286,-262 286,-268 280,-274 274,-274\"/>\r\n",
       "<text text-anchor=\"start\" x=\"175.5\" y=\"-258.8\" font-family=\"Helvetica,sans-Serif\" font-size=\"14.00\">month ≤ 2.5</text>\r\n",
       "<text text-anchor=\"start\" x=\"175.5\" y=\"-243.8\" font-family=\"Helvetica,sans-Serif\" font-size=\"14.00\">gini = 0.489</text>\r\n",
       "<text text-anchor=\"start\" x=\"161.5\" y=\"-228.8\" font-family=\"Helvetica,sans-Serif\" font-size=\"14.00\">samples = 2583</text>\r\n",
       "<text text-anchor=\"start\" x=\"148\" y=\"-213.8\" font-family=\"Helvetica,sans-Serif\" font-size=\"14.00\">value = [1098, 1485]</text>\r\n",
       "<text text-anchor=\"start\" x=\"179.5\" y=\"-198.8\" font-family=\"Helvetica,sans-Serif\" font-size=\"14.00\">class = Up</text>\r\n",
       "</g>\r\n",
       "<!-- 1&#45;&gt;2 -->\r\n",
       "<g id=\"edge2\" class=\"edge\"><title>1&#45;&gt;2</title>\r\n",
       "<path fill=\"none\" stroke=\"black\" d=\"M418.696,-319.76C380.881,-303.902 334.617,-284.501 295.548,-268.117\"/>\r\n",
       "<polygon fill=\"black\" stroke=\"black\" points=\"296.874,-264.878 286.298,-264.238 294.167,-271.333 296.874,-264.878\"/>\r\n",
       "</g>\r\n",
       "<!-- 17 -->\r\n",
       "<g id=\"node10\" class=\"node\"><title>17</title>\r\n",
       "<path fill=\"#a0d0f2\" stroke=\"black\" d=\"M553,-274C553,-274 431,-274 431,-274 425,-274 419,-268 419,-262 419,-262 419,-203 419,-203 419,-197 425,-191 431,-191 431,-191 553,-191 553,-191 559,-191 565,-197 565,-203 565,-203 565,-262 565,-262 565,-268 559,-274 553,-274\"/>\r\n",
       "<text text-anchor=\"start\" x=\"433.5\" y=\"-258.8\" font-family=\"Helvetica,sans-Serif\" font-size=\"14.00\">return_6m ≤ 0.025</text>\r\n",
       "<text text-anchor=\"start\" x=\"458.5\" y=\"-243.8\" font-family=\"Helvetica,sans-Serif\" font-size=\"14.00\">gini = 0.45</text>\r\n",
       "<text text-anchor=\"start\" x=\"440.5\" y=\"-228.8\" font-family=\"Helvetica,sans-Serif\" font-size=\"14.00\">samples = 8833</text>\r\n",
       "<text text-anchor=\"start\" x=\"427\" y=\"-213.8\" font-family=\"Helvetica,sans-Serif\" font-size=\"14.00\">value = [3017, 5816]</text>\r\n",
       "<text text-anchor=\"start\" x=\"458.5\" y=\"-198.8\" font-family=\"Helvetica,sans-Serif\" font-size=\"14.00\">class = Up</text>\r\n",
       "</g>\r\n",
       "<!-- 1&#45;&gt;17 -->\r\n",
       "<g id=\"edge9\" class=\"edge\"><title>1&#45;&gt;17</title>\r\n",
       "<path fill=\"none\" stroke=\"black\" d=\"M492,-309.907C492,-301.649 492,-292.864 492,-284.302\"/>\r\n",
       "<polygon fill=\"black\" stroke=\"black\" points=\"495.5,-284.021 492,-274.021 488.5,-284.021 495.5,-284.021\"/>\r\n",
       "</g>\r\n",
       "<!-- 3 -->\r\n",
       "<g id=\"node4\" class=\"node\"><title>3</title>\r\n",
       "<path fill=\"#f7fbfe\" stroke=\"black\" d=\"M118,-155C118,-155 12,-155 12,-155 6,-155 0,-149 0,-143 0,-143 0,-84 0,-84 0,-78 6,-72 12,-72 12,-72 118,-72 118,-72 124,-72 130,-78 130,-84 130,-84 130,-143 130,-143 130,-149 124,-155 118,-155\"/>\r\n",
       "<text text-anchor=\"start\" x=\"31\" y=\"-139.8\" font-family=\"Helvetica,sans-Serif\" font-size=\"14.00\">atr ≤ 0.157</text>\r\n",
       "<text text-anchor=\"start\" x=\"36\" y=\"-124.8\" font-family=\"Helvetica,sans-Serif\" font-size=\"14.00\">gini = 0.5</text>\r\n",
       "<text text-anchor=\"start\" x=\"13.5\" y=\"-109.8\" font-family=\"Helvetica,sans-Serif\" font-size=\"14.00\">samples = 1717</text>\r\n",
       "<text text-anchor=\"start\" x=\"8\" y=\"-94.8\" font-family=\"Helvetica,sans-Serif\" font-size=\"14.00\">value = [840, 877]</text>\r\n",
       "<text text-anchor=\"start\" x=\"31.5\" y=\"-79.8\" font-family=\"Helvetica,sans-Serif\" font-size=\"14.00\">class = Up</text>\r\n",
       "</g>\r\n",
       "<!-- 2&#45;&gt;3 -->\r\n",
       "<g id=\"edge3\" class=\"edge\"><title>2&#45;&gt;3</title>\r\n",
       "<path fill=\"none\" stroke=\"black\" d=\"M161.652,-190.907C149.599,-181.379 136.658,-171.148 124.288,-161.37\"/>\r\n",
       "<polygon fill=\"black\" stroke=\"black\" points=\"126.272,-158.477 116.257,-155.021 121.931,-163.968 126.272,-158.477\"/>\r\n",
       "</g>\r\n",
       "<!-- 10 -->\r\n",
       "<g id=\"node7\" class=\"node\"><title>10</title>\r\n",
       "<path fill=\"#8dc7f0\" stroke=\"black\" d=\"M266,-155C266,-155 160,-155 160,-155 154,-155 148,-149 148,-143 148,-143 148,-84 148,-84 148,-78 154,-72 160,-72 160,-72 266,-72 266,-72 272,-72 278,-78 278,-84 278,-84 278,-143 278,-143 278,-149 272,-155 266,-155\"/>\r\n",
       "<text text-anchor=\"start\" x=\"169\" y=\"-139.8\" font-family=\"Helvetica,sans-Serif\" font-size=\"14.00\">year ≤ 2006.5</text>\r\n",
       "<text text-anchor=\"start\" x=\"175.5\" y=\"-124.8\" font-family=\"Helvetica,sans-Serif\" font-size=\"14.00\">gini = 0.418</text>\r\n",
       "<text text-anchor=\"start\" x=\"165.5\" y=\"-109.8\" font-family=\"Helvetica,sans-Serif\" font-size=\"14.00\">samples = 866</text>\r\n",
       "<text text-anchor=\"start\" x=\"156\" y=\"-94.8\" font-family=\"Helvetica,sans-Serif\" font-size=\"14.00\">value = [258, 608]</text>\r\n",
       "<text text-anchor=\"start\" x=\"179.5\" y=\"-79.8\" font-family=\"Helvetica,sans-Serif\" font-size=\"14.00\">class = Up</text>\r\n",
       "</g>\r\n",
       "<!-- 2&#45;&gt;10 -->\r\n",
       "<g id=\"edge6\" class=\"edge\"><title>2&#45;&gt;10</title>\r\n",
       "<path fill=\"none\" stroke=\"black\" d=\"M213,-190.907C213,-182.649 213,-173.864 213,-165.302\"/>\r\n",
       "<polygon fill=\"black\" stroke=\"black\" points=\"216.5,-165.021 213,-155.021 209.5,-165.021 216.5,-165.021\"/>\r\n",
       "</g>\r\n",
       "<!-- 4 -->\r\n",
       "<g id=\"node5\" class=\"node\"><title>4</title>\r\n",
       "<path fill=\"#c0c0c0\" stroke=\"black\" d=\"M71,-36C71,-36 41,-36 41,-36 35,-36 29,-30 29,-24 29,-24 29,-12 29,-12 29,-6 35,-0 41,-0 41,-0 71,-0 71,-0 77,-0 83,-6 83,-12 83,-12 83,-24 83,-24 83,-30 77,-36 71,-36\"/>\r\n",
       "<text text-anchor=\"middle\" x=\"56\" y=\"-14.3\" font-family=\"Helvetica,sans-Serif\" font-size=\"14.00\">(...)</text>\r\n",
       "</g>\r\n",
       "<!-- 3&#45;&gt;4 -->\r\n",
       "<g id=\"edge4\" class=\"edge\"><title>3&#45;&gt;4</title>\r\n",
       "<path fill=\"none\" stroke=\"black\" d=\"M61.0787,-71.7615C60.258,-63.2356 59.4112,-54.4385 58.6499,-46.5299\"/>\r\n",
       "<polygon fill=\"black\" stroke=\"black\" points=\"62.1175,-46.0237 57.6754,-36.4051 55.1497,-46.6945 62.1175,-46.0237\"/>\r\n",
       "</g>\r\n",
       "<!-- 7 -->\r\n",
       "<g id=\"node6\" class=\"node\"><title>7</title>\r\n",
       "<path fill=\"#c0c0c0\" stroke=\"black\" d=\"M143,-36C143,-36 113,-36 113,-36 107,-36 101,-30 101,-24 101,-24 101,-12 101,-12 101,-6 107,-0 113,-0 113,-0 143,-0 143,-0 149,-0 155,-6 155,-12 155,-12 155,-24 155,-24 155,-30 149,-36 143,-36\"/>\r\n",
       "<text text-anchor=\"middle\" x=\"128\" y=\"-14.3\" font-family=\"Helvetica,sans-Serif\" font-size=\"14.00\">(...)</text>\r\n",
       "</g>\r\n",
       "<!-- 3&#45;&gt;7 -->\r\n",
       "<g id=\"edge5\" class=\"edge\"><title>3&#45;&gt;7</title>\r\n",
       "<path fill=\"none\" stroke=\"black\" d=\"M92.4494,-71.7615C98.5859,-62.6543 104.931,-53.2376 110.532,-44.925\"/>\r\n",
       "<polygon fill=\"black\" stroke=\"black\" points=\"113.587,-46.654 116.272,-36.4051 107.782,-42.7425 113.587,-46.654\"/>\r\n",
       "</g>\r\n",
       "<!-- 11 -->\r\n",
       "<g id=\"node8\" class=\"node\"><title>11</title>\r\n",
       "<path fill=\"#c0c0c0\" stroke=\"black\" d=\"M215,-36C215,-36 185,-36 185,-36 179,-36 173,-30 173,-24 173,-24 173,-12 173,-12 173,-6 179,-0 185,-0 185,-0 215,-0 215,-0 221,-0 227,-6 227,-12 227,-12 227,-24 227,-24 227,-30 221,-36 215,-36\"/>\r\n",
       "<text text-anchor=\"middle\" x=\"200\" y=\"-14.3\" font-family=\"Helvetica,sans-Serif\" font-size=\"14.00\">(...)</text>\r\n",
       "</g>\r\n",
       "<!-- 10&#45;&gt;11 -->\r\n",
       "<g id=\"edge7\" class=\"edge\"><title>10&#45;&gt;11</title>\r\n",
       "<path fill=\"none\" stroke=\"black\" d=\"M207.336,-71.7615C206.15,-63.2356 204.927,-54.4385 203.828,-46.5299\"/>\r\n",
       "<polygon fill=\"black\" stroke=\"black\" points=\"207.264,-45.8278 202.42,-36.4051 200.331,-46.7918 207.264,-45.8278\"/>\r\n",
       "</g>\r\n",
       "<!-- 14 -->\r\n",
       "<g id=\"node9\" class=\"node\"><title>14</title>\r\n",
       "<path fill=\"#c0c0c0\" stroke=\"black\" d=\"M287,-36C287,-36 257,-36 257,-36 251,-36 245,-30 245,-24 245,-24 245,-12 245,-12 245,-6 251,-0 257,-0 257,-0 287,-0 287,-0 293,-0 299,-6 299,-12 299,-12 299,-24 299,-24 299,-30 293,-36 287,-36\"/>\r\n",
       "<text text-anchor=\"middle\" x=\"272\" y=\"-14.3\" font-family=\"Helvetica,sans-Serif\" font-size=\"14.00\">(...)</text>\r\n",
       "</g>\r\n",
       "<!-- 10&#45;&gt;14 -->\r\n",
       "<g id=\"edge8\" class=\"edge\"><title>10&#45;&gt;14</title>\r\n",
       "<path fill=\"none\" stroke=\"black\" d=\"M238.707,-71.7615C244.453,-62.6543 250.396,-53.2376 255.641,-44.925\"/>\r\n",
       "<polygon fill=\"black\" stroke=\"black\" points=\"258.64,-46.73 261.017,-36.4051 252.721,-42.9944 258.64,-46.73\"/>\r\n",
       "</g>\r\n",
       "<!-- 18 -->\r\n",
       "<g id=\"node11\" class=\"node\"><title>18</title>\r\n",
       "<path fill=\"#94caf1\" stroke=\"black\" d=\"M430,-155C430,-155 308,-155 308,-155 302,-155 296,-149 296,-143 296,-143 296,-84 296,-84 296,-78 302,-72 308,-72 308,-72 430,-72 430,-72 436,-72 442,-78 442,-84 442,-84 442,-143 442,-143 442,-149 436,-155 430,-155\"/>\r\n",
       "<text text-anchor=\"start\" x=\"306.5\" y=\"-139.8\" font-family=\"Helvetica,sans-Serif\" font-size=\"14.00\">return_12m ≤ 0.023</text>\r\n",
       "<text text-anchor=\"start\" x=\"331.5\" y=\"-124.8\" font-family=\"Helvetica,sans-Serif\" font-size=\"14.00\">gini = 0.432</text>\r\n",
       "<text text-anchor=\"start\" x=\"317.5\" y=\"-109.8\" font-family=\"Helvetica,sans-Serif\" font-size=\"14.00\">samples = 5887</text>\r\n",
       "<text text-anchor=\"start\" x=\"304\" y=\"-94.8\" font-family=\"Helvetica,sans-Serif\" font-size=\"14.00\">value = [1858, 4029]</text>\r\n",
       "<text text-anchor=\"start\" x=\"335.5\" y=\"-79.8\" font-family=\"Helvetica,sans-Serif\" font-size=\"14.00\">class = Up</text>\r\n",
       "</g>\r\n",
       "<!-- 17&#45;&gt;18 -->\r\n",
       "<g id=\"edge10\" class=\"edge\"><title>17&#45;&gt;18</title>\r\n",
       "<path fill=\"none\" stroke=\"black\" d=\"M449.326,-190.907C439.499,-181.56 428.963,-171.538 418.861,-161.929\"/>\r\n",
       "<polygon fill=\"black\" stroke=\"black\" points=\"421.257,-159.377 411.599,-155.021 416.432,-164.449 421.257,-159.377\"/>\r\n",
       "</g>\r\n",
       "<!-- 25 -->\r\n",
       "<g id=\"node14\" class=\"node\"><title>25</title>\r\n",
       "<path fill=\"#b9ddf6\" stroke=\"black\" d=\"M594,-155C594,-155 472,-155 472,-155 466,-155 460,-149 460,-143 460,-143 460,-84 460,-84 460,-78 466,-72 472,-72 472,-72 594,-72 594,-72 600,-72 606,-78 606,-84 606,-84 606,-143 606,-143 606,-149 600,-155 594,-155\"/>\r\n",
       "<text text-anchor=\"start\" x=\"495.5\" y=\"-139.8\" font-family=\"Helvetica,sans-Serif\" font-size=\"14.00\">month ≤ 2.5</text>\r\n",
       "<text text-anchor=\"start\" x=\"495.5\" y=\"-124.8\" font-family=\"Helvetica,sans-Serif\" font-size=\"14.00\">gini = 0.477</text>\r\n",
       "<text text-anchor=\"start\" x=\"481.5\" y=\"-109.8\" font-family=\"Helvetica,sans-Serif\" font-size=\"14.00\">samples = 2946</text>\r\n",
       "<text text-anchor=\"start\" x=\"468\" y=\"-94.8\" font-family=\"Helvetica,sans-Serif\" font-size=\"14.00\">value = [1159, 1787]</text>\r\n",
       "<text text-anchor=\"start\" x=\"499.5\" y=\"-79.8\" font-family=\"Helvetica,sans-Serif\" font-size=\"14.00\">class = Up</text>\r\n",
       "</g>\r\n",
       "<!-- 17&#45;&gt;25 -->\r\n",
       "<g id=\"edge13\" class=\"edge\"><title>17&#45;&gt;25</title>\r\n",
       "<path fill=\"none\" stroke=\"black\" d=\"M506.225,-190.907C509.182,-182.468 512.333,-173.477 515.395,-164.738\"/>\r\n",
       "<polygon fill=\"black\" stroke=\"black\" points=\"518.796,-165.616 518.8,-155.021 512.19,-163.301 518.796,-165.616\"/>\r\n",
       "</g>\r\n",
       "<!-- 19 -->\r\n",
       "<g id=\"node12\" class=\"node\"><title>19</title>\r\n",
       "<path fill=\"#c0c0c0\" stroke=\"black\" d=\"M359,-36C359,-36 329,-36 329,-36 323,-36 317,-30 317,-24 317,-24 317,-12 317,-12 317,-6 323,-0 329,-0 329,-0 359,-0 359,-0 365,-0 371,-6 371,-12 371,-12 371,-24 371,-24 371,-30 365,-36 359,-36\"/>\r\n",
       "<text text-anchor=\"middle\" x=\"344\" y=\"-14.3\" font-family=\"Helvetica,sans-Serif\" font-size=\"14.00\">(...)</text>\r\n",
       "</g>\r\n",
       "<!-- 18&#45;&gt;19 -->\r\n",
       "<g id=\"edge11\" class=\"edge\"><title>18&#45;&gt;19</title>\r\n",
       "<path fill=\"none\" stroke=\"black\" d=\"M358.107,-71.7615C355.802,-63.1387 353.422,-54.2385 351.289,-46.2606\"/>\r\n",
       "<polygon fill=\"black\" stroke=\"black\" points=\"354.618,-45.1616 348.654,-36.4051 347.856,-46.9698 354.618,-45.1616\"/>\r\n",
       "</g>\r\n",
       "<!-- 22 -->\r\n",
       "<g id=\"node13\" class=\"node\"><title>22</title>\r\n",
       "<path fill=\"#c0c0c0\" stroke=\"black\" d=\"M431,-36C431,-36 401,-36 401,-36 395,-36 389,-30 389,-24 389,-24 389,-12 389,-12 389,-6 395,-0 401,-0 401,-0 431,-0 431,-0 437,-0 443,-6 443,-12 443,-12 443,-24 443,-24 443,-30 437,-36 431,-36\"/>\r\n",
       "<text text-anchor=\"middle\" x=\"416\" y=\"-14.3\" font-family=\"Helvetica,sans-Serif\" font-size=\"14.00\">(...)</text>\r\n",
       "</g>\r\n",
       "<!-- 18&#45;&gt;22 -->\r\n",
       "<g id=\"edge12\" class=\"edge\"><title>18&#45;&gt;22</title>\r\n",
       "<path fill=\"none\" stroke=\"black\" d=\"M389.478,-71.7615C393.959,-62.8481 398.588,-53.6382 402.701,-45.4571\"/>\r\n",
       "<polygon fill=\"black\" stroke=\"black\" points=\"405.887,-46.9118 407.251,-36.4051 399.632,-43.7679 405.887,-46.9118\"/>\r\n",
       "</g>\r\n",
       "<!-- 26 -->\r\n",
       "<g id=\"node15\" class=\"node\"><title>26</title>\r\n",
       "<path fill=\"#c0c0c0\" stroke=\"black\" d=\"M504,-36C504,-36 474,-36 474,-36 468,-36 462,-30 462,-24 462,-24 462,-12 462,-12 462,-6 468,-0 474,-0 474,-0 504,-0 504,-0 510,-0 516,-6 516,-12 516,-12 516,-24 516,-24 516,-30 510,-36 504,-36\"/>\r\n",
       "<text text-anchor=\"middle\" x=\"489\" y=\"-14.3\" font-family=\"Helvetica,sans-Serif\" font-size=\"14.00\">(...)</text>\r\n",
       "</g>\r\n",
       "<!-- 25&#45;&gt;26 -->\r\n",
       "<g id=\"edge14\" class=\"edge\"><title>25&#45;&gt;26</title>\r\n",
       "<path fill=\"none\" stroke=\"black\" d=\"M513.829,-71.7615C509.634,-62.8481 505.3,-53.6382 501.45,-45.4571\"/>\r\n",
       "<polygon fill=\"black\" stroke=\"black\" points=\"504.616,-43.963 497.191,-36.4051 498.282,-46.9436 504.616,-43.963\"/>\r\n",
       "</g>\r\n",
       "<!-- 29 -->\r\n",
       "<g id=\"node16\" class=\"node\"><title>29</title>\r\n",
       "<path fill=\"#c0c0c0\" stroke=\"black\" d=\"M576,-36C576,-36 546,-36 546,-36 540,-36 534,-30 534,-24 534,-24 534,-12 534,-12 534,-6 540,-0 546,-0 546,-0 576,-0 576,-0 582,-0 588,-6 588,-12 588,-12 588,-24 588,-24 588,-30 582,-36 576,-36\"/>\r\n",
       "<text text-anchor=\"middle\" x=\"561\" y=\"-14.3\" font-family=\"Helvetica,sans-Serif\" font-size=\"14.00\">(...)</text>\r\n",
       "</g>\r\n",
       "<!-- 25&#45;&gt;29 -->\r\n",
       "<g id=\"edge15\" class=\"edge\"><title>25&#45;&gt;29</title>\r\n",
       "<path fill=\"none\" stroke=\"black\" d=\"M545.2,-71.7615C547.811,-63.0419 550.507,-54.0385 552.917,-45.9921\"/>\r\n",
       "<polygon fill=\"black\" stroke=\"black\" points=\"556.272,-46.9889 555.788,-36.4051 549.566,-44.9807 556.272,-46.9889\"/>\r\n",
       "</g>\r\n",
       "<!-- 33 -->\r\n",
       "<g id=\"node18\" class=\"node\"><title>33</title>\r\n",
       "<path fill=\"#d5eafa\" stroke=\"black\" d=\"M807.5,-274C807.5,-274 668.5,-274 668.5,-274 662.5,-274 656.5,-268 656.5,-262 656.5,-262 656.5,-203 656.5,-203 656.5,-197 662.5,-191 668.5,-191 668.5,-191 807.5,-191 807.5,-191 813.5,-191 819.5,-197 819.5,-203 819.5,-203 819.5,-262 819.5,-262 819.5,-268 813.5,-274 807.5,-274\"/>\r\n",
       "<text text-anchor=\"start\" x=\"700.5\" y=\"-258.8\" font-family=\"Helvetica,sans-Serif\" font-size=\"14.00\">month ≤ 7.5</text>\r\n",
       "<text text-anchor=\"start\" x=\"700.5\" y=\"-243.8\" font-family=\"Helvetica,sans-Serif\" font-size=\"14.00\">gini = 0.493</text>\r\n",
       "<text text-anchor=\"start\" x=\"682\" y=\"-228.8\" font-family=\"Helvetica,sans-Serif\" font-size=\"14.00\">samples = 26706</text>\r\n",
       "<text text-anchor=\"start\" x=\"664.5\" y=\"-213.8\" font-family=\"Helvetica,sans-Serif\" font-size=\"14.00\">value = [11786, 14920]</text>\r\n",
       "<text text-anchor=\"start\" x=\"704.5\" y=\"-198.8\" font-family=\"Helvetica,sans-Serif\" font-size=\"14.00\">class = Up</text>\r\n",
       "</g>\r\n",
       "<!-- 32&#45;&gt;33 -->\r\n",
       "<g id=\"edge17\" class=\"edge\"><title>32&#45;&gt;33</title>\r\n",
       "<path fill=\"none\" stroke=\"black\" d=\"M738,-309.907C738,-301.649 738,-292.864 738,-284.302\"/>\r\n",
       "<polygon fill=\"black\" stroke=\"black\" points=\"741.5,-284.021 738,-274.021 734.5,-284.021 741.5,-284.021\"/>\r\n",
       "</g>\r\n",
       "<!-- 48 -->\r\n",
       "<g id=\"node25\" class=\"node\"><title>48</title>\r\n",
       "<path fill=\"#fbede2\" stroke=\"black\" d=\"M1082,-274C1082,-274 960,-274 960,-274 954,-274 948,-268 948,-262 948,-262 948,-203 948,-203 948,-197 954,-191 960,-191 960,-191 1082,-191 1082,-191 1088,-191 1094,-197 1094,-203 1094,-203 1094,-262 1094,-262 1094,-268 1088,-274 1082,-274\"/>\r\n",
       "<text text-anchor=\"start\" x=\"977\" y=\"-258.8\" font-family=\"Helvetica,sans-Serif\" font-size=\"14.00\">year ≤ 2008.5</text>\r\n",
       "<text text-anchor=\"start\" x=\"983.5\" y=\"-243.8\" font-family=\"Helvetica,sans-Serif\" font-size=\"14.00\">gini = 0.497</text>\r\n",
       "<text text-anchor=\"start\" x=\"969.5\" y=\"-228.8\" font-family=\"Helvetica,sans-Serif\" font-size=\"14.00\">samples = 7282</text>\r\n",
       "<text text-anchor=\"start\" x=\"956\" y=\"-213.8\" font-family=\"Helvetica,sans-Serif\" font-size=\"14.00\">value = [3927, 3355]</text>\r\n",
       "<text text-anchor=\"start\" x=\"978.5\" y=\"-198.8\" font-family=\"Helvetica,sans-Serif\" font-size=\"14.00\">class = Down</text>\r\n",
       "</g>\r\n",
       "<!-- 32&#45;&gt;48 -->\r\n",
       "<g id=\"edge24\" class=\"edge\"><title>32&#45;&gt;48</title>\r\n",
       "<path fill=\"none\" stroke=\"black\" d=\"M819.855,-316.659C857.026,-301.291 900.919,-283.145 938.202,-267.731\"/>\r\n",
       "<polygon fill=\"black\" stroke=\"black\" points=\"939.627,-270.929 947.531,-263.874 936.952,-264.46 939.627,-270.929\"/>\r\n",
       "</g>\r\n",
       "<!-- 34 -->\r\n",
       "<g id=\"node19\" class=\"node\"><title>34</title>\r\n",
       "<path fill=\"#fafcfe\" stroke=\"black\" d=\"M758,-155C758,-155 636,-155 636,-155 630,-155 624,-149 624,-143 624,-143 624,-84 624,-84 624,-78 630,-72 636,-72 636,-72 758,-72 758,-72 764,-72 770,-78 770,-84 770,-84 770,-143 770,-143 770,-149 764,-155 758,-155\"/>\r\n",
       "<text text-anchor=\"start\" x=\"653\" y=\"-139.8\" font-family=\"Helvetica,sans-Serif\" font-size=\"14.00\">year ≤ 2011.5</text>\r\n",
       "<text text-anchor=\"start\" x=\"668\" y=\"-124.8\" font-family=\"Helvetica,sans-Serif\" font-size=\"14.00\">gini = 0.5</text>\r\n",
       "<text text-anchor=\"start\" x=\"641\" y=\"-109.8\" font-family=\"Helvetica,sans-Serif\" font-size=\"14.00\">samples = 12105</text>\r\n",
       "<text text-anchor=\"start\" x=\"632\" y=\"-94.8\" font-family=\"Helvetica,sans-Serif\" font-size=\"14.00\">value = [5969, 6136]</text>\r\n",
       "<text text-anchor=\"start\" x=\"663.5\" y=\"-79.8\" font-family=\"Helvetica,sans-Serif\" font-size=\"14.00\">class = Up</text>\r\n",
       "</g>\r\n",
       "<!-- 33&#45;&gt;34 -->\r\n",
       "<g id=\"edge18\" class=\"edge\"><title>33&#45;&gt;34</title>\r\n",
       "<path fill=\"none\" stroke=\"black\" d=\"M723.775,-190.907C720.818,-182.468 717.667,-173.477 714.605,-164.738\"/>\r\n",
       "<polygon fill=\"black\" stroke=\"black\" points=\"717.81,-163.301 711.2,-155.021 711.204,-165.616 717.81,-163.301\"/>\r\n",
       "</g>\r\n",
       "<!-- 41 -->\r\n",
       "<g id=\"node22\" class=\"node\"><title>41</title>\r\n",
       "<path fill=\"#bcdef6\" stroke=\"black\" d=\"M922,-155C922,-155 800,-155 800,-155 794,-155 788,-149 788,-143 788,-143 788,-84 788,-84 788,-78 794,-72 800,-72 800,-72 922,-72 922,-72 928,-72 934,-78 934,-84 934,-84 934,-143 934,-143 934,-149 928,-155 922,-155\"/>\r\n",
       "<text text-anchor=\"start\" x=\"819.5\" y=\"-139.8\" font-family=\"Helvetica,sans-Serif\" font-size=\"14.00\">month ≤ 11.5</text>\r\n",
       "<text text-anchor=\"start\" x=\"823.5\" y=\"-124.8\" font-family=\"Helvetica,sans-Serif\" font-size=\"14.00\">gini = 0.479</text>\r\n",
       "<text text-anchor=\"start\" x=\"805\" y=\"-109.8\" font-family=\"Helvetica,sans-Serif\" font-size=\"14.00\">samples = 14601</text>\r\n",
       "<text text-anchor=\"start\" x=\"796\" y=\"-94.8\" font-family=\"Helvetica,sans-Serif\" font-size=\"14.00\">value = [5817, 8784]</text>\r\n",
       "<text text-anchor=\"start\" x=\"827.5\" y=\"-79.8\" font-family=\"Helvetica,sans-Serif\" font-size=\"14.00\">class = Up</text>\r\n",
       "</g>\r\n",
       "<!-- 33&#45;&gt;41 -->\r\n",
       "<g id=\"edge21\" class=\"edge\"><title>33&#45;&gt;41</title>\r\n",
       "<path fill=\"none\" stroke=\"black\" d=\"M780.674,-190.907C790.501,-181.56 801.037,-171.538 811.139,-161.929\"/>\r\n",
       "<polygon fill=\"black\" stroke=\"black\" points=\"813.568,-164.449 818.401,-155.021 808.743,-159.377 813.568,-164.449\"/>\r\n",
       "</g>\r\n",
       "<!-- 35 -->\r\n",
       "<g id=\"node20\" class=\"node\"><title>35</title>\r\n",
       "<path fill=\"#c0c0c0\" stroke=\"black\" d=\"M650,-36C650,-36 620,-36 620,-36 614,-36 608,-30 608,-24 608,-24 608,-12 608,-12 608,-6 614,-0 620,-0 620,-0 650,-0 650,-0 656,-0 662,-6 662,-12 662,-12 662,-24 662,-24 662,-30 656,-36 650,-36\"/>\r\n",
       "<text text-anchor=\"middle\" x=\"635\" y=\"-14.3\" font-family=\"Helvetica,sans-Serif\" font-size=\"14.00\">(...)</text>\r\n",
       "</g>\r\n",
       "<!-- 34&#45;&gt;35 -->\r\n",
       "<g id=\"edge19\" class=\"edge\"><title>34&#45;&gt;35</title>\r\n",
       "<path fill=\"none\" stroke=\"black\" d=\"M669.986,-71.7615C663.947,-62.6543 657.703,-53.2376 652.191,-44.925\"/>\r\n",
       "<polygon fill=\"black\" stroke=\"black\" points=\"654.985,-42.805 646.541,-36.4051 649.151,-46.6736 654.985,-42.805\"/>\r\n",
       "</g>\r\n",
       "<!-- 38 -->\r\n",
       "<g id=\"node21\" class=\"node\"><title>38</title>\r\n",
       "<path fill=\"#c0c0c0\" stroke=\"black\" d=\"M722,-36C722,-36 692,-36 692,-36 686,-36 680,-30 680,-24 680,-24 680,-12 680,-12 680,-6 686,-0 692,-0 692,-0 722,-0 722,-0 728,-0 734,-6 734,-12 734,-12 734,-24 734,-24 734,-30 728,-36 722,-36\"/>\r\n",
       "<text text-anchor=\"middle\" x=\"707\" y=\"-14.3\" font-family=\"Helvetica,sans-Serif\" font-size=\"14.00\">(...)</text>\r\n",
       "</g>\r\n",
       "<!-- 34&#45;&gt;38 -->\r\n",
       "<g id=\"edge20\" class=\"edge\"><title>34&#45;&gt;38</title>\r\n",
       "<path fill=\"none\" stroke=\"black\" d=\"M701.357,-71.7615C702.269,-63.2356 703.21,-54.4385 704.056,-46.5299\"/>\r\n",
       "<polygon fill=\"black\" stroke=\"black\" points=\"707.555,-46.7206 705.138,-36.4051 700.595,-45.9762 707.555,-46.7206\"/>\r\n",
       "</g>\r\n",
       "<!-- 42 -->\r\n",
       "<g id=\"node23\" class=\"node\"><title>42</title>\r\n",
       "<path fill=\"#c0c0c0\" stroke=\"black\" d=\"M812,-36C812,-36 782,-36 782,-36 776,-36 770,-30 770,-24 770,-24 770,-12 770,-12 770,-6 776,-0 782,-0 782,-0 812,-0 812,-0 818,-0 824,-6 824,-12 824,-12 824,-24 824,-24 824,-30 818,-36 812,-36\"/>\r\n",
       "<text text-anchor=\"middle\" x=\"797\" y=\"-14.3\" font-family=\"Helvetica,sans-Serif\" font-size=\"14.00\">(...)</text>\r\n",
       "</g>\r\n",
       "<!-- 41&#45;&gt;42 -->\r\n",
       "<g id=\"edge22\" class=\"edge\"><title>41&#45;&gt;42</title>\r\n",
       "<path fill=\"none\" stroke=\"black\" d=\"M833.115,-71.7615C826.815,-62.5574 820.298,-53.0372 814.564,-44.6601\"/>\r\n",
       "<polygon fill=\"black\" stroke=\"black\" points=\"817.45,-42.6801 808.914,-36.4051 811.674,-46.6341 817.45,-42.6801\"/>\r\n",
       "</g>\r\n",
       "<!-- 45 -->\r\n",
       "<g id=\"node24\" class=\"node\"><title>45</title>\r\n",
       "<path fill=\"#c0c0c0\" stroke=\"black\" d=\"M884,-36C884,-36 854,-36 854,-36 848,-36 842,-30 842,-24 842,-24 842,-12 842,-12 842,-6 848,-0 854,-0 854,-0 884,-0 884,-0 890,-0 896,-6 896,-12 896,-12 896,-24 896,-24 896,-30 890,-36 884,-36\"/>\r\n",
       "<text text-anchor=\"middle\" x=\"869\" y=\"-14.3\" font-family=\"Helvetica,sans-Serif\" font-size=\"14.00\">(...)</text>\r\n",
       "</g>\r\n",
       "<!-- 41&#45;&gt;45 -->\r\n",
       "<g id=\"edge23\" class=\"edge\"><title>41&#45;&gt;45</title>\r\n",
       "<path fill=\"none\" stroke=\"black\" d=\"M864.486,-71.7615C865.215,-63.2356 865.968,-54.4385 866.645,-46.5299\"/>\r\n",
       "<polygon fill=\"black\" stroke=\"black\" points=\"870.145,-46.6671 867.511,-36.4051 863.171,-46.0703 870.145,-46.6671\"/>\r\n",
       "</g>\r\n",
       "<!-- 49 -->\r\n",
       "<g id=\"node26\" class=\"node\"><title>49</title>\r\n",
       "<path fill=\"#f4ccae\" stroke=\"black\" d=\"M1078,-155C1078,-155 964,-155 964,-155 958,-155 952,-149 952,-143 952,-143 952,-84 952,-84 952,-78 958,-72 964,-72 964,-72 1078,-72 1078,-72 1084,-72 1090,-78 1090,-84 1090,-84 1090,-143 1090,-143 1090,-149 1084,-155 1078,-155\"/>\r\n",
       "<text text-anchor=\"start\" x=\"983.5\" y=\"-139.8\" font-family=\"Helvetica,sans-Serif\" font-size=\"14.00\">month ≤ 7.5</text>\r\n",
       "<text text-anchor=\"start\" x=\"983.5\" y=\"-124.8\" font-family=\"Helvetica,sans-Serif\" font-size=\"14.00\">gini = 0.467</text>\r\n",
       "<text text-anchor=\"start\" x=\"969.5\" y=\"-109.8\" font-family=\"Helvetica,sans-Serif\" font-size=\"14.00\">samples = 2568</text>\r\n",
       "<text text-anchor=\"start\" x=\"960\" y=\"-94.8\" font-family=\"Helvetica,sans-Serif\" font-size=\"14.00\">value = [1613, 955]</text>\r\n",
       "<text text-anchor=\"start\" x=\"978.5\" y=\"-79.8\" font-family=\"Helvetica,sans-Serif\" font-size=\"14.00\">class = Down</text>\r\n",
       "</g>\r\n",
       "<!-- 48&#45;&gt;49 -->\r\n",
       "<g id=\"edge25\" class=\"edge\"><title>48&#45;&gt;49</title>\r\n",
       "<path fill=\"none\" stroke=\"black\" d=\"M1021,-190.907C1021,-182.649 1021,-173.864 1021,-165.302\"/>\r\n",
       "<polygon fill=\"black\" stroke=\"black\" points=\"1024.5,-165.021 1021,-155.021 1017.5,-165.021 1024.5,-165.021\"/>\r\n",
       "</g>\r\n",
       "<!-- 56 -->\r\n",
       "<g id=\"node29\" class=\"node\"><title>56</title>\r\n",
       "<path fill=\"#f8fbfe\" stroke=\"black\" d=\"M1242,-155C1242,-155 1120,-155 1120,-155 1114,-155 1108,-149 1108,-143 1108,-143 1108,-84 1108,-84 1108,-78 1114,-72 1120,-72 1120,-72 1242,-72 1242,-72 1248,-72 1254,-78 1254,-84 1254,-84 1254,-143 1254,-143 1254,-149 1248,-155 1242,-155\"/>\r\n",
       "<text text-anchor=\"start\" x=\"1125.5\" y=\"-139.8\" font-family=\"Helvetica,sans-Serif\" font-size=\"14.00\">bb_down ≤ 0.052</text>\r\n",
       "<text text-anchor=\"start\" x=\"1152\" y=\"-124.8\" font-family=\"Helvetica,sans-Serif\" font-size=\"14.00\">gini = 0.5</text>\r\n",
       "<text text-anchor=\"start\" x=\"1129.5\" y=\"-109.8\" font-family=\"Helvetica,sans-Serif\" font-size=\"14.00\">samples = 4714</text>\r\n",
       "<text text-anchor=\"start\" x=\"1116\" y=\"-94.8\" font-family=\"Helvetica,sans-Serif\" font-size=\"14.00\">value = [2314, 2400]</text>\r\n",
       "<text text-anchor=\"start\" x=\"1147.5\" y=\"-79.8\" font-family=\"Helvetica,sans-Serif\" font-size=\"14.00\">class = Up</text>\r\n",
       "</g>\r\n",
       "<!-- 48&#45;&gt;56 -->\r\n",
       "<g id=\"edge28\" class=\"edge\"><title>48&#45;&gt;56</title>\r\n",
       "<path fill=\"none\" stroke=\"black\" d=\"M1076.51,-190.907C1089.67,-181.288 1103.8,-170.953 1117.29,-161.09\"/>\r\n",
       "<polygon fill=\"black\" stroke=\"black\" points=\"1119.58,-163.749 1125.59,-155.021 1115.45,-158.098 1119.58,-163.749\"/>\r\n",
       "</g>\r\n",
       "<!-- 50 -->\r\n",
       "<g id=\"node27\" class=\"node\"><title>50</title>\r\n",
       "<path fill=\"#c0c0c0\" stroke=\"black\" d=\"M990,-36C990,-36 960,-36 960,-36 954,-36 948,-30 948,-24 948,-24 948,-12 948,-12 948,-6 954,-0 960,-0 960,-0 990,-0 990,-0 996,-0 1002,-6 1002,-12 1002,-12 1002,-24 1002,-24 1002,-30 996,-36 990,-36\"/>\r\n",
       "<text text-anchor=\"middle\" x=\"975\" y=\"-14.3\" font-family=\"Helvetica,sans-Serif\" font-size=\"14.00\">(...)</text>\r\n",
       "</g>\r\n",
       "<!-- 49&#45;&gt;50 -->\r\n",
       "<g id=\"edge26\" class=\"edge\"><title>49&#45;&gt;50</title>\r\n",
       "<path fill=\"none\" stroke=\"black\" d=\"M1000.96,-71.7615C996.572,-62.8481 992.041,-53.6382 988.016,-45.4571\"/>\r\n",
       "<polygon fill=\"black\" stroke=\"black\" points=\"991.118,-43.8329 983.563,-36.4051 984.837,-46.9231 991.118,-43.8329\"/>\r\n",
       "</g>\r\n",
       "<!-- 53 -->\r\n",
       "<g id=\"node28\" class=\"node\"><title>53</title>\r\n",
       "<path fill=\"#c0c0c0\" stroke=\"black\" d=\"M1062,-36C1062,-36 1032,-36 1032,-36 1026,-36 1020,-30 1020,-24 1020,-24 1020,-12 1020,-12 1020,-6 1026,-0 1032,-0 1032,-0 1062,-0 1062,-0 1068,-0 1074,-6 1074,-12 1074,-12 1074,-24 1074,-24 1074,-30 1068,-36 1062,-36\"/>\r\n",
       "<text text-anchor=\"middle\" x=\"1047\" y=\"-14.3\" font-family=\"Helvetica,sans-Serif\" font-size=\"14.00\">(...)</text>\r\n",
       "</g>\r\n",
       "<!-- 49&#45;&gt;53 -->\r\n",
       "<g id=\"edge27\" class=\"edge\"><title>49&#45;&gt;53</title>\r\n",
       "<path fill=\"none\" stroke=\"black\" d=\"M1032.33,-71.7615C1034.73,-63.1387 1037.2,-54.2385 1039.42,-46.2606\"/>\r\n",
       "<polygon fill=\"black\" stroke=\"black\" points=\"1042.85,-46.9773 1042.16,-36.4051 1036.11,-45.1018 1042.85,-46.9773\"/>\r\n",
       "</g>\r\n",
       "<!-- 57 -->\r\n",
       "<g id=\"node30\" class=\"node\"><title>57</title>\r\n",
       "<path fill=\"#c0c0c0\" stroke=\"black\" d=\"M1160,-36C1160,-36 1130,-36 1130,-36 1124,-36 1118,-30 1118,-24 1118,-24 1118,-12 1118,-12 1118,-6 1124,-0 1130,-0 1130,-0 1160,-0 1160,-0 1166,-0 1172,-6 1172,-12 1172,-12 1172,-24 1172,-24 1172,-30 1166,-36 1160,-36\"/>\r\n",
       "<text text-anchor=\"middle\" x=\"1145\" y=\"-14.3\" font-family=\"Helvetica,sans-Serif\" font-size=\"14.00\">(...)</text>\r\n",
       "</g>\r\n",
       "<!-- 56&#45;&gt;57 -->\r\n",
       "<g id=\"edge29\" class=\"edge\"><title>56&#45;&gt;57</title>\r\n",
       "<path fill=\"none\" stroke=\"black\" d=\"M1165.31,-71.7615C1161.96,-63.0419 1158.49,-54.0385 1155.39,-45.9921\"/>\r\n",
       "<polygon fill=\"black\" stroke=\"black\" points=\"1158.56,-44.4797 1151.7,-36.4051 1152.03,-46.9949 1158.56,-44.4797\"/>\r\n",
       "</g>\r\n",
       "<!-- 60 -->\r\n",
       "<g id=\"node31\" class=\"node\"><title>60</title>\r\n",
       "<path fill=\"#c0c0c0\" stroke=\"black\" d=\"M1232,-36C1232,-36 1202,-36 1202,-36 1196,-36 1190,-30 1190,-24 1190,-24 1190,-12 1190,-12 1190,-6 1196,-0 1202,-0 1202,-0 1232,-0 1232,-0 1238,-0 1244,-6 1244,-12 1244,-12 1244,-24 1244,-24 1244,-30 1238,-36 1232,-36\"/>\r\n",
       "<text text-anchor=\"middle\" x=\"1217\" y=\"-14.3\" font-family=\"Helvetica,sans-Serif\" font-size=\"14.00\">(...)</text>\r\n",
       "</g>\r\n",
       "<!-- 56&#45;&gt;60 -->\r\n",
       "<g id=\"edge30\" class=\"edge\"><title>56&#45;&gt;60</title>\r\n",
       "<path fill=\"none\" stroke=\"black\" d=\"M1196.69,-71.7615C1200.04,-63.0419 1203.51,-54.0385 1206.61,-45.9921\"/>\r\n",
       "<polygon fill=\"black\" stroke=\"black\" points=\"1209.97,-46.9949 1210.3,-36.4051 1203.44,-44.4797 1209.97,-46.9949\"/>\r\n",
       "</g>\r\n",
       "</g>\r\n",
       "</svg>\r\n"
      ],
      "text/plain": [
       "<graphviz.files.Source at 0x201756992b0>"
      ]
     },
     "execution_count": 90,
     "metadata": {},
     "output_type": "execute_result"
    }
   ],
   "source": [
    "out_file = results_path / 'clf_tree.dot'\n",
    "dot_data = export_graphviz(clf,\n",
    "                           out_file=out_file.as_posix(),\n",
    "                           feature_names=X.columns,\n",
    "                           class_names=['Down', 'Up'],\n",
    "                           max_depth=3,\n",
    "                           filled=True,\n",
    "                           rounded=True,\n",
    "                           special_characters=True)\n",
    "if out_file is not None:\n",
    "    dot_data = Path(out_file).read_text()\n",
    "\n",
    "graphviz.Source(dot_data)"
   ]
  },
  {
   "cell_type": "markdown",
   "metadata": {},
   "source": [
    "### Evaluate Test Set"
   ]
  },
  {
   "cell_type": "markdown",
   "metadata": {},
   "source": [
    "To evaluate the predictive accuracy of our first classification tree, we will use our test set to generate predicted class probabilities. \n",
    "\n",
    "The `.predict_proba()` method produces one probability for each class. In the binary class, these probabilities are complementary and sum to 1, so we only need the value for the positive class. "
   ]
  },
  {
   "cell_type": "code",
   "execution_count": 91,
   "metadata": {
    "ExecuteTime": {
     "end_time": "2021-02-23T20:46:34.787806Z",
     "start_time": "2021-02-23T20:46:34.778677Z"
    }
   },
   "outputs": [],
   "source": [
    "y_score = clf.predict_proba(X=X_test)[:, 1]"
   ]
  },
  {
   "cell_type": "markdown",
   "metadata": {},
   "source": [
    "To evaluate the generalization error, we will use the area under the curve based on the receiver-operating characteristic that we introduced in Chapter 6, The Machine Learning Process. The result indicates a significant improvement above and beyond the baseline value of 0.5 for a random prediction:"
   ]
  },
  {
   "cell_type": "code",
   "execution_count": 92,
   "metadata": {
    "ExecuteTime": {
     "end_time": "2021-02-23T20:46:34.799495Z",
     "start_time": "2021-02-23T20:46:34.789074Z"
    }
   },
   "outputs": [
    {
     "data": {
      "text/plain": [
       "0.6313672725464331"
      ]
     },
     "execution_count": 92,
     "metadata": {},
     "output_type": "execute_result"
    }
   ],
   "source": [
    "roc_auc_score(y_score=y_score, y_true=y_test)"
   ]
  },
  {
   "cell_type": "markdown",
   "metadata": {},
   "source": [
    "### Print Decision Path"
   ]
  },
  {
   "cell_type": "markdown",
   "metadata": {},
   "source": [
    "Inspired by https://stackoverflow.com/questions/20224526/how-to-extract-the-decision-rules-from-scikit-learn-decision-tree"
   ]
  },
  {
   "cell_type": "code",
   "execution_count": 93,
   "metadata": {
    "ExecuteTime": {
     "end_time": "2021-02-23T20:46:34.806784Z",
     "start_time": "2021-02-23T20:46:34.801043Z"
    }
   },
   "outputs": [
    {
     "name": "stdout",
     "output_type": "stream",
     "text": [
      "Help on class Tree in module sklearn.tree._tree:\n",
      "\n",
      "class Tree(builtins.object)\n",
      " |  Array-based representation of a binary decision tree.\n",
      " |  \n",
      " |  The binary tree is represented as a number of parallel arrays. The i-th\n",
      " |  element of each array holds information about the node `i`. Node 0 is the\n",
      " |  tree's root. You can find a detailed description of all arrays in\n",
      " |  `_tree.pxd`. NOTE: Some of the arrays only apply to either leaves or split\n",
      " |  nodes, resp. In this case the values of nodes of the other type are\n",
      " |  arbitrary!\n",
      " |  \n",
      " |  Attributes\n",
      " |  ----------\n",
      " |  node_count : int\n",
      " |      The number of nodes (internal nodes + leaves) in the tree.\n",
      " |  \n",
      " |  capacity : int\n",
      " |      The current capacity (i.e., size) of the arrays, which is at least as\n",
      " |      great as `node_count`.\n",
      " |  \n",
      " |  max_depth : int\n",
      " |      The depth of the tree, i.e. the maximum depth of its leaves.\n",
      " |  \n",
      " |  children_left : array of int, shape [node_count]\n",
      " |      children_left[i] holds the node id of the left child of node i.\n",
      " |      For leaves, children_left[i] == TREE_LEAF. Otherwise,\n",
      " |      children_left[i] > i. This child handles the case where\n",
      " |      X[:, feature[i]] <= threshold[i].\n",
      " |  \n",
      " |  children_right : array of int, shape [node_count]\n",
      " |      children_right[i] holds the node id of the right child of node i.\n",
      " |      For leaves, children_right[i] == TREE_LEAF. Otherwise,\n",
      " |      children_right[i] > i. This child handles the case where\n",
      " |      X[:, feature[i]] > threshold[i].\n",
      " |  \n",
      " |  feature : array of int, shape [node_count]\n",
      " |      feature[i] holds the feature to split on, for the internal node i.\n",
      " |  \n",
      " |  threshold : array of double, shape [node_count]\n",
      " |      threshold[i] holds the threshold for the internal node i.\n",
      " |  \n",
      " |  value : array of double, shape [node_count, n_outputs, max_n_classes]\n",
      " |      Contains the constant prediction value of each node.\n",
      " |  \n",
      " |  impurity : array of double, shape [node_count]\n",
      " |      impurity[i] holds the impurity (i.e., the value of the splitting\n",
      " |      criterion) at node i.\n",
      " |  \n",
      " |  n_node_samples : array of int, shape [node_count]\n",
      " |      n_node_samples[i] holds the number of training samples reaching node i.\n",
      " |  \n",
      " |  weighted_n_node_samples : array of int, shape [node_count]\n",
      " |      weighted_n_node_samples[i] holds the weighted number of training samples\n",
      " |      reaching node i.\n",
      " |  \n",
      " |  Methods defined here:\n",
      " |  \n",
      " |  __getstate__(...)\n",
      " |      Getstate re-implementation, for pickling.\n",
      " |  \n",
      " |  __reduce__(...)\n",
      " |      Reduce re-implementation, for pickling.\n",
      " |  \n",
      " |  __setstate__(...)\n",
      " |      Setstate re-implementation, for unpickling.\n",
      " |  \n",
      " |  apply(...)\n",
      " |      Finds the terminal region (=leaf node) for each sample in X.\n",
      " |  \n",
      " |  compute_feature_importances(...)\n",
      " |      Computes the importance of each feature (aka variable).\n",
      " |  \n",
      " |  compute_partial_dependence(...)\n",
      " |      Partial dependence of the response on the ``target_feature`` set.\n",
      " |      \n",
      " |      For each sample in ``X`` a tree traversal is performed.\n",
      " |      Each traversal starts from the root with weight 1.0.\n",
      " |      \n",
      " |      At each non-leaf node that splits on a target feature, either\n",
      " |      the left child or the right child is visited based on the feature\n",
      " |      value of the current sample, and the weight is not modified.\n",
      " |      At each non-leaf node that splits on a complementary feature,\n",
      " |      both children are visited and the weight is multiplied by the fraction\n",
      " |      of training samples which went to each child.\n",
      " |      \n",
      " |      At each leaf, the value of the node is multiplied by the current\n",
      " |      weight (weights sum to 1 for all visited terminal nodes).\n",
      " |      \n",
      " |      Parameters\n",
      " |      ----------\n",
      " |      X : view on 2d ndarray, shape (n_samples, n_target_features)\n",
      " |          The grid points on which the partial dependence should be\n",
      " |          evaluated.\n",
      " |      target_features : view on 1d ndarray, shape (n_target_features)\n",
      " |          The set of target features for which the partial dependence\n",
      " |          should be evaluated.\n",
      " |      out : view on 1d ndarray, shape (n_samples)\n",
      " |          The value of the partial dependence function on each grid\n",
      " |          point.\n",
      " |  \n",
      " |  decision_path(...)\n",
      " |      Finds the decision path (=node) for each sample in X.\n",
      " |  \n",
      " |  predict(...)\n",
      " |      Predict target for X.\n",
      " |  \n",
      " |  ----------------------------------------------------------------------\n",
      " |  Static methods defined here:\n",
      " |  \n",
      " |  __new__(*args, **kwargs) from builtins.type\n",
      " |      Create and return a new object.  See help(type) for accurate signature.\n",
      " |  \n",
      " |  ----------------------------------------------------------------------\n",
      " |  Data descriptors defined here:\n",
      " |  \n",
      " |  capacity\n",
      " |  \n",
      " |  children_left\n",
      " |  \n",
      " |  children_right\n",
      " |  \n",
      " |  feature\n",
      " |  \n",
      " |  impurity\n",
      " |  \n",
      " |  max_depth\n",
      " |  \n",
      " |  max_n_classes\n",
      " |  \n",
      " |  n_classes\n",
      " |  \n",
      " |  n_features\n",
      " |  \n",
      " |  n_leaves\n",
      " |  \n",
      " |  n_node_samples\n",
      " |  \n",
      " |  n_outputs\n",
      " |  \n",
      " |  node_count\n",
      " |  \n",
      " |  threshold\n",
      " |  \n",
      " |  value\n",
      " |  \n",
      " |  weighted_n_node_samples\n",
      " |  \n",
      " |  ----------------------------------------------------------------------\n",
      " |  Data and other attributes defined here:\n",
      " |  \n",
      " |  __pyx_vtable__ = <capsule object NULL>\n",
      "\n"
     ]
    }
   ],
   "source": [
    "from sklearn.tree._tree import Tree\n",
    "help(Tree)"
   ]
  },
  {
   "cell_type": "code",
   "execution_count": 94,
   "metadata": {
    "ExecuteTime": {
     "end_time": "2021-02-23T20:46:34.823955Z",
     "start_time": "2021-02-23T20:46:34.808159Z"
    }
   },
   "outputs": [],
   "source": [
    "def tree_to_code(tree, feature_names):\n",
    "    if isinstance(tree, DecisionTreeClassifier):\n",
    "        model = 'clf'\n",
    "    elif isinstance(tree, DecisionTreeRegressor):\n",
    "        model = 'reg'\n",
    "    else:\n",
    "        raise ValueError('Need Regression or Classification Tree')\n",
    "        \n",
    "    tree_ = tree.tree_\n",
    "    feature_name = [\n",
    "        feature_names[i] if i != _tree.TREE_UNDEFINED else \"undefined!\"\n",
    "        for i in tree_.feature\n",
    "    ]\n",
    "    print(\"def tree({}):\".format(\", \".join(feature_names)))\n",
    "\n",
    "    def recurse(node, depth):\n",
    "        indent = \"  \" * depth\n",
    "        if tree_.feature[node] != _tree.TREE_UNDEFINED:\n",
    "            name = feature_name[node]\n",
    "            threshold = tree_.threshold[node]\n",
    "            print(indent, f'if {name} <= {threshold:.2%}')\n",
    "            recurse(tree_.children_left[node], depth + 1)\n",
    "            print(indent, f'else:  # if {name} > {threshold:.2%}')\n",
    "            recurse(tree_.children_right[node], depth + 1)\n",
    "        else:\n",
    "            pred = tree_.value[node][0]\n",
    "            val = pred[1]/sum(pred) if model == 'clf' else pred[0]\n",
    "            print(indent, f'return {val:.2%}')\n",
    "    recurse(0, 1)"
   ]
  },
  {
   "cell_type": "code",
   "execution_count": 95,
   "metadata": {
    "ExecuteTime": {
     "end_time": "2021-02-23T20:46:34.852209Z",
     "start_time": "2021-02-23T20:46:34.825114Z"
    }
   },
   "outputs": [
    {
     "name": "stdout",
     "output_type": "stream",
     "text": [
      "def tree(t-1, t-2):\n",
      "   if t-1 <= -7.44%\n",
      "     if t-1 <= -25.72%\n",
      "       return 40.94%\n",
      "     else:  # if t-1 > -25.72%\n",
      "       if t-2 <= -6.72%\n",
      "         if t-1 <= -8.81%\n",
      "           if t-1 <= -8.88%\n",
      "             return 55.26%\n",
      "           else:  # if t-1 > -8.88%\n",
      "             return 23.08%\n",
      "         else:  # if t-1 > -8.81%\n",
      "           return 64.47%\n",
      "       else:  # if t-2 > -6.72%\n",
      "         if t-1 <= -13.61%\n",
      "           if t-2 <= 4.83%\n",
      "             return 44.72%\n",
      "           else:  # if t-2 > 4.83%\n",
      "             return 50.09%\n",
      "         else:  # if t-1 > -13.61%\n",
      "           if t-2 <= 8.26%\n",
      "             return 51.19%\n",
      "           else:  # if t-2 > 8.26%\n",
      "             return 56.97%\n",
      "   else:  # if t-1 > -7.44%\n",
      "     if t-1 <= 6.76%\n",
      "       if t-2 <= -6.66%\n",
      "         if t-1 <= 6.15%\n",
      "           if t-1 <= -7.16%\n",
      "             return 72.22%\n",
      "           else:  # if t-1 > -7.16%\n",
      "             return 54.31%\n",
      "         else:  # if t-1 > 6.15%\n",
      "           return 66.46%\n",
      "       else:  # if t-2 > -6.66%\n",
      "         if t-2 <= -6.11%\n",
      "           return 68.22%\n",
      "         else:  # if t-2 > -6.11%\n",
      "           if t-2 <= 17.86%\n",
      "             return 57.84%\n",
      "           else:  # if t-2 > 17.86%\n",
      "             return 53.04%\n",
      "     else:  # if t-1 > 6.76%\n",
      "       if t-2 <= 10.66%\n",
      "         if t-2 <= -10.81%\n",
      "           if t-1 <= 28.33%\n",
      "             return 50.88%\n",
      "           else:  # if t-1 > 28.33%\n",
      "             return 62.29%\n",
      "         else:  # if t-2 > -10.81%\n",
      "           if t-2 <= 3.57%\n",
      "             return 57.25%\n",
      "           else:  # if t-2 > 3.57%\n",
      "             return 53.67%\n",
      "       else:  # if t-2 > 10.66%\n",
      "         if t-1 <= 18.83%\n",
      "           return 51.39%\n",
      "         else:  # if t-1 > 18.83%\n",
      "           return 43.17%\n"
     ]
    }
   ],
   "source": [
    "tree_to_code(clf_tree_t2, X2.columns)"
   ]
  },
  {
   "cell_type": "markdown",
   "metadata": {},
   "source": [
    "## Overfitting, Regularization & Parameter Tuning"
   ]
  },
  {
   "cell_type": "markdown",
   "metadata": {},
   "source": [
    "Decision trees have a strong tendency to overfit, especially when a dataset has a large number of features relative to the number of samples. As discussed in previous chapters, overfitting increases the prediction error because the model does not only learn the signal contained in the training data, but also the noise.\n",
    "There are several ways to address the risk of overfitting."
   ]
  },
  {
   "cell_type": "markdown",
   "metadata": {},
   "source": [
    "Decision trees provide several regularization hyperparameters to limit the growth of a tree and the associated complexity. While every split increases the number of nodes, it also reduces the number of samples available per node to support a prediction. For each additional level, twice the number of samples is needed to populate the new nodes with the same sample density. "
   ]
  },
  {
   "cell_type": "markdown",
   "metadata": {},
   "source": [
    "### Decision Tree Parameters"
   ]
  },
  {
   "cell_type": "markdown",
   "metadata": {},
   "source": [
    "The following table lists key parameters available for this purpose in the sklearn decision tree implementation. After introducing the most important parameters, we will illustrate how to use cross-validation to optimize the hyperparameter settings with respect to the bias-variance tradeoff and lower prediction errors:"
   ]
  },
  {
   "cell_type": "markdown",
   "metadata": {},
   "source": [
    "| Parameter                | Default | Options                                                                                                                                                               | Description                                                                                                                                                                                                             |\n",
    "|--------------------------|---------|-----------------------------------------------------------------------------------------------------------------------------------------------------------------------|-------------------------------------------------------------------------------------------------------------------------------------------------------------------------------------------------------------------------|\n",
    "| criterion                | gini    | Regression: MSE, MAE Classification: Gini impurity, Cross Entropy                                                                                                     | Metric to evaluate split quality.                                                                                                                                                                                       |\n",
    "| splitter                 | best    | best, random                                                                                                                                                          | How to choose the split at each node. Supported strategies are “best” to choose the best split and “random” to choose the best random split.                                                                            |\n",
    "| max_depth                | None    | int                                                                                                                                                                   | Max # of levels in tree. Split nodes until max_depth is reached or all leaves are pure or all leaves contain less than min_samples_split samples.                                                                       |\n",
    "| max_features             | None    | None: max_features=n_features; int; float (fraction): int(max_features * n_features)  auto, sqrt: max_features=sqrt(n_features). log2: max_features=log2(n_features). | # of features to consider when evaluating split                                                                                                                                                                         |\n",
    "| max_leaf_nodes           | None    | None: unlimited # of leaf nodes int                                                                                                                                   | Continue to split nodes that reduce relative impurity the most until reaching max_leaf_nodes.                                                                                                                           |\n",
    "| min_impurity_decrease    | 0       | float                                                                                                                                                                 | Split node if impurity decreases by at least this value.                                                                                                                                                                |\n",
    "| min_samples_leaf         | 1       | int; float (as percentage of N)                                                                                                                                       | Minimum # of samples to be at a leaf node. A split will only be considered if there are at least min_samples_leaf training samples in each of the left and right branches. May smoothen the model, esp. for regression. |\n",
    "| min_samples_split        | 2       | int; float (as percentage of N)                                                                                                                                       | The minimum number of samples required to split an internal node:                                                                                                                                                       |\n",
    "| min_weight_fraction_leaf | 0       | NA                                                                                                                                                                    | The minimum weighted fraction of the sum total of weights (of all the input samples) required to be at a leaf node. Samples have equal weight when sample_weight is not provided (in fit method).                       |\n",
    "| class_weight             | None    | balanced: inversely proportional to class frequencies dict: {class_label: weight} list of dicts (for multi-output)                                                    | Weights associated with classes                                                                                                                                                                                         |"
   ]
  },
  {
   "cell_type": "markdown",
   "metadata": {},
   "source": [
    "The `max_depth` parameter imposes a hard limit on the number of consecutive splits and represents the most straightforward way to cap the growth of a tree.\n",
    "\n",
    "The m`in_samples_split` and `min_samples_leaf` parameters are alternative, data-driven ways to limit the growth of a tree. Rather than imposing a hard limit on the number of consecutive splits, these parameters control the minimum number of samples required to further split the data. The latter guarantees a certain number of samples per leaf, while the former can create very small leaves if a split results in a very uneven distribution. Small parameter values facilitate overfitting, while a high number may prevent the tree from learning the signal in the data. \n",
    "\n",
    "The default values are often quite low, and you should use cross-validation to explore a range of potential values. You can also use a float to indicate a percentage as opposed to an absolute number. "
   ]
  },
  {
   "cell_type": "markdown",
   "metadata": {},
   "source": [
    "### Cross-validation parameters"
   ]
  },
  {
   "cell_type": "code",
   "execution_count": 96,
   "metadata": {
    "ExecuteTime": {
     "end_time": "2021-02-23T20:46:34.861484Z",
     "start_time": "2021-02-23T20:46:34.853436Z"
    }
   },
   "outputs": [],
   "source": [
    "n_splits = 10\n",
    "train_period_length = 60\n",
    "test_period_length = 6\n",
    "lookahead = 1\n",
    "\n",
    "cv = MultipleTimeSeriesCV(n_splits=n_splits,\n",
    "                          train_period_length=train_period_length,\n",
    "                          test_period_length=test_period_length,\n",
    "                          lookahead=lookahead)"
   ]
  },
  {
   "cell_type": "code",
   "execution_count": 97,
   "metadata": {
    "ExecuteTime": {
     "end_time": "2021-02-23T20:46:34.870251Z",
     "start_time": "2021-02-23T20:46:34.862679Z"
    }
   },
   "outputs": [],
   "source": [
    "max_depths = range(1, 16)"
   ]
  },
  {
   "cell_type": "markdown",
   "metadata": {},
   "source": [
    "### Finding the best trees using GridSearchCV"
   ]
  },
  {
   "cell_type": "markdown",
   "metadata": {},
   "source": [
    "scikit-learn provides a method to define ranges of values for multiple hyperparameters. It automates the process of cross-validating the various combinations of these parameter values to identify the optimal configuration. Let's walk through the process of automatically tuning your model."
   ]
  },
  {
   "cell_type": "markdown",
   "metadata": {},
   "source": [
    "#### Define parameter grid"
   ]
  },
  {
   "cell_type": "markdown",
   "metadata": {},
   "source": [
    "The first step is to define a dictionary where the keywords name the hyperparameters, and the values list the parameter settings to be tested:"
   ]
  },
  {
   "cell_type": "code",
   "execution_count": 98,
   "metadata": {
    "ExecuteTime": {
     "end_time": "2021-02-23T20:46:34.878507Z",
     "start_time": "2021-02-23T20:46:34.871295Z"
    }
   },
   "outputs": [],
   "source": [
    "param_grid = {'max_depth': [2, 3, 4, 5, 6, 7, 8, 10, 12, 15],\n",
    "              'min_samples_leaf': [5, 25, 50, 100],\n",
    "              'max_features': ['sqrt', 'auto']}"
   ]
  },
  {
   "cell_type": "markdown",
   "metadata": {},
   "source": [
    "#### Classification Tree"
   ]
  },
  {
   "cell_type": "markdown",
   "metadata": {},
   "source": [
    "Then, we instantiate a model object:"
   ]
  },
  {
   "cell_type": "code",
   "execution_count": 99,
   "metadata": {
    "ExecuteTime": {
     "end_time": "2021-02-23T20:46:34.886628Z",
     "start_time": "2021-02-23T20:46:34.879845Z"
    }
   },
   "outputs": [],
   "source": [
    "clf = DecisionTreeClassifier(random_state=42)"
   ]
  },
  {
   "cell_type": "markdown",
   "metadata": {},
   "source": [
    "Now we instantiate the GridSearchCV object, providing the estimator object and parameter grid, as well as a scoring method and cross-validation choice to the initialization method. We'll use an object of our custom OneStepTimeSeriesSplit class, initialized to use ten folds for the cv parameter, and set the scoring to the roc_auc metric. We can parallelize the search using the n_jobs parameter and automatically obtain a trained model that uses the optimal hyperparameters by setting `refit=True`."
   ]
  },
  {
   "cell_type": "code",
   "execution_count": 100,
   "metadata": {
    "ExecuteTime": {
     "end_time": "2021-02-23T20:46:34.895019Z",
     "start_time": "2021-02-23T20:46:34.887928Z"
    }
   },
   "outputs": [],
   "source": [
    "gridsearch_clf = GridSearchCV(estimator=clf,\n",
    "                          param_grid=param_grid,\n",
    "                          scoring='roc_auc',\n",
    "                          n_jobs=-1,\n",
    "                          cv=cv,\n",
    "                          refit=True,\n",
    "                          return_train_score=True)"
   ]
  },
  {
   "cell_type": "markdown",
   "metadata": {},
   "source": [
    "With all settings in place, we can fit GridSearchCV just like any other model:"
   ]
  },
  {
   "cell_type": "code",
   "execution_count": 101,
   "metadata": {
    "ExecuteTime": {
     "end_time": "2021-02-23T20:46:53.287807Z",
     "start_time": "2021-02-23T20:46:34.896309Z"
    }
   },
   "outputs": [
    {
     "data": {
      "text/plain": [
       "GridSearchCV(cv=<__main__.MultipleTimeSeriesCV object at 0x00000201756D8E80>,\n",
       "             estimator=DecisionTreeClassifier(random_state=42), n_jobs=-1,\n",
       "             param_grid={'max_depth': [2, 3, 4, 5, 6, 7, 8, 10, 12, 15],\n",
       "                         'max_features': ['sqrt', 'auto'],\n",
       "                         'min_samples_leaf': [5, 25, 50, 100]},\n",
       "             return_train_score=True, scoring='roc_auc')"
      ]
     },
     "execution_count": 101,
     "metadata": {},
     "output_type": "execute_result"
    }
   ],
   "source": [
    "gridsearch_clf.fit(X=X, y=y_binary)"
   ]
  },
  {
   "cell_type": "markdown",
   "metadata": {},
   "source": [
    "The training process produces some new attributes for our GridSearchCV object, most importantly the information about the optimal settings and the best cross-validation score (now using the proper setup that avoids lookahead bias).\n",
    "\n",
    "Setting `max_depth` to 10, `min_samples_leaf` to 750, and randomly selecting only a number corresponding to the square root of the total number of features when deciding on a split, produces the best results, with an AUC of 0.532:"
   ]
  },
  {
   "cell_type": "code",
   "execution_count": 102,
   "metadata": {
    "ExecuteTime": {
     "end_time": "2021-02-23T20:46:53.293293Z",
     "start_time": "2021-02-23T20:46:53.289246Z"
    }
   },
   "outputs": [
    {
     "data": {
      "text/plain": [
       "{'max_depth': 10, 'max_features': 'sqrt', 'min_samples_leaf': 25}"
      ]
     },
     "execution_count": 102,
     "metadata": {},
     "output_type": "execute_result"
    }
   ],
   "source": [
    "gridsearch_clf.best_params_"
   ]
  },
  {
   "cell_type": "code",
   "execution_count": 103,
   "metadata": {
    "ExecuteTime": {
     "end_time": "2021-02-23T20:46:53.304298Z",
     "start_time": "2021-02-23T20:46:53.295988Z"
    }
   },
   "outputs": [
    {
     "data": {
      "text/plain": [
       "0.5280526674462321"
      ]
     },
     "execution_count": 103,
     "metadata": {},
     "output_type": "execute_result"
    }
   ],
   "source": [
    "gridsearch_clf.best_score_"
   ]
  },
  {
   "cell_type": "markdown",
   "metadata": {},
   "source": [
    "#### Define Custom IC score"
   ]
  },
  {
   "cell_type": "code",
   "execution_count": 104,
   "metadata": {
    "ExecuteTime": {
     "end_time": "2021-02-23T20:46:53.312057Z",
     "start_time": "2021-02-23T20:46:53.305920Z"
    }
   },
   "outputs": [],
   "source": [
    "def rank_correl(y, y_pred):\n",
    "    return spearmanr(y, y_pred)[0]\n",
    "ic = make_scorer(rank_correl)"
   ]
  },
  {
   "cell_type": "markdown",
   "metadata": {},
   "source": [
    "#### Regression Tree"
   ]
  },
  {
   "cell_type": "code",
   "execution_count": 105,
   "metadata": {
    "ExecuteTime": {
     "end_time": "2021-02-23T20:46:53.320963Z",
     "start_time": "2021-02-23T20:46:53.313517Z"
    }
   },
   "outputs": [],
   "source": [
    "reg_tree = DecisionTreeRegressor(random_state=42)"
   ]
  },
  {
   "cell_type": "code",
   "execution_count": 106,
   "metadata": {
    "ExecuteTime": {
     "end_time": "2021-02-23T20:46:53.328947Z",
     "start_time": "2021-02-23T20:46:53.322075Z"
    }
   },
   "outputs": [],
   "source": [
    "gridsearch_reg = GridSearchCV(estimator=reg_tree,\n",
    "                              param_grid=param_grid,\n",
    "                              scoring=ic,\n",
    "                              n_jobs=-1,\n",
    "                              cv=cv,\n",
    "                              refit=True,\n",
    "                              return_train_score=True)"
   ]
  },
  {
   "cell_type": "code",
   "execution_count": 107,
   "metadata": {
    "ExecuteTime": {
     "end_time": "2021-02-23T20:47:32.157819Z",
     "start_time": "2021-02-23T20:46:53.330475Z"
    }
   },
   "outputs": [
    {
     "data": {
      "text/plain": [
       "GridSearchCV(cv=<__main__.MultipleTimeSeriesCV object at 0x00000201756D8E80>,\n",
       "             estimator=DecisionTreeRegressor(random_state=42), n_jobs=-1,\n",
       "             param_grid={'max_depth': [2, 3, 4, 5, 6, 7, 8, 10, 12, 15],\n",
       "                         'max_features': ['sqrt', 'auto'],\n",
       "                         'min_samples_leaf': [5, 25, 50, 100]},\n",
       "             return_train_score=True, scoring=make_scorer(rank_correl))"
      ]
     },
     "execution_count": 107,
     "metadata": {},
     "output_type": "execute_result"
    }
   ],
   "source": [
    "gridsearch_reg.fit(X=X, y=y)"
   ]
  },
  {
   "cell_type": "code",
   "execution_count": 108,
   "metadata": {
    "ExecuteTime": {
     "end_time": "2021-02-23T20:47:32.162156Z",
     "start_time": "2021-02-23T20:47:32.159000Z"
    }
   },
   "outputs": [
    {
     "data": {
      "text/plain": [
       "{'max_depth': 5, 'max_features': 'sqrt', 'min_samples_leaf': 5}"
      ]
     },
     "execution_count": 108,
     "metadata": {},
     "output_type": "execute_result"
    }
   ],
   "source": [
    "gridsearch_reg.best_params_"
   ]
  },
  {
   "cell_type": "code",
   "execution_count": 109,
   "metadata": {
    "ExecuteTime": {
     "end_time": "2021-02-23T20:47:32.172342Z",
     "start_time": "2021-02-23T20:47:32.163424Z"
    }
   },
   "outputs": [
    {
     "data": {
      "text/plain": [
       "0.08994729902344606"
      ]
     },
     "execution_count": 109,
     "metadata": {},
     "output_type": "execute_result"
    }
   ],
   "source": [
    "gridsearch_reg.best_score_"
   ]
  },
  {
   "cell_type": "code",
   "execution_count": 110,
   "metadata": {
    "ExecuteTime": {
     "end_time": "2021-02-23T20:47:32.188080Z",
     "start_time": "2021-02-23T20:47:32.173666Z"
    }
   },
   "outputs": [
    {
     "data": {
      "text/html": [
       "<div>\n",
       "<style scoped>\n",
       "    .dataframe tbody tr th:only-of-type {\n",
       "        vertical-align: middle;\n",
       "    }\n",
       "\n",
       "    .dataframe tbody tr th {\n",
       "        vertical-align: top;\n",
       "    }\n",
       "\n",
       "    .dataframe thead th {\n",
       "        text-align: right;\n",
       "    }\n",
       "</style>\n",
       "<table border=\"1\" class=\"dataframe\">\n",
       "  <thead>\n",
       "    <tr style=\"text-align: right;\">\n",
       "      <th></th>\n",
       "      <th>Regression</th>\n",
       "      <th>Classification</th>\n",
       "    </tr>\n",
       "  </thead>\n",
       "  <tbody>\n",
       "    <tr>\n",
       "      <th>max_depth</th>\n",
       "      <td>5</td>\n",
       "      <td>10</td>\n",
       "    </tr>\n",
       "    <tr>\n",
       "      <th>max_features</th>\n",
       "      <td>sqrt</td>\n",
       "      <td>sqrt</td>\n",
       "    </tr>\n",
       "    <tr>\n",
       "      <th>min_samples_leaf</th>\n",
       "      <td>5</td>\n",
       "      <td>25</td>\n",
       "    </tr>\n",
       "  </tbody>\n",
       "</table>\n",
       "</div>"
      ],
      "text/plain": [
       "                 Regression Classification\n",
       "max_depth                 5             10\n",
       "max_features           sqrt           sqrt\n",
       "min_samples_leaf          5             25"
      ]
     },
     "execution_count": 110,
     "metadata": {},
     "output_type": "execute_result"
    }
   ],
   "source": [
    "pd.DataFrame({'Regression': pd.Series(gridsearch_reg.best_params_),\n",
    "              'Classification': pd.Series(gridsearch_clf.best_params_)})"
   ]
  },
  {
   "cell_type": "markdown",
   "metadata": {},
   "source": [
    "### Classifier Cross-Validation"
   ]
  },
  {
   "cell_type": "markdown",
   "metadata": {},
   "source": [
    "Cross-validation is the most important tool to obtain an unbiased estimate of the generalization error, which in turn permits an informed choice among the various configuration options. sklearn offers several tools to facilitate the process of cross-validating numerous parameter settings, namely the GridSearchCV convenience class that we will illustrate in the next section. "
   ]
  },
  {
   "cell_type": "markdown",
   "metadata": {},
   "source": [
    "The following code illustrates how to run cross-validation more manually to obtain custom tree attributes, such as the total number of nodes or leaf nodes associated with certain hyperparameter settings. \n",
    "\n",
    "The following function accesses the internal `.tree_` attribute to retrieve information about the total node count, and how many of these nodes are leaf nodes:"
   ]
  },
  {
   "cell_type": "code",
   "execution_count": 111,
   "metadata": {
    "ExecuteTime": {
     "end_time": "2021-02-23T20:47:32.193091Z",
     "start_time": "2021-02-23T20:47:32.189540Z"
    }
   },
   "outputs": [],
   "source": [
    "def get_leaves_count(tree):\n",
    "    t = tree.tree_\n",
    "    n = t.node_count\n",
    "    leaves = len([i for i in range(t.node_count) if t.children_left[i]== -1])\n",
    "    return leaves"
   ]
  },
  {
   "cell_type": "markdown",
   "metadata": {},
   "source": [
    "We can combine this information with the train and test scores to gain detailed knowledge about the model behavior throughout the cross-validation process, as follows:"
   ]
  },
  {
   "cell_type": "code",
   "execution_count": 112,
   "metadata": {
    "ExecuteTime": {
     "end_time": "2021-02-23T20:47:45.254814Z",
     "start_time": "2021-02-23T20:47:32.194302Z"
    },
    "scrolled": true
   },
   "outputs": [
    {
     "name": "stdout",
     "output_type": "stream",
     "text": [
      "1 2 3 4 5 6 7 8 9 10 11 12 13 14 15 "
     ]
    }
   ],
   "source": [
    "train_scores, val_scores, leaves = {}, {}, {}\n",
    "for max_depth in max_depths:\n",
    "    print(max_depth, end=' ', flush=True)\n",
    "    clf = DecisionTreeClassifier(criterion='gini', \n",
    "                                 max_depth=max_depth,\n",
    "                                 min_samples_leaf=5,\n",
    "                                 max_features='sqrt',\n",
    "                                 random_state=42)\n",
    "    train_scores[max_depth], val_scores[max_depth], leaves[max_depth] = [], [], []\n",
    "    for train_idx, test_idx in cv.split(X):\n",
    "        X_train, y_train,  = X.iloc[train_idx], y_binary.iloc[train_idx]\n",
    "        X_test, y_test = X.iloc[test_idx], y_binary.iloc[test_idx]\n",
    "        clf.fit(X=X_train, y=y_train)\n",
    "\n",
    "        train_pred = clf.predict_proba(X=X_train)[:, 1]\n",
    "        train_score = roc_auc_score(y_score=train_pred, y_true=y_train)\n",
    "        train_scores[max_depth].append(train_score)\n",
    "\n",
    "        test_pred = clf.predict_proba(X=X_test)[:, 1]\n",
    "        val_score = roc_auc_score(y_score=test_pred, y_true=y_test)\n",
    "        val_scores[max_depth].append(val_score)    \n",
    "        leaves[max_depth].append(get_leaves_count(clf))\n",
    "        \n",
    "clf_train_scores = pd.DataFrame(train_scores)\n",
    "clf_valid_scores = pd.DataFrame(val_scores)\n",
    "clf_leaves = pd.DataFrame(leaves)"
   ]
  },
  {
   "cell_type": "code",
   "execution_count": 113,
   "metadata": {
    "ExecuteTime": {
     "end_time": "2021-02-23T20:47:45.262355Z",
     "start_time": "2021-02-23T20:47:45.255923Z"
    }
   },
   "outputs": [],
   "source": [
    "clf_cv_data = pd.concat([pd.melt(clf_train_scores,\n",
    "                                 var_name='Max. Depth',\n",
    "                                 value_name='ROC AUC').assign(Data='Train'),\n",
    "                         pd.melt(clf_valid_scores,\n",
    "                                 var_name='Max. Depth',\n",
    "                                 value_name='ROC AUC').assign(Data='Valid')])"
   ]
  },
  {
   "cell_type": "markdown",
   "metadata": {},
   "source": [
    "### Regression tree cross-validation"
   ]
  },
  {
   "cell_type": "markdown",
   "metadata": {},
   "source": [
    "#### Run cross-validation"
   ]
  },
  {
   "cell_type": "code",
   "execution_count": 114,
   "metadata": {
    "ExecuteTime": {
     "end_time": "2021-02-23T20:47:56.363431Z",
     "start_time": "2021-02-23T20:47:45.263642Z"
    }
   },
   "outputs": [
    {
     "name": "stdout",
     "output_type": "stream",
     "text": [
      "1 2 3 4 5 6 7 8 9 10 11 12 13 14 15 "
     ]
    }
   ],
   "source": [
    "train_scores, val_scores, leaves = {}, {}, {}\n",
    "for max_depth in max_depths:\n",
    "    print(max_depth, end=' ', flush=True)\n",
    "    reg_tree = DecisionTreeRegressor(max_depth=max_depth,\n",
    "                                     min_samples_leaf=50,\n",
    "                                     max_features= 'sqrt',\n",
    "                                     random_state=42)\n",
    "    train_scores[max_depth], val_scores[max_depth], leaves[max_depth] = [], [], []\n",
    "    for train_idx, test_idx in cv.split(X):\n",
    "        X_train, y_train,  = X.iloc[train_idx], y.iloc[train_idx]\n",
    "        X_test, y_test = X.iloc[test_idx], y.iloc[test_idx]\n",
    "        reg_tree.fit(X=X_train, y=y_train)\n",
    "\n",
    "        train_pred = reg_tree.predict(X=X_train)\n",
    "        train_score = spearmanr(train_pred, y_train)[0]\n",
    "        train_scores[max_depth].append(train_score)\n",
    "\n",
    "        test_pred = reg_tree.predict(X=X_test)\n",
    "        val_score = spearmanr(test_pred, y_test)[0]\n",
    "        val_scores[max_depth].append(val_score)\n",
    "        leaves[max_depth].append(get_leaves_count(reg_tree))\n",
    "\n",
    "reg_train_scores = pd.DataFrame(train_scores)\n",
    "reg_valid_scores = pd.DataFrame(val_scores)\n",
    "reg_leaves = pd.DataFrame(leaves)"
   ]
  },
  {
   "cell_type": "code",
   "execution_count": 115,
   "metadata": {
    "ExecuteTime": {
     "end_time": "2021-02-23T20:47:56.373417Z",
     "start_time": "2021-02-23T20:47:56.364615Z"
    }
   },
   "outputs": [],
   "source": [
    "reg_cv_data = (pd.melt(reg_train_scores, var_name='Max. Depth',\n",
    "                         value_name='IC').assign(Data='Train').append(\n",
    "    pd.melt(reg_valid_scores,\n",
    "            var_name='Max. Depth',\n",
    "            value_name='IC').assign(Data='Valid')))"
   ]
  },
  {
   "cell_type": "markdown",
   "metadata": {},
   "source": [
    "### Compare CV Results"
   ]
  },
  {
   "cell_type": "code",
   "execution_count": 116,
   "metadata": {
    "ExecuteTime": {
     "end_time": "2021-02-23T20:47:57.914668Z",
     "start_time": "2021-02-23T20:47:56.374676Z"
    },
    "scrolled": true
   },
   "outputs": [
    {
     "data": {
      "image/png": "[encoded data removed]",
      "text/plain": [
       "<Figure size 1008x360 with 2 Axes>"
      ]
     },
     "metadata": {},
     "output_type": "display_data"
    }
   ],
   "source": [
    "fig, axes = plt.subplots(ncols=2, figsize=(14, 5))\n",
    "\n",
    "sns.lineplot(data=reg_cv_data,\n",
    "             x='Max. Depth', y='IC',\n",
    "             hue='Data', ci=95,\n",
    "             ax=axes[0], lw=2)\n",
    "\n",
    "axes[0].set_title('Regression Tree')\n",
    "axes[0].axvline(x=reg_valid_scores.mean().idxmax(), ls='--', c='k', lw=1)\n",
    "axes[0].axhline(y=0, ls='--', c='k', lw=1)\n",
    "\n",
    "sns.lineplot(data=clf_cv_data,\n",
    "             x='Max. Depth', y='ROC AUC',\n",
    "             hue='Data', ci=95,\n",
    "             ax=axes[1], lw=2)\n",
    "\n",
    "axes[1].set_title('Classification Tree')\n",
    "axes[1].axvline(x=clf_valid_scores.mean().idxmax(), ls='--', c='k', lw=1)\n",
    "axes[1].axhline(y=.5, ls='--', c='k', lw=1)\n",
    "for ax in axes:\n",
    "    ax.set_xlim(min(param_grid['max_depth']),\n",
    "                max(param_grid['max_depth']))\n",
    "\n",
    "fig.suptitle(f'Train-Validation Scores', fontsize=14)\n",
    "sns.despine()\n",
    "fig.tight_layout()\n",
    "fig.subplots_adjust(top=.91)"
   ]
  },
  {
   "cell_type": "markdown",
   "metadata": {},
   "source": [
    "### Learning Curves for best models"
   ]
  },
  {
   "cell_type": "markdown",
   "metadata": {},
   "source": [
    "A learning curve is a useful tool that displays how the validation and training score evolve as the number of training samples evolves.\n",
    "\n",
    "The purpose of the learning curve is to find out whether and how much the model would benefit from using more data during training. It is also useful to diagnose whether the model's generalization error is more likely driven by bias or variance.\n",
    "\n",
    "If, for example, both the validation score and the training score converge to a similarly low value despite an increasing training set size, the error is more likely due to bias, and additional training data is unlikely to help."
   ]
  },
  {
   "cell_type": "markdown",
   "metadata": {},
   "source": [
    "#### Classifier"
   ]
  },
  {
   "cell_type": "code",
   "execution_count": 117,
   "metadata": {
    "ExecuteTime": {
     "end_time": "2021-02-23T20:47:57.918459Z",
     "start_time": "2021-02-23T20:47:57.916153Z"
    }
   },
   "outputs": [],
   "source": [
    "sizes = np.arange(.1, 1.01, .1)"
   ]
  },
  {
   "cell_type": "code",
   "execution_count": 118,
   "metadata": {
    "ExecuteTime": {
     "end_time": "2021-02-23T20:47:59.668857Z",
     "start_time": "2021-02-23T20:47:57.919696Z"
    }
   },
   "outputs": [],
   "source": [
    "train_sizes, train_scores, valid_scores = learning_curve(gridsearch_clf.best_estimator_,\n",
    "                                                         X,\n",
    "                                                         y_binary,\n",
    "                                                         train_sizes=sizes,\n",
    "                                                         cv=cv,\n",
    "                                                         scoring='roc_auc',\n",
    "                                                         n_jobs=-1,\n",
    "                                                         shuffle=True,\n",
    "                                                         random_state=42)"
   ]
  },
  {
   "cell_type": "code",
   "execution_count": 119,
   "metadata": {
    "ExecuteTime": {
     "end_time": "2021-02-23T20:47:59.682037Z",
     "start_time": "2021-02-23T20:47:59.669934Z"
    }
   },
   "outputs": [
    {
     "name": "stdout",
     "output_type": "stream",
     "text": [
      "<class 'pandas.core.frame.DataFrame'>\n",
      "Int64Index: 200 entries, 0 to 99\n",
      "Data columns (total 3 columns):\n",
      " #   Column      Non-Null Count  Dtype  \n",
      "---  ------      --------------  -----  \n",
      " 0   Train Size  200 non-null    int64  \n",
      " 1   ROC AUC     200 non-null    float64\n",
      " 2   Data        200 non-null    object \n",
      "dtypes: float64(1), int64(1), object(1)\n",
      "memory usage: 6.2+ KB\n"
     ]
    }
   ],
   "source": [
    "clf_lc_data = pd.concat([\n",
    "    pd.melt(pd.DataFrame(train_scores.T, columns=train_sizes),\n",
    "            var_name='Train Size',\n",
    "            value_name='ROC AUC').assign(Data='Train'),\n",
    "    pd.melt(pd.DataFrame(valid_scores.T, columns=train_sizes),\n",
    "            var_name='Train Size',\n",
    "            value_name='ROC AUC').assign(Data='Valid')])\n",
    "clf_lc_data.info()"
   ]
  },
  {
   "cell_type": "markdown",
   "metadata": {},
   "source": [
    "#### Regression Tree"
   ]
  },
  {
   "cell_type": "code",
   "execution_count": 120,
   "metadata": {
    "ExecuteTime": {
     "end_time": "2021-02-23T20:48:01.207217Z",
     "start_time": "2021-02-23T20:47:59.683180Z"
    }
   },
   "outputs": [],
   "source": [
    "train_sizes, train_scores, valid_scores = learning_curve(gridsearch_reg.best_estimator_,\n",
    "                                                         X, y,\n",
    "                                                         train_sizes=sizes,\n",
    "                                                         cv=cv,\n",
    "                                                         scoring=ic,\n",
    "                                                         n_jobs=-1,\n",
    "                                                         shuffle=True,\n",
    "                                                         random_state=42)"
   ]
  },
  {
   "cell_type": "code",
   "execution_count": 121,
   "metadata": {
    "ExecuteTime": {
     "end_time": "2021-02-23T20:48:01.225820Z",
     "start_time": "2021-02-23T20:48:01.208452Z"
    }
   },
   "outputs": [
    {
     "name": "stdout",
     "output_type": "stream",
     "text": [
      "<class 'pandas.core.frame.DataFrame'>\n",
      "Int64Index: 200 entries, 0 to 99\n",
      "Data columns (total 3 columns):\n",
      " #   Column      Non-Null Count  Dtype  \n",
      "---  ------      --------------  -----  \n",
      " 0   Train Size  200 non-null    int64  \n",
      " 1   IC          200 non-null    float64\n",
      " 2   Data        200 non-null    object \n",
      "dtypes: float64(1), int64(1), object(1)\n",
      "memory usage: 6.2+ KB\n"
     ]
    }
   ],
   "source": [
    "reg_lc_data = pd.concat([\n",
    "    pd.melt(pd.DataFrame(train_scores.T,\n",
    "                         columns=train_sizes),\n",
    "            var_name='Train Size',\n",
    "            value_name='IC').assign(Data='Train'),\n",
    "    pd.melt(pd.DataFrame(valid_scores.T,\n",
    "                         columns=train_sizes),\n",
    "            var_name='Train Size',\n",
    "            value_name='IC').assign(Data='Valid')])\n",
    "reg_lc_data.info()"
   ]
  },
  {
   "cell_type": "markdown",
   "metadata": {},
   "source": [
    "#### Compare Learning Curves"
   ]
  },
  {
   "cell_type": "code",
   "execution_count": 122,
   "metadata": {
    "ExecuteTime": {
     "end_time": "2021-02-23T20:48:02.229792Z",
     "start_time": "2021-02-23T20:48:01.227006Z"
    }
   },
   "outputs": [
    {
     "data": {
      "image/png": "[encoded data removed]",
      "text/plain": [
       "<Figure size 1008x360 with 2 Axes>"
      ]
     },
     "metadata": {},
     "output_type": "display_data"
    }
   ],
   "source": [
    "fig, axes = plt.subplots(ncols=2, figsize=(14, 5))\n",
    "xmin, xmax = reg_lc_data['Train Size'].min(), reg_lc_data['Train Size'].max()\n",
    "\n",
    "sns.lineplot(data=reg_lc_data,\n",
    "             x='Train Size', y='IC',\n",
    "             hue='Data', ci=95,  ax=axes[0], lw=2)\n",
    "axes[0].set_title('Best Regression Tree')\n",
    "axes[0].set_ylabel('IC')\n",
    "\n",
    "axes[0].xaxis.set_major_formatter(\n",
    "    FuncFormatter(lambda x, _: '{:,.0f}'.format(x)))\n",
    "\n",
    "sns.lineplot(data=clf_lc_data,\n",
    "             x='Train Size',\n",
    "             y='ROC AUC',\n",
    "             hue='Data',\n",
    "             ci=95,\n",
    "             ax=axes[1],\n",
    "             lw=2)\n",
    "axes[1].set_title('Best Classification Tree')\n",
    "axes[1].set_ylabel('ROC AUC')\n",
    "axes[1].xaxis.set_major_formatter(\n",
    "    FuncFormatter(lambda x, _: '{:,.0f}'.format(x)))\n",
    "\n",
    "for i in [0, 1]:\n",
    "    axes[i].tick_params(axis='both', which='major', labelsize=10)\n",
    "    axes[i].tick_params(axis='both', which='minor', labelsize=8)\n",
    "    axes[i].set_xlim(xmin, xmax)\n",
    "\n",
    "fig.suptitle('Learning Curves', fontsize=14)\n",
    "sns.despine()\n",
    "fig.tight_layout()\n",
    "fig.subplots_adjust(top=.9)"
   ]
  },
  {
   "cell_type": "markdown",
   "metadata": {},
   "source": [
    "### Feature Importance"
   ]
  },
  {
   "cell_type": "markdown",
   "metadata": {},
   "source": [
    "Decision trees can not only be visualized to inspect the decision path for a given feature, but also provide a summary measure of the contribution of each feature to the model fit to the training data. \n",
    "\n",
    "The feature importance captures how much the splits produced by the feature helped to optimize the model's metric used to evaluate the split quality, which in our case is the Gini Impurity index. \n",
    "\n",
    "A feature's importance is computed as the (normalized) total reduction of this metric and takes into account the number of samples affected by a split. Hence, features used earlier in the tree where the nodes tend to contain more samples typically are considered of higher importance."
   ]
  },
  {
   "cell_type": "code",
   "execution_count": 123,
   "metadata": {
    "ExecuteTime": {
     "end_time": "2021-02-23T20:48:02.236798Z",
     "start_time": "2021-02-23T20:48:02.231185Z"
    }
   },
   "outputs": [],
   "source": [
    "top_n = 15\n",
    "labels = X.columns.str.replace('_', ' ').str.upper()\n",
    "fi_clf = (pd.Series(gridsearch_clf.best_estimator_.feature_importances_, \n",
    "                    index=labels).sort_values(ascending=False).iloc[:top_n])\n",
    "fi_reg = (pd.Series(gridsearch_reg.best_estimator_.feature_importances_, \n",
    "                    index=labels).sort_values(ascending=False).iloc[:top_n])"
   ]
  },
  {
   "cell_type": "code",
   "execution_count": 124,
   "metadata": {
    "ExecuteTime": {
     "end_time": "2021-02-23T20:48:02.645550Z",
     "start_time": "2021-02-23T20:48:02.238440Z"
    }
   },
   "outputs": [
    {
     "data": {
      "image/png": "[encoded data removed]",
      "text/plain": [
       "<Figure size 864x288 with 2 Axes>"
      ]
     },
     "metadata": {},
     "output_type": "display_data"
    }
   ],
   "source": [
    "fig, axes= plt.subplots(ncols=2, figsize=(12,4), sharex=True)\n",
    "color = cm.Blues(np.linspace(.4,.9, top_n))\n",
    "fi_clf.sort_values().plot.barh(ax=axes[1], title='Classification Tree', color=color)\n",
    "fi_reg.sort_values().plot.barh(ax=axes[0], title='Regression Tree', color=color)\n",
    "axes[0].set_xlabel('Feature Importance')\n",
    "axes[1].set_xlabel('Feature Importance')\n",
    "fig.suptitle(f'Top {top_n} Features', fontsize=14)\n",
    "sns.despine()\n",
    "fig.tight_layout()\n",
    "fig.subplots_adjust(top=.9);"
   ]
  }
 ],
 "metadata": {
  "kernelspec": {
   "display_name": "Python 3",
   "language": "python",
   "name": "python3"
  },
  "language_info": {
   "codemirror_mode": {
    "name": "ipython",
    "version": 3
   },
   "file_extension": ".py",
   "mimetype": "text/x-python",
   "name": "python",
   "nbconvert_exporter": "python",
   "pygments_lexer": "ipython3",
   "version": "3.8.5"
  },
  "toc": {
   "base_numbering": 1,
   "nav_menu": {},
   "number_sections": true,
   "sideBar": true,
   "skip_h1_title": true,
   "title_cell": "Table of Contents",
   "title_sidebar": "Contents",
   "toc_cell": false,
   "toc_position": {
    "height": "calc(100% - 180px)",
    "left": "10px",
    "top": "150px",
    "width": "343.837px"
   },
   "toc_section_display": true,
   "toc_window_display": true
  }
 },
 "nbformat": 4,
 "nbformat_minor": 2
}
