{
 "cells": [
  {
   "cell_type": "code",
   "execution_count": 6,
   "metadata": {},
   "outputs": [],
   "source": [
    "from pathlib import Path\n",
    "import numpy as np\n",
    "import pandas as pd\n",
    "from scipy.stats import spearmanr"
   ]
  },
  {
   "cell_type": "code",
   "execution_count": 4,
   "metadata": {},
   "outputs": [],
   "source": [
    "pd.set_option('display.expand_frame_repr', False)\n",
    "np.random.seed(42)"
   ]
  },
  {
   "cell_type": "code",
   "execution_count": 9,
   "metadata": {},
   "outputs": [],
   "source": [
    "PROJECT_DIR = Path('..', '..')\n",
    "DATA_DIR = PROJECT_DIR / 'data'\n",
    "DATA_DIR = 'C:/Users/86155/Machine Learning for Algorithmic Trading/data/assets.h5'"
   ]
  },
  {
   "cell_type": "code",
   "execution_count": 10,
   "metadata": {},
   "outputs": [
    {
     "data": {
      "text/plain": [
       "'C:/Users/86155/Machine Learning for Algorithmic Trading/data'"
      ]
     },
     "execution_count": 10,
     "metadata": {},
     "output_type": "execute_result"
    }
   ],
   "source": [
    "DATA_DIR"
   ]
  },
  {
   "cell_type": "code",
   "execution_count": 12,
   "metadata": {},
   "outputs": [],
   "source": [
    "def get_backtest_data():\n",
    "    \"\"\"Combine chapter 7 lasso regression predictions\n",
    "        with adjusted OHLCV Quandl Wiki data\"\"\"\n",
    "    with pd.HDFStore('C:/Users/86155/Machine Learning for Algorithmic Trading/data/assets.h5') as store:\n",
    "        prices = (store['quandl/wiki/prices']\n",
    "                  .filter(like='adj')\n",
    "                  .rename(columns=lambda x: x.replace('adj_', ''))\n",
    "                  .swaplevel(axis=0))\n",
    "\n",
    "    with pd.HDFStore('C:/Users/86155/Machine Learning for Algorithmic Trading/data.h5') as store:\n",
    "        predictions = store['lasso/predictions']\n",
    "\n",
    "    best_alpha = predictions.groupby('alpha').apply(lambda x: spearmanr(x.actuals, x.predicted)[0]).idxmax()\n",
    "    predictions = predictions[predictions.alpha == best_alpha]\n",
    "    predictions.index.names = ['ticker', 'date']\n",
    "    tickers = predictions.index.get_level_values('ticker').unique()\n",
    "    start = predictions.index.get_level_values('date').min().strftime('%Y-%m-%d')\n",
    "    stop = (predictions.index.get_level_values('date').max() + pd.DateOffset(1)).strftime('%Y-%m-%d')\n",
    "    idx = pd.IndexSlice\n",
    "    prices = prices.sort_index().loc[idx[tickers, start:stop], :]\n",
    "    predictions = predictions.loc[predictions.alpha == best_alpha, ['predicted']]\n",
    "    return predictions.join(prices, how='right')"
   ]
  },
  {
   "cell_type": "code",
   "execution_count": 14,
   "metadata": {},
   "outputs": [
    {
     "name": "stdout",
     "output_type": "stream",
     "text": [
      "<class 'pandas.core.frame.DataFrame'>\n",
      "MultiIndex: 190451 entries, ('AAPL', Timestamp('2014-12-09 00:00:00')) to ('LNG', Timestamp('2017-11-30 00:00:00'))\n",
      "Data columns (total 6 columns):\n",
      " #   Column     Non-Null Count   Dtype  \n",
      "---  ------     --------------   -----  \n",
      " 0   predicted  74054 non-null   float64\n",
      " 1   open       190451 non-null  float64\n",
      " 2   high       190451 non-null  float64\n",
      " 3   low        190451 non-null  float64\n",
      " 4   close      190451 non-null  float64\n",
      " 5   volume     190451 non-null  float64\n",
      "dtypes: float64(6)\n",
      "memory usage: 14.2+ MB\n"
     ]
    }
   ],
   "source": [
    "df = get_backtest_data()\n",
    "df.info()"
   ]
  },
  {
   "cell_type": "code",
   "execution_count": 15,
   "metadata": {},
   "outputs": [],
   "source": [
    "df.to_hdf('backtest.h5', 'data')"
   ]
  },
  {
   "cell_type": "code",
   "execution_count": null,
   "metadata": {},
   "outputs": [],
   "source": []
  }
 ],
 "metadata": {
  "kernelspec": {
   "display_name": "Python 3",
   "language": "python",
   "name": "python3"
  },
  "language_info": {
   "codemirror_mode": {
    "name": "ipython",
    "version": 3
   },
   "file_extension": ".py",
   "mimetype": "text/x-python",
   "name": "python",
   "nbconvert_exporter": "python",
   "pygments_lexer": "ipython3",
   "version": "3.8.5"
  }
 },
 "nbformat": 4,
 "nbformat_minor": 4
}
