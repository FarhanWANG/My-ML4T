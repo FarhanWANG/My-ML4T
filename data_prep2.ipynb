{
 "cells": [
  {
   "cell_type": "markdown",
   "metadata": {},
   "source": [
    "# How to transform data into factors"
   ]
  },
  {
   "cell_type": "markdown",
   "metadata": {},
   "source": [
    "Based on a conceptual understanding of key factor categories, their rationale and popular metrics, a key task is to identify new factors that may better capture the risks embodied by the return drivers laid out previously, or to find new ones. \n",
    "\n",
    "In either case, it will be important to compare the performance of innovative factors to that of known factors to identify incremental signal gains."
   ]
  },
  {
   "cell_type": "markdown",
   "metadata": {},
   "source": [
    "We create the dataset here and store it in our [data](../../data) folder to facilitate reuse in later chapters."
   ]
  },
  {
   "cell_type": "markdown",
   "metadata": {},
   "source": [
    "## Imports & Settings"
   ]
  },
  {
   "cell_type": "code",
   "execution_count": 1,
   "metadata": {
    "ExecuteTime": {
     "end_time": "2020-12-10T21:23:34.524348Z",
     "start_time": "2020-12-10T21:23:34.522162Z"
    }
   },
   "outputs": [],
   "source": [
    "import warnings\n",
    "warnings.filterwarnings('ignore')"
   ]
  },
  {
   "cell_type": "code",
   "execution_count": 2,
   "metadata": {
    "ExecuteTime": {
     "end_time": "2020-12-10T21:23:42.851773Z",
     "start_time": "2020-12-10T21:23:41.852406Z"
    }
   },
   "outputs": [],
   "source": [
    "%matplotlib inline\n",
    "\n",
    "import numpy as np\n",
    "import pandas as pd\n",
    "import pandas_datareader.data as web\n",
    "\n",
    "from pyfinance.ols import PandasRollingOLS\n",
    "from talib import RSI, BBANDS, MACD, NATR, ATR\n",
    "\n",
    "from sklearn.feature_selection import mutual_info_classif, mutual_info_regression\n",
    "\n",
    "import matplotlib.pyplot as plt\n",
    "import seaborn as sns"
   ]
  },
  {
   "cell_type": "code",
   "execution_count": 3,
   "metadata": {
    "ExecuteTime": {
     "end_time": "2020-12-10T21:23:42.855663Z",
     "start_time": "2020-12-10T21:23:42.853226Z"
    }
   },
   "outputs": [],
   "source": [
    "sns.set_style('whitegrid')\n",
    "idx = pd.IndexSlice"
   ]
  },
  {
   "cell_type": "markdown",
   "metadata": {},
   "source": [
    "## Load US equity OHLCV data"
   ]
  },
  {
   "cell_type": "markdown",
   "metadata": {},
   "source": [
    "The `assets.h5` store can be generated using the the notebook [create_datasets](../../data/create_datasets.ipynb) in the [data](../../data) directory in the root directory of this repo for instruction to download the following dataset."
   ]
  },
  {
   "cell_type": "markdown",
   "metadata": {},
   "source": [
    "We load the Quandl stock price datasets covering the US equity markets 2000-18 using `pd.IndexSlice` to perform a slice operation on the `pd.MultiIndex`, select the adjusted close price and unpivot the column to convert the DataFrame to wide format with tickers in the columns and timestamps in the rows:"
   ]
  },
  {
   "cell_type": "markdown",
   "metadata": {},
   "source": [
    "Set data store location:"
   ]
  },
  {
   "cell_type": "code",
   "execution_count": 4,
   "metadata": {
    "ExecuteTime": {
     "end_time": "2020-12-10T21:23:50.797556Z",
     "start_time": "2020-12-10T21:23:50.795057Z"
    }
   },
   "outputs": [],
   "source": [
    "DATA_STORE = './data/assets.h5'"
   ]
  },
  {
   "cell_type": "code",
   "execution_count": 5,
   "metadata": {
    "ExecuteTime": {
     "end_time": "2020-12-10T21:23:51.268470Z",
     "start_time": "2020-12-10T21:23:51.265417Z"
    }
   },
   "outputs": [],
   "source": [
    "YEAR = 12"
   ]
  },
  {
   "cell_type": "code",
   "execution_count": 6,
   "metadata": {
    "ExecuteTime": {
     "end_time": "2020-12-10T21:23:51.598126Z",
     "start_time": "2020-12-10T21:23:51.593626Z"
    }
   },
   "outputs": [],
   "source": [
    "START = 1995\n",
    "END = 2017"
   ]
  },
  {
   "cell_type": "code",
   "execution_count": 7,
   "metadata": {
    "ExecuteTime": {
     "end_time": "2020-12-10T21:24:02.034999Z",
     "start_time": "2020-12-10T21:23:51.953994Z"
    }
   },
   "outputs": [],
   "source": [
    "with pd.HDFStore(DATA_STORE) as store:\n",
    "    prices = (store['quandl/wiki/prices']\n",
    "              .loc[idx[str(START):str(END), :], :]\n",
    "              .filter(like='adj_')\n",
    "              .dropna()\n",
    "              .swaplevel()\n",
    "              .rename(columns=lambda x: x.replace('adj_', ''))\n",
    "              .join(store['us_equities/stocks']\n",
    "                    .loc[:, ['sector']])\n",
    "              .dropna())"
   ]
  },
  {
   "cell_type": "code",
   "execution_count": 8,
   "metadata": {
    "ExecuteTime": {
     "end_time": "2020-12-10T21:24:02.722048Z",
     "start_time": "2020-12-10T21:24:02.036390Z"
    }
   },
   "outputs": [
    {
     "name": "stdout",
     "output_type": "stream",
     "text": [
      "<class 'pandas.core.frame.DataFrame'>\n",
      "MultiIndex: 10241831 entries, ('AAN', Timestamp('1995-01-03 00:00:00')) to ('ZUMZ', Timestamp('2017-12-29 00:00:00'))\n",
      "Data columns (total 6 columns):\n",
      " #   Column  Non-Null Count     Dtype  \n",
      "---  ------  --------------     -----  \n",
      " 0   open    10241831 non-null  float64\n",
      " 1   high    10241831 non-null  float64\n",
      " 2   low     10241831 non-null  float64\n",
      " 3   close   10241831 non-null  float64\n",
      " 4   volume  10241831 non-null  float64\n",
      " 5   sector  10241831 non-null  object \n",
      "dtypes: float64(5), object(1)\n",
      "memory usage: 508.7+ MB\n"
     ]
    }
   ],
   "source": [
    "prices.info(null_counts=True)"
   ]
  },
  {
   "cell_type": "code",
   "execution_count": 9,
   "metadata": {
    "ExecuteTime": {
     "end_time": "2020-12-10T21:24:02.814507Z",
     "start_time": "2020-12-10T21:24:02.723723Z"
    }
   },
   "outputs": [
    {
     "data": {
      "text/plain": [
       "2369"
      ]
     },
     "execution_count": 9,
     "metadata": {},
     "output_type": "execute_result"
    }
   ],
   "source": [
    "len(prices.index.unique('ticker'))"
   ]
  },
  {
   "cell_type": "markdown",
   "metadata": {},
   "source": [
    "## Remove stocks with less than ten years of data"
   ]
  },
  {
   "cell_type": "code",
   "execution_count": 10,
   "metadata": {
    "ExecuteTime": {
     "end_time": "2020-12-10T21:24:55.912717Z",
     "start_time": "2020-12-10T21:24:04.953870Z"
    }
   },
   "outputs": [],
   "source": [
    "min_obs = 10 * 252\n",
    "nobs = prices.groupby(level='ticker').size()\n",
    "to_drop = nobs[nobs < min_obs].index\n",
    "prices = prices.drop(to_drop, level='ticker')"
   ]
  },
  {
   "cell_type": "code",
   "execution_count": 11,
   "metadata": {
    "ExecuteTime": {
     "end_time": "2020-12-10T21:24:56.473383Z",
     "start_time": "2020-12-10T21:24:55.914053Z"
    }
   },
   "outputs": [
    {
     "name": "stdout",
     "output_type": "stream",
     "text": [
      "<class 'pandas.core.frame.DataFrame'>\n",
      "MultiIndex: 9532628 entries, ('AAN', Timestamp('1995-01-03 00:00:00')) to ('ZUMZ', Timestamp('2017-12-29 00:00:00'))\n",
      "Data columns (total 6 columns):\n",
      " #   Column  Non-Null Count    Dtype  \n",
      "---  ------  --------------    -----  \n",
      " 0   open    9532628 non-null  float64\n",
      " 1   high    9532628 non-null  float64\n",
      " 2   low     9532628 non-null  float64\n",
      " 3   close   9532628 non-null  float64\n",
      " 4   volume  9532628 non-null  float64\n",
      " 5   sector  9532628 non-null  object \n",
      "dtypes: float64(5), object(1)\n",
      "memory usage: 473.5+ MB\n"
     ]
    }
   ],
   "source": [
    "prices.info(null_counts=True)"
   ]
  },
  {
   "cell_type": "code",
   "execution_count": 12,
   "metadata": {
    "ExecuteTime": {
     "end_time": "2020-12-10T21:24:56.552407Z",
     "start_time": "2020-12-10T21:24:56.477969Z"
    }
   },
   "outputs": [
    {
     "data": {
      "text/plain": [
       "1883"
      ]
     },
     "execution_count": 12,
     "metadata": {},
     "output_type": "execute_result"
    }
   ],
   "source": [
    "len(prices.index.unique('ticker'))"
   ]
  },
  {
   "cell_type": "markdown",
   "metadata": {},
   "source": [
    "## Add some Basic Factors"
   ]
  },
  {
   "cell_type": "markdown",
   "metadata": {},
   "source": [
    "### Compute the Relative Strength Index"
   ]
  },
  {
   "cell_type": "code",
   "execution_count": 13,
   "metadata": {
    "ExecuteTime": {
     "end_time": "2020-06-19T13:30:52.470184Z",
     "start_time": "2020-06-19T13:30:41.634583Z"
    }
   },
   "outputs": [],
   "source": [
    "prices['rsi'] = prices.groupby(level='ticker').close.apply(RSI)"
   ]
  },
  {
   "cell_type": "code",
   "execution_count": 14,
   "metadata": {
    "ExecuteTime": {
     "end_time": "2020-06-19T13:30:55.642753Z",
     "start_time": "2020-06-19T13:30:52.471071Z"
    }
   },
   "outputs": [
    {
     "data": {
      "image/png": "[encoded data removed]",
      "text/plain": [
       "<Figure size 432x288 with 1 Axes>"
      ]
     },
     "metadata": {},
     "output_type": "display_data"
    }
   ],
   "source": [
    "sns.distplot(prices.rsi);"
   ]
  },
  {
   "cell_type": "markdown",
   "metadata": {},
   "source": [
    "### Compute Bollinger Bands"
   ]
  },
  {
   "cell_type": "code",
   "execution_count": 15,
   "metadata": {
    "ExecuteTime": {
     "end_time": "2020-06-19T13:30:55.646276Z",
     "start_time": "2020-06-19T13:30:55.643662Z"
    }
   },
   "outputs": [],
   "source": [
    "def compute_bb(close):\n",
    "    high, mid, low = BBANDS(np.log1p(close), timeperiod=20)\n",
    "    return pd.DataFrame({'bb_high': high,\n",
    "                         'bb_mid': mid,\n",
    "                         'bb_low': low}, index=close.index)"
   ]
  },
  {
   "cell_type": "code",
   "execution_count": 16,
   "metadata": {
    "ExecuteTime": {
     "end_time": "2020-06-19T13:31:07.243860Z",
     "start_time": "2020-06-19T13:30:55.647616Z"
    }
   },
   "outputs": [],
   "source": [
    "prices = (prices.join(prices\n",
    "                      .groupby(level='ticker')\n",
    "                      .close\n",
    "                      .apply(compute_bb)))"
   ]
  },
  {
   "cell_type": "code",
   "execution_count": 17,
   "metadata": {
    "ExecuteTime": {
     "end_time": "2020-06-19T13:31:07.813355Z",
     "start_time": "2020-06-19T13:31:07.244774Z"
    }
   },
   "outputs": [
    {
     "name": "stdout",
     "output_type": "stream",
     "text": [
      "<class 'pandas.core.frame.DataFrame'>\n",
      "MultiIndex: 9532628 entries, ('AAN', Timestamp('1995-01-03 00:00:00')) to ('ZUMZ', Timestamp('2017-12-29 00:00:00'))\n",
      "Data columns (total 10 columns):\n",
      " #   Column   Non-Null Count    Dtype  \n",
      "---  ------   --------------    -----  \n",
      " 0   open     9532628 non-null  float64\n",
      " 1   high     9532628 non-null  float64\n",
      " 2   low      9532628 non-null  float64\n",
      " 3   close    9532628 non-null  float64\n",
      " 4   volume   9532628 non-null  float64\n",
      " 5   sector   9532628 non-null  object \n",
      " 6   rsi      9506266 non-null  float64\n",
      " 7   bb_high  9496851 non-null  float64\n",
      " 8   bb_mid   9496851 non-null  float64\n",
      " 9   bb_low   9496851 non-null  float64\n",
      "dtypes: float64(9), object(1)\n",
      "memory usage: 1022.4+ MB\n"
     ]
    }
   ],
   "source": [
    "prices.info(null_counts=True)"
   ]
  },
  {
   "cell_type": "code",
   "execution_count": 18,
   "metadata": {
    "ExecuteTime": {
     "end_time": "2020-06-19T13:31:08.961375Z",
     "start_time": "2020-06-19T13:31:07.814282Z"
    }
   },
   "outputs": [
    {
     "data": {
      "text/html": [
       "<div>\n",
       "<style scoped>\n",
       "    .dataframe tbody tr th:only-of-type {\n",
       "        vertical-align: middle;\n",
       "    }\n",
       "\n",
       "    .dataframe tbody tr th {\n",
       "        vertical-align: top;\n",
       "    }\n",
       "\n",
       "    .dataframe thead th {\n",
       "        text-align: right;\n",
       "    }\n",
       "</style>\n",
       "<table border=\"1\" class=\"dataframe\">\n",
       "  <thead>\n",
       "    <tr style=\"text-align: right;\">\n",
       "      <th></th>\n",
       "      <th>bb_high</th>\n",
       "      <th>bb_mid</th>\n",
       "      <th>bb_low</th>\n",
       "    </tr>\n",
       "  </thead>\n",
       "  <tbody>\n",
       "    <tr>\n",
       "      <th>count</th>\n",
       "      <td>9.496851e+06</td>\n",
       "      <td>9.496851e+06</td>\n",
       "      <td>9.496851e+06</td>\n",
       "    </tr>\n",
       "    <tr>\n",
       "      <th>mean</th>\n",
       "      <td>2.954140e+00</td>\n",
       "      <td>2.881157e+00</td>\n",
       "      <td>2.808174e+00</td>\n",
       "    </tr>\n",
       "    <tr>\n",
       "      <th>std</th>\n",
       "      <td>1.024536e+00</td>\n",
       "      <td>1.026901e+00</td>\n",
       "      <td>1.032999e+00</td>\n",
       "    </tr>\n",
       "    <tr>\n",
       "      <th>min</th>\n",
       "      <td>8.933146e-03</td>\n",
       "      <td>8.933146e-03</td>\n",
       "      <td>-1.568426e+00</td>\n",
       "    </tr>\n",
       "    <tr>\n",
       "      <th>25%</th>\n",
       "      <td>2.303724e+00</td>\n",
       "      <td>2.226078e+00</td>\n",
       "      <td>2.146471e+00</td>\n",
       "    </tr>\n",
       "    <tr>\n",
       "      <th>50%</th>\n",
       "      <td>2.940911e+00</td>\n",
       "      <td>2.868116e+00</td>\n",
       "      <td>2.796484e+00</td>\n",
       "    </tr>\n",
       "    <tr>\n",
       "      <th>75%</th>\n",
       "      <td>3.555602e+00</td>\n",
       "      <td>3.487039e+00</td>\n",
       "      <td>3.420498e+00</td>\n",
       "    </tr>\n",
       "    <tr>\n",
       "      <th>max</th>\n",
       "      <td>1.376991e+01</td>\n",
       "      <td>1.358056e+01</td>\n",
       "      <td>1.346225e+01</td>\n",
       "    </tr>\n",
       "  </tbody>\n",
       "</table>\n",
       "</div>"
      ],
      "text/plain": [
       "            bb_high        bb_mid        bb_low\n",
       "count  9.496851e+06  9.496851e+06  9.496851e+06\n",
       "mean   2.954140e+00  2.881157e+00  2.808174e+00\n",
       "std    1.024536e+00  1.026901e+00  1.032999e+00\n",
       "min    8.933146e-03  8.933146e-03 -1.568426e+00\n",
       "25%    2.303724e+00  2.226078e+00  2.146471e+00\n",
       "50%    2.940911e+00  2.868116e+00  2.796484e+00\n",
       "75%    3.555602e+00  3.487039e+00  3.420498e+00\n",
       "max    1.376991e+01  1.358056e+01  1.346225e+01"
      ]
     },
     "execution_count": 18,
     "metadata": {},
     "output_type": "execute_result"
    }
   ],
   "source": [
    "prices.filter(like='bb_').describe()"
   ]
  },
  {
   "cell_type": "code",
   "execution_count": 19,
   "metadata": {
    "ExecuteTime": {
     "end_time": "2020-06-19T13:31:18.504726Z",
     "start_time": "2020-06-19T13:31:08.962582Z"
    }
   },
   "outputs": [
    {
     "data": {
      "image/png": "[encoded data removed]",
      "text/plain": [
       "<Figure size 1080x288 with 3 Axes>"
      ]
     },
     "metadata": {},
     "output_type": "display_data"
    }
   ],
   "source": [
    "fig, axes = plt.subplots(ncols=3, figsize=(15,4))\n",
    "for i, col in enumerate(['bb_low', 'bb_mid', 'bb_low']):\n",
    "    sns.distplot(prices[col], ax=axes[i])\n",
    "    axes[i].set_title(col);\n",
    "fig.tight_layout();"
   ]
  },
  {
   "cell_type": "code",
   "execution_count": 20,
   "metadata": {
    "ExecuteTime": {
     "end_time": "2020-06-19T13:31:18.806350Z",
     "start_time": "2020-06-19T13:31:18.505878Z"
    }
   },
   "outputs": [],
   "source": [
    "prices['bb_up'] = prices.bb_high.sub(np.log1p(prices.close))\n",
    "prices['bb_down'] = np.log1p(prices.close).sub(prices.bb_low)"
   ]
  },
  {
   "cell_type": "code",
   "execution_count": 21,
   "metadata": {
    "ExecuteTime": {
     "end_time": "2020-06-19T13:31:21.494970Z",
     "start_time": "2020-06-19T13:31:18.808865Z"
    }
   },
   "outputs": [
    {
     "data": {
      "image/png": "[encoded data removed]",
      "text/plain": [
       "<Figure size 720x288 with 2 Axes>"
      ]
     },
     "metadata": {},
     "output_type": "display_data"
    }
   ],
   "source": [
    "fig, axes = plt.subplots(ncols=2, figsize=(10,4))\n",
    "for i, col in enumerate(['bb_down', 'bb_up']):\n",
    "    sns.boxenplot(prices[col], ax=axes[i])\n",
    "    axes[i].set_title(col);\n",
    "fig.tight_layout();"
   ]
  },
  {
   "cell_type": "markdown",
   "metadata": {},
   "source": [
    "### Compute Average True Range"
   ]
  },
  {
   "cell_type": "markdown",
   "metadata": {},
   "source": [
    "Helper for indicators with multiple inputs:"
   ]
  },
  {
   "cell_type": "code",
   "execution_count": 22,
   "metadata": {
    "ExecuteTime": {
     "end_time": "2020-06-19T13:31:21.941026Z",
     "start_time": "2020-06-19T13:31:21.497351Z"
    }
   },
   "outputs": [],
   "source": [
    "by_ticker = prices.groupby('ticker', group_keys=False)"
   ]
  },
  {
   "cell_type": "code",
   "execution_count": 23,
   "metadata": {
    "ExecuteTime": {
     "end_time": "2020-06-19T13:31:21.944082Z",
     "start_time": "2020-06-19T13:31:21.941871Z"
    }
   },
   "outputs": [],
   "source": [
    "def compute_atr(stock_data):\n",
    "    atr = ATR(stock_data.high, \n",
    "              stock_data.low, \n",
    "              stock_data.close, \n",
    "              timeperiod=14)\n",
    "    return atr.sub(atr.mean()).div(atr.std())"
   ]
  },
  {
   "cell_type": "code",
   "execution_count": 24,
   "metadata": {
    "ExecuteTime": {
     "end_time": "2020-06-19T13:31:34.815773Z",
     "start_time": "2020-06-19T13:31:21.945257Z"
    }
   },
   "outputs": [],
   "source": [
    "prices['atr'] = by_ticker.apply(compute_atr)"
   ]
  },
  {
   "cell_type": "code",
   "execution_count": 25,
   "metadata": {
    "ExecuteTime": {
     "end_time": "2020-06-19T13:31:37.930409Z",
     "start_time": "2020-06-19T13:31:34.816699Z"
    }
   },
   "outputs": [
    {
     "data": {
      "image/png": "[encoded data removed]",
      "text/plain": [
       "<Figure size 432x288 with 1 Axes>"
      ]
     },
     "metadata": {},
     "output_type": "display_data"
    }
   ],
   "source": [
    "sns.distplot(prices.atr);"
   ]
  },
  {
   "cell_type": "code",
   "execution_count": 26,
   "metadata": {
    "ExecuteTime": {
     "end_time": "2020-06-19T13:31:50.373966Z",
     "start_time": "2020-06-19T13:31:37.931543Z"
    }
   },
   "outputs": [],
   "source": [
    "prices['natr'] = by_ticker.apply(lambda x: NATR(high=x.high, low=x.low, close=x.close))"
   ]
  },
  {
   "cell_type": "code",
   "execution_count": 27,
   "metadata": {
    "ExecuteTime": {
     "end_time": "2020-06-19T13:31:53.452178Z",
     "start_time": "2020-06-19T13:31:50.375046Z"
    }
   },
   "outputs": [
    {
     "data": {
      "image/png": "[encoded data removed]",
      "text/plain": [
       "<Figure size 432x288 with 1 Axes>"
      ]
     },
     "metadata": {},
     "output_type": "display_data"
    }
   ],
   "source": [
    "sns.distplot(prices.natr[prices.natr<10]);"
   ]
  },
  {
   "cell_type": "markdown",
   "metadata": {},
   "source": [
    "### Compute Moving Average Convergence/Divergence"
   ]
  },
  {
   "cell_type": "code",
   "execution_count": 28,
   "metadata": {
    "ExecuteTime": {
     "end_time": "2020-06-19T13:32:03.999625Z",
     "start_time": "2020-06-19T13:31:53.453379Z"
    },
    "scrolled": false
   },
   "outputs": [],
   "source": [
    "def compute_macd(close):\n",
    "    macd = MACD(close)[0]\n",
    "    return macd.sub(macd.mean()).div(macd.std())\n",
    "\n",
    "prices['macd'] = prices.groupby(level='ticker').close.apply(compute_macd)"
   ]
  },
  {
   "cell_type": "code",
   "execution_count": 29,
   "metadata": {
    "ExecuteTime": {
     "end_time": "2020-06-19T13:32:07.164606Z",
     "start_time": "2020-06-19T13:32:04.000697Z"
    }
   },
   "outputs": [
    {
     "data": {
      "image/png": "[encoded data removed]",
      "text/plain": [
       "<Figure size 432x288 with 1 Axes>"
      ]
     },
     "metadata": {},
     "output_type": "display_data"
    }
   ],
   "source": [
    "sns.distplot(prices.macd);"
   ]
  },
  {
   "cell_type": "markdown",
   "metadata": {},
   "source": [
    "## Compute dollar volume to determine universe"
   ]
  },
  {
   "cell_type": "code",
   "execution_count": 30,
   "metadata": {
    "ExecuteTime": {
     "end_time": "2020-12-10T21:24:56.643158Z",
     "start_time": "2020-12-10T21:24:56.553739Z"
    }
   },
   "outputs": [],
   "source": [
    "prices['dollar_volume'] = (prices.loc[:, 'close']\n",
    "                           .mul(prices.loc[:, 'volume'], axis=0))\n",
    "\n",
    "prices.dollar_volume /= 1e6"
   ]
  },
  {
   "cell_type": "code",
   "execution_count": 31,
   "metadata": {
    "ExecuteTime": {
     "end_time": "2020-06-19T13:32:08.723777Z",
     "start_time": "2020-06-19T13:32:07.247380Z"
    }
   },
   "outputs": [],
   "source": [
    "prices.to_hdf('data.h5', 'us/equities/prices')"
   ]
  },
  {
   "cell_type": "code",
   "execution_count": 75,
   "metadata": {
    "ExecuteTime": {
     "end_time": "2020-06-19T13:32:10.679075Z",
     "start_time": "2020-06-19T13:32:08.724691Z"
    }
   },
   "outputs": [
    {
     "name": "stdout",
     "output_type": "stream",
     "text": [
      "<class 'pandas.core.frame.DataFrame'>\n",
      "MultiIndex: 9532628 entries, ('AAN', Timestamp('1995-01-03 00:00:00')) to ('ZUMZ', Timestamp('2017-12-29 00:00:00'))\n",
      "Data columns (total 16 columns):\n",
      " #   Column         Non-Null Count    Dtype  \n",
      "---  ------         --------------    -----  \n",
      " 0   open           9532628 non-null  float64\n",
      " 1   high           9532628 non-null  float64\n",
      " 2   low            9532628 non-null  float64\n",
      " 3   close          9532628 non-null  float64\n",
      " 4   volume         9532628 non-null  float64\n",
      " 5   sector         9532628 non-null  object \n",
      " 6   rsi            9506266 non-null  float64\n",
      " 7   bb_high        9496851 non-null  float64\n",
      " 8   bb_mid         9496851 non-null  float64\n",
      " 9   bb_low         9496851 non-null  float64\n",
      " 10  bb_up          9496851 non-null  float64\n",
      " 11  bb_down        9496851 non-null  float64\n",
      " 12  atr            9506266 non-null  float64\n",
      " 13  natr           9506266 non-null  float64\n",
      " 14  macd           9470489 non-null  float64\n",
      " 15  dollar_volume  9532628 non-null  float64\n",
      "dtypes: float64(15), object(1)\n",
      "memory usage: 1.2+ GB\n"
     ]
    }
   ],
   "source": [
    "prices = pd.read_hdf('data.h5', 'us/equities/prices')\n",
    "prices.info(null_counts=True)"
   ]
  },
  {
   "cell_type": "markdown",
   "metadata": {},
   "source": [
    "## Resample OHLCV prices to monthly frequency"
   ]
  },
  {
   "cell_type": "markdown",
   "metadata": {},
   "source": [
    "To reduce training time and experiment with strategies for longer time horizons, we convert the business-daily data to month-end frequency using the available adjusted close price:"
   ]
  },
  {
   "cell_type": "code",
   "execution_count": 76,
   "metadata": {
    "ExecuteTime": {
     "end_time": "2020-12-10T21:25:00.394869Z",
     "start_time": "2020-12-10T21:25:00.392363Z"
    }
   },
   "outputs": [],
   "source": [
    "last_cols = [c for c in prices.columns.unique(0) if c not in ['dollar_volume', 'volume',\n",
    "                                                              'open', 'high', 'low']]"
   ]
  },
  {
   "cell_type": "code",
   "execution_count": 77,
   "metadata": {
    "ExecuteTime": {
     "end_time": "2020-12-10T21:25:05.026732Z",
     "start_time": "2020-12-10T21:25:00.769772Z"
    }
   },
   "outputs": [],
   "source": [
    "prices = prices.unstack('ticker')"
   ]
  },
  {
   "cell_type": "code",
   "execution_count": 78,
   "metadata": {},
   "outputs": [
    {
     "data": {
      "text/html": [
       "<div>\n",
       "<style scoped>\n",
       "    .dataframe tbody tr th:only-of-type {\n",
       "        vertical-align: middle;\n",
       "    }\n",
       "\n",
       "    .dataframe tbody tr th {\n",
       "        vertical-align: top;\n",
       "    }\n",
       "\n",
       "    .dataframe thead tr th {\n",
       "        text-align: left;\n",
       "    }\n",
       "\n",
       "    .dataframe thead tr:last-of-type th {\n",
       "        text-align: right;\n",
       "    }\n",
       "</style>\n",
       "<table border=\"1\" class=\"dataframe\">\n",
       "  <thead>\n",
       "    <tr>\n",
       "      <th></th>\n",
       "      <th colspan=\"10\" halign=\"left\">open</th>\n",
       "      <th>...</th>\n",
       "      <th colspan=\"10\" halign=\"left\">dollar_volume</th>\n",
       "    </tr>\n",
       "    <tr>\n",
       "      <th>ticker</th>\n",
       "      <th>AAN</th>\n",
       "      <th>AAON</th>\n",
       "      <th>AAPL</th>\n",
       "      <th>ABAX</th>\n",
       "      <th>ABCB</th>\n",
       "      <th>ABM</th>\n",
       "      <th>ABMD</th>\n",
       "      <th>ABT</th>\n",
       "      <th>ACET</th>\n",
       "      <th>ACHC</th>\n",
       "      <th>...</th>\n",
       "      <th>CIM</th>\n",
       "      <th>ARR</th>\n",
       "      <th>KW</th>\n",
       "      <th>GTS</th>\n",
       "      <th>CATM</th>\n",
       "      <th>FOR</th>\n",
       "      <th>LRN</th>\n",
       "      <th>TITN</th>\n",
       "      <th>TNK</th>\n",
       "      <th>ORN</th>\n",
       "    </tr>\n",
       "    <tr>\n",
       "      <th>date</th>\n",
       "      <th></th>\n",
       "      <th></th>\n",
       "      <th></th>\n",
       "      <th></th>\n",
       "      <th></th>\n",
       "      <th></th>\n",
       "      <th></th>\n",
       "      <th></th>\n",
       "      <th></th>\n",
       "      <th></th>\n",
       "      <th></th>\n",
       "      <th></th>\n",
       "      <th></th>\n",
       "      <th></th>\n",
       "      <th></th>\n",
       "      <th></th>\n",
       "      <th></th>\n",
       "      <th></th>\n",
       "      <th></th>\n",
       "      <th></th>\n",
       "      <th></th>\n",
       "    </tr>\n",
       "  </thead>\n",
       "  <tbody>\n",
       "    <tr>\n",
       "      <th>1995-01-03</th>\n",
       "      <td>1.778191</td>\n",
       "      <td>0.959805</td>\n",
       "      <td>1.235069</td>\n",
       "      <td>3.296526</td>\n",
       "      <td>3.236605</td>\n",
       "      <td>3.436434</td>\n",
       "      <td>2.6250</td>\n",
       "      <td>4.268868</td>\n",
       "      <td>1.706428</td>\n",
       "      <td>24.00</td>\n",
       "      <td>...</td>\n",
       "      <td>NaN</td>\n",
       "      <td>NaN</td>\n",
       "      <td>NaN</td>\n",
       "      <td>NaN</td>\n",
       "      <td>NaN</td>\n",
       "      <td>NaN</td>\n",
       "      <td>NaN</td>\n",
       "      <td>NaN</td>\n",
       "      <td>NaN</td>\n",
       "      <td>NaN</td>\n",
       "    </tr>\n",
       "    <tr>\n",
       "      <th>1995-01-04</th>\n",
       "      <td>1.725194</td>\n",
       "      <td>1.006921</td>\n",
       "      <td>1.227128</td>\n",
       "      <td>3.414259</td>\n",
       "      <td>3.173142</td>\n",
       "      <td>3.344280</td>\n",
       "      <td>2.5625</td>\n",
       "      <td>4.318781</td>\n",
       "      <td>1.605839</td>\n",
       "      <td>24.00</td>\n",
       "      <td>...</td>\n",
       "      <td>NaN</td>\n",
       "      <td>NaN</td>\n",
       "      <td>NaN</td>\n",
       "      <td>NaN</td>\n",
       "      <td>NaN</td>\n",
       "      <td>NaN</td>\n",
       "      <td>NaN</td>\n",
       "      <td>NaN</td>\n",
       "      <td>NaN</td>\n",
       "      <td>NaN</td>\n",
       "    </tr>\n",
       "    <tr>\n",
       "      <th>1995-01-05</th>\n",
       "      <td>1.778191</td>\n",
       "      <td>1.101914</td>\n",
       "      <td>1.246823</td>\n",
       "      <td>3.649725</td>\n",
       "      <td>3.173142</td>\n",
       "      <td>3.344280</td>\n",
       "      <td>2.8750</td>\n",
       "      <td>4.285944</td>\n",
       "      <td>1.632183</td>\n",
       "      <td>24.00</td>\n",
       "      <td>...</td>\n",
       "      <td>NaN</td>\n",
       "      <td>NaN</td>\n",
       "      <td>NaN</td>\n",
       "      <td>NaN</td>\n",
       "      <td>NaN</td>\n",
       "      <td>NaN</td>\n",
       "      <td>NaN</td>\n",
       "      <td>NaN</td>\n",
       "      <td>NaN</td>\n",
       "      <td>NaN</td>\n",
       "    </tr>\n",
       "    <tr>\n",
       "      <th>1995-01-06</th>\n",
       "      <td>1.725194</td>\n",
       "      <td>1.054798</td>\n",
       "      <td>1.322426</td>\n",
       "      <td>4.238390</td>\n",
       "      <td>3.046217</td>\n",
       "      <td>3.362116</td>\n",
       "      <td>2.7500</td>\n",
       "      <td>4.268868</td>\n",
       "      <td>1.646553</td>\n",
       "      <td>24.00</td>\n",
       "      <td>...</td>\n",
       "      <td>NaN</td>\n",
       "      <td>NaN</td>\n",
       "      <td>NaN</td>\n",
       "      <td>NaN</td>\n",
       "      <td>NaN</td>\n",
       "      <td>NaN</td>\n",
       "      <td>NaN</td>\n",
       "      <td>NaN</td>\n",
       "      <td>NaN</td>\n",
       "      <td>NaN</td>\n",
       "    </tr>\n",
       "    <tr>\n",
       "      <th>1995-01-09</th>\n",
       "      <td>1.778191</td>\n",
       "      <td>1.082915</td>\n",
       "      <td>1.322426</td>\n",
       "      <td>4.002924</td>\n",
       "      <td>3.046217</td>\n",
       "      <td>3.422940</td>\n",
       "      <td>2.6875</td>\n",
       "      <td>4.212490</td>\n",
       "      <td>1.646553</td>\n",
       "      <td>24.00</td>\n",
       "      <td>...</td>\n",
       "      <td>NaN</td>\n",
       "      <td>NaN</td>\n",
       "      <td>NaN</td>\n",
       "      <td>NaN</td>\n",
       "      <td>NaN</td>\n",
       "      <td>NaN</td>\n",
       "      <td>NaN</td>\n",
       "      <td>NaN</td>\n",
       "      <td>NaN</td>\n",
       "      <td>NaN</td>\n",
       "    </tr>\n",
       "    <tr>\n",
       "      <th>...</th>\n",
       "      <td>...</td>\n",
       "      <td>...</td>\n",
       "      <td>...</td>\n",
       "      <td>...</td>\n",
       "      <td>...</td>\n",
       "      <td>...</td>\n",
       "      <td>...</td>\n",
       "      <td>...</td>\n",
       "      <td>...</td>\n",
       "      <td>...</td>\n",
       "      <td>...</td>\n",
       "      <td>...</td>\n",
       "      <td>...</td>\n",
       "      <td>...</td>\n",
       "      <td>...</td>\n",
       "      <td>...</td>\n",
       "      <td>...</td>\n",
       "      <td>...</td>\n",
       "      <td>...</td>\n",
       "      <td>...</td>\n",
       "      <td>...</td>\n",
       "    </tr>\n",
       "    <tr>\n",
       "      <th>2017-12-22</th>\n",
       "      <td>40.080000</td>\n",
       "      <td>36.500000</td>\n",
       "      <td>174.680000</td>\n",
       "      <td>48.790000</td>\n",
       "      <td>49.450000</td>\n",
       "      <td>38.390000</td>\n",
       "      <td>190.9200</td>\n",
       "      <td>57.100000</td>\n",
       "      <td>10.320000</td>\n",
       "      <td>31.93</td>\n",
       "      <td>...</td>\n",
       "      <td>19.803890</td>\n",
       "      <td>8.523758</td>\n",
       "      <td>21.486877</td>\n",
       "      <td>2.316577</td>\n",
       "      <td>5.429883</td>\n",
       "      <td>3.427137</td>\n",
       "      <td>1.811882</td>\n",
       "      <td>3.851540</td>\n",
       "      <td>1.606720</td>\n",
       "      <td>0.273170</td>\n",
       "    </tr>\n",
       "    <tr>\n",
       "      <th>2017-12-26</th>\n",
       "      <td>40.150000</td>\n",
       "      <td>36.700000</td>\n",
       "      <td>170.800000</td>\n",
       "      <td>49.380000</td>\n",
       "      <td>49.150000</td>\n",
       "      <td>38.110000</td>\n",
       "      <td>191.3100</td>\n",
       "      <td>57.010000</td>\n",
       "      <td>10.310000</td>\n",
       "      <td>32.35</td>\n",
       "      <td>...</td>\n",
       "      <td>25.760220</td>\n",
       "      <td>6.173625</td>\n",
       "      <td>25.633185</td>\n",
       "      <td>1.632204</td>\n",
       "      <td>5.174393</td>\n",
       "      <td>1.903951</td>\n",
       "      <td>2.894652</td>\n",
       "      <td>3.485999</td>\n",
       "      <td>1.427873</td>\n",
       "      <td>0.233545</td>\n",
       "    </tr>\n",
       "    <tr>\n",
       "      <th>2017-12-27</th>\n",
       "      <td>40.610000</td>\n",
       "      <td>36.650000</td>\n",
       "      <td>170.100000</td>\n",
       "      <td>49.640000</td>\n",
       "      <td>48.600000</td>\n",
       "      <td>38.190000</td>\n",
       "      <td>189.9600</td>\n",
       "      <td>57.090000</td>\n",
       "      <td>10.460000</td>\n",
       "      <td>32.20</td>\n",
       "      <td>...</td>\n",
       "      <td>24.337094</td>\n",
       "      <td>8.119724</td>\n",
       "      <td>26.535988</td>\n",
       "      <td>2.954414</td>\n",
       "      <td>3.857575</td>\n",
       "      <td>2.065709</td>\n",
       "      <td>1.405801</td>\n",
       "      <td>2.093023</td>\n",
       "      <td>1.407286</td>\n",
       "      <td>0.256812</td>\n",
       "    </tr>\n",
       "    <tr>\n",
       "      <th>2017-12-28</th>\n",
       "      <td>40.520000</td>\n",
       "      <td>36.700000</td>\n",
       "      <td>171.000000</td>\n",
       "      <td>49.100000</td>\n",
       "      <td>48.500000</td>\n",
       "      <td>38.240000</td>\n",
       "      <td>190.5000</td>\n",
       "      <td>57.440000</td>\n",
       "      <td>10.290000</td>\n",
       "      <td>32.49</td>\n",
       "      <td>...</td>\n",
       "      <td>23.577971</td>\n",
       "      <td>6.133750</td>\n",
       "      <td>16.972291</td>\n",
       "      <td>1.387455</td>\n",
       "      <td>4.228009</td>\n",
       "      <td>2.174696</td>\n",
       "      <td>1.470248</td>\n",
       "      <td>3.247877</td>\n",
       "      <td>1.759440</td>\n",
       "      <td>0.256760</td>\n",
       "    </tr>\n",
       "    <tr>\n",
       "      <th>2017-12-29</th>\n",
       "      <td>40.220000</td>\n",
       "      <td>36.900000</td>\n",
       "      <td>170.520000</td>\n",
       "      <td>49.970000</td>\n",
       "      <td>48.800000</td>\n",
       "      <td>38.010000</td>\n",
       "      <td>190.5600</td>\n",
       "      <td>57.600000</td>\n",
       "      <td>10.200000</td>\n",
       "      <td>32.68</td>\n",
       "      <td>...</td>\n",
       "      <td>23.556548</td>\n",
       "      <td>9.415783</td>\n",
       "      <td>19.849476</td>\n",
       "      <td>5.487452</td>\n",
       "      <td>4.742287</td>\n",
       "      <td>1.814428</td>\n",
       "      <td>1.443513</td>\n",
       "      <td>2.188131</td>\n",
       "      <td>1.963333</td>\n",
       "      <td>0.601501</td>\n",
       "    </tr>\n",
       "  </tbody>\n",
       "</table>\n",
       "<p>5822 rows × 30128 columns</p>\n",
       "</div>"
      ],
      "text/plain": [
       "                 open                                                          \\\n",
       "ticker            AAN       AAON        AAPL       ABAX       ABCB        ABM   \n",
       "date                                                                            \n",
       "1995-01-03   1.778191   0.959805    1.235069   3.296526   3.236605   3.436434   \n",
       "1995-01-04   1.725194   1.006921    1.227128   3.414259   3.173142   3.344280   \n",
       "1995-01-05   1.778191   1.101914    1.246823   3.649725   3.173142   3.344280   \n",
       "1995-01-06   1.725194   1.054798    1.322426   4.238390   3.046217   3.362116   \n",
       "1995-01-09   1.778191   1.082915    1.322426   4.002924   3.046217   3.422940   \n",
       "...               ...        ...         ...        ...        ...        ...   \n",
       "2017-12-22  40.080000  36.500000  174.680000  48.790000  49.450000  38.390000   \n",
       "2017-12-26  40.150000  36.700000  170.800000  49.380000  49.150000  38.110000   \n",
       "2017-12-27  40.610000  36.650000  170.100000  49.640000  48.600000  38.190000   \n",
       "2017-12-28  40.520000  36.700000  171.000000  49.100000  48.500000  38.240000   \n",
       "2017-12-29  40.220000  36.900000  170.520000  49.970000  48.800000  38.010000   \n",
       "\n",
       "                                                   ... dollar_volume  \\\n",
       "ticker          ABMD        ABT       ACET   ACHC  ...           CIM   \n",
       "date                                               ...                 \n",
       "1995-01-03    2.6250   4.268868   1.706428  24.00  ...           NaN   \n",
       "1995-01-04    2.5625   4.318781   1.605839  24.00  ...           NaN   \n",
       "1995-01-05    2.8750   4.285944   1.632183  24.00  ...           NaN   \n",
       "1995-01-06    2.7500   4.268868   1.646553  24.00  ...           NaN   \n",
       "1995-01-09    2.6875   4.212490   1.646553  24.00  ...           NaN   \n",
       "...              ...        ...        ...    ...  ...           ...   \n",
       "2017-12-22  190.9200  57.100000  10.320000  31.93  ...     19.803890   \n",
       "2017-12-26  191.3100  57.010000  10.310000  32.35  ...     25.760220   \n",
       "2017-12-27  189.9600  57.090000  10.460000  32.20  ...     24.337094   \n",
       "2017-12-28  190.5000  57.440000  10.290000  32.49  ...     23.577971   \n",
       "2017-12-29  190.5600  57.600000  10.200000  32.68  ...     23.556548   \n",
       "\n",
       "                                                                         \\\n",
       "ticker           ARR         KW       GTS      CATM       FOR       LRN   \n",
       "date                                                                      \n",
       "1995-01-03       NaN        NaN       NaN       NaN       NaN       NaN   \n",
       "1995-01-04       NaN        NaN       NaN       NaN       NaN       NaN   \n",
       "1995-01-05       NaN        NaN       NaN       NaN       NaN       NaN   \n",
       "1995-01-06       NaN        NaN       NaN       NaN       NaN       NaN   \n",
       "1995-01-09       NaN        NaN       NaN       NaN       NaN       NaN   \n",
       "...              ...        ...       ...       ...       ...       ...   \n",
       "2017-12-22  8.523758  21.486877  2.316577  5.429883  3.427137  1.811882   \n",
       "2017-12-26  6.173625  25.633185  1.632204  5.174393  1.903951  2.894652   \n",
       "2017-12-27  8.119724  26.535988  2.954414  3.857575  2.065709  1.405801   \n",
       "2017-12-28  6.133750  16.972291  1.387455  4.228009  2.174696  1.470248   \n",
       "2017-12-29  9.415783  19.849476  5.487452  4.742287  1.814428  1.443513   \n",
       "\n",
       "                                          \n",
       "ticker          TITN       TNK       ORN  \n",
       "date                                      \n",
       "1995-01-03       NaN       NaN       NaN  \n",
       "1995-01-04       NaN       NaN       NaN  \n",
       "1995-01-05       NaN       NaN       NaN  \n",
       "1995-01-06       NaN       NaN       NaN  \n",
       "1995-01-09       NaN       NaN       NaN  \n",
       "...              ...       ...       ...  \n",
       "2017-12-22  3.851540  1.606720  0.273170  \n",
       "2017-12-26  3.485999  1.427873  0.233545  \n",
       "2017-12-27  2.093023  1.407286  0.256812  \n",
       "2017-12-28  3.247877  1.759440  0.256760  \n",
       "2017-12-29  2.188131  1.963333  0.601501  \n",
       "\n",
       "[5822 rows x 30128 columns]"
      ]
     },
     "execution_count": 78,
     "metadata": {},
     "output_type": "execute_result"
    }
   ],
   "source": [
    "prices"
   ]
  },
  {
   "cell_type": "code",
   "execution_count": 35,
   "metadata": {
    "ExecuteTime": {
     "end_time": "2020-12-10T21:25:13.113316Z",
     "start_time": "2020-12-10T21:25:05.027800Z"
    }
   },
   "outputs": [],
   "source": [
    "data = (pd.concat([prices.dollar_volume.resample('M').mean().stack('ticker').to_frame('dollar_volume'),\n",
    "                   prices[last_cols].resample('M').last().stack('ticker')],\n",
    "                  axis=1)\n",
    "        .swaplevel()\n",
    "        .dropna())"
   ]
  },
  {
   "cell_type": "code",
   "execution_count": 36,
   "metadata": {},
   "outputs": [
    {
     "data": {
      "text/html": [
       "<div>\n",
       "<style scoped>\n",
       "    .dataframe tbody tr th:only-of-type {\n",
       "        vertical-align: middle;\n",
       "    }\n",
       "\n",
       "    .dataframe tbody tr th {\n",
       "        vertical-align: top;\n",
       "    }\n",
       "\n",
       "    .dataframe thead th {\n",
       "        text-align: right;\n",
       "    }\n",
       "</style>\n",
       "<table border=\"1\" class=\"dataframe\">\n",
       "  <thead>\n",
       "    <tr style=\"text-align: right;\">\n",
       "      <th></th>\n",
       "      <th></th>\n",
       "      <th>dollar_volume</th>\n",
       "      <th>atr</th>\n",
       "      <th>bb_down</th>\n",
       "      <th>bb_high</th>\n",
       "      <th>bb_low</th>\n",
       "      <th>bb_mid</th>\n",
       "      <th>bb_up</th>\n",
       "      <th>close</th>\n",
       "      <th>macd</th>\n",
       "      <th>natr</th>\n",
       "      <th>rsi</th>\n",
       "      <th>sector</th>\n",
       "    </tr>\n",
       "    <tr>\n",
       "      <th>ticker</th>\n",
       "      <th>date</th>\n",
       "      <th></th>\n",
       "      <th></th>\n",
       "      <th></th>\n",
       "      <th></th>\n",
       "      <th></th>\n",
       "      <th></th>\n",
       "      <th></th>\n",
       "      <th></th>\n",
       "      <th></th>\n",
       "      <th></th>\n",
       "      <th></th>\n",
       "      <th></th>\n",
       "    </tr>\n",
       "  </thead>\n",
       "  <tbody>\n",
       "    <tr>\n",
       "      <th>AAN</th>\n",
       "      <th>1995-02-28</th>\n",
       "      <td>0.076234</td>\n",
       "      <td>-0.901701</td>\n",
       "      <td>0.094985</td>\n",
       "      <td>1.102449</td>\n",
       "      <td>1.022490</td>\n",
       "      <td>1.062469</td>\n",
       "      <td>-0.015025</td>\n",
       "      <td>2.057123</td>\n",
       "      <td>-0.018766</td>\n",
       "      <td>2.986767</td>\n",
       "      <td>65.510236</td>\n",
       "      <td>Technology</td>\n",
       "    </tr>\n",
       "    <tr>\n",
       "      <th>AAON</th>\n",
       "      <th>1995-02-28</th>\n",
       "      <td>0.648475</td>\n",
       "      <td>-0.776136</td>\n",
       "      <td>0.011130</td>\n",
       "      <td>0.724783</td>\n",
       "      <td>0.656662</td>\n",
       "      <td>0.690722</td>\n",
       "      <td>0.056992</td>\n",
       "      <td>0.949926</td>\n",
       "      <td>-0.300224</td>\n",
       "      <td>5.914937</td>\n",
       "      <td>43.638603</td>\n",
       "      <td>Capital Goods</td>\n",
       "    </tr>\n",
       "    <tr>\n",
       "      <th>AAPL</th>\n",
       "      <th>1995-02-28</th>\n",
       "      <td>91.764760</td>\n",
       "      <td>-0.807437</td>\n",
       "      <td>0.018716</td>\n",
       "      <td>0.883378</td>\n",
       "      <td>0.795854</td>\n",
       "      <td>0.839616</td>\n",
       "      <td>0.068807</td>\n",
       "      <td>1.258206</td>\n",
       "      <td>-0.245760</td>\n",
       "      <td>3.714928</td>\n",
       "      <td>44.914285</td>\n",
       "      <td>Technology</td>\n",
       "    </tr>\n",
       "    <tr>\n",
       "      <th>ABAX</th>\n",
       "      <th>1995-02-28</th>\n",
       "      <td>0.130321</td>\n",
       "      <td>-0.795972</td>\n",
       "      <td>0.211246</td>\n",
       "      <td>1.720151</td>\n",
       "      <td>1.374962</td>\n",
       "      <td>1.547557</td>\n",
       "      <td>0.133943</td>\n",
       "      <td>3.885191</td>\n",
       "      <td>0.142463</td>\n",
       "      <td>9.825437</td>\n",
       "      <td>53.251518</td>\n",
       "      <td>Capital Goods</td>\n",
       "    </tr>\n",
       "    <tr>\n",
       "      <th>ABCB</th>\n",
       "      <th>1995-02-28</th>\n",
       "      <td>0.014540</td>\n",
       "      <td>-1.058002</td>\n",
       "      <td>0.054657</td>\n",
       "      <td>1.471694</td>\n",
       "      <td>1.389106</td>\n",
       "      <td>1.430400</td>\n",
       "      <td>0.027932</td>\n",
       "      <td>3.236605</td>\n",
       "      <td>-0.049239</td>\n",
       "      <td>3.337611</td>\n",
       "      <td>52.835867</td>\n",
       "      <td>Finance</td>\n",
       "    </tr>\n",
       "    <tr>\n",
       "      <th>...</th>\n",
       "      <th>...</th>\n",
       "      <td>...</td>\n",
       "      <td>...</td>\n",
       "      <td>...</td>\n",
       "      <td>...</td>\n",
       "      <td>...</td>\n",
       "      <td>...</td>\n",
       "      <td>...</td>\n",
       "      <td>...</td>\n",
       "      <td>...</td>\n",
       "      <td>...</td>\n",
       "      <td>...</td>\n",
       "      <td>...</td>\n",
       "    </tr>\n",
       "    <tr>\n",
       "      <th>ZEUS</th>\n",
       "      <th>2017-12-31</th>\n",
       "      <td>2.367517</td>\n",
       "      <td>-0.268761</td>\n",
       "      <td>0.061454</td>\n",
       "      <td>3.168421</td>\n",
       "      <td>3.051617</td>\n",
       "      <td>3.110019</td>\n",
       "      <td>0.055350</td>\n",
       "      <td>21.490000</td>\n",
       "      <td>0.615364</td>\n",
       "      <td>3.380065</td>\n",
       "      <td>54.357447</td>\n",
       "      <td>Basic Industries</td>\n",
       "    </tr>\n",
       "    <tr>\n",
       "      <th>ZION</th>\n",
       "      <th>2017-12-31</th>\n",
       "      <td>104.045818</td>\n",
       "      <td>0.070423</td>\n",
       "      <td>0.028298</td>\n",
       "      <td>3.968271</td>\n",
       "      <td>3.919671</td>\n",
       "      <td>3.943971</td>\n",
       "      <td>0.020302</td>\n",
       "      <td>50.830000</td>\n",
       "      <td>0.970972</td>\n",
       "      <td>2.018365</td>\n",
       "      <td>57.076071</td>\n",
       "      <td>Finance</td>\n",
       "    </tr>\n",
       "    <tr>\n",
       "      <th>ZIOP</th>\n",
       "      <th>2017-12-31</th>\n",
       "      <td>7.197808</td>\n",
       "      <td>-0.242063</td>\n",
       "      <td>0.039425</td>\n",
       "      <td>1.710400</td>\n",
       "      <td>1.597628</td>\n",
       "      <td>1.654014</td>\n",
       "      <td>0.073347</td>\n",
       "      <td>4.140000</td>\n",
       "      <td>-0.306141</td>\n",
       "      <td>6.112761</td>\n",
       "      <td>44.348071</td>\n",
       "      <td>Health Care</td>\n",
       "    </tr>\n",
       "    <tr>\n",
       "      <th>ZIXI</th>\n",
       "      <th>2017-12-31</th>\n",
       "      <td>1.169411</td>\n",
       "      <td>-0.359517</td>\n",
       "      <td>0.038364</td>\n",
       "      <td>1.724550</td>\n",
       "      <td>1.644325</td>\n",
       "      <td>1.684437</td>\n",
       "      <td>0.041861</td>\n",
       "      <td>4.380000</td>\n",
       "      <td>-0.029749</td>\n",
       "      <td>3.696549</td>\n",
       "      <td>45.400332</td>\n",
       "      <td>Technology</td>\n",
       "    </tr>\n",
       "    <tr>\n",
       "      <th>ZUMZ</th>\n",
       "      <th>2017-12-31</th>\n",
       "      <td>9.726927</td>\n",
       "      <td>-0.668948</td>\n",
       "      <td>0.041582</td>\n",
       "      <td>3.135397</td>\n",
       "      <td>3.041474</td>\n",
       "      <td>3.088436</td>\n",
       "      <td>0.052341</td>\n",
       "      <td>20.825000</td>\n",
       "      <td>0.535921</td>\n",
       "      <td>3.933227</td>\n",
       "      <td>52.959469</td>\n",
       "      <td>Consumer Services</td>\n",
       "    </tr>\n",
       "  </tbody>\n",
       "</table>\n",
       "<p>452529 rows × 12 columns</p>\n",
       "</div>"
      ],
      "text/plain": [
       "                   dollar_volume       atr   bb_down   bb_high    bb_low  \\\n",
       "ticker date                                                                \n",
       "AAN    1995-02-28       0.076234 -0.901701  0.094985  1.102449  1.022490   \n",
       "AAON   1995-02-28       0.648475 -0.776136  0.011130  0.724783  0.656662   \n",
       "AAPL   1995-02-28      91.764760 -0.807437  0.018716  0.883378  0.795854   \n",
       "ABAX   1995-02-28       0.130321 -0.795972  0.211246  1.720151  1.374962   \n",
       "ABCB   1995-02-28       0.014540 -1.058002  0.054657  1.471694  1.389106   \n",
       "...                          ...       ...       ...       ...       ...   \n",
       "ZEUS   2017-12-31       2.367517 -0.268761  0.061454  3.168421  3.051617   \n",
       "ZION   2017-12-31     104.045818  0.070423  0.028298  3.968271  3.919671   \n",
       "ZIOP   2017-12-31       7.197808 -0.242063  0.039425  1.710400  1.597628   \n",
       "ZIXI   2017-12-31       1.169411 -0.359517  0.038364  1.724550  1.644325   \n",
       "ZUMZ   2017-12-31       9.726927 -0.668948  0.041582  3.135397  3.041474   \n",
       "\n",
       "                     bb_mid     bb_up      close      macd      natr  \\\n",
       "ticker date                                                            \n",
       "AAN    1995-02-28  1.062469 -0.015025   2.057123 -0.018766  2.986767   \n",
       "AAON   1995-02-28  0.690722  0.056992   0.949926 -0.300224  5.914937   \n",
       "AAPL   1995-02-28  0.839616  0.068807   1.258206 -0.245760  3.714928   \n",
       "ABAX   1995-02-28  1.547557  0.133943   3.885191  0.142463  9.825437   \n",
       "ABCB   1995-02-28  1.430400  0.027932   3.236605 -0.049239  3.337611   \n",
       "...                     ...       ...        ...       ...       ...   \n",
       "ZEUS   2017-12-31  3.110019  0.055350  21.490000  0.615364  3.380065   \n",
       "ZION   2017-12-31  3.943971  0.020302  50.830000  0.970972  2.018365   \n",
       "ZIOP   2017-12-31  1.654014  0.073347   4.140000 -0.306141  6.112761   \n",
       "ZIXI   2017-12-31  1.684437  0.041861   4.380000 -0.029749  3.696549   \n",
       "ZUMZ   2017-12-31  3.088436  0.052341  20.825000  0.535921  3.933227   \n",
       "\n",
       "                         rsi             sector  \n",
       "ticker date                                      \n",
       "AAN    1995-02-28  65.510236         Technology  \n",
       "AAON   1995-02-28  43.638603      Capital Goods  \n",
       "AAPL   1995-02-28  44.914285         Technology  \n",
       "ABAX   1995-02-28  53.251518      Capital Goods  \n",
       "ABCB   1995-02-28  52.835867            Finance  \n",
       "...                      ...                ...  \n",
       "ZEUS   2017-12-31  54.357447   Basic Industries  \n",
       "ZION   2017-12-31  57.076071            Finance  \n",
       "ZIOP   2017-12-31  44.348071        Health Care  \n",
       "ZIXI   2017-12-31  45.400332         Technology  \n",
       "ZUMZ   2017-12-31  52.959469  Consumer Services  \n",
       "\n",
       "[452529 rows x 12 columns]"
      ]
     },
     "execution_count": 36,
     "metadata": {},
     "output_type": "execute_result"
    }
   ],
   "source": [
    "data"
   ]
  },
  {
   "cell_type": "code",
   "execution_count": 37,
   "metadata": {
    "ExecuteTime": {
     "end_time": "2020-12-10T21:25:13.144767Z",
     "start_time": "2020-12-10T21:25:13.114850Z"
    }
   },
   "outputs": [
    {
     "name": "stdout",
     "output_type": "stream",
     "text": [
      "<class 'pandas.core.frame.DataFrame'>\n",
      "MultiIndex: 452529 entries, ('AAN', Timestamp('1995-02-28 00:00:00')) to ('ZUMZ', Timestamp('2017-12-31 00:00:00'))\n",
      "Data columns (total 12 columns):\n",
      " #   Column         Non-Null Count   Dtype  \n",
      "---  ------         --------------   -----  \n",
      " 0   dollar_volume  452529 non-null  float64\n",
      " 1   atr            452529 non-null  float64\n",
      " 2   bb_down        452529 non-null  float64\n",
      " 3   bb_high        452529 non-null  float64\n",
      " 4   bb_low         452529 non-null  float64\n",
      " 5   bb_mid         452529 non-null  float64\n",
      " 6   bb_up          452529 non-null  float64\n",
      " 7   close          452529 non-null  float64\n",
      " 8   macd           452529 non-null  float64\n",
      " 9   natr           452529 non-null  float64\n",
      " 10  rsi            452529 non-null  float64\n",
      " 11  sector         452529 non-null  object \n",
      "dtypes: float64(11), object(1)\n",
      "memory usage: 43.2+ MB\n"
     ]
    }
   ],
   "source": [
    "data.info()"
   ]
  },
  {
   "cell_type": "markdown",
   "metadata": {},
   "source": [
    "## Select 500 most-traded equities"
   ]
  },
  {
   "cell_type": "markdown",
   "metadata": {},
   "source": [
    "Select the 500 most-traded stocks based on a 5-year rolling average of dollar volume."
   ]
  },
  {
   "cell_type": "code",
   "execution_count": 38,
   "metadata": {
    "ExecuteTime": {
     "end_time": "2020-12-10T21:25:31.196406Z",
     "start_time": "2020-12-10T21:25:19.541698Z"
    }
   },
   "outputs": [],
   "source": [
    "data = data.sort_index(level='ticker')\n",
    "data['dollar_volume'] = (data\n",
    "                                 .groupby('ticker',\n",
    "                                          group_keys=False,\n",
    "                                          as_index=False)\n",
    "                                 .dollar_volume\n",
    "                                 .rolling(window=5*12)\n",
    "                                 .mean()\n",
    "                                 .fillna(0)\n",
    "                                 .reset_index(level=0, drop=True).values)"
   ]
  },
  {
   "cell_type": "code",
   "execution_count": 39,
   "metadata": {},
   "outputs": [
    {
     "data": {
      "text/html": [
       "<div>\n",
       "<style scoped>\n",
       "    .dataframe tbody tr th:only-of-type {\n",
       "        vertical-align: middle;\n",
       "    }\n",
       "\n",
       "    .dataframe tbody tr th {\n",
       "        vertical-align: top;\n",
       "    }\n",
       "\n",
       "    .dataframe thead th {\n",
       "        text-align: right;\n",
       "    }\n",
       "</style>\n",
       "<table border=\"1\" class=\"dataframe\">\n",
       "  <thead>\n",
       "    <tr style=\"text-align: right;\">\n",
       "      <th></th>\n",
       "      <th></th>\n",
       "      <th>dollar_volume</th>\n",
       "      <th>atr</th>\n",
       "      <th>bb_down</th>\n",
       "      <th>bb_high</th>\n",
       "      <th>bb_low</th>\n",
       "      <th>bb_mid</th>\n",
       "      <th>bb_up</th>\n",
       "      <th>close</th>\n",
       "      <th>macd</th>\n",
       "      <th>natr</th>\n",
       "      <th>rsi</th>\n",
       "      <th>sector</th>\n",
       "    </tr>\n",
       "    <tr>\n",
       "      <th>ticker</th>\n",
       "      <th>date</th>\n",
       "      <th></th>\n",
       "      <th></th>\n",
       "      <th></th>\n",
       "      <th></th>\n",
       "      <th></th>\n",
       "      <th></th>\n",
       "      <th></th>\n",
       "      <th></th>\n",
       "      <th></th>\n",
       "      <th></th>\n",
       "      <th></th>\n",
       "      <th></th>\n",
       "    </tr>\n",
       "  </thead>\n",
       "  <tbody>\n",
       "    <tr>\n",
       "      <th rowspan=\"5\" valign=\"top\">A</th>\n",
       "      <th>2000-01-31</th>\n",
       "      <td>0.000000</td>\n",
       "      <td>1.731295</td>\n",
       "      <td>0.063414</td>\n",
       "      <td>3.932485</td>\n",
       "      <td>3.768645</td>\n",
       "      <td>3.850565</td>\n",
       "      <td>0.100425</td>\n",
       "      <td>45.157511</td>\n",
       "      <td>2.020591</td>\n",
       "      <td>5.541014</td>\n",
       "      <td>53.739148</td>\n",
       "      <td>Capital Goods</td>\n",
       "    </tr>\n",
       "    <tr>\n",
       "      <th>2000-02-29</th>\n",
       "      <td>0.000000</td>\n",
       "      <td>3.959243</td>\n",
       "      <td>0.454710</td>\n",
       "      <td>4.348944</td>\n",
       "      <td>3.820355</td>\n",
       "      <td>4.084650</td>\n",
       "      <td>0.073879</td>\n",
       "      <td>70.884807</td>\n",
       "      <td>6.192176</td>\n",
       "      <td>6.447519</td>\n",
       "      <td>69.500618</td>\n",
       "      <td>Capital Goods</td>\n",
       "    </tr>\n",
       "    <tr>\n",
       "      <th>2000-03-31</th>\n",
       "      <td>0.000000</td>\n",
       "      <td>7.153952</td>\n",
       "      <td>0.063142</td>\n",
       "      <td>4.691676</td>\n",
       "      <td>4.212871</td>\n",
       "      <td>4.452273</td>\n",
       "      <td>0.415662</td>\n",
       "      <td>70.953031</td>\n",
       "      <td>0.750543</td>\n",
       "      <td>10.620898</td>\n",
       "      <td>43.861800</td>\n",
       "      <td>Capital Goods</td>\n",
       "    </tr>\n",
       "    <tr>\n",
       "      <th>2000-04-30</th>\n",
       "      <td>0.000000</td>\n",
       "      <td>5.814687</td>\n",
       "      <td>0.138404</td>\n",
       "      <td>4.366761</td>\n",
       "      <td>3.980096</td>\n",
       "      <td>4.173429</td>\n",
       "      <td>0.248261</td>\n",
       "      <td>60.466992</td>\n",
       "      <td>-3.503484</td>\n",
       "      <td>10.406763</td>\n",
       "      <td>43.325747</td>\n",
       "      <td>Capital Goods</td>\n",
       "    </tr>\n",
       "    <tr>\n",
       "      <th>2000-05-31</th>\n",
       "      <td>0.000000</td>\n",
       "      <td>5.092544</td>\n",
       "      <td>0.254224</td>\n",
       "      <td>4.255311</td>\n",
       "      <td>3.682167</td>\n",
       "      <td>3.968739</td>\n",
       "      <td>0.318920</td>\n",
       "      <td>50.233382</td>\n",
       "      <td>-4.444144</td>\n",
       "      <td>11.192390</td>\n",
       "      <td>45.985738</td>\n",
       "      <td>Capital Goods</td>\n",
       "    </tr>\n",
       "    <tr>\n",
       "      <th>...</th>\n",
       "      <th>...</th>\n",
       "      <td>...</td>\n",
       "      <td>...</td>\n",
       "      <td>...</td>\n",
       "      <td>...</td>\n",
       "      <td>...</td>\n",
       "      <td>...</td>\n",
       "      <td>...</td>\n",
       "      <td>...</td>\n",
       "      <td>...</td>\n",
       "      <td>...</td>\n",
       "      <td>...</td>\n",
       "      <td>...</td>\n",
       "    </tr>\n",
       "    <tr>\n",
       "      <th rowspan=\"5\" valign=\"top\">ZUMZ</th>\n",
       "      <th>2017-08-31</th>\n",
       "      <td>9.617008</td>\n",
       "      <td>-1.406519</td>\n",
       "      <td>0.079850</td>\n",
       "      <td>2.672887</td>\n",
       "      <td>2.519129</td>\n",
       "      <td>2.596008</td>\n",
       "      <td>0.073908</td>\n",
       "      <td>12.450000</td>\n",
       "      <td>0.033768</td>\n",
       "      <td>4.406561</td>\n",
       "      <td>49.004517</td>\n",
       "      <td>Consumer Services</td>\n",
       "    </tr>\n",
       "    <tr>\n",
       "      <th>2017-09-30</th>\n",
       "      <td>9.403901</td>\n",
       "      <td>-1.102668</td>\n",
       "      <td>0.325987</td>\n",
       "      <td>3.031582</td>\n",
       "      <td>2.623702</td>\n",
       "      <td>2.827642</td>\n",
       "      <td>0.081894</td>\n",
       "      <td>18.100000</td>\n",
       "      <td>1.240790</td>\n",
       "      <td>3.646648</td>\n",
       "      <td>74.991384</td>\n",
       "      <td>Consumer Services</td>\n",
       "    </tr>\n",
       "    <tr>\n",
       "      <th>2017-10-31</th>\n",
       "      <td>9.280583</td>\n",
       "      <td>-1.044057</td>\n",
       "      <td>0.049685</td>\n",
       "      <td>2.997011</td>\n",
       "      <td>2.876161</td>\n",
       "      <td>2.936586</td>\n",
       "      <td>0.071165</td>\n",
       "      <td>17.650000</td>\n",
       "      <td>0.334190</td>\n",
       "      <td>3.861397</td>\n",
       "      <td>52.782217</td>\n",
       "      <td>Consumer Services</td>\n",
       "    </tr>\n",
       "    <tr>\n",
       "      <th>2017-11-30</th>\n",
       "      <td>9.149301</td>\n",
       "      <td>-0.454277</td>\n",
       "      <td>0.257731</td>\n",
       "      <td>3.092331</td>\n",
       "      <td>2.869030</td>\n",
       "      <td>2.980680</td>\n",
       "      <td>-0.034430</td>\n",
       "      <td>21.800000</td>\n",
       "      <td>0.857650</td>\n",
       "      <td>4.118427</td>\n",
       "      <td>74.239531</td>\n",
       "      <td>Consumer Services</td>\n",
       "    </tr>\n",
       "    <tr>\n",
       "      <th>2017-12-31</th>\n",
       "      <td>9.165877</td>\n",
       "      <td>-0.668948</td>\n",
       "      <td>0.041582</td>\n",
       "      <td>3.135397</td>\n",
       "      <td>3.041474</td>\n",
       "      <td>3.088436</td>\n",
       "      <td>0.052341</td>\n",
       "      <td>20.825000</td>\n",
       "      <td>0.535921</td>\n",
       "      <td>3.933227</td>\n",
       "      <td>52.959469</td>\n",
       "      <td>Consumer Services</td>\n",
       "    </tr>\n",
       "  </tbody>\n",
       "</table>\n",
       "<p>452529 rows × 12 columns</p>\n",
       "</div>"
      ],
      "text/plain": [
       "                   dollar_volume       atr   bb_down   bb_high    bb_low  \\\n",
       "ticker date                                                                \n",
       "A      2000-01-31       0.000000  1.731295  0.063414  3.932485  3.768645   \n",
       "       2000-02-29       0.000000  3.959243  0.454710  4.348944  3.820355   \n",
       "       2000-03-31       0.000000  7.153952  0.063142  4.691676  4.212871   \n",
       "       2000-04-30       0.000000  5.814687  0.138404  4.366761  3.980096   \n",
       "       2000-05-31       0.000000  5.092544  0.254224  4.255311  3.682167   \n",
       "...                          ...       ...       ...       ...       ...   \n",
       "ZUMZ   2017-08-31       9.617008 -1.406519  0.079850  2.672887  2.519129   \n",
       "       2017-09-30       9.403901 -1.102668  0.325987  3.031582  2.623702   \n",
       "       2017-10-31       9.280583 -1.044057  0.049685  2.997011  2.876161   \n",
       "       2017-11-30       9.149301 -0.454277  0.257731  3.092331  2.869030   \n",
       "       2017-12-31       9.165877 -0.668948  0.041582  3.135397  3.041474   \n",
       "\n",
       "                     bb_mid     bb_up      close      macd       natr  \\\n",
       "ticker date                                                             \n",
       "A      2000-01-31  3.850565  0.100425  45.157511  2.020591   5.541014   \n",
       "       2000-02-29  4.084650  0.073879  70.884807  6.192176   6.447519   \n",
       "       2000-03-31  4.452273  0.415662  70.953031  0.750543  10.620898   \n",
       "       2000-04-30  4.173429  0.248261  60.466992 -3.503484  10.406763   \n",
       "       2000-05-31  3.968739  0.318920  50.233382 -4.444144  11.192390   \n",
       "...                     ...       ...        ...       ...        ...   \n",
       "ZUMZ   2017-08-31  2.596008  0.073908  12.450000  0.033768   4.406561   \n",
       "       2017-09-30  2.827642  0.081894  18.100000  1.240790   3.646648   \n",
       "       2017-10-31  2.936586  0.071165  17.650000  0.334190   3.861397   \n",
       "       2017-11-30  2.980680 -0.034430  21.800000  0.857650   4.118427   \n",
       "       2017-12-31  3.088436  0.052341  20.825000  0.535921   3.933227   \n",
       "\n",
       "                         rsi             sector  \n",
       "ticker date                                      \n",
       "A      2000-01-31  53.739148      Capital Goods  \n",
       "       2000-02-29  69.500618      Capital Goods  \n",
       "       2000-03-31  43.861800      Capital Goods  \n",
       "       2000-04-30  43.325747      Capital Goods  \n",
       "       2000-05-31  45.985738      Capital Goods  \n",
       "...                      ...                ...  \n",
       "ZUMZ   2017-08-31  49.004517  Consumer Services  \n",
       "       2017-09-30  74.991384  Consumer Services  \n",
       "       2017-10-31  52.782217  Consumer Services  \n",
       "       2017-11-30  74.239531  Consumer Services  \n",
       "       2017-12-31  52.959469  Consumer Services  \n",
       "\n",
       "[452529 rows x 12 columns]"
      ]
     },
     "execution_count": 39,
     "metadata": {},
     "output_type": "execute_result"
    }
   ],
   "source": [
    "data"
   ]
  },
  {
   "cell_type": "code",
   "execution_count": 40,
   "metadata": {},
   "outputs": [
    {
     "data": {
      "text/html": [
       "<div>\n",
       "<style scoped>\n",
       "    .dataframe tbody tr th:only-of-type {\n",
       "        vertical-align: middle;\n",
       "    }\n",
       "\n",
       "    .dataframe tbody tr th {\n",
       "        vertical-align: top;\n",
       "    }\n",
       "\n",
       "    .dataframe thead th {\n",
       "        text-align: right;\n",
       "    }\n",
       "</style>\n",
       "<table border=\"1\" class=\"dataframe\">\n",
       "  <thead>\n",
       "    <tr style=\"text-align: right;\">\n",
       "      <th></th>\n",
       "      <th></th>\n",
       "      <th>dollar_volume</th>\n",
       "      <th>atr</th>\n",
       "      <th>bb_down</th>\n",
       "      <th>bb_high</th>\n",
       "      <th>bb_low</th>\n",
       "      <th>bb_mid</th>\n",
       "      <th>bb_up</th>\n",
       "      <th>close</th>\n",
       "      <th>macd</th>\n",
       "      <th>natr</th>\n",
       "      <th>rsi</th>\n",
       "      <th>sector</th>\n",
       "      <th>dollar_vol_rank</th>\n",
       "    </tr>\n",
       "    <tr>\n",
       "      <th>ticker</th>\n",
       "      <th>date</th>\n",
       "      <th></th>\n",
       "      <th></th>\n",
       "      <th></th>\n",
       "      <th></th>\n",
       "      <th></th>\n",
       "      <th></th>\n",
       "      <th></th>\n",
       "      <th></th>\n",
       "      <th></th>\n",
       "      <th></th>\n",
       "      <th></th>\n",
       "      <th></th>\n",
       "      <th></th>\n",
       "    </tr>\n",
       "  </thead>\n",
       "  <tbody>\n",
       "    <tr>\n",
       "      <th rowspan=\"5\" valign=\"top\">A</th>\n",
       "      <th>2000-01-31</th>\n",
       "      <td>0.000000</td>\n",
       "      <td>1.731295</td>\n",
       "      <td>0.063414</td>\n",
       "      <td>3.932485</td>\n",
       "      <td>3.768645</td>\n",
       "      <td>3.850565</td>\n",
       "      <td>0.100425</td>\n",
       "      <td>45.157511</td>\n",
       "      <td>2.020591</td>\n",
       "      <td>5.541014</td>\n",
       "      <td>53.739148</td>\n",
       "      <td>Capital Goods</td>\n",
       "      <td>1217.0</td>\n",
       "    </tr>\n",
       "    <tr>\n",
       "      <th>2000-02-29</th>\n",
       "      <td>0.000000</td>\n",
       "      <td>3.959243</td>\n",
       "      <td>0.454710</td>\n",
       "      <td>4.348944</td>\n",
       "      <td>3.820355</td>\n",
       "      <td>4.084650</td>\n",
       "      <td>0.073879</td>\n",
       "      <td>70.884807</td>\n",
       "      <td>6.192176</td>\n",
       "      <td>6.447519</td>\n",
       "      <td>69.500618</td>\n",
       "      <td>Capital Goods</td>\n",
       "      <td>1220.5</td>\n",
       "    </tr>\n",
       "    <tr>\n",
       "      <th>2000-03-31</th>\n",
       "      <td>0.000000</td>\n",
       "      <td>7.153952</td>\n",
       "      <td>0.063142</td>\n",
       "      <td>4.691676</td>\n",
       "      <td>4.212871</td>\n",
       "      <td>4.452273</td>\n",
       "      <td>0.415662</td>\n",
       "      <td>70.953031</td>\n",
       "      <td>0.750543</td>\n",
       "      <td>10.620898</td>\n",
       "      <td>43.861800</td>\n",
       "      <td>Capital Goods</td>\n",
       "      <td>1224.0</td>\n",
       "    </tr>\n",
       "    <tr>\n",
       "      <th>2000-04-30</th>\n",
       "      <td>0.000000</td>\n",
       "      <td>5.814687</td>\n",
       "      <td>0.138404</td>\n",
       "      <td>4.366761</td>\n",
       "      <td>3.980096</td>\n",
       "      <td>4.173429</td>\n",
       "      <td>0.248261</td>\n",
       "      <td>60.466992</td>\n",
       "      <td>-3.503484</td>\n",
       "      <td>10.406763</td>\n",
       "      <td>43.325747</td>\n",
       "      <td>Capital Goods</td>\n",
       "      <td>1227.5</td>\n",
       "    </tr>\n",
       "    <tr>\n",
       "      <th>2000-05-31</th>\n",
       "      <td>0.000000</td>\n",
       "      <td>5.092544</td>\n",
       "      <td>0.254224</td>\n",
       "      <td>4.255311</td>\n",
       "      <td>3.682167</td>\n",
       "      <td>3.968739</td>\n",
       "      <td>0.318920</td>\n",
       "      <td>50.233382</td>\n",
       "      <td>-4.444144</td>\n",
       "      <td>11.192390</td>\n",
       "      <td>45.985738</td>\n",
       "      <td>Capital Goods</td>\n",
       "      <td>1235.0</td>\n",
       "    </tr>\n",
       "    <tr>\n",
       "      <th>...</th>\n",
       "      <th>...</th>\n",
       "      <td>...</td>\n",
       "      <td>...</td>\n",
       "      <td>...</td>\n",
       "      <td>...</td>\n",
       "      <td>...</td>\n",
       "      <td>...</td>\n",
       "      <td>...</td>\n",
       "      <td>...</td>\n",
       "      <td>...</td>\n",
       "      <td>...</td>\n",
       "      <td>...</td>\n",
       "      <td>...</td>\n",
       "      <td>...</td>\n",
       "    </tr>\n",
       "    <tr>\n",
       "      <th rowspan=\"5\" valign=\"top\">ZUMZ</th>\n",
       "      <th>2017-08-31</th>\n",
       "      <td>9.617008</td>\n",
       "      <td>-1.406519</td>\n",
       "      <td>0.079850</td>\n",
       "      <td>2.672887</td>\n",
       "      <td>2.519129</td>\n",
       "      <td>2.596008</td>\n",
       "      <td>0.073908</td>\n",
       "      <td>12.450000</td>\n",
       "      <td>0.033768</td>\n",
       "      <td>4.406561</td>\n",
       "      <td>49.004517</td>\n",
       "      <td>Consumer Services</td>\n",
       "      <td>1041.0</td>\n",
       "    </tr>\n",
       "    <tr>\n",
       "      <th>2017-09-30</th>\n",
       "      <td>9.403901</td>\n",
       "      <td>-1.102668</td>\n",
       "      <td>0.325987</td>\n",
       "      <td>3.031582</td>\n",
       "      <td>2.623702</td>\n",
       "      <td>2.827642</td>\n",
       "      <td>0.081894</td>\n",
       "      <td>18.100000</td>\n",
       "      <td>1.240790</td>\n",
       "      <td>3.646648</td>\n",
       "      <td>74.991384</td>\n",
       "      <td>Consumer Services</td>\n",
       "      <td>1053.0</td>\n",
       "    </tr>\n",
       "    <tr>\n",
       "      <th>2017-10-31</th>\n",
       "      <td>9.280583</td>\n",
       "      <td>-1.044057</td>\n",
       "      <td>0.049685</td>\n",
       "      <td>2.997011</td>\n",
       "      <td>2.876161</td>\n",
       "      <td>2.936586</td>\n",
       "      <td>0.071165</td>\n",
       "      <td>17.650000</td>\n",
       "      <td>0.334190</td>\n",
       "      <td>3.861397</td>\n",
       "      <td>52.782217</td>\n",
       "      <td>Consumer Services</td>\n",
       "      <td>1067.0</td>\n",
       "    </tr>\n",
       "    <tr>\n",
       "      <th>2017-11-30</th>\n",
       "      <td>9.149301</td>\n",
       "      <td>-0.454277</td>\n",
       "      <td>0.257731</td>\n",
       "      <td>3.092331</td>\n",
       "      <td>2.869030</td>\n",
       "      <td>2.980680</td>\n",
       "      <td>-0.034430</td>\n",
       "      <td>21.800000</td>\n",
       "      <td>0.857650</td>\n",
       "      <td>4.118427</td>\n",
       "      <td>74.239531</td>\n",
       "      <td>Consumer Services</td>\n",
       "      <td>1072.0</td>\n",
       "    </tr>\n",
       "    <tr>\n",
       "      <th>2017-12-31</th>\n",
       "      <td>9.165877</td>\n",
       "      <td>-0.668948</td>\n",
       "      <td>0.041582</td>\n",
       "      <td>3.135397</td>\n",
       "      <td>3.041474</td>\n",
       "      <td>3.088436</td>\n",
       "      <td>0.052341</td>\n",
       "      <td>20.825000</td>\n",
       "      <td>0.535921</td>\n",
       "      <td>3.933227</td>\n",
       "      <td>52.959469</td>\n",
       "      <td>Consumer Services</td>\n",
       "      <td>1078.0</td>\n",
       "    </tr>\n",
       "  </tbody>\n",
       "</table>\n",
       "<p>452529 rows × 13 columns</p>\n",
       "</div>"
      ],
      "text/plain": [
       "                   dollar_volume       atr   bb_down   bb_high    bb_low  \\\n",
       "ticker date                                                                \n",
       "A      2000-01-31       0.000000  1.731295  0.063414  3.932485  3.768645   \n",
       "       2000-02-29       0.000000  3.959243  0.454710  4.348944  3.820355   \n",
       "       2000-03-31       0.000000  7.153952  0.063142  4.691676  4.212871   \n",
       "       2000-04-30       0.000000  5.814687  0.138404  4.366761  3.980096   \n",
       "       2000-05-31       0.000000  5.092544  0.254224  4.255311  3.682167   \n",
       "...                          ...       ...       ...       ...       ...   \n",
       "ZUMZ   2017-08-31       9.617008 -1.406519  0.079850  2.672887  2.519129   \n",
       "       2017-09-30       9.403901 -1.102668  0.325987  3.031582  2.623702   \n",
       "       2017-10-31       9.280583 -1.044057  0.049685  2.997011  2.876161   \n",
       "       2017-11-30       9.149301 -0.454277  0.257731  3.092331  2.869030   \n",
       "       2017-12-31       9.165877 -0.668948  0.041582  3.135397  3.041474   \n",
       "\n",
       "                     bb_mid     bb_up      close      macd       natr  \\\n",
       "ticker date                                                             \n",
       "A      2000-01-31  3.850565  0.100425  45.157511  2.020591   5.541014   \n",
       "       2000-02-29  4.084650  0.073879  70.884807  6.192176   6.447519   \n",
       "       2000-03-31  4.452273  0.415662  70.953031  0.750543  10.620898   \n",
       "       2000-04-30  4.173429  0.248261  60.466992 -3.503484  10.406763   \n",
       "       2000-05-31  3.968739  0.318920  50.233382 -4.444144  11.192390   \n",
       "...                     ...       ...        ...       ...        ...   \n",
       "ZUMZ   2017-08-31  2.596008  0.073908  12.450000  0.033768   4.406561   \n",
       "       2017-09-30  2.827642  0.081894  18.100000  1.240790   3.646648   \n",
       "       2017-10-31  2.936586  0.071165  17.650000  0.334190   3.861397   \n",
       "       2017-11-30  2.980680 -0.034430  21.800000  0.857650   4.118427   \n",
       "       2017-12-31  3.088436  0.052341  20.825000  0.535921   3.933227   \n",
       "\n",
       "                         rsi             sector  dollar_vol_rank  \n",
       "ticker date                                                       \n",
       "A      2000-01-31  53.739148      Capital Goods           1217.0  \n",
       "       2000-02-29  69.500618      Capital Goods           1220.5  \n",
       "       2000-03-31  43.861800      Capital Goods           1224.0  \n",
       "       2000-04-30  43.325747      Capital Goods           1227.5  \n",
       "       2000-05-31  45.985738      Capital Goods           1235.0  \n",
       "...                      ...                ...              ...  \n",
       "ZUMZ   2017-08-31  49.004517  Consumer Services           1041.0  \n",
       "       2017-09-30  74.991384  Consumer Services           1053.0  \n",
       "       2017-10-31  52.782217  Consumer Services           1067.0  \n",
       "       2017-11-30  74.239531  Consumer Services           1072.0  \n",
       "       2017-12-31  52.959469  Consumer Services           1078.0  \n",
       "\n",
       "[452529 rows x 13 columns]"
      ]
     },
     "execution_count": 40,
     "metadata": {},
     "output_type": "execute_result"
    }
   ],
   "source": [
    "data['dollar_vol_rank'] = (data\n",
    "                           .groupby('date')\n",
    "                           .dollar_volume\n",
    "                           .rank(ascending=False))\n",
    "data"
   ]
  },
  {
   "cell_type": "code",
   "execution_count": 41,
   "metadata": {
    "ExecuteTime": {
     "end_time": "2020-12-10T21:25:31.322598Z",
     "start_time": "2020-12-10T21:25:31.197777Z"
    }
   },
   "outputs": [
    {
     "data": {
      "text/html": [
       "<div>\n",
       "<style scoped>\n",
       "    .dataframe tbody tr th:only-of-type {\n",
       "        vertical-align: middle;\n",
       "    }\n",
       "\n",
       "    .dataframe tbody tr th {\n",
       "        vertical-align: top;\n",
       "    }\n",
       "\n",
       "    .dataframe thead th {\n",
       "        text-align: right;\n",
       "    }\n",
       "</style>\n",
       "<table border=\"1\" class=\"dataframe\">\n",
       "  <thead>\n",
       "    <tr style=\"text-align: right;\">\n",
       "      <th></th>\n",
       "      <th></th>\n",
       "      <th>atr</th>\n",
       "      <th>bb_down</th>\n",
       "      <th>bb_high</th>\n",
       "      <th>bb_low</th>\n",
       "      <th>bb_mid</th>\n",
       "      <th>bb_up</th>\n",
       "      <th>close</th>\n",
       "      <th>macd</th>\n",
       "      <th>natr</th>\n",
       "      <th>rsi</th>\n",
       "      <th>sector</th>\n",
       "    </tr>\n",
       "    <tr>\n",
       "      <th>ticker</th>\n",
       "      <th>date</th>\n",
       "      <th></th>\n",
       "      <th></th>\n",
       "      <th></th>\n",
       "      <th></th>\n",
       "      <th></th>\n",
       "      <th></th>\n",
       "      <th></th>\n",
       "      <th></th>\n",
       "      <th></th>\n",
       "      <th></th>\n",
       "      <th></th>\n",
       "    </tr>\n",
       "  </thead>\n",
       "  <tbody>\n",
       "    <tr>\n",
       "      <th rowspan=\"5\" valign=\"top\">A</th>\n",
       "      <th>2004-12-31</th>\n",
       "      <td>-0.501823</td>\n",
       "      <td>0.025098</td>\n",
       "      <td>2.871296</td>\n",
       "      <td>2.833783</td>\n",
       "      <td>2.852539</td>\n",
       "      <td>0.012415</td>\n",
       "      <td>16.442001</td>\n",
       "      <td>0.016797</td>\n",
       "      <td>2.610740</td>\n",
       "      <td>53.472599</td>\n",
       "      <td>Capital Goods</td>\n",
       "    </tr>\n",
       "    <tr>\n",
       "      <th>2005-01-31</th>\n",
       "      <td>-0.556859</td>\n",
       "      <td>0.041946</td>\n",
       "      <td>2.835474</td>\n",
       "      <td>2.735900</td>\n",
       "      <td>2.785687</td>\n",
       "      <td>0.057628</td>\n",
       "      <td>15.084342</td>\n",
       "      <td>-0.336030</td>\n",
       "      <td>2.507037</td>\n",
       "      <td>44.538959</td>\n",
       "      <td>Capital Goods</td>\n",
       "    </tr>\n",
       "    <tr>\n",
       "      <th>2005-02-28</th>\n",
       "      <td>-0.513495</td>\n",
       "      <td>0.081041</td>\n",
       "      <td>2.877209</td>\n",
       "      <td>2.773921</td>\n",
       "      <td>2.825565</td>\n",
       "      <td>0.022247</td>\n",
       "      <td>16.373776</td>\n",
       "      <td>0.106785</td>\n",
       "      <td>2.555450</td>\n",
       "      <td>58.619145</td>\n",
       "      <td>Capital Goods</td>\n",
       "    </tr>\n",
       "    <tr>\n",
       "      <th>2005-03-31</th>\n",
       "      <td>-0.560471</td>\n",
       "      <td>0.026685</td>\n",
       "      <td>2.886538</td>\n",
       "      <td>2.754971</td>\n",
       "      <td>2.820754</td>\n",
       "      <td>0.104881</td>\n",
       "      <td>15.145743</td>\n",
       "      <td>-0.261483</td>\n",
       "      <td>2.474736</td>\n",
       "      <td>37.479382</td>\n",
       "      <td>Capital Goods</td>\n",
       "    </tr>\n",
       "    <tr>\n",
       "      <th>2005-04-30</th>\n",
       "      <td>-0.588829</td>\n",
       "      <td>0.018703</td>\n",
       "      <td>2.765774</td>\n",
       "      <td>2.699726</td>\n",
       "      <td>2.732750</td>\n",
       "      <td>0.047345</td>\n",
       "      <td>14.156494</td>\n",
       "      <td>-0.301839</td>\n",
       "      <td>2.461723</td>\n",
       "      <td>39.733904</td>\n",
       "      <td>Capital Goods</td>\n",
       "    </tr>\n",
       "    <tr>\n",
       "      <th>...</th>\n",
       "      <th>...</th>\n",
       "      <td>...</td>\n",
       "      <td>...</td>\n",
       "      <td>...</td>\n",
       "      <td>...</td>\n",
       "      <td>...</td>\n",
       "      <td>...</td>\n",
       "      <td>...</td>\n",
       "      <td>...</td>\n",
       "      <td>...</td>\n",
       "      <td>...</td>\n",
       "      <td>...</td>\n",
       "    </tr>\n",
       "    <tr>\n",
       "      <th rowspan=\"5\" valign=\"top\">ZIXI</th>\n",
       "      <th>2004-06-30</th>\n",
       "      <td>0.048753</td>\n",
       "      <td>0.020821</td>\n",
       "      <td>2.285838</td>\n",
       "      <td>2.164106</td>\n",
       "      <td>2.224972</td>\n",
       "      <td>0.100911</td>\n",
       "      <td>7.890000</td>\n",
       "      <td>-0.325707</td>\n",
       "      <td>8.688506</td>\n",
       "      <td>42.416032</td>\n",
       "      <td>Technology</td>\n",
       "    </tr>\n",
       "    <tr>\n",
       "      <th>2004-07-31</th>\n",
       "      <td>-0.060901</td>\n",
       "      <td>0.160655</td>\n",
       "      <td>2.098204</td>\n",
       "      <td>1.765053</td>\n",
       "      <td>1.931628</td>\n",
       "      <td>0.172496</td>\n",
       "      <td>5.860000</td>\n",
       "      <td>-0.581416</td>\n",
       "      <td>9.298457</td>\n",
       "      <td>43.217095</td>\n",
       "      <td>Technology</td>\n",
       "    </tr>\n",
       "    <tr>\n",
       "      <th>2004-08-31</th>\n",
       "      <td>-0.175613</td>\n",
       "      <td>0.080019</td>\n",
       "      <td>1.781207</td>\n",
       "      <td>1.558978</td>\n",
       "      <td>1.670092</td>\n",
       "      <td>0.142210</td>\n",
       "      <td>4.150000</td>\n",
       "      <td>-0.344236</td>\n",
       "      <td>9.584806</td>\n",
       "      <td>38.996288</td>\n",
       "      <td>Technology</td>\n",
       "    </tr>\n",
       "    <tr>\n",
       "      <th>2004-09-30</th>\n",
       "      <td>-0.242284</td>\n",
       "      <td>0.069699</td>\n",
       "      <td>1.781693</td>\n",
       "      <td>1.649490</td>\n",
       "      <td>1.715592</td>\n",
       "      <td>0.062505</td>\n",
       "      <td>4.580000</td>\n",
       "      <td>-0.028589</td>\n",
       "      <td>6.817959</td>\n",
       "      <td>49.176603</td>\n",
       "      <td>Technology</td>\n",
       "    </tr>\n",
       "    <tr>\n",
       "      <th>2004-10-31</th>\n",
       "      <td>-0.185498</td>\n",
       "      <td>0.061670</td>\n",
       "      <td>1.960903</td>\n",
       "      <td>1.794628</td>\n",
       "      <td>1.877765</td>\n",
       "      <td>0.104605</td>\n",
       "      <td>5.400000</td>\n",
       "      <td>0.156593</td>\n",
       "      <td>7.131332</td>\n",
       "      <td>51.353981</td>\n",
       "      <td>Technology</td>\n",
       "    </tr>\n",
       "  </tbody>\n",
       "</table>\n",
       "<p>107784 rows × 11 columns</p>\n",
       "</div>"
      ],
      "text/plain": [
       "                        atr   bb_down   bb_high    bb_low    bb_mid     bb_up  \\\n",
       "ticker date                                                                     \n",
       "A      2004-12-31 -0.501823  0.025098  2.871296  2.833783  2.852539  0.012415   \n",
       "       2005-01-31 -0.556859  0.041946  2.835474  2.735900  2.785687  0.057628   \n",
       "       2005-02-28 -0.513495  0.081041  2.877209  2.773921  2.825565  0.022247   \n",
       "       2005-03-31 -0.560471  0.026685  2.886538  2.754971  2.820754  0.104881   \n",
       "       2005-04-30 -0.588829  0.018703  2.765774  2.699726  2.732750  0.047345   \n",
       "...                     ...       ...       ...       ...       ...       ...   \n",
       "ZIXI   2004-06-30  0.048753  0.020821  2.285838  2.164106  2.224972  0.100911   \n",
       "       2004-07-31 -0.060901  0.160655  2.098204  1.765053  1.931628  0.172496   \n",
       "       2004-08-31 -0.175613  0.080019  1.781207  1.558978  1.670092  0.142210   \n",
       "       2004-09-30 -0.242284  0.069699  1.781693  1.649490  1.715592  0.062505   \n",
       "       2004-10-31 -0.185498  0.061670  1.960903  1.794628  1.877765  0.104605   \n",
       "\n",
       "                       close      macd      natr        rsi         sector  \n",
       "ticker date                                                                 \n",
       "A      2004-12-31  16.442001  0.016797  2.610740  53.472599  Capital Goods  \n",
       "       2005-01-31  15.084342 -0.336030  2.507037  44.538959  Capital Goods  \n",
       "       2005-02-28  16.373776  0.106785  2.555450  58.619145  Capital Goods  \n",
       "       2005-03-31  15.145743 -0.261483  2.474736  37.479382  Capital Goods  \n",
       "       2005-04-30  14.156494 -0.301839  2.461723  39.733904  Capital Goods  \n",
       "...                      ...       ...       ...        ...            ...  \n",
       "ZIXI   2004-06-30   7.890000 -0.325707  8.688506  42.416032     Technology  \n",
       "       2004-07-31   5.860000 -0.581416  9.298457  43.217095     Technology  \n",
       "       2004-08-31   4.150000 -0.344236  9.584806  38.996288     Technology  \n",
       "       2004-09-30   4.580000 -0.028589  6.817959  49.176603     Technology  \n",
       "       2004-10-31   5.400000  0.156593  7.131332  51.353981     Technology  \n",
       "\n",
       "[107784 rows x 11 columns]"
      ]
     },
     "execution_count": 41,
     "metadata": {},
     "output_type": "execute_result"
    }
   ],
   "source": [
    "data = data[data.dollar_vol_rank < 500].drop(['dollar_volume', 'dollar_vol_rank'], axis=1)\n",
    "data"
   ]
  },
  {
   "cell_type": "code",
   "execution_count": 42,
   "metadata": {
    "ExecuteTime": {
     "end_time": "2020-12-10T21:25:31.340610Z",
     "start_time": "2020-12-10T21:25:31.325416Z"
    },
    "scrolled": false
   },
   "outputs": [
    {
     "name": "stdout",
     "output_type": "stream",
     "text": [
      "<class 'pandas.core.frame.DataFrame'>\n",
      "MultiIndex: 107784 entries, ('A', Timestamp('2004-12-31 00:00:00')) to ('ZIXI', Timestamp('2004-10-31 00:00:00'))\n",
      "Data columns (total 11 columns):\n",
      " #   Column   Non-Null Count   Dtype  \n",
      "---  ------   --------------   -----  \n",
      " 0   atr      107784 non-null  float64\n",
      " 1   bb_down  107784 non-null  float64\n",
      " 2   bb_high  107784 non-null  float64\n",
      " 3   bb_low   107784 non-null  float64\n",
      " 4   bb_mid   107784 non-null  float64\n",
      " 5   bb_up    107784 non-null  float64\n",
      " 6   close    107784 non-null  float64\n",
      " 7   macd     107784 non-null  float64\n",
      " 8   natr     107784 non-null  float64\n",
      " 9   rsi      107784 non-null  float64\n",
      " 10  sector   107784 non-null  object \n",
      "dtypes: float64(10), object(1)\n",
      "memory usage: 9.5+ MB\n"
     ]
    }
   ],
   "source": [
    "data.info()"
   ]
  },
  {
   "cell_type": "code",
   "execution_count": 43,
   "metadata": {
    "ExecuteTime": {
     "end_time": "2020-12-10T21:26:11.469421Z",
     "start_time": "2020-12-10T21:26:11.465591Z"
    }
   },
   "outputs": [
    {
     "data": {
      "text/plain": [
       "842"
      ]
     },
     "execution_count": 43,
     "metadata": {},
     "output_type": "execute_result"
    }
   ],
   "source": [
    "len(data.index.unique('ticker'))"
   ]
  },
  {
   "cell_type": "markdown",
   "metadata": {},
   "source": [
    "## Create monthly return series"
   ]
  },
  {
   "cell_type": "markdown",
   "metadata": {},
   "source": [
    "To capture time series dynamics that reflect, for example, momentum patterns, we compute historical returns using the method `.pct_change(n_periods)`, that is, returns over various monthly periods as identified by lags.\n",
    "\n",
    "We then convert the wide result back to long format with the `.stack()` method, use `.pipe()` to apply the `.clip()` method to the resulting `DataFrame`, and winsorize returns at the [1%, 99%] levels; that is, we cap outliers at these percentiles.\n",
    "\n",
    "Finally, we normalize returns using the geometric average. After using `.swaplevel()` to change the order of the `MultiIndex` levels, we obtain compounded monthly returns for six periods ranging from 1 to 12 months:"
   ]
  },
  {
   "cell_type": "code",
   "execution_count": 44,
   "metadata": {
    "ExecuteTime": {
     "end_time": "2020-06-19T13:32:26.682644Z",
     "start_time": "2020-06-19T13:32:26.678247Z"
    }
   },
   "outputs": [],
   "source": [
    "outlier_cutoff = 0.01\n",
    "lags = [1, 3, 6, 12]\n",
    "returns = []"
   ]
  },
  {
   "cell_type": "code",
   "execution_count": 45,
   "metadata": {
    "ExecuteTime": {
     "end_time": "2020-06-19T13:32:30.075537Z",
     "start_time": "2020-06-19T13:32:26.684285Z"
    }
   },
   "outputs": [
    {
     "name": "stdout",
     "output_type": "stream",
     "text": [
      "<class 'pandas.core.frame.DataFrame'>\n",
      "MultiIndex: 154206 entries, ('AAPL', Timestamp('2000-02-29 00:00:00')) to ('ZIXI', Timestamp('2017-12-31 00:00:00'))\n",
      "Data columns (total 4 columns):\n",
      " #   Column      Non-Null Count   Dtype  \n",
      "---  ------      --------------   -----  \n",
      " 0   return_1m   154206 non-null  float64\n",
      " 1   return_3m   152522 non-null  float64\n",
      " 2   return_6m   150006 non-null  float64\n",
      " 3   return_12m  145000 non-null  float64\n",
      "dtypes: float64(4)\n",
      "memory usage: 5.3+ MB\n"
     ]
    }
   ],
   "source": [
    "for lag in lags:\n",
    "    returns.append(data\n",
    "                   .close\n",
    "                   .unstack('ticker')\n",
    "                   .sort_index()\n",
    "                   .pct_change(lag)\n",
    "                   .stack('ticker')\n",
    "                   .pipe(lambda x: x.clip(lower=x.quantile(outlier_cutoff),\n",
    "                                          upper=x.quantile(1-outlier_cutoff)))\n",
    "                   .add(1)\n",
    "                   .pow(1/lag)\n",
    "                   .sub(1)\n",
    "                   .to_frame(f'return_{lag}m')\n",
    "                   )\n",
    "    \n",
    "returns = pd.concat(returns, axis=1).swaplevel()\n",
    "returns.info(null_counts=True)"
   ]
  },
  {
   "cell_type": "code",
   "execution_count": 46,
   "metadata": {
    "ExecuteTime": {
     "end_time": "2020-06-19T13:32:30.115742Z",
     "start_time": "2020-06-19T13:32:30.076409Z"
    }
   },
   "outputs": [
    {
     "data": {
      "text/html": [
       "<div>\n",
       "<style scoped>\n",
       "    .dataframe tbody tr th:only-of-type {\n",
       "        vertical-align: middle;\n",
       "    }\n",
       "\n",
       "    .dataframe tbody tr th {\n",
       "        vertical-align: top;\n",
       "    }\n",
       "\n",
       "    .dataframe thead th {\n",
       "        text-align: right;\n",
       "    }\n",
       "</style>\n",
       "<table border=\"1\" class=\"dataframe\">\n",
       "  <thead>\n",
       "    <tr style=\"text-align: right;\">\n",
       "      <th></th>\n",
       "      <th>return_1m</th>\n",
       "      <th>return_3m</th>\n",
       "      <th>return_6m</th>\n",
       "      <th>return_12m</th>\n",
       "    </tr>\n",
       "  </thead>\n",
       "  <tbody>\n",
       "    <tr>\n",
       "      <th>count</th>\n",
       "      <td>154206.000000</td>\n",
       "      <td>152522.000000</td>\n",
       "      <td>150006.000000</td>\n",
       "      <td>145000.000000</td>\n",
       "    </tr>\n",
       "    <tr>\n",
       "      <th>mean</th>\n",
       "      <td>0.007069</td>\n",
       "      <td>0.004762</td>\n",
       "      <td>0.004129</td>\n",
       "      <td>0.003821</td>\n",
       "    </tr>\n",
       "    <tr>\n",
       "      <th>std</th>\n",
       "      <td>0.083222</td>\n",
       "      <td>0.048868</td>\n",
       "      <td>0.035565</td>\n",
       "      <td>0.025336</td>\n",
       "    </tr>\n",
       "    <tr>\n",
       "      <th>min</th>\n",
       "      <td>-0.264615</td>\n",
       "      <td>-0.173225</td>\n",
       "      <td>-0.130623</td>\n",
       "      <td>-0.089656</td>\n",
       "    </tr>\n",
       "    <tr>\n",
       "      <th>25%</th>\n",
       "      <td>-0.016393</td>\n",
       "      <td>-0.006011</td>\n",
       "      <td>-0.002583</td>\n",
       "      <td>-0.000429</td>\n",
       "    </tr>\n",
       "    <tr>\n",
       "      <th>50%</th>\n",
       "      <td>0.000000</td>\n",
       "      <td>0.000000</td>\n",
       "      <td>0.000000</td>\n",
       "      <td>0.000000</td>\n",
       "    </tr>\n",
       "    <tr>\n",
       "      <th>75%</th>\n",
       "      <td>0.037313</td>\n",
       "      <td>0.025775</td>\n",
       "      <td>0.020045</td>\n",
       "      <td>0.015872</td>\n",
       "    </tr>\n",
       "    <tr>\n",
       "      <th>max</th>\n",
       "      <td>0.304386</td>\n",
       "      <td>0.160774</td>\n",
       "      <td>0.113208</td>\n",
       "      <td>0.081740</td>\n",
       "    </tr>\n",
       "  </tbody>\n",
       "</table>\n",
       "</div>"
      ],
      "text/plain": [
       "           return_1m      return_3m      return_6m     return_12m\n",
       "count  154206.000000  152522.000000  150006.000000  145000.000000\n",
       "mean        0.007069       0.004762       0.004129       0.003821\n",
       "std         0.083222       0.048868       0.035565       0.025336\n",
       "min        -0.264615      -0.173225      -0.130623      -0.089656\n",
       "25%        -0.016393      -0.006011      -0.002583      -0.000429\n",
       "50%         0.000000       0.000000       0.000000       0.000000\n",
       "75%         0.037313       0.025775       0.020045       0.015872\n",
       "max         0.304386       0.160774       0.113208       0.081740"
      ]
     },
     "execution_count": 46,
     "metadata": {},
     "output_type": "execute_result"
    }
   ],
   "source": [
    "returns.describe()"
   ]
  },
  {
   "cell_type": "code",
   "execution_count": 47,
   "metadata": {
    "ExecuteTime": {
     "end_time": "2020-06-19T13:32:30.625896Z",
     "start_time": "2020-06-19T13:32:30.117019Z"
    }
   },
   "outputs": [
    {
     "data": {
      "image/png": "[encoded data removed]",
      "text/plain": [
       "<Figure size 720x720 with 4 Axes>"
      ]
     },
     "metadata": {},
     "output_type": "display_data"
    }
   ],
   "source": [
    "cmap = sns.diverging_palette(10, 220, as_cmap=True)\n",
    "sns.clustermap(returns.corr('spearman'), annot=True, center=0, cmap=cmap);"
   ]
  },
  {
   "cell_type": "code",
   "execution_count": 48,
   "metadata": {
    "ExecuteTime": {
     "end_time": "2020-06-19T13:32:30.927986Z",
     "start_time": "2020-06-19T13:32:30.627078Z"
    }
   },
   "outputs": [
    {
     "name": "stdout",
     "output_type": "stream",
     "text": [
      "<class 'pandas.core.frame.DataFrame'>\n",
      "MultiIndex: 98127 entries, ('A', Timestamp('2005-12-31 00:00:00')) to ('ZIXI', Timestamp('2004-10-31 00:00:00'))\n",
      "Data columns (total 14 columns):\n",
      " #   Column      Non-Null Count  Dtype  \n",
      "---  ------      --------------  -----  \n",
      " 0   atr         98127 non-null  float64\n",
      " 1   bb_down     98127 non-null  float64\n",
      " 2   bb_high     98127 non-null  float64\n",
      " 3   bb_low      98127 non-null  float64\n",
      " 4   bb_mid      98127 non-null  float64\n",
      " 5   bb_up       98127 non-null  float64\n",
      " 6   macd        98127 non-null  float64\n",
      " 7   natr        98127 non-null  float64\n",
      " 8   rsi         98127 non-null  float64\n",
      " 9   sector      98127 non-null  object \n",
      " 10  return_1m   98127 non-null  float64\n",
      " 11  return_3m   98127 non-null  float64\n",
      " 12  return_6m   98127 non-null  float64\n",
      " 13  return_12m  98127 non-null  float64\n",
      "dtypes: float64(13), object(1)\n",
      "memory usage: 10.9+ MB\n"
     ]
    }
   ],
   "source": [
    "data = data.join(returns).drop('close', axis=1).dropna()\n",
    "data.info(null_counts=True)"
   ]
  },
  {
   "cell_type": "code",
   "execution_count": 49,
   "metadata": {
    "ExecuteTime": {
     "end_time": "2020-06-19T13:32:31.164785Z",
     "start_time": "2020-06-19T13:32:30.929368Z"
    }
   },
   "outputs": [],
   "source": [
    "min_obs = 5*12\n",
    "nobs = data.groupby(level='ticker').size()\n",
    "to_drop = nobs[nobs < min_obs].index\n",
    "data = data.drop(to_drop, level='ticker')"
   ]
  },
  {
   "cell_type": "code",
   "execution_count": 50,
   "metadata": {
    "ExecuteTime": {
     "end_time": "2020-06-19T13:32:31.168469Z",
     "start_time": "2020-06-19T13:32:31.165660Z"
    }
   },
   "outputs": [
    {
     "data": {
      "text/plain": [
       "578"
      ]
     },
     "execution_count": 50,
     "metadata": {},
     "output_type": "execute_result"
    }
   ],
   "source": [
    "len(data.index.unique('ticker'))"
   ]
  },
  {
   "cell_type": "markdown",
   "metadata": {},
   "source": [
    "We are left with 787 tickers."
   ]
  },
  {
   "cell_type": "markdown",
   "metadata": {},
   "source": [
    "## Rolling Factor Betas"
   ]
  },
  {
   "cell_type": "markdown",
   "metadata": {},
   "source": [
    "We will introduce the Fama—French data to estimate the exposure of assets to common risk factors using linear regression in [Chapter 8, Time Series Models]([](../../08_time_series_models))."
   ]
  },
  {
   "cell_type": "markdown",
   "metadata": {},
   "source": [
    "The five Fama—French factors, namely market risk, size, value, operating profitability, and investment have been shown empirically to explain asset returns and are commonly used to assess the risk/return profile of portfolios. Hence, it is natural to include past factor exposures as financial features in models that aim to predict future returns."
   ]
  },
  {
   "cell_type": "markdown",
   "metadata": {},
   "source": [
    "We can access the historical factor returns using the `pandas-datareader` and estimate historical exposures using the `PandasRollingOLS` rolling linear regression functionality in the `pyfinance` library as follows:"
   ]
  },
  {
   "cell_type": "markdown",
   "metadata": {},
   "source": [
    "Use Fama-French research factors to estimate the factor exposures of the stock in the dataset to the 5 factors market risk, size, value, operating profitability and investment."
   ]
  },
  {
   "cell_type": "code",
   "execution_count": 51,
   "metadata": {
    "ExecuteTime": {
     "end_time": "2020-06-19T13:32:31.281317Z",
     "start_time": "2020-06-19T13:32:31.169346Z"
    },
    "scrolled": false
   },
   "outputs": [
    {
     "name": "stdout",
     "output_type": "stream",
     "text": [
      "<class 'pandas.core.frame.DataFrame'>\n",
      "DatetimeIndex: 313 entries, 1995-01-31 to 2021-01-31\n",
      "Freq: M\n",
      "Data columns (total 5 columns):\n",
      " #   Column  Non-Null Count  Dtype  \n",
      "---  ------  --------------  -----  \n",
      " 0   Mkt-RF  313 non-null    float64\n",
      " 1   SMB     313 non-null    float64\n",
      " 2   HML     313 non-null    float64\n",
      " 3   RMW     313 non-null    float64\n",
      " 4   CMA     313 non-null    float64\n",
      "dtypes: float64(5)\n",
      "memory usage: 14.7 KB\n"
     ]
    }
   ],
   "source": [
    "factors = ['Mkt-RF', 'SMB', 'HML', 'RMW', 'CMA']\n",
    "factor_data = web.DataReader('F-F_Research_Data_5_Factors_2x3', \n",
    "                             'famafrench', \n",
    "                             start=START)[0].drop('RF', axis=1)\n",
    "factor_data.index = factor_data.index.to_timestamp()\n",
    "factor_data = factor_data.resample('M').last().div(100)\n",
    "factor_data.index.name = 'date'\n",
    "factor_data.info()"
   ]
  },
  {
   "cell_type": "code",
   "execution_count": 52,
   "metadata": {
    "ExecuteTime": {
     "end_time": "2020-06-19T13:32:31.314955Z",
     "start_time": "2020-06-19T13:32:31.282424Z"
    },
    "scrolled": true
   },
   "outputs": [
    {
     "name": "stdout",
     "output_type": "stream",
     "text": [
      "<class 'pandas.core.frame.DataFrame'>\n",
      "MultiIndex: 92011 entries, ('A', Timestamp('2005-12-31 00:00:00', freq='M')) to ('ZION', Timestamp('2017-12-31 00:00:00', freq='M'))\n",
      "Data columns (total 6 columns):\n",
      " #   Column     Non-Null Count  Dtype  \n",
      "---  ------     --------------  -----  \n",
      " 0   Mkt-RF     92011 non-null  float64\n",
      " 1   SMB        92011 non-null  float64\n",
      " 2   HML        92011 non-null  float64\n",
      " 3   RMW        92011 non-null  float64\n",
      " 4   CMA        92011 non-null  float64\n",
      " 5   return_1m  92011 non-null  float64\n",
      "dtypes: float64(6)\n",
      "memory usage: 4.7+ MB\n"
     ]
    }
   ],
   "source": [
    "factor_data = factor_data.join(data['return_1m']).dropna().sort_index()\n",
    "factor_data['return_1m'] -= factor_data['Mkt-RF']\n",
    "factor_data.info()"
   ]
  },
  {
   "cell_type": "code",
   "execution_count": 53,
   "metadata": {
    "ExecuteTime": {
     "end_time": "2020-06-19T13:32:31.351523Z",
     "start_time": "2020-06-19T13:32:31.316074Z"
    }
   },
   "outputs": [
    {
     "data": {
      "text/html": [
       "<div>\n",
       "<style scoped>\n",
       "    .dataframe tbody tr th:only-of-type {\n",
       "        vertical-align: middle;\n",
       "    }\n",
       "\n",
       "    .dataframe tbody tr th {\n",
       "        vertical-align: top;\n",
       "    }\n",
       "\n",
       "    .dataframe thead th {\n",
       "        text-align: right;\n",
       "    }\n",
       "</style>\n",
       "<table border=\"1\" class=\"dataframe\">\n",
       "  <thead>\n",
       "    <tr style=\"text-align: right;\">\n",
       "      <th></th>\n",
       "      <th>Mkt-RF</th>\n",
       "      <th>SMB</th>\n",
       "      <th>HML</th>\n",
       "      <th>RMW</th>\n",
       "      <th>CMA</th>\n",
       "      <th>return_1m</th>\n",
       "    </tr>\n",
       "  </thead>\n",
       "  <tbody>\n",
       "    <tr>\n",
       "      <th>count</th>\n",
       "      <td>92011.000000</td>\n",
       "      <td>92011.000000</td>\n",
       "      <td>92011.000000</td>\n",
       "      <td>92011.000000</td>\n",
       "      <td>92011.000000</td>\n",
       "      <td>92011.000000</td>\n",
       "    </tr>\n",
       "    <tr>\n",
       "      <th>mean</th>\n",
       "      <td>0.005727</td>\n",
       "      <td>0.003179</td>\n",
       "      <td>0.001334</td>\n",
       "      <td>0.003528</td>\n",
       "      <td>0.001673</td>\n",
       "      <td>0.004407</td>\n",
       "    </tr>\n",
       "    <tr>\n",
       "      <th>std</th>\n",
       "      <td>0.042298</td>\n",
       "      <td>0.025572</td>\n",
       "      <td>0.026778</td>\n",
       "      <td>0.022366</td>\n",
       "      <td>0.018238</td>\n",
       "      <td>0.081359</td>\n",
       "    </tr>\n",
       "    <tr>\n",
       "      <th>min</th>\n",
       "      <td>-0.172300</td>\n",
       "      <td>-0.062600</td>\n",
       "      <td>-0.111200</td>\n",
       "      <td>-0.089300</td>\n",
       "      <td>-0.065500</td>\n",
       "      <td>-0.378115</td>\n",
       "    </tr>\n",
       "    <tr>\n",
       "      <th>25%</th>\n",
       "      <td>-0.018300</td>\n",
       "      <td>-0.013500</td>\n",
       "      <td>-0.012300</td>\n",
       "      <td>-0.009400</td>\n",
       "      <td>-0.010400</td>\n",
       "      <td>-0.039825</td>\n",
       "    </tr>\n",
       "    <tr>\n",
       "      <th>50%</th>\n",
       "      <td>0.010900</td>\n",
       "      <td>0.002300</td>\n",
       "      <td>-0.000500</td>\n",
       "      <td>0.004200</td>\n",
       "      <td>-0.000400</td>\n",
       "      <td>0.002594</td>\n",
       "    </tr>\n",
       "    <tr>\n",
       "      <th>75%</th>\n",
       "      <td>0.031300</td>\n",
       "      <td>0.021300</td>\n",
       "      <td>0.015700</td>\n",
       "      <td>0.014100</td>\n",
       "      <td>0.010600</td>\n",
       "      <td>0.046403</td>\n",
       "    </tr>\n",
       "    <tr>\n",
       "      <th>max</th>\n",
       "      <td>0.113500</td>\n",
       "      <td>0.069400</td>\n",
       "      <td>0.125800</td>\n",
       "      <td>0.090900</td>\n",
       "      <td>0.095600</td>\n",
       "      <td>0.476686</td>\n",
       "    </tr>\n",
       "  </tbody>\n",
       "</table>\n",
       "</div>"
      ],
      "text/plain": [
       "             Mkt-RF           SMB           HML           RMW           CMA  \\\n",
       "count  92011.000000  92011.000000  92011.000000  92011.000000  92011.000000   \n",
       "mean       0.005727      0.003179      0.001334      0.003528      0.001673   \n",
       "std        0.042298      0.025572      0.026778      0.022366      0.018238   \n",
       "min       -0.172300     -0.062600     -0.111200     -0.089300     -0.065500   \n",
       "25%       -0.018300     -0.013500     -0.012300     -0.009400     -0.010400   \n",
       "50%        0.010900      0.002300     -0.000500      0.004200     -0.000400   \n",
       "75%        0.031300      0.021300      0.015700      0.014100      0.010600   \n",
       "max        0.113500      0.069400      0.125800      0.090900      0.095600   \n",
       "\n",
       "          return_1m  \n",
       "count  92011.000000  \n",
       "mean       0.004407  \n",
       "std        0.081359  \n",
       "min       -0.378115  \n",
       "25%       -0.039825  \n",
       "50%        0.002594  \n",
       "75%        0.046403  \n",
       "max        0.476686  "
      ]
     },
     "execution_count": 53,
     "metadata": {},
     "output_type": "execute_result"
    }
   ],
   "source": [
    "factor_data.describe()"
   ]
  },
  {
   "cell_type": "code",
   "execution_count": 54,
   "metadata": {
    "ExecuteTime": {
     "end_time": "2020-06-19T13:32:32.137275Z",
     "start_time": "2020-06-19T13:32:31.352423Z"
    }
   },
   "outputs": [],
   "source": [
    "T = 60\n",
    "betas = (factor_data\n",
    "         .groupby(level='ticker', group_keys=False)\n",
    "         .apply(lambda x: PandasRollingOLS(window=min(T, x.shape[0]-1), \n",
    "                                           y=x.return_1m, \n",
    "                                           x=x.drop('return_1m', axis=1)).beta)\n",
    "        .rename(columns={'Mkt-RF': 'beta'}))"
   ]
  },
  {
   "cell_type": "code",
   "execution_count": 55,
   "metadata": {
    "ExecuteTime": {
     "end_time": "2020-06-19T13:32:32.167180Z",
     "start_time": "2020-06-19T13:32:32.138071Z"
    }
   },
   "outputs": [
    {
     "data": {
      "text/html": [
       "<div>\n",
       "<style scoped>\n",
       "    .dataframe tbody tr th:only-of-type {\n",
       "        vertical-align: middle;\n",
       "    }\n",
       "\n",
       "    .dataframe tbody tr th {\n",
       "        vertical-align: top;\n",
       "    }\n",
       "\n",
       "    .dataframe thead th {\n",
       "        text-align: right;\n",
       "    }\n",
       "</style>\n",
       "<table border=\"1\" class=\"dataframe\">\n",
       "  <thead>\n",
       "    <tr style=\"text-align: right;\">\n",
       "      <th></th>\n",
       "      <th>beta</th>\n",
       "      <th>SMB</th>\n",
       "      <th>HML</th>\n",
       "      <th>RMW</th>\n",
       "      <th>CMA</th>\n",
       "      <th>total</th>\n",
       "    </tr>\n",
       "  </thead>\n",
       "  <tbody>\n",
       "    <tr>\n",
       "      <th>count</th>\n",
       "      <td>57912.000000</td>\n",
       "      <td>57912.000000</td>\n",
       "      <td>57912.000000</td>\n",
       "      <td>57912.000000</td>\n",
       "      <td>57912.000000</td>\n",
       "      <td>57912.000000</td>\n",
       "    </tr>\n",
       "    <tr>\n",
       "      <th>mean</th>\n",
       "      <td>0.039691</td>\n",
       "      <td>0.195953</td>\n",
       "      <td>0.053220</td>\n",
       "      <td>-0.022509</td>\n",
       "      <td>0.013714</td>\n",
       "      <td>0.280068</td>\n",
       "    </tr>\n",
       "    <tr>\n",
       "      <th>std</th>\n",
       "      <td>0.453860</td>\n",
       "      <td>0.590777</td>\n",
       "      <td>0.802086</td>\n",
       "      <td>0.875856</td>\n",
       "      <td>0.990064</td>\n",
       "      <td>1.659068</td>\n",
       "    </tr>\n",
       "    <tr>\n",
       "      <th>min</th>\n",
       "      <td>-1.825339</td>\n",
       "      <td>-1.936586</td>\n",
       "      <td>-4.051906</td>\n",
       "      <td>-5.153343</td>\n",
       "      <td>-5.199229</td>\n",
       "      <td>-9.941890</td>\n",
       "    </tr>\n",
       "    <tr>\n",
       "      <th>25%</th>\n",
       "      <td>-0.267571</td>\n",
       "      <td>-0.211273</td>\n",
       "      <td>-0.453102</td>\n",
       "      <td>-0.512255</td>\n",
       "      <td>-0.561508</td>\n",
       "      <td>-0.709854</td>\n",
       "    </tr>\n",
       "    <tr>\n",
       "      <th>50%</th>\n",
       "      <td>0.025527</td>\n",
       "      <td>0.153442</td>\n",
       "      <td>-0.033632</td>\n",
       "      <td>0.027746</td>\n",
       "      <td>0.054941</td>\n",
       "      <td>0.230457</td>\n",
       "    </tr>\n",
       "    <tr>\n",
       "      <th>75%</th>\n",
       "      <td>0.327846</td>\n",
       "      <td>0.571050</td>\n",
       "      <td>0.480997</td>\n",
       "      <td>0.515799</td>\n",
       "      <td>0.626819</td>\n",
       "      <td>1.237405</td>\n",
       "    </tr>\n",
       "    <tr>\n",
       "      <th>max</th>\n",
       "      <td>2.572350</td>\n",
       "      <td>2.650667</td>\n",
       "      <td>4.583075</td>\n",
       "      <td>3.939430</td>\n",
       "      <td>4.773809</td>\n",
       "      <td>10.003515</td>\n",
       "    </tr>\n",
       "  </tbody>\n",
       "</table>\n",
       "</div>"
      ],
      "text/plain": [
       "               beta           SMB           HML           RMW           CMA  \\\n",
       "count  57912.000000  57912.000000  57912.000000  57912.000000  57912.000000   \n",
       "mean       0.039691      0.195953      0.053220     -0.022509      0.013714   \n",
       "std        0.453860      0.590777      0.802086      0.875856      0.990064   \n",
       "min       -1.825339     -1.936586     -4.051906     -5.153343     -5.199229   \n",
       "25%       -0.267571     -0.211273     -0.453102     -0.512255     -0.561508   \n",
       "50%        0.025527      0.153442     -0.033632      0.027746      0.054941   \n",
       "75%        0.327846      0.571050      0.480997      0.515799      0.626819   \n",
       "max        2.572350      2.650667      4.583075      3.939430      4.773809   \n",
       "\n",
       "              total  \n",
       "count  57912.000000  \n",
       "mean       0.280068  \n",
       "std        1.659068  \n",
       "min       -9.941890  \n",
       "25%       -0.709854  \n",
       "50%        0.230457  \n",
       "75%        1.237405  \n",
       "max       10.003515  "
      ]
     },
     "execution_count": 55,
     "metadata": {},
     "output_type": "execute_result"
    }
   ],
   "source": [
    "betas.describe().join(betas.sum(1).describe().to_frame('total'))"
   ]
  },
  {
   "cell_type": "code",
   "execution_count": 56,
   "metadata": {
    "ExecuteTime": {
     "end_time": "2020-06-19T13:32:32.499819Z",
     "start_time": "2020-06-19T13:32:32.168034Z"
    }
   },
   "outputs": [
    {
     "data": {
      "image/png": "[encoded data removed]",
      "text/plain": [
       "<Figure size 720x720 with 4 Axes>"
      ]
     },
     "metadata": {},
     "output_type": "display_data"
    }
   ],
   "source": [
    "cmap = sns.diverging_palette(10, 220, as_cmap=True)\n",
    "sns.clustermap(betas.corr(), annot=True, cmap=cmap, center=0);"
   ]
  },
  {
   "cell_type": "code",
   "execution_count": 57,
   "metadata": {
    "ExecuteTime": {
     "end_time": "2020-06-19T13:32:32.595478Z",
     "start_time": "2020-06-19T13:32:32.500707Z"
    },
    "scrolled": true
   },
   "outputs": [],
   "source": [
    "data = (data\n",
    "        .join(betas\n",
    "              .groupby(level='ticker')\n",
    "              .shift())\n",
    "       .dropna()\n",
    "       .sort_index())"
   ]
  },
  {
   "cell_type": "code",
   "execution_count": 58,
   "metadata": {
    "ExecuteTime": {
     "end_time": "2020-06-19T13:32:32.606609Z",
     "start_time": "2020-06-19T13:32:32.596677Z"
    }
   },
   "outputs": [
    {
     "name": "stdout",
     "output_type": "stream",
     "text": [
      "<class 'pandas.core.frame.DataFrame'>\n",
      "MultiIndex: 57334 entries, ('A', Timestamp('2010-12-31 00:00:00')) to ('ZION', Timestamp('2017-12-31 00:00:00'))\n",
      "Data columns (total 19 columns):\n",
      " #   Column      Non-Null Count  Dtype  \n",
      "---  ------      --------------  -----  \n",
      " 0   atr         57334 non-null  float64\n",
      " 1   bb_down     57334 non-null  float64\n",
      " 2   bb_high     57334 non-null  float64\n",
      " 3   bb_low      57334 non-null  float64\n",
      " 4   bb_mid      57334 non-null  float64\n",
      " 5   bb_up       57334 non-null  float64\n",
      " 6   macd        57334 non-null  float64\n",
      " 7   natr        57334 non-null  float64\n",
      " 8   rsi         57334 non-null  float64\n",
      " 9   sector      57334 non-null  object \n",
      " 10  return_1m   57334 non-null  float64\n",
      " 11  return_3m   57334 non-null  float64\n",
      " 12  return_6m   57334 non-null  float64\n",
      " 13  return_12m  57334 non-null  float64\n",
      " 14  beta        57334 non-null  float64\n",
      " 15  SMB         57334 non-null  float64\n",
      " 16  HML         57334 non-null  float64\n",
      " 17  RMW         57334 non-null  float64\n",
      " 18  CMA         57334 non-null  float64\n",
      "dtypes: float64(18), object(1)\n",
      "memory usage: 8.6+ MB\n"
     ]
    }
   ],
   "source": [
    "data.info()"
   ]
  },
  {
   "cell_type": "markdown",
   "metadata": {},
   "source": [
    "## Momentum factors"
   ]
  },
  {
   "cell_type": "markdown",
   "metadata": {},
   "source": [
    "We can use these results to compute momentum factors based on the difference between returns over longer periods and the most recent monthly return, as well as for the difference between 3 and 12 month returns as follows:"
   ]
  },
  {
   "cell_type": "code",
   "execution_count": 59,
   "metadata": {
    "ExecuteTime": {
     "end_time": "2020-06-19T13:32:32.615652Z",
     "start_time": "2020-06-19T13:32:32.607879Z"
    }
   },
   "outputs": [],
   "source": [
    "for lag in [3, 6, 12]:\n",
    "    data[f'momentum_{lag}'] = data[f'return_{lag}m'].sub(data.return_1m)\n",
    "    if lag > 3:\n",
    "        data[f'momentum_3_{lag}'] = data[f'return_{lag}m'].sub(data.return_3m)    "
   ]
  },
  {
   "cell_type": "markdown",
   "metadata": {},
   "source": [
    "## Date Indicators"
   ]
  },
  {
   "cell_type": "code",
   "execution_count": 60,
   "metadata": {
    "ExecuteTime": {
     "end_time": "2020-06-19T13:32:32.629913Z",
     "start_time": "2020-06-19T13:32:32.616835Z"
    }
   },
   "outputs": [],
   "source": [
    "dates = data.index.get_level_values('date')\n",
    "data['year'] = dates.year\n",
    "data['month'] = dates.month"
   ]
  },
  {
   "cell_type": "markdown",
   "metadata": {},
   "source": [
    "## Target: Holding Period Returns"
   ]
  },
  {
   "cell_type": "markdown",
   "metadata": {},
   "source": [
    "To compute returns for our one-month target holding period, we use the returns computed previously and shift them back to align them with the current financial features."
   ]
  },
  {
   "cell_type": "code",
   "execution_count": 61,
   "metadata": {
    "ExecuteTime": {
     "end_time": "2020-06-19T13:32:32.643323Z",
     "start_time": "2020-06-19T13:32:32.631304Z"
    }
   },
   "outputs": [],
   "source": [
    "data['target'] = data.groupby(level='ticker')[f'return_1m'].shift(-1)"
   ]
  },
  {
   "cell_type": "code",
   "execution_count": 62,
   "metadata": {
    "ExecuteTime": {
     "end_time": "2020-06-19T13:32:32.659711Z",
     "start_time": "2020-06-19T13:32:32.644589Z"
    }
   },
   "outputs": [],
   "source": [
    "data = data.dropna()"
   ]
  },
  {
   "cell_type": "code",
   "execution_count": 63,
   "metadata": {
    "ExecuteTime": {
     "end_time": "2020-06-19T13:32:32.691249Z",
     "start_time": "2020-06-19T13:32:32.661171Z"
    },
    "scrolled": false
   },
   "outputs": [
    {
     "name": "stdout",
     "output_type": "stream",
     "text": [
      "<class 'pandas.core.frame.DataFrame'>\n",
      "MultiIndex: 56756 entries, ('A', Timestamp('2010-12-31 00:00:00')) to ('ZION', Timestamp('2017-11-30 00:00:00'))\n",
      "Data columns (total 27 columns):\n",
      " #   Column         Non-Null Count  Dtype  \n",
      "---  ------         --------------  -----  \n",
      " 0   atr            56756 non-null  float64\n",
      " 1   bb_down        56756 non-null  float64\n",
      " 2   bb_high        56756 non-null  float64\n",
      " 3   bb_low         56756 non-null  float64\n",
      " 4   bb_mid         56756 non-null  float64\n",
      " 5   bb_up          56756 non-null  float64\n",
      " 6   macd           56756 non-null  float64\n",
      " 7   natr           56756 non-null  float64\n",
      " 8   rsi            56756 non-null  float64\n",
      " 9   sector         56756 non-null  object \n",
      " 10  return_1m      56756 non-null  float64\n",
      " 11  return_3m      56756 non-null  float64\n",
      " 12  return_6m      56756 non-null  float64\n",
      " 13  return_12m     56756 non-null  float64\n",
      " 14  beta           56756 non-null  float64\n",
      " 15  SMB            56756 non-null  float64\n",
      " 16  HML            56756 non-null  float64\n",
      " 17  RMW            56756 non-null  float64\n",
      " 18  CMA            56756 non-null  float64\n",
      " 19  momentum_3     56756 non-null  float64\n",
      " 20  momentum_6     56756 non-null  float64\n",
      " 21  momentum_3_6   56756 non-null  float64\n",
      " 22  momentum_12    56756 non-null  float64\n",
      " 23  momentum_3_12  56756 non-null  float64\n",
      " 24  year           56756 non-null  int64  \n",
      " 25  month          56756 non-null  int64  \n",
      " 26  target         56756 non-null  float64\n",
      "dtypes: float64(24), int64(2), object(1)\n",
      "memory usage: 12.0+ MB\n"
     ]
    }
   ],
   "source": [
    "data.sort_index().info(null_counts=True)"
   ]
  },
  {
   "cell_type": "markdown",
   "metadata": {},
   "source": [
    "## Sector Breakdown"
   ]
  },
  {
   "cell_type": "code",
   "execution_count": 64,
   "metadata": {
    "ExecuteTime": {
     "end_time": "2020-06-19T13:32:32.899856Z",
     "start_time": "2020-06-19T13:32:32.692142Z"
    }
   },
   "outputs": [
    {
     "data": {
      "image/png": "[encoded data removed]",
      "text/plain": [
       "<Figure size 432x288 with 1 Axes>"
      ]
     },
     "metadata": {},
     "output_type": "display_data"
    }
   ],
   "source": [
    "ax = data.reset_index().groupby('sector').ticker.nunique().sort_values().plot.barh(title='Sector Breakdown')\n",
    "ax.set_ylabel('')\n",
    "ax.set_xlabel('# Tickers')\n",
    "sns.despine()\n",
    "plt.tight_layout();"
   ]
  },
  {
   "cell_type": "markdown",
   "metadata": {},
   "source": [
    "## Store data"
   ]
  },
  {
   "cell_type": "code",
   "execution_count": 65,
   "metadata": {
    "ExecuteTime": {
     "end_time": "2020-06-19T13:32:32.928544Z",
     "start_time": "2020-06-19T13:32:32.900828Z"
    },
    "scrolled": true
   },
   "outputs": [],
   "source": [
    "with pd.HDFStore('data.h5') as store:\n",
    "    store.put('us/equities/monthly', data)"
   ]
  },
  {
   "cell_type": "markdown",
   "metadata": {},
   "source": [
    "## Evaluate mutual information"
   ]
  },
  {
   "cell_type": "code",
   "execution_count": 66,
   "metadata": {
    "ExecuteTime": {
     "end_time": "2020-06-19T13:33:03.004457Z",
     "start_time": "2020-06-19T13:33:02.995372Z"
    },
    "scrolled": true
   },
   "outputs": [],
   "source": [
    "X = data.drop('target', axis=1)\n",
    "X.sector = pd.factorize(X.sector)[0]"
   ]
  },
  {
   "cell_type": "code",
   "execution_count": 67,
   "metadata": {
    "ExecuteTime": {
     "end_time": "2020-06-19T13:33:29.096296Z",
     "start_time": "2020-06-19T13:33:05.622448Z"
    }
   },
   "outputs": [],
   "source": [
    "mi = mutual_info_regression(X=X, y=data.target)"
   ]
  },
  {
   "cell_type": "code",
   "execution_count": 68,
   "metadata": {
    "ExecuteTime": {
     "end_time": "2020-06-19T13:33:33.068410Z",
     "start_time": "2020-06-19T13:33:33.056948Z"
    }
   },
   "outputs": [
    {
     "data": {
      "text/plain": [
       "natr             0.109573\n",
       "return_12m       0.062334\n",
       "return_6m        0.052940\n",
       "year             0.051989\n",
       "return_3m        0.050311\n",
       "momentum_12      0.040821\n",
       "bb_low           0.040697\n",
       "momentum_3_6     0.040542\n",
       "bb_up            0.039806\n",
       "momentum_3_12    0.038946\n",
       "dtype: float64"
      ]
     },
     "execution_count": 68,
     "metadata": {},
     "output_type": "execute_result"
    }
   ],
   "source": [
    "mi_reg = pd.Series(mi, index=X.columns)\n",
    "mi_reg.nlargest(10)"
   ]
  },
  {
   "cell_type": "code",
   "execution_count": 69,
   "metadata": {
    "ExecuteTime": {
     "end_time": "2020-06-19T13:33:46.557205Z",
     "start_time": "2020-06-19T13:33:37.604336Z"
    }
   },
   "outputs": [],
   "source": [
    "mi = mutual_info_classif(X=X, y=(data.target>0).astype(int))"
   ]
  },
  {
   "cell_type": "code",
   "execution_count": 70,
   "metadata": {
    "ExecuteTime": {
     "end_time": "2020-06-19T13:33:46.562063Z",
     "start_time": "2020-06-19T13:33:46.558199Z"
    }
   },
   "outputs": [
    {
     "data": {
      "text/plain": [
       "year          0.013621\n",
       "month         0.009611\n",
       "return_6m     0.003810\n",
       "sector        0.003622\n",
       "natr          0.003493\n",
       "return_12m    0.003216\n",
       "bb_low        0.002777\n",
       "macd          0.001823\n",
       "return_1m     0.001462\n",
       "momentum_6    0.001135\n",
       "dtype: float64"
      ]
     },
     "execution_count": 70,
     "metadata": {},
     "output_type": "execute_result"
    }
   ],
   "source": [
    "mi_class = pd.Series(mi, index=X.columns)\n",
    "mi_class.nlargest(10)"
   ]
  },
  {
   "cell_type": "code",
   "execution_count": 71,
   "metadata": {
    "ExecuteTime": {
     "end_time": "2020-06-19T13:33:46.574632Z",
     "start_time": "2020-06-19T13:33:46.563169Z"
    }
   },
   "outputs": [],
   "source": [
    "mi = mi_reg.to_frame('Regression').join(mi_class.to_frame('Classification'))"
   ]
  },
  {
   "cell_type": "code",
   "execution_count": 72,
   "metadata": {
    "ExecuteTime": {
     "end_time": "2020-06-19T13:33:51.010413Z",
     "start_time": "2020-06-19T13:33:51.008166Z"
    }
   },
   "outputs": [],
   "source": [
    "mi.index = [' '.join(c.upper().split('_')) for c in mi.index]"
   ]
  },
  {
   "cell_type": "code",
   "execution_count": 73,
   "metadata": {
    "ExecuteTime": {
     "end_time": "2020-06-19T13:33:54.249892Z",
     "start_time": "2020-06-19T13:33:53.746322Z"
    }
   },
   "outputs": [
    {
     "data": {
      "image/png": "[encoded data removed]",
      "text/plain": [
       "<Figure size 864x288 with 2 Axes>"
      ]
     },
     "metadata": {},
     "output_type": "display_data"
    }
   ],
   "source": [
    "fig, axes = plt.subplots(ncols=2, figsize=(12, 4))\n",
    "for i, t in enumerate(['Regression', 'Classification']):\n",
    "    mi[t].nlargest(20).sort_values().plot.barh(title=t, ax=axes[i])\n",
    "    axes[i].set_xlabel('Mutual Information')\n",
    "fig.suptitle('Mutual Information', fontsize=14)\n",
    "sns.despine()\n",
    "fig.tight_layout()\n",
    "fig.subplots_adjust(top=.9)"
   ]
  },
  {
   "cell_type": "code",
   "execution_count": null,
   "metadata": {},
   "outputs": [],
   "source": []
  }
 ],
 "metadata": {
  "kernelspec": {
   "display_name": "Python 3",
   "language": "python",
   "name": "python3"
  },
  "language_info": {
   "codemirror_mode": {
    "name": "ipython",
    "version": 3
   },
   "file_extension": ".py",
   "mimetype": "text/x-python",
   "name": "python",
   "nbconvert_exporter": "python",
   "pygments_lexer": "ipython3",
   "version": "3.8.5"
  },
  "toc": {
   "base_numbering": 1,
   "nav_menu": {},
   "number_sections": true,
   "sideBar": true,
   "skip_h1_title": true,
   "title_cell": "Table of Contents",
   "title_sidebar": "Contents",
   "toc_cell": false,
   "toc_position": {
    "height": "calc(100% - 180px)",
    "left": "10px",
    "top": "150px",
    "width": "230.355px"
   },
   "toc_section_display": true,
   "toc_window_display": true
  }
 },
 "nbformat": 4,
 "nbformat_minor": 2
}
